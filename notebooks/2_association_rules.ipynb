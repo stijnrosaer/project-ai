{
 "cells": [
  {
   "cell_type": "markdown",
   "id": "50569d85",
   "metadata": {},
   "source": [
    "## 0. Import packages"
   ]
  },
  {
   "cell_type": "code",
   "execution_count": 1,
   "id": "a0c03281",
   "metadata": {},
   "outputs": [],
   "source": [
    "import pandas as pd\n",
    "import gzip\n",
    "import math\n",
    "from tqdm import tqdm\n",
    "from itertools import chain, combinations\n",
    "from Association import Association\n",
    "from math import sqrt\n",
    "tqdm.pandas() #for progres_apply etc."
   ]
  },
  {
   "cell_type": "markdown",
   "id": "a82af1f6",
   "metadata": {},
   "source": [
    "## 1. Load data from previous step"
   ]
  },
  {
   "cell_type": "code",
   "execution_count": 2,
   "id": "7ecf0117",
   "metadata": {},
   "outputs": [],
   "source": [
    "import pickle\n",
    "train_df = pickle.load(open(\"pickle_dumps/train_df.p\", \"rb\"))\n",
    "tests_df = pickle.load(open(\"pickle_dumps/test_df.p\", \"rb\"))\n",
    "\n",
    "article_train_df = pickle.load(open(\"pickle_dumps/article_train_df.p\", \"rb\"))\n",
    "article_test_df = pickle.load(open(\"pickle_dumps/article_test_df.p\", \"rb\"))"
   ]
  },
  {
   "cell_type": "code",
   "execution_count": 3,
   "id": "0ac1c96f",
   "metadata": {
    "scrolled": false
   },
   "outputs": [
    {
     "data": {
      "text/html": [
       "<div>\n",
       "<style scoped>\n",
       "    .dataframe tbody tr th:only-of-type {\n",
       "        vertical-align: middle;\n",
       "    }\n",
       "\n",
       "    .dataframe tbody tr th {\n",
       "        vertical-align: top;\n",
       "    }\n",
       "\n",
       "    .dataframe thead th {\n",
       "        text-align: right;\n",
       "    }\n",
       "</style>\n",
       "<table border=\"1\" class=\"dataframe\">\n",
       "  <thead>\n",
       "    <tr style=\"text-align: right;\">\n",
       "      <th></th>\n",
       "      <th>user_id</th>\n",
       "      <th>item_id</th>\n",
       "    </tr>\n",
       "  </thead>\n",
       "  <tbody>\n",
       "    <tr>\n",
       "      <th>1943</th>\n",
       "      <td>1943</td>\n",
       "      <td>[19, 21, 9, 1209, 1210, 1211, 744, 279, 280, 7...</td>\n",
       "    </tr>\n",
       "    <tr>\n",
       "      <th>1011</th>\n",
       "      <td>1011</td>\n",
       "      <td>[280, 1, 4, 6, 7, 19, 138, 20, 21, 22, 23, 25,...</td>\n",
       "    </tr>\n",
       "    <tr>\n",
       "      <th>1815</th>\n",
       "      <td>1815</td>\n",
       "      <td>[19, 21, 9, 1, 4, 6, 7, 10, 280, 1143, 281, 12...</td>\n",
       "    </tr>\n",
       "    <tr>\n",
       "      <th>224</th>\n",
       "      <td>224</td>\n",
       "      <td>[8, 20, 1021, 1022, 1023, 9, 280, 40, 27, 30, ...</td>\n",
       "    </tr>\n",
       "    <tr>\n",
       "      <th>276</th>\n",
       "      <td>276</td>\n",
       "      <td>[8, 19, 21, 9, 20, 280, 1143, 40, 27, 1081, 10...</td>\n",
       "    </tr>\n",
       "    <tr>\n",
       "      <th>...</th>\n",
       "      <td>...</td>\n",
       "      <td>...</td>\n",
       "    </tr>\n",
       "    <tr>\n",
       "      <th>117</th>\n",
       "      <td>117</td>\n",
       "      <td>[9, 8, 20, 1021, 1022, 1023, 1668, 1669, 280, ...</td>\n",
       "    </tr>\n",
       "    <tr>\n",
       "      <th>941</th>\n",
       "      <td>941</td>\n",
       "      <td>[6, 9, 20, 21, 22, 23, 280, 25, 1081, 1082, 13...</td>\n",
       "    </tr>\n",
       "    <tr>\n",
       "      <th>2773</th>\n",
       "      <td>2773</td>\n",
       "      <td>[8, 2, 6, 280, 1, 4, 7, 19, 138, 20, 21, 22, 2...</td>\n",
       "    </tr>\n",
       "    <tr>\n",
       "      <th>1559</th>\n",
       "      <td>1559</td>\n",
       "      <td>[280, 2541, 2352, 70, 83, 97, 104, 110, 65, 11...</td>\n",
       "    </tr>\n",
       "    <tr>\n",
       "      <th>1479</th>\n",
       "      <td>1479</td>\n",
       "      <td>[0, 277, 278, 9, 280, 24, 1085, 1109, 1110, 11...</td>\n",
       "    </tr>\n",
       "  </tbody>\n",
       "</table>\n",
       "<p>999 rows × 2 columns</p>\n",
       "</div>"
      ],
      "text/plain": [
       "      user_id                                            item_id\n",
       "1943     1943  [19, 21, 9, 1209, 1210, 1211, 744, 279, 280, 7...\n",
       "1011     1011  [280, 1, 4, 6, 7, 19, 138, 20, 21, 22, 23, 25,...\n",
       "1815     1815  [19, 21, 9, 1, 4, 6, 7, 10, 280, 1143, 281, 12...\n",
       "224       224  [8, 20, 1021, 1022, 1023, 9, 280, 40, 27, 30, ...\n",
       "276       276  [8, 19, 21, 9, 20, 280, 1143, 40, 27, 1081, 10...\n",
       "...       ...                                                ...\n",
       "117       117  [9, 8, 20, 1021, 1022, 1023, 1668, 1669, 280, ...\n",
       "941       941  [6, 9, 20, 21, 22, 23, 280, 25, 1081, 1082, 13...\n",
       "2773     2773  [8, 2, 6, 280, 1, 4, 7, 19, 138, 20, 21, 22, 2...\n",
       "1559     1559  [280, 2541, 2352, 70, 83, 97, 104, 110, 65, 11...\n",
       "1479     1479  [0, 277, 278, 9, 280, 24, 1085, 1109, 1110, 11...\n",
       "\n",
       "[999 rows x 2 columns]"
      ]
     },
     "execution_count": 3,
     "metadata": {},
     "output_type": "execute_result"
    }
   ],
   "source": [
    "train_df"
   ]
  },
  {
   "cell_type": "markdown",
   "id": "d15592f3",
   "metadata": {},
   "source": [
    "If we plot a disrtibution of the length per user, we see that most data leans towards a length of 100 items"
   ]
  },
  {
   "cell_type": "code",
   "execution_count": 4,
   "id": "3b54a423",
   "metadata": {},
   "outputs": [
    {
     "name": "stdout",
     "output_type": "stream",
     "text": [
      "190.6936936936937\n"
     ]
    },
    {
     "data": {
      "text/plain": [
       "(array([124., 100.,  89.,  77.,  67.,  61.,  50.,  40.,  37.,  34.,  33.,\n",
       "         25.,  26.,  21.,  19.,  20.,  13.,  12.,  12.,  13.,  13.,   5.,\n",
       "         12.,   7.,   9.,   5.,   7.,   5.,   9.,   8.,   4.,   1.,   5.,\n",
       "          1.,   4.,   2.,   3.,   3.,   2.,   2.,   2.,   2.,   3.,   0.,\n",
       "          2.,   2.,   2.,   3.,   2.,   1.]),\n",
       " array([101.  , 110.88, 120.76, 130.64, 140.52, 150.4 , 160.28, 170.16,\n",
       "        180.04, 189.92, 199.8 , 209.68, 219.56, 229.44, 239.32, 249.2 ,\n",
       "        259.08, 268.96, 278.84, 288.72, 298.6 , 308.48, 318.36, 328.24,\n",
       "        338.12, 348.  , 357.88, 367.76, 377.64, 387.52, 397.4 , 407.28,\n",
       "        417.16, 427.04, 436.92, 446.8 , 456.68, 466.56, 476.44, 486.32,\n",
       "        496.2 , 506.08, 515.96, 525.84, 535.72, 545.6 , 555.48, 565.36,\n",
       "        575.24, 585.12, 595.  ]),\n",
       " <BarContainer object of 50 artists>)"
      ]
     },
     "execution_count": 4,
     "metadata": {},
     "output_type": "execute_result"
    },
    {
     "data": {
      "image/png": "[encoded data removed]",
      "text/plain": [
       "<Figure size 432x288 with 1 Axes>"
      ]
     },
     "metadata": {
      "needs_background": "light"
     },
     "output_type": "display_data"
    }
   ],
   "source": [
    "import matplotlib.pyplot as plt\n",
    "x = [len(i) for i in train_df[\"item_id\"]]\n",
    "print(sum(x)/len(x))\n",
    "plt.hist(x, bins=50)"
   ]
  },
  {
   "cell_type": "code",
   "execution_count": 5,
   "id": "f474e4fb",
   "metadata": {
    "scrolled": false
   },
   "outputs": [
    {
     "data": {
      "text/html": [
       "<div>\n",
       "<style scoped>\n",
       "    .dataframe tbody tr th:only-of-type {\n",
       "        vertical-align: middle;\n",
       "    }\n",
       "\n",
       "    .dataframe tbody tr th {\n",
       "        vertical-align: top;\n",
       "    }\n",
       "\n",
       "    .dataframe thead th {\n",
       "        text-align: right;\n",
       "    }\n",
       "</style>\n",
       "<table border=\"1\" class=\"dataframe\">\n",
       "  <thead>\n",
       "    <tr style=\"text-align: right;\">\n",
       "      <th></th>\n",
       "      <th>item_id</th>\n",
       "      <th>user_id</th>\n",
       "    </tr>\n",
       "  </thead>\n",
       "  <tbody>\n",
       "    <tr>\n",
       "      <th>3</th>\n",
       "      <td>1209</td>\n",
       "      <td>[1943, 1815, 2206, 656, 1631, 284, 664, 1283, ...</td>\n",
       "    </tr>\n",
       "    <tr>\n",
       "      <th>4</th>\n",
       "      <td>1210</td>\n",
       "      <td>[1943, 1815, 2206, 656, 1631, 284, 664, 1283, ...</td>\n",
       "    </tr>\n",
       "    <tr>\n",
       "      <th>5</th>\n",
       "      <td>1211</td>\n",
       "      <td>[1943, 1815, 2206, 656, 1631, 284, 664, 1283, ...</td>\n",
       "    </tr>\n",
       "    <tr>\n",
       "      <th>6</th>\n",
       "      <td>744</td>\n",
       "      <td>[1943, 1011, 276, 1786, 523, 101, 386, 1998, 1...</td>\n",
       "    </tr>\n",
       "    <tr>\n",
       "      <th>7</th>\n",
       "      <td>279</td>\n",
       "      <td>[1943, 2560, 284, 1597, 785, 1091, 692, 11, 31...</td>\n",
       "    </tr>\n",
       "    <tr>\n",
       "      <th>...</th>\n",
       "      <td>...</td>\n",
       "      <td>...</td>\n",
       "    </tr>\n",
       "    <tr>\n",
       "      <th>6373</th>\n",
       "      <td>3925</td>\n",
       "      <td>[400, 412, 1478]</td>\n",
       "    </tr>\n",
       "    <tr>\n",
       "      <th>6374</th>\n",
       "      <td>3934</td>\n",
       "      <td>[3169, 948]</td>\n",
       "    </tr>\n",
       "    <tr>\n",
       "      <th>6383</th>\n",
       "      <td>6653</td>\n",
       "      <td>[1452, 1478]</td>\n",
       "    </tr>\n",
       "    <tr>\n",
       "      <th>6384</th>\n",
       "      <td>5493</td>\n",
       "      <td>[1452, 941]</td>\n",
       "    </tr>\n",
       "    <tr>\n",
       "      <th>6395</th>\n",
       "      <td>6414</td>\n",
       "      <td>[2982, 1158]</td>\n",
       "    </tr>\n",
       "  </tbody>\n",
       "</table>\n",
       "<p>5019 rows × 2 columns</p>\n",
       "</div>"
      ],
      "text/plain": [
       "      item_id                                            user_id\n",
       "3        1209  [1943, 1815, 2206, 656, 1631, 284, 664, 1283, ...\n",
       "4        1210  [1943, 1815, 2206, 656, 1631, 284, 664, 1283, ...\n",
       "5        1211  [1943, 1815, 2206, 656, 1631, 284, 664, 1283, ...\n",
       "6         744  [1943, 1011, 276, 1786, 523, 101, 386, 1998, 1...\n",
       "7         279  [1943, 2560, 284, 1597, 785, 1091, 692, 11, 31...\n",
       "...       ...                                                ...\n",
       "6373     3925                                   [400, 412, 1478]\n",
       "6374     3934                                        [3169, 948]\n",
       "6383     6653                                       [1452, 1478]\n",
       "6384     5493                                        [1452, 941]\n",
       "6395     6414                                       [2982, 1158]\n",
       "\n",
       "[5019 rows x 2 columns]"
      ]
     },
     "execution_count": 5,
     "metadata": {},
     "output_type": "execute_result"
    }
   ],
   "source": [
    "article_train_df"
   ]
  },
  {
   "cell_type": "markdown",
   "id": "e7da8389",
   "metadata": {},
   "source": [
    "The transposed dataframe that is used for building user association rules has only a few items most of the time. this is not that important because of the way user associations are build."
   ]
  },
  {
   "cell_type": "code",
   "execution_count": 6,
   "id": "09a2c1fc",
   "metadata": {},
   "outputs": [
    {
     "name": "stdout",
     "output_type": "stream",
     "text": [
      "31.508467822275353\n"
     ]
    },
    {
     "data": {
      "text/plain": [
       "(array([2.442e+03, 7.400e+02, 4.260e+02, 2.600e+02, 1.510e+02, 1.330e+02,\n",
       "        1.110e+02, 8.000e+01, 8.000e+01, 6.000e+01, 5.700e+01, 5.300e+01,\n",
       "        3.500e+01, 4.200e+01, 2.400e+01, 3.600e+01, 1.900e+01, 1.400e+01,\n",
       "        1.700e+01, 1.700e+01, 1.900e+01, 2.100e+01, 1.300e+01, 1.500e+01,\n",
       "        4.000e+00, 8.000e+00, 1.000e+01, 1.200e+01, 1.100e+01, 1.300e+01,\n",
       "        1.000e+01, 1.000e+01, 1.000e+00, 6.000e+00, 9.000e+00, 4.000e+00,\n",
       "        3.000e+00, 8.000e+00, 6.000e+00, 8.000e+00, 5.000e+00, 5.000e+00,\n",
       "        1.000e+00, 0.000e+00, 5.000e+00, 9.000e+00, 0.000e+00, 2.000e+00,\n",
       "        1.000e+00, 3.000e+00]),\n",
       " array([  2.  ,   9.92,  17.84,  25.76,  33.68,  41.6 ,  49.52,  57.44,\n",
       "         65.36,  73.28,  81.2 ,  89.12,  97.04, 104.96, 112.88, 120.8 ,\n",
       "        128.72, 136.64, 144.56, 152.48, 160.4 , 168.32, 176.24, 184.16,\n",
       "        192.08, 200.  , 207.92, 215.84, 223.76, 231.68, 239.6 , 247.52,\n",
       "        255.44, 263.36, 271.28, 279.2 , 287.12, 295.04, 302.96, 310.88,\n",
       "        318.8 , 326.72, 334.64, 342.56, 350.48, 358.4 , 366.32, 374.24,\n",
       "        382.16, 390.08, 398.  ]),\n",
       " <BarContainer object of 50 artists>)"
      ]
     },
     "execution_count": 6,
     "metadata": {},
     "output_type": "execute_result"
    },
    {
     "data": {
      "image/png": "[encoded data removed]",
      "text/plain": [
       "<Figure size 432x288 with 1 Axes>"
      ]
     },
     "metadata": {
      "needs_background": "light"
     },
     "output_type": "display_data"
    }
   ],
   "source": [
    "x = [len(i) for i in article_train_df[\"user_id\"]]\n",
    "print(sum(x)/len(x))\n",
    "plt.hist(x, bins=50)"
   ]
  },
  {
   "cell_type": "code",
   "execution_count": 7,
   "id": "9dbcccab",
   "metadata": {
    "scrolled": true
   },
   "outputs": [
    {
     "data": {
      "text/html": [
       "<div>\n",
       "<style scoped>\n",
       "    .dataframe tbody tr th:only-of-type {\n",
       "        vertical-align: middle;\n",
       "    }\n",
       "\n",
       "    .dataframe tbody tr th {\n",
       "        vertical-align: top;\n",
       "    }\n",
       "\n",
       "    .dataframe thead th {\n",
       "        text-align: right;\n",
       "    }\n",
       "</style>\n",
       "<table border=\"1\" class=\"dataframe\">\n",
       "  <thead>\n",
       "    <tr style=\"text-align: right;\">\n",
       "      <th></th>\n",
       "      <th>user_id</th>\n",
       "      <th>item_id</th>\n",
       "    </tr>\n",
       "  </thead>\n",
       "  <tbody>\n",
       "    <tr>\n",
       "      <th>1587</th>\n",
       "      <td>1587</td>\n",
       "      <td>[9, 0, 2, 3, 5, 277, 278, 280, 19, 20, 21, 22,...</td>\n",
       "    </tr>\n",
       "    <tr>\n",
       "      <th>1113</th>\n",
       "      <td>1113</td>\n",
       "      <td>[280, 16, 2648, 1209, 1210, 1211, 24, 94, 1627...</td>\n",
       "    </tr>\n",
       "    <tr>\n",
       "      <th>563</th>\n",
       "      <td>563</td>\n",
       "      <td>[280, 1377, 63, 64, 110, 140, 154, 157, 423, 1...</td>\n",
       "    </tr>\n",
       "    <tr>\n",
       "      <th>2265</th>\n",
       "      <td>2265</td>\n",
       "      <td>[9, 1021, 1022, 1023, 280, 40, 26, 27, 29, 108...</td>\n",
       "    </tr>\n",
       "    <tr>\n",
       "      <th>554</th>\n",
       "      <td>554</td>\n",
       "      <td>[8, 280, 24, 1085, 1, 4, 6, 7, 19, 138, 20, 21...</td>\n",
       "    </tr>\n",
       "    <tr>\n",
       "      <th>...</th>\n",
       "      <td>...</td>\n",
       "      <td>...</td>\n",
       "    </tr>\n",
       "    <tr>\n",
       "      <th>403</th>\n",
       "      <td>403</td>\n",
       "      <td>[19, 21, 280, 336, 315, 43, 46, 47, 1619, 1620...</td>\n",
       "    </tr>\n",
       "    <tr>\n",
       "      <th>1453</th>\n",
       "      <td>1453</td>\n",
       "      <td>[280, 1092, 486, 1321, 1322, 1619, 97, 48, 60,...</td>\n",
       "    </tr>\n",
       "    <tr>\n",
       "      <th>2071</th>\n",
       "      <td>2071</td>\n",
       "      <td>[14, 280, 5502, 3962, 305, 24, 1323, 1035, 132...</td>\n",
       "    </tr>\n",
       "    <tr>\n",
       "      <th>1805</th>\n",
       "      <td>1805</td>\n",
       "      <td>[14, 2647, 357, 4842, 336, 12, 425, 426, 427, ...</td>\n",
       "    </tr>\n",
       "    <tr>\n",
       "      <th>3126</th>\n",
       "      <td>3126</td>\n",
       "      <td>[0, 277, 278, 9, 8, 20, 21, 19, 22, 23, 280, 1...</td>\n",
       "    </tr>\n",
       "  </tbody>\n",
       "</table>\n",
       "<p>101 rows × 2 columns</p>\n",
       "</div>"
      ],
      "text/plain": [
       "      user_id                                            item_id\n",
       "1587     1587  [9, 0, 2, 3, 5, 277, 278, 280, 19, 20, 21, 22,...\n",
       "1113     1113  [280, 16, 2648, 1209, 1210, 1211, 24, 94, 1627...\n",
       "563       563  [280, 1377, 63, 64, 110, 140, 154, 157, 423, 1...\n",
       "2265     2265  [9, 1021, 1022, 1023, 280, 40, 26, 27, 29, 108...\n",
       "554       554  [8, 280, 24, 1085, 1, 4, 6, 7, 19, 138, 20, 21...\n",
       "...       ...                                                ...\n",
       "403       403  [19, 21, 280, 336, 315, 43, 46, 47, 1619, 1620...\n",
       "1453     1453  [280, 1092, 486, 1321, 1322, 1619, 97, 48, 60,...\n",
       "2071     2071  [14, 280, 5502, 3962, 305, 24, 1323, 1035, 132...\n",
       "1805     1805  [14, 2647, 357, 4842, 336, 12, 425, 426, 427, ...\n",
       "3126     3126  [0, 277, 278, 9, 8, 20, 21, 19, 22, 23, 280, 1...\n",
       "\n",
       "[101 rows x 2 columns]"
      ]
     },
     "execution_count": 7,
     "metadata": {},
     "output_type": "execute_result"
    }
   ],
   "source": [
    "tests_df"
   ]
  },
  {
   "cell_type": "code",
   "execution_count": 8,
   "id": "93eb687a",
   "metadata": {},
   "outputs": [],
   "source": [
    "data = train_df.set_index(\"user_id\").to_dict()[\"item_id\"]\n",
    "article_data = article_train_df.set_index(\"item_id\").to_dict()[\"user_id\"]"
   ]
  },
  {
   "cell_type": "markdown",
   "id": "a1bcede0",
   "metadata": {},
   "source": [
    "## 2. Functions or building association rules"
   ]
  },
  {
   "cell_type": "code",
   "execution_count": 9,
   "id": "829c4a50",
   "metadata": {},
   "outputs": [],
   "source": [
    "def eclat(prefix, minsup, items, start=True):\n",
    "    \"\"\"\n",
    "    Basic eclat implementation for finding frequent itemsets\n",
    "    \"\"\"\n",
    "    frequents = []\n",
    "    while items:\n",
    "        i,itids = items.pop()\n",
    "        isupp = len(itids)\n",
    "        if isupp >= minsup:\n",
    "            frequents.append((frozenset(prefix + [i]), isupp))\n",
    "            suffix = [] \n",
    "            for j, ojtids in items:\n",
    "                jtids = set(itids) & set(ojtids)\n",
    "                if len(jtids) >= minsup:\n",
    "                    suffix.append((j,jtids))\n",
    "            frequents.extend(eclat(prefix+[i], minsup, sorted(suffix, key=lambda item: len(item[1]), reverse=True), False))\n",
    "    return frequents"
   ]
  },
  {
   "cell_type": "code",
   "execution_count": 10,
   "id": "10be6989",
   "metadata": {},
   "outputs": [],
   "source": [
    "def subsets(itemset, include_empty_set=False):\n",
    "    \"\"\" List all strict subsets of an itemset without the empty set or with the empty set if include_empty_set=True\n",
    "        subsets({1,2,3}) --> [{1}, {2}, {3}, {1, 2}, {1, 3}, {2, 3}]\n",
    "    \"\"\"\n",
    "    s = list(itemset)\n",
    "    if include_empty_set:\n",
    "        return map(set, chain.from_iterable(combinations(s, r) for r in range(0, len(s) + 1)))\n",
    "    return map(set, chain.from_iterable(combinations(s, r) for r in range(1, len(s))))"
   ]
  },
  {
   "cell_type": "code",
   "execution_count": 11,
   "id": "0c0b13ae",
   "metadata": {},
   "outputs": [],
   "source": [
    "def deriveRules(itemsets, minconf, test_users):\n",
    "    \"\"\" Returns all rules with conf >= minconf that can be derived from the itemsets.\n",
    "        Return: list of association rules in the format: [(antecedent, consequent, supp, conf), ...]\n",
    "    \"\"\"\n",
    "    search_items = dict(itemsets)\n",
    "    rules = []\n",
    "    for item_set, supp in tqdm(itemsets):\n",
    "        if len(item_set) > 1: # itemsets with one frequent item are unable to generate a rule\n",
    "            for subset in subsets(item_set):  # for each subset generate a rule\n",
    "                antecedent = frozenset(subset)\n",
    "                consequent = item_set - subset\n",
    "                if len(consequent)== 1: # only keep rules with one item in the consequent\n",
    "                    conf = supp / search_items[antecedent]\n",
    "                    if conf >= minconf: # assure confidence of the rule is high enough\n",
    "                        # if test_users are passed, only generate rules with one of the test users in the consequent\n",
    "                        if test_users:\n",
    "                            if list(consequent)[0] in test_users:\n",
    "                                rules.append(Association(antecedent, consequent, conf, supp))\n",
    "                        else:\n",
    "                            rules.append(Association(antecedent, consequent, conf, supp))\n",
    "                        \n",
    "\n",
    "    return rules"
   ]
  },
  {
   "cell_type": "code",
   "execution_count": 12,
   "id": "43465aa5",
   "metadata": {},
   "outputs": [],
   "source": [
    "def genRules(min_conf, minsup, data, test_users = None):\n",
    "    print(\"---Mining frequent itemsets---\")\n",
    "    frequent_itemsets = eclat([], minsup, sorted(data.items(), key=lambda item: len(item[1]), reverse=True))\n",
    "    print(f\"{len(frequent_itemsets)} frequent itemsets\")\n",
    "    c = 0\n",
    "    for f in frequent_itemsets:\n",
    "        if len(f[0]) == 1:\n",
    "            c += 1\n",
    "    print(f\"{c} frequent itemsets of length 1\")\n",
    "    print(\"---Generating rules---\")\n",
    "    return deriveRules(frequent_itemsets, min_conf, test_users)"
   ]
  },
  {
   "cell_type": "markdown",
   "id": "51817a51",
   "metadata": {},
   "source": [
    "## 3. Build association rules"
   ]
  },
  {
   "cell_type": "markdown",
   "id": "952c8977",
   "metadata": {},
   "source": [
    "### Article association rules\n",
    "Build rules of the form:\n",
    "`Item1 and Item2 -> Item3`"
   ]
  },
  {
   "cell_type": "code",
   "execution_count": 13,
   "id": "1b5c7ed3",
   "metadata": {
    "scrolled": true
   },
   "outputs": [
    {
     "name": "stdout",
     "output_type": "stream",
     "text": [
      "999\n",
      "---Mining frequent itemsets---\n",
      "4513425 frequent itemsets\n",
      "999 frequent itemsets of length 1\n",
      "---Generating rules---\n"
     ]
    },
    {
     "name": "stderr",
     "output_type": "stream",
     "text": [
      "100%|██████████████████████████████| 4513425/4513425 [02:14<00:00, 33552.62it/s]\n"
     ]
    },
    {
     "name": "stdout",
     "output_type": "stream",
     "text": [
      "CPU times: user 4min 9s, sys: 3.57 s, total: 4min 13s\n",
      "Wall time: 4min 12s\n"
     ]
    }
   ],
   "source": [
    "%%time\n",
    "\n",
    "print(len(data))\n",
    "\n",
    "# Build the article association rules with a minimum support of 50 and minimum confidence of 0.85\n",
    "article_assos_rules = genRules(0.85, 50, data)"
   ]
  },
  {
   "cell_type": "code",
   "execution_count": 14,
   "id": "ac637b7a",
   "metadata": {},
   "outputs": [
    {
     "data": {
      "text/plain": [
       "6994418"
      ]
     },
     "execution_count": 14,
     "metadata": {},
     "output_type": "execute_result"
    }
   ],
   "source": [
    "len(article_assos_rules)"
   ]
  },
  {
   "cell_type": "code",
   "execution_count": 15,
   "id": "3bb0d5d0",
   "metadata": {},
   "outputs": [
    {
     "name": "stdout",
     "output_type": "stream",
     "text": [
      "CPU times: user 1.13 s, sys: 0 ns, total: 1.13 s\n",
      "Wall time: 1.13 s\n"
     ]
    },
    {
     "data": {
      "text/plain": [
       "90549"
      ]
     },
     "execution_count": 15,
     "metadata": {},
     "output_type": "execute_result"
    }
   ],
   "source": [
    "%%time\n",
    "\n",
    "# print number of rules with item 3 in the lhs\n",
    "counter = 0\n",
    "for r in article_assos_rules:\n",
    "    if 3 in r.left:\n",
    "        counter += 1\n",
    "counter"
   ]
  },
  {
   "cell_type": "code",
   "execution_count": 16,
   "id": "c559c795",
   "metadata": {},
   "outputs": [
    {
     "name": "stdout",
     "output_type": "stream",
     "text": [
      "Conf: 0.87\tSupp: 158.00\t {1328, 1276, 1839} => {1576}\n"
     ]
    }
   ],
   "source": [
    "# print number of rules with a support greater than 150\n",
    "for r in article_assos_rules:\n",
    "    if r.s > 150:\n",
    "        print(r)"
   ]
  },
  {
   "cell_type": "markdown",
   "id": "6c19a76d",
   "metadata": {},
   "source": [
    "### User association rules\n",
    "Build rules of the form: `User1 and User2 -> User3`\n",
    "\n",
    "This builds rules that represent the relation and similarity between users."
   ]
  },
  {
   "cell_type": "code",
   "execution_count": 17,
   "id": "aee695cb",
   "metadata": {
    "scrolled": false
   },
   "outputs": [
    {
     "name": "stdout",
     "output_type": "stream",
     "text": [
      "5019\n",
      "Mining rules for split 0\n",
      "---Mining frequent itemsets---\n",
      "1844646 frequent itemsets\n",
      "1097 frequent itemsets of length 1\n",
      "---Generating rules---\n"
     ]
    },
    {
     "name": "stderr",
     "output_type": "stream",
     "text": [
      "100%|███████████████████████████████| 1844646/1844646 [03:12<00:00, 9580.59it/s]\n"
     ]
    },
    {
     "name": "stdout",
     "output_type": "stream",
     "text": [
      "Mining rules for split 1\n",
      "---Mining frequent itemsets---\n",
      "1693575 frequent itemsets\n",
      "1102 frequent itemsets of length 1\n",
      "---Generating rules---\n"
     ]
    },
    {
     "name": "stderr",
     "output_type": "stream",
     "text": [
      "100%|██████████████████████████████| 1693575/1693575 [02:44<00:00, 10270.33it/s]\n"
     ]
    },
    {
     "name": "stdout",
     "output_type": "stream",
     "text": [
      "Mining rules for split 2\n",
      "---Mining frequent itemsets---\n",
      "1582067 frequent itemsets\n",
      "1105 frequent itemsets of length 1\n",
      "---Generating rules---\n"
     ]
    },
    {
     "name": "stderr",
     "output_type": "stream",
     "text": [
      "100%|███████████████████████████████| 1582067/1582067 [02:58<00:00, 8874.38it/s]\n"
     ]
    },
    {
     "name": "stdout",
     "output_type": "stream",
     "text": [
      "Mining rules for split 3\n",
      "---Mining frequent itemsets---\n",
      "1595787 frequent itemsets\n",
      "1109 frequent itemsets of length 1\n",
      "---Generating rules---\n"
     ]
    },
    {
     "name": "stderr",
     "output_type": "stream",
     "text": [
      "100%|███████████████████████████████| 1595787/1595787 [02:43<00:00, 9757.51it/s]"
     ]
    },
    {
     "name": "stdout",
     "output_type": "stream",
     "text": [
      "CPU times: user 13min 55s, sys: 4.07 s, total: 13min 59s\n",
      "Wall time: 13min 57s\n"
     ]
    },
    {
     "name": "stderr",
     "output_type": "stream",
     "text": [
      "\n"
     ]
    }
   ],
   "source": [
    "%%time\n",
    "import copy\n",
    "# user_assos_rules = genRules(0.0, 20, article_data)\n",
    "print(len(article_data))\n",
    "test_users = tests_df[\"user_id\"].tolist()\n",
    "\n",
    "rules_split = []\n",
    "\n",
    "# build the datasets for training. We always add one part of the test set to the trainingset in order to create 4 different\n",
    "# sets of user association rules\n",
    "for i in range(4):\n",
    "    print(f\"Mining rules for split {i}\")\n",
    "    tmp = copy.deepcopy(article_data)\n",
    "    for _, article in article_test_df.iterrows():\n",
    "        try: # add the training split to the training data\n",
    "            if article[\"item_id\"] in tmp:\n",
    "                tmp[article[\"item_id\"]] += article[\"test_split\"][i][0]\n",
    "            else:\n",
    "                tmp[article[\"item_id\"]] = article[\"test_split\"][i][0]\n",
    "#                 print(tmp[article[\"item_id\"]])\n",
    "#                 break\n",
    "        except: # if the item has not enough user interactions to create 4 splits, add all user items\n",
    "            if article[\"item_id\"] in tmp:\n",
    "                tmp[article[\"item_id\"]] += article[\"user_id\"]\n",
    "            else:\n",
    "                tmp[article[\"item_id\"]] = article[\"user_id\"]\n",
    "    \n",
    "    # Build the user association rules with a minimum support of 40 and minimum confidence of 0.0\n",
    "    r = genRules(0.0,40,tmp, test_users)\n",
    "    rules_split.append(r)"
   ]
  },
  {
   "cell_type": "code",
   "execution_count": 18,
   "id": "1fdea5a4",
   "metadata": {
    "scrolled": true
   },
   "outputs": [
    {
     "name": "stdout",
     "output_type": "stream",
     "text": [
      "279173\n",
      "243077\n",
      "245652\n",
      "249061\n"
     ]
    }
   ],
   "source": [
    "# print numebr of generated rules per split\n",
    "for i in range(4):\n",
    "    print(len(rules_split[i]))"
   ]
  },
  {
   "cell_type": "markdown",
   "id": "69bb9b4d",
   "metadata": {},
   "source": [
    "See for how much test users we were able to create association rules and how many"
   ]
  },
  {
   "cell_type": "code",
   "execution_count": 19,
   "id": "eb06d36d",
   "metadata": {},
   "outputs": [],
   "source": [
    "corr = {}\n",
    "test_users = tests_df[\"user_id\"].tolist()\n",
    "for user in test_users:\n",
    "    for r in rules_split[3]:\n",
    "        if user in list(r.right):\n",
    "            if user in corr:\n",
    "                corr[user] += 1\n",
    "            else:\n",
    "                corr[user] = 1"
   ]
  },
  {
   "cell_type": "code",
   "execution_count": 20,
   "id": "e8b079e9",
   "metadata": {},
   "outputs": [
    {
     "name": "stdout",
     "output_type": "stream",
     "text": [
      "101\n",
      "32\n",
      "{1113: 839, 563: 1709, 554: 62, 359: 109764, 498: 511, 690: 381, 2876: 8, 1344: 166, 2320: 9, 2174: 19, 1915: 5, 221: 162, 551: 4963, 1521: 5, 1261: 9, 106: 415, 1089: 721, 396: 4, 1322: 20231, 1081: 9265, 746: 257, 1595: 1, 648: 5, 1399: 329, 194: 92634, 262: 2787, 1900: 21, 2353: 12, 1249: 3, 1246: 231, 255: 483, 1805: 3050}\n"
     ]
    }
   ],
   "source": [
    "print(len(test_users))\n",
    "print(len(corr))\n",
    "print(corr)"
   ]
  },
  {
   "cell_type": "markdown",
   "id": "1267f317",
   "metadata": {},
   "source": [
    "## 4. Normalize support / confidence to better use it later"
   ]
  },
  {
   "cell_type": "code",
   "execution_count": 22,
   "id": "19bcb46d",
   "metadata": {},
   "outputs": [
    {
     "name": "stdout",
     "output_type": "stream",
     "text": [
      "Conf: 1.00\tSupp: 52.00\t {512, 481, 736, 4, 167, 1576, 1328, 785, 1555} => {2970}\n",
      "Conf: 1.00\tSupp: 52.00\t {512, 481, 736, 4, 1576, 1328, 785, 1555, 2970} => {167}\n",
      "Conf: 1.00\tSupp: 52.00\t {512, 481, 4, 167, 1576, 1328, 785, 1555, 2970} => {736}\n",
      "Conf: 1.00\tSupp: 50.00\t {736, 4, 167, 1576, 780, 750, 1839, 212, 1597} => {1328}\n",
      "Conf: 1.00\tSupp: 50.00\t {736, 167, 1576, 780, 750, 1839, 1328, 212, 1597} => {4}\n",
      "Conf: 1.00\tSupp: 50.00\t {512, 481, 736, 1412, 4, 167, 1328, 785, 1555} => {2970}\n",
      "Conf: 1.00\tSupp: 50.00\t {512, 481, 736, 1412, 4, 167, 1328, 785, 2970} => {1555}\n",
      "Conf: 1.00\tSupp: 50.00\t {512, 481, 1412, 4, 167, 1328, 785, 1555, 2970} => {736}\n",
      "Conf: 1.00\tSupp: 50.00\t {512, 481, 736, 167, 1576, 1328, 785, 2258, 1555} => {2970}\n",
      "Conf: 1.00\tSupp: 50.00\t {512, 481, 736, 1576, 1328, 785, 2258, 1555, 2970} => {167}\n",
      "Conf: 1.00\tSupp: 50.00\t {512, 481, 167, 1576, 1328, 785, 2258, 1555, 2970} => {736}\n",
      "Conf: 1.00\tSupp: 50.00\t {512, 481, 736, 4, 167, 1328, 785, 2258, 1555} => {2970}\n",
      "Conf: 1.00\tSupp: 50.00\t {512, 481, 4, 167, 1328, 785, 2258, 1555, 2970} => {736}\n",
      "Conf: 1.00\tSupp: 50.00\t {736, 481, 4, 167, 1576, 1328, 785, 2258, 1555} => {2970}\n",
      "Conf: 1.00\tSupp: 50.00\t {736, 481, 4, 1576, 1328, 785, 2258, 1555, 2970} => {167}\n",
      "Conf: 1.00\tSupp: 50.00\t {481, 4, 167, 1576, 1328, 785, 2258, 1555, 2970} => {736}\n",
      "Conf: 1.00\tSupp: 50.00\t {512, 481, 736, 167, 1576, 1328, 785, 1555, 2683} => {2970}\n",
      "Conf: 1.00\tSupp: 50.00\t {512, 481, 736, 1576, 1328, 785, 1555, 2970, 2683} => {167}\n",
      "Conf: 1.00\tSupp: 50.00\t {512, 481, 167, 1576, 1328, 785, 1555, 2970, 2683} => {736}\n",
      "Conf: 1.00\tSupp: 50.00\t {736, 481, 4, 167, 1576, 1328, 785, 1555, 2683} => {2970}\n",
      "Conf: 1.00\tSupp: 50.00\t {481, 4, 167, 1576, 1328, 785, 1555, 2970, 2683} => {736}\n",
      "Conf: 1.00\tSupp: 50.00\t {512, 481, 736, 4, 167, 1576, 785, 1555, 2683} => {2970}\n",
      "Conf: 1.00\tSupp: 50.00\t {512, 481, 736, 4, 1576, 785, 1555, 2970, 2683} => {167}\n",
      "Conf: 1.00\tSupp: 50.00\t {512, 481, 4, 167, 1576, 785, 1555, 2970, 2683} => {736}\n",
      "Conf: 0.98\tSupp: 52.00\t {512, 481, 736, 4, 167, 1576, 1328, 785, 2970} => {1555}\n",
      "Conf: 0.98\tSupp: 50.00\t {736, 4, 167, 1576, 780, 750, 1328, 212, 1597} => {1839}\n",
      "Conf: 0.98\tSupp: 50.00\t {736, 4, 167, 1576, 750, 1839, 1328, 212, 1597} => {780}\n",
      "Conf: 0.98\tSupp: 50.00\t {4, 167, 1576, 780, 750, 1839, 1328, 212, 1597} => {736}\n",
      "Conf: 0.98\tSupp: 50.00\t {512, 481, 736, 1412, 4, 167, 1328, 1555, 2970} => {785}\n",
      "Conf: 0.98\tSupp: 50.00\t {512, 481, 736, 1412, 4, 167, 785, 1555, 2970} => {1328}\n",
      "Conf: 0.98\tSupp: 50.00\t {512, 481, 736, 1412, 4, 1328, 785, 1555, 2970} => {167}\n",
      "Conf: 0.98\tSupp: 50.00\t {512, 481, 736, 1412, 167, 1328, 785, 1555, 2970} => {4}\n",
      "Conf: 0.98\tSupp: 50.00\t {512, 481, 736, 167, 1576, 1328, 2258, 1555, 2970} => {785}\n",
      "Conf: 0.98\tSupp: 50.00\t {512, 481, 736, 4, 167, 1328, 785, 2258, 2970} => {1555}\n",
      "Conf: 0.98\tSupp: 50.00\t {512, 481, 736, 4, 167, 1328, 2258, 1555, 2970} => {785}\n",
      "Conf: 0.98\tSupp: 50.00\t {512, 481, 736, 4, 1328, 785, 2258, 1555, 2970} => {167}\n",
      "Conf: 0.98\tSupp: 50.00\t {736, 481, 4, 167, 1576, 1328, 785, 2258, 2970} => {1555}\n",
      "Conf: 0.98\tSupp: 50.00\t {736, 481, 4, 167, 1576, 1328, 785, 2970, 2683} => {1555}\n",
      "Conf: 0.98\tSupp: 50.00\t {736, 481, 4, 1576, 1328, 785, 1555, 2970, 2683} => {167}\n",
      "Conf: 0.98\tSupp: 50.00\t {736, 4, 167, 1576, 1328, 785, 1555, 2970, 2683} => {481}\n",
      "Conf: 0.98\tSupp: 50.00\t {512, 736, 4, 167, 1576, 785, 1555, 2970, 2683} => {481}\n",
      "Conf: 0.96\tSupp: 50.00\t {736, 4, 167, 1576, 780, 750, 1839, 1328, 212} => {1597}\n",
      "Conf: 0.96\tSupp: 50.00\t {736, 4, 167, 1576, 780, 750, 1839, 1328, 1597} => {212}\n",
      "Conf: 0.96\tSupp: 50.00\t {736, 4, 167, 1576, 780, 1839, 1328, 212, 1597} => {750}\n",
      "Conf: 0.96\tSupp: 50.00\t {736, 4, 167, 780, 750, 1839, 1328, 212, 1597} => {1576}\n",
      "Conf: 0.96\tSupp: 50.00\t {736, 4, 1576, 780, 750, 1839, 1328, 212, 1597} => {167}\n",
      "Conf: 0.96\tSupp: 50.00\t {512, 736, 1412, 4, 167, 1328, 785, 1555, 2970} => {481}\n",
      "Conf: 0.96\tSupp: 50.00\t {736, 481, 1412, 4, 167, 1328, 785, 1555, 2970} => {512}\n",
      "Conf: 0.96\tSupp: 50.00\t {512, 481, 736, 167, 1576, 1328, 785, 2258, 2970} => {1555}\n",
      "Conf: 0.96\tSupp: 50.00\t {512, 481, 736, 167, 1576, 785, 2258, 1555, 2970} => {1328}\n",
      "Conf: 0.96\tSupp: 50.00\t {512, 481, 736, 4, 167, 785, 2258, 1555, 2970} => {1328}\n",
      "Conf: 0.96\tSupp: 50.00\t {512, 736, 4, 167, 1328, 785, 2258, 1555, 2970} => {481}\n",
      "Conf: 0.96\tSupp: 50.00\t {736, 481, 4, 167, 1576, 1328, 2258, 1555, 2970} => {785}\n",
      "Conf: 0.96\tSupp: 50.00\t {736, 481, 4, 167, 1576, 785, 2258, 1555, 2970} => {1328}\n",
      "Conf: 0.96\tSupp: 50.00\t {512, 481, 736, 167, 1576, 1328, 785, 2970, 2683} => {1555}\n",
      "Conf: 0.96\tSupp: 50.00\t {512, 481, 736, 167, 1576, 1328, 1555, 2970, 2683} => {785}\n",
      "Conf: 0.96\tSupp: 50.00\t {512, 481, 736, 167, 1328, 785, 1555, 2970, 2683} => {1576}\n",
      "Conf: 0.96\tSupp: 50.00\t {736, 481, 4, 167, 1328, 785, 1555, 2970, 2683} => {1576}\n",
      "Conf: 0.96\tSupp: 50.00\t {512, 481, 736, 4, 167, 1576, 785, 2970, 2683} => {1555}\n",
      "Conf: 0.96\tSupp: 50.00\t {512, 481, 736, 4, 167, 785, 1555, 2970, 2683} => {1576}\n",
      "Conf: 0.95\tSupp: 52.00\t {512, 481, 736, 4, 167, 1576, 1328, 1555, 2970} => {785}\n",
      "Conf: 0.95\tSupp: 52.00\t {512, 481, 736, 4, 167, 1576, 785, 1555, 2970} => {1328}\n",
      "Conf: 0.95\tSupp: 52.00\t {512, 481, 736, 4, 167, 1328, 785, 1555, 2970} => {1576}\n",
      "Conf: 0.95\tSupp: 52.00\t {512, 481, 736, 167, 1576, 1328, 785, 1555, 2970} => {4}\n",
      "Conf: 0.95\tSupp: 52.00\t {512, 736, 4, 167, 1576, 1328, 785, 1555, 2970} => {481}\n",
      "Conf: 0.95\tSupp: 52.00\t {736, 481, 4, 167, 1576, 1328, 785, 1555, 2970} => {512}\n",
      "Conf: 0.94\tSupp: 50.00\t {512, 481, 736, 167, 1328, 785, 2258, 1555, 2970} => {1576}\n",
      "Conf: 0.94\tSupp: 50.00\t {736, 481, 167, 1576, 1328, 785, 2258, 1555, 2970} => {512}\n",
      "Conf: 0.94\tSupp: 50.00\t {512, 481, 736, 167, 1328, 785, 2258, 1555, 2970} => {4}\n",
      "Conf: 0.94\tSupp: 50.00\t {736, 481, 4, 167, 1328, 785, 2258, 1555, 2970} => {512}\n",
      "Conf: 0.94\tSupp: 50.00\t {736, 481, 4, 167, 1328, 785, 2258, 1555, 2970} => {1576}\n",
      "Conf: 0.94\tSupp: 50.00\t {736, 481, 167, 1576, 1328, 785, 2258, 1555, 2970} => {4}\n",
      "Conf: 0.94\tSupp: 50.00\t {736, 4, 167, 1576, 1328, 785, 2258, 1555, 2970} => {481}\n",
      "Conf: 0.94\tSupp: 50.00\t {512, 481, 736, 167, 1576, 785, 1555, 2970, 2683} => {1328}\n",
      "Conf: 0.94\tSupp: 50.00\t {736, 481, 167, 1576, 1328, 785, 1555, 2970, 2683} => {512}\n",
      "Conf: 0.94\tSupp: 50.00\t {736, 481, 4, 167, 1576, 1328, 1555, 2970, 2683} => {785}\n",
      "Conf: 0.94\tSupp: 50.00\t {736, 481, 4, 167, 1576, 785, 1555, 2970, 2683} => {1328}\n",
      "Conf: 0.94\tSupp: 50.00\t {736, 481, 167, 1576, 1328, 785, 1555, 2970, 2683} => {4}\n",
      "Conf: 0.94\tSupp: 50.00\t {512, 481, 736, 4, 167, 1576, 1555, 2970, 2683} => {785}\n",
      "Conf: 0.94\tSupp: 50.00\t {512, 481, 736, 167, 1576, 785, 1555, 2970, 2683} => {4}\n",
      "Conf: 0.94\tSupp: 50.00\t {736, 481, 4, 167, 1576, 785, 1555, 2970, 2683} => {512}\n",
      "Conf: 0.93\tSupp: 50.00\t {512, 736, 167, 1576, 1328, 785, 1555, 2970, 2683} => {481}\n",
      "Conf: 0.91\tSupp: 50.00\t {512, 481, 736, 4, 167, 1328, 785, 1555, 2970} => {1412}\n",
      "Conf: 0.91\tSupp: 50.00\t {512, 481, 736, 167, 1576, 1328, 785, 1555, 2970} => {2258}\n",
      "Conf: 0.91\tSupp: 50.00\t {512, 736, 167, 1576, 1328, 785, 2258, 1555, 2970} => {481}\n",
      "Conf: 0.91\tSupp: 50.00\t {512, 481, 736, 4, 167, 1328, 785, 1555, 2970} => {2258}\n",
      "Conf: 0.91\tSupp: 50.00\t {736, 481, 4, 167, 1576, 1328, 785, 1555, 2970} => {2258}\n",
      "Conf: 0.91\tSupp: 50.00\t {512, 481, 736, 167, 1576, 1328, 785, 1555, 2970} => {2683}\n",
      "Conf: 0.91\tSupp: 50.00\t {736, 481, 4, 167, 1576, 1328, 785, 1555, 2970} => {2683}\n",
      "Conf: 0.91\tSupp: 50.00\t {512, 481, 736, 4, 167, 1576, 785, 1555, 2970} => {2683}\n",
      "Conf: 1.00\tSupp: 55.00\t {512, 736, 167, 1576, 1328, 785, 2258, 1555} => {2970}\n",
      "Conf: 1.00\tSupp: 55.00\t {512, 481, 736, 4, 167, 1328, 785, 1555} => {2970}\n",
      "Conf: 1.00\tSupp: 55.00\t {512, 481, 4, 167, 1328, 785, 1555, 2970} => {736}\n",
      "Conf: 1.00\tSupp: 55.00\t {512, 481, 736, 167, 1576, 1328, 785, 1555} => {2970}\n",
      "Conf: 1.00\tSupp: 55.00\t {512, 481, 736, 1576, 1328, 785, 1555, 2970} => {167}\n",
      "Conf: 1.00\tSupp: 55.00\t {512, 481, 167, 1576, 1328, 785, 1555, 2970} => {736}\n",
      "Conf: 1.00\tSupp: 55.00\t {736, 481, 4, 167, 1576, 1328, 785, 1555} => {2970}\n",
      "Conf: 1.00\tSupp: 55.00\t {481, 4, 167, 1576, 1328, 785, 1555, 2970} => {736}\n",
      "Conf: 1.00\tSupp: 55.00\t {512, 481, 736, 4, 167, 1576, 785, 1555} => {2970}\n",
      "Conf: 1.00\tSupp: 55.00\t {512, 481, 736, 4, 1576, 785, 1555, 2970} => {167}\n"
     ]
    }
   ],
   "source": [
    "minc = 1\n",
    "maxc = 0\n",
    "\n",
    "mins = 9999999999999\n",
    "maxs = -9999999999999\n",
    "for a in article_assos_rules:\n",
    "    if a.c < minc:\n",
    "        minc = a.c\n",
    "    if a.c > maxc:\n",
    "        maxc = a.c\n",
    "    \n",
    "    if a.s < mins:\n",
    "        mins = a.s\n",
    "    if a.s > maxs:\n",
    "        maxs = a.s\n",
    "            \n",
    "for a in article_assos_rules:\n",
    "    a.c = (a.c - minc) / (maxc - minc)\n",
    "    a.s = (a.s - mins) / (maxs - mins)\n",
    "    # temp score that's just lhs + weighted average of c, s\n",
    "    a.score = len(a.left) + sqrt(pow(a.c, 2) + pow(a.s, 2))\n",
    "\n",
    "article_assos_rules = sorted(article_assos_rules, key = lambda x: x.score, reverse=True)\n",
    "for i in article_assos_rules[:100]:\n",
    "    print(i)"
   ]
  },
  {
   "cell_type": "markdown",
   "id": "4bea6c09",
   "metadata": {},
   "source": [
    "## 5. Store the association rules as pickle file for further use"
   ]
  },
  {
   "cell_type": "code",
   "execution_count": 23,
   "id": "72c786f7",
   "metadata": {},
   "outputs": [],
   "source": [
    "import pickle\n",
    "pickle.dump(article_assos_rules, open(\"pickle_dumps/article_rules.p\", \"wb\"))\n",
    "pickle.dump(rules_split, open(\"pickle_dumps/user_rules.p\", \"wb\"))"
   ]
  }
 ],
 "metadata": {
  "kernelspec": {
   "display_name": "Python 3",
   "language": "python",
   "name": "python3"
  },
  "language_info": {
   "codemirror_mode": {
    "name": "ipython",
    "version": 3
   },
   "file_extension": ".py",
   "mimetype": "text/x-python",
   "name": "python",
   "nbconvert_exporter": "python",
   "pygments_lexer": "ipython3",
   "version": "3.8.10"
  }
 },
 "nbformat": 4,
 "nbformat_minor": 5
}
