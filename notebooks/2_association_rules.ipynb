{
 "cells": [
  {
   "cell_type": "markdown",
   "id": "50569d85",
   "metadata": {},
   "source": [
    "## 0. Import packages"
   ]
  },
  {
   "cell_type": "code",
   "execution_count": 1,
   "id": "a0c03281",
   "metadata": {},
   "outputs": [],
   "source": [
    "import pandas as pd\n",
    "import gzip\n",
    "import math\n",
    "from tqdm import tqdm\n",
    "from itertools import chain, combinations\n",
    "from Association import Association\n",
    "from math import sqrt\n",
    "tqdm.pandas() #for progres_apply etc."
   ]
  },
  {
   "cell_type": "markdown",
   "id": "a82af1f6",
   "metadata": {},
   "source": [
    "## 1. Load data from previous step"
   ]
  },
  {
   "cell_type": "code",
   "execution_count": 2,
   "id": "7ecf0117",
   "metadata": {},
   "outputs": [],
   "source": [
    "import pickle\n",
    "train_df = pickle.load(open(\"pickle_dumps/train_df.p\", \"rb\"))\n",
    "tests_df = pickle.load(open(\"pickle_dumps/test_df.p\", \"rb\"))\n",
    "\n",
    "article_train_df = pickle.load(open(\"pickle_dumps/article_train_df.p\", \"rb\"))\n",
    "article_test_df = pickle.load(open(\"pickle_dumps/article_test_df.p\", \"rb\"))"
   ]
  },
  {
   "cell_type": "code",
   "execution_count": 3,
   "id": "0ac1c96f",
   "metadata": {
    "scrolled": false
   },
   "outputs": [
    {
     "data": {
      "text/html": [
       "<div>\n",
       "<style scoped>\n",
       "    .dataframe tbody tr th:only-of-type {\n",
       "        vertical-align: middle;\n",
       "    }\n",
       "\n",
       "    .dataframe tbody tr th {\n",
       "        vertical-align: top;\n",
       "    }\n",
       "\n",
       "    .dataframe thead th {\n",
       "        text-align: right;\n",
       "    }\n",
       "</style>\n",
       "<table border=\"1\" class=\"dataframe\">\n",
       "  <thead>\n",
       "    <tr style=\"text-align: right;\">\n",
       "      <th></th>\n",
       "      <th>user_id</th>\n",
       "      <th>item_id</th>\n",
       "    </tr>\n",
       "  </thead>\n",
       "  <tbody>\n",
       "    <tr>\n",
       "      <th>872</th>\n",
       "      <td>872</td>\n",
       "      <td>[19, 21, 20, 22, 23, 10, 280, 17, 18, 25, 1081...</td>\n",
       "    </tr>\n",
       "    <tr>\n",
       "      <th>1334</th>\n",
       "      <td>1334</td>\n",
       "      <td>[8, 4, 6, 7, 9, 2764, 17, 18, 142, 19, 20, 21,...</td>\n",
       "    </tr>\n",
       "    <tr>\n",
       "      <th>194</th>\n",
       "      <td>194</td>\n",
       "      <td>[30, 1804, 24, 1411, 46, 47, 1674, 63, 64, 110...</td>\n",
       "    </tr>\n",
       "    <tr>\n",
       "      <th>2097</th>\n",
       "      <td>2097</td>\n",
       "      <td>[19, 21, 280, 39, 97, 46, 47, 1222, 4235, 63, ...</td>\n",
       "    </tr>\n",
       "    <tr>\n",
       "      <th>2794</th>\n",
       "      <td>2794</td>\n",
       "      <td>[9, 280, 67, 63, 64, 94, 95, 96, 338, 101, 114...</td>\n",
       "    </tr>\n",
       "    <tr>\n",
       "      <th>...</th>\n",
       "      <td>...</td>\n",
       "      <td>...</td>\n",
       "    </tr>\n",
       "    <tr>\n",
       "      <th>2763</th>\n",
       "      <td>2763</td>\n",
       "      <td>[280, 2330, 1671, 1225, 63, 64, 1033, 351, 141...</td>\n",
       "    </tr>\n",
       "    <tr>\n",
       "      <th>2628</th>\n",
       "      <td>2628</td>\n",
       "      <td>[8, 1, 19, 21, 9, 10, 280, 1564, 1092, 1377, 3...</td>\n",
       "    </tr>\n",
       "    <tr>\n",
       "      <th>1707</th>\n",
       "      <td>1707</td>\n",
       "      <td>[6, 19, 21, 9, 20, 22, 23, 280, 24, 25, 29, 51...</td>\n",
       "    </tr>\n",
       "    <tr>\n",
       "      <th>2782</th>\n",
       "      <td>2782</td>\n",
       "      <td>[9, 1021, 1022, 1023, 745, 1668, 1669, 281, 28...</td>\n",
       "    </tr>\n",
       "    <tr>\n",
       "      <th>746</th>\n",
       "      <td>746</td>\n",
       "      <td>[1, 19, 21, 280, 1266, 1267, 1268, 1269, 1270,...</td>\n",
       "    </tr>\n",
       "  </tbody>\n",
       "</table>\n",
       "<p>999 rows × 2 columns</p>\n",
       "</div>"
      ],
      "text/plain": [
       "      user_id                                            item_id\n",
       "872       872  [19, 21, 20, 22, 23, 10, 280, 17, 18, 25, 1081...\n",
       "1334     1334  [8, 4, 6, 7, 9, 2764, 17, 18, 142, 19, 20, 21,...\n",
       "194       194  [30, 1804, 24, 1411, 46, 47, 1674, 63, 64, 110...\n",
       "2097     2097  [19, 21, 280, 39, 97, 46, 47, 1222, 4235, 63, ...\n",
       "2794     2794  [9, 280, 67, 63, 64, 94, 95, 96, 338, 101, 114...\n",
       "...       ...                                                ...\n",
       "2763     2763  [280, 2330, 1671, 1225, 63, 64, 1033, 351, 141...\n",
       "2628     2628  [8, 1, 19, 21, 9, 10, 280, 1564, 1092, 1377, 3...\n",
       "1707     1707  [6, 19, 21, 9, 20, 22, 23, 280, 24, 25, 29, 51...\n",
       "2782     2782  [9, 1021, 1022, 1023, 745, 1668, 1669, 281, 28...\n",
       "746       746  [1, 19, 21, 280, 1266, 1267, 1268, 1269, 1270,...\n",
       "\n",
       "[999 rows x 2 columns]"
      ]
     },
     "execution_count": 3,
     "metadata": {},
     "output_type": "execute_result"
    }
   ],
   "source": [
    "train_df"
   ]
  },
  {
   "cell_type": "markdown",
   "id": "d15592f3",
   "metadata": {},
   "source": [
    "If we plot a disrtibution of the length per user, we see that most data leans towards a length of 100 items"
   ]
  },
  {
   "cell_type": "code",
   "execution_count": 4,
   "id": "3b54a423",
   "metadata": {},
   "outputs": [
    {
     "name": "stdout",
     "output_type": "stream",
     "text": [
      "191.54354354354354\n"
     ]
    },
    {
     "data": {
      "text/plain": [
       "(array([127.,  93.,  92.,  81.,  69.,  61.,  46.,  37.,  35.,  36.,  29.,\n",
       "         23.,  24.,  19.,  20.,  23.,  13.,  14.,  14.,  16.,  12.,   6.,\n",
       "         15.,   7.,  10.,   5.,   5.,   5.,   9.,   8.,   3.,   0.,   4.,\n",
       "          1.,   5.,   2.,   3.,   3.,   2.,   2.,   2.,   2.,   3.,   0.,\n",
       "          2.,   2.,   2.,   3.,   2.,   2.]),\n",
       " array([101.  , 110.88, 120.76, 130.64, 140.52, 150.4 , 160.28, 170.16,\n",
       "        180.04, 189.92, 199.8 , 209.68, 219.56, 229.44, 239.32, 249.2 ,\n",
       "        259.08, 268.96, 278.84, 288.72, 298.6 , 308.48, 318.36, 328.24,\n",
       "        338.12, 348.  , 357.88, 367.76, 377.64, 387.52, 397.4 , 407.28,\n",
       "        417.16, 427.04, 436.92, 446.8 , 456.68, 466.56, 476.44, 486.32,\n",
       "        496.2 , 506.08, 515.96, 525.84, 535.72, 545.6 , 555.48, 565.36,\n",
       "        575.24, 585.12, 595.  ]),\n",
       " <BarContainer object of 50 artists>)"
      ]
     },
     "execution_count": 4,
     "metadata": {},
     "output_type": "execute_result"
    },
    {
     "data": {
      "image/png": "[encoded data removed]",
      "text/plain": [
       "<Figure size 432x288 with 1 Axes>"
      ]
     },
     "metadata": {
      "needs_background": "light"
     },
     "output_type": "display_data"
    }
   ],
   "source": [
    "import matplotlib.pyplot as plt\n",
    "x = [len(i) for i in train_df[\"item_id\"]]\n",
    "print(sum(x)/len(x))\n",
    "plt.hist(x, bins=50)"
   ]
  },
  {
   "cell_type": "code",
   "execution_count": 5,
   "id": "f474e4fb",
   "metadata": {
    "scrolled": false
   },
   "outputs": [
    {
     "data": {
      "text/html": [
       "<div>\n",
       "<style scoped>\n",
       "    .dataframe tbody tr th:only-of-type {\n",
       "        vertical-align: middle;\n",
       "    }\n",
       "\n",
       "    .dataframe tbody tr th {\n",
       "        vertical-align: top;\n",
       "    }\n",
       "\n",
       "    .dataframe thead th {\n",
       "        text-align: right;\n",
       "    }\n",
       "</style>\n",
       "<table border=\"1\" class=\"dataframe\">\n",
       "  <thead>\n",
       "    <tr style=\"text-align: right;\">\n",
       "      <th></th>\n",
       "      <th>item_id</th>\n",
       "      <th>user_id</th>\n",
       "    </tr>\n",
       "  </thead>\n",
       "  <tbody>\n",
       "    <tr>\n",
       "      <th>5</th>\n",
       "      <td>10</td>\n",
       "      <td>[872, 2209, 1328, 2581, 2758, 582, 705, 106, 1...</td>\n",
       "    </tr>\n",
       "    <tr>\n",
       "      <th>10</th>\n",
       "      <td>1081</td>\n",
       "      <td>[872, 864, 1150, 89, 2302, 2067, 2981, 1529, 1...</td>\n",
       "    </tr>\n",
       "    <tr>\n",
       "      <th>11</th>\n",
       "      <td>1082</td>\n",
       "      <td>[872, 864, 1150, 89, 2302, 2067, 2981, 1529, 1...</td>\n",
       "    </tr>\n",
       "    <tr>\n",
       "      <th>12</th>\n",
       "      <td>1220</td>\n",
       "      <td>[872, 2097, 1328, 1774, 705, 2545, 426, 490, 2...</td>\n",
       "    </tr>\n",
       "    <tr>\n",
       "      <th>13</th>\n",
       "      <td>39</td>\n",
       "      <td>[872, 1334, 2097, 3055, 739, 2758, 582, 1774, ...</td>\n",
       "    </tr>\n",
       "    <tr>\n",
       "      <th>...</th>\n",
       "      <td>...</td>\n",
       "      <td>...</td>\n",
       "    </tr>\n",
       "    <tr>\n",
       "      <th>6419</th>\n",
       "      <td>374</td>\n",
       "      <td>[2868, 1956]</td>\n",
       "    </tr>\n",
       "    <tr>\n",
       "      <th>6451</th>\n",
       "      <td>7308</td>\n",
       "      <td>[1854, 2163]</td>\n",
       "    </tr>\n",
       "    <tr>\n",
       "      <th>6477</th>\n",
       "      <td>4859</td>\n",
       "      <td>[1171, 2195]</td>\n",
       "    </tr>\n",
       "    <tr>\n",
       "      <th>6504</th>\n",
       "      <td>7486</td>\n",
       "      <td>[2312, 958]</td>\n",
       "    </tr>\n",
       "    <tr>\n",
       "      <th>6505</th>\n",
       "      <td>5646</td>\n",
       "      <td>[2240, 1943]</td>\n",
       "    </tr>\n",
       "  </tbody>\n",
       "</table>\n",
       "<p>5051 rows × 2 columns</p>\n",
       "</div>"
      ],
      "text/plain": [
       "      item_id                                            user_id\n",
       "5          10  [872, 2209, 1328, 2581, 2758, 582, 705, 106, 1...\n",
       "10       1081  [872, 864, 1150, 89, 2302, 2067, 2981, 1529, 1...\n",
       "11       1082  [872, 864, 1150, 89, 2302, 2067, 2981, 1529, 1...\n",
       "12       1220  [872, 2097, 1328, 1774, 705, 2545, 426, 490, 2...\n",
       "13         39  [872, 1334, 2097, 3055, 739, 2758, 582, 1774, ...\n",
       "...       ...                                                ...\n",
       "6419      374                                       [2868, 1956]\n",
       "6451     7308                                       [1854, 2163]\n",
       "6477     4859                                       [1171, 2195]\n",
       "6504     7486                                        [2312, 958]\n",
       "6505     5646                                       [2240, 1943]\n",
       "\n",
       "[5051 rows x 2 columns]"
      ]
     },
     "execution_count": 5,
     "metadata": {},
     "output_type": "execute_result"
    }
   ],
   "source": [
    "article_train_df"
   ]
  },
  {
   "cell_type": "markdown",
   "id": "e7da8389",
   "metadata": {},
   "source": [
    "The transposed dataframe that is used for building user association rules has only a few items most of the time. this is not that important because of the way user associations are build."
   ]
  },
  {
   "cell_type": "code",
   "execution_count": 6,
   "id": "09a2c1fc",
   "metadata": {},
   "outputs": [
    {
     "name": "stdout",
     "output_type": "stream",
     "text": [
      "31.3240942387646\n"
     ]
    },
    {
     "data": {
      "text/plain": [
       "(array([2.468e+03, 7.140e+02, 4.360e+02, 2.570e+02, 1.550e+02, 1.380e+02,\n",
       "        1.080e+02, 8.100e+01, 9.300e+01, 5.200e+01, 5.500e+01, 5.600e+01,\n",
       "        4.200e+01, 2.900e+01, 3.700e+01, 3.000e+01, 3.000e+01, 1.700e+01,\n",
       "        1.000e+01, 1.300e+01, 2.000e+01, 2.000e+01, 1.700e+01, 1.500e+01,\n",
       "        7.000e+00, 6.000e+00, 1.000e+01, 1.200e+01, 1.000e+01, 1.100e+01,\n",
       "        1.200e+01, 8.000e+00, 8.000e+00, 7.000e+00, 3.000e+00, 9.000e+00,\n",
       "        2.000e+00, 4.000e+00, 8.000e+00, 8.000e+00, 4.000e+00, 5.000e+00,\n",
       "        3.000e+00, 3.000e+00, 2.000e+00, 3.000e+00, 7.000e+00, 4.000e+00,\n",
       "        1.000e+00, 1.000e+00]),\n",
       " array([  2.  ,   9.78,  17.56,  25.34,  33.12,  40.9 ,  48.68,  56.46,\n",
       "         64.24,  72.02,  79.8 ,  87.58,  95.36, 103.14, 110.92, 118.7 ,\n",
       "        126.48, 134.26, 142.04, 149.82, 157.6 , 165.38, 173.16, 180.94,\n",
       "        188.72, 196.5 , 204.28, 212.06, 219.84, 227.62, 235.4 , 243.18,\n",
       "        250.96, 258.74, 266.52, 274.3 , 282.08, 289.86, 297.64, 305.42,\n",
       "        313.2 , 320.98, 328.76, 336.54, 344.32, 352.1 , 359.88, 367.66,\n",
       "        375.44, 383.22, 391.  ]),\n",
       " <BarContainer object of 50 artists>)"
      ]
     },
     "execution_count": 6,
     "metadata": {},
     "output_type": "execute_result"
    },
    {
     "data": {
      "image/png": "[encoded data removed]",
      "text/plain": [
       "<Figure size 432x288 with 1 Axes>"
      ]
     },
     "metadata": {
      "needs_background": "light"
     },
     "output_type": "display_data"
    }
   ],
   "source": [
    "x = [len(i) for i in article_train_df[\"user_id\"]]\n",
    "print(sum(x)/len(x))\n",
    "plt.hist(x, bins=50)"
   ]
  },
  {
   "cell_type": "code",
   "execution_count": 7,
   "id": "9dbcccab",
   "metadata": {
    "scrolled": true
   },
   "outputs": [
    {
     "data": {
      "text/html": [
       "<div>\n",
       "<style scoped>\n",
       "    .dataframe tbody tr th:only-of-type {\n",
       "        vertical-align: middle;\n",
       "    }\n",
       "\n",
       "    .dataframe tbody tr th {\n",
       "        vertical-align: top;\n",
       "    }\n",
       "\n",
       "    .dataframe thead th {\n",
       "        text-align: right;\n",
       "    }\n",
       "</style>\n",
       "<table border=\"1\" class=\"dataframe\">\n",
       "  <thead>\n",
       "    <tr style=\"text-align: right;\">\n",
       "      <th></th>\n",
       "      <th>user_id</th>\n",
       "      <th>item_id</th>\n",
       "      <th>test_split</th>\n",
       "    </tr>\n",
       "  </thead>\n",
       "  <tbody>\n",
       "    <tr>\n",
       "      <th>1528</th>\n",
       "      <td>1528</td>\n",
       "      <td>[280, 19, 20, 21, 22, 23, 24, 25, 2090, 7547, ...</td>\n",
       "      <td>[([1155, 1688, 454, 4267, 183, 5117, 159, 468,...</td>\n",
       "    </tr>\n",
       "    <tr>\n",
       "      <th>1246</th>\n",
       "      <td>1246</td>\n",
       "      <td>[19, 21, 9, 8, 20, 1209, 1210, 1211, 280, 1619...</td>\n",
       "      <td>[([27, 153, 81, 148, 95, 96, 129, 2087, 152, 1...</td>\n",
       "    </tr>\n",
       "    <tr>\n",
       "      <th>1724</th>\n",
       "      <td>1724</td>\n",
       "      <td>[9, 280, 5110, 1410, 1222, 460, 83, 94, 95, 96...</td>\n",
       "      <td>[([1698, 1906, 1299, 1361, 190, 1907, 191, 103...</td>\n",
       "    </tr>\n",
       "    <tr>\n",
       "      <th>2187</th>\n",
       "      <td>2187</td>\n",
       "      <td>[9, 280, 1410, 1411, 68, 69, 63, 64, 83, 1229,...</td>\n",
       "      <td>[([1111, 1254, 1143, 1627, 1214, 2647, 1144, 2...</td>\n",
       "    </tr>\n",
       "    <tr>\n",
       "      <th>1220</th>\n",
       "      <td>1220</td>\n",
       "      <td>[1, 4, 6, 7, 280, 284, 19, 20, 21, 22, 23, 24,...</td>\n",
       "      <td>[([157, 395, 171, 763, 423, 432, 160, 178, 174...</td>\n",
       "    </tr>\n",
       "    <tr>\n",
       "      <th>...</th>\n",
       "      <td>...</td>\n",
       "      <td>...</td>\n",
       "      <td>...</td>\n",
       "    </tr>\n",
       "    <tr>\n",
       "      <th>1563</th>\n",
       "      <td>1563</td>\n",
       "      <td>[280, 1804, 17, 18, 19, 20, 21, 22, 23, 24, 25...</td>\n",
       "      <td>[([395, 10, 3251, 98, 2564, 2087, 110, 1803, 1...</td>\n",
       "    </tr>\n",
       "    <tr>\n",
       "      <th>924</th>\n",
       "      <td>924</td>\n",
       "      <td>[2738, 280, 16, 299, 1096, 1413, 110, 101, 156...</td>\n",
       "      <td>[([1301, 1442, 1910, 2009, 1911, 1443, 1342, 2...</td>\n",
       "    </tr>\n",
       "    <tr>\n",
       "      <th>379</th>\n",
       "      <td>379</td>\n",
       "      <td>[280, 19, 21, 20, 22, 23, 2089, 46, 47, 318, 3...</td>\n",
       "      <td>[([1913, 1586, 101, 517, 1291, 1643, 207, 3043...</td>\n",
       "    </tr>\n",
       "    <tr>\n",
       "      <th>2824</th>\n",
       "      <td>2824</td>\n",
       "      <td>[280, 19, 20, 21, 22, 23, 24, 25, 34, 1089, 39...</td>\n",
       "      <td>[([65, 110, 347, 2918, 139, 140, 1136, 814, 41...</td>\n",
       "    </tr>\n",
       "    <tr>\n",
       "      <th>2244</th>\n",
       "      <td>2244</td>\n",
       "      <td>[19, 21, 14, 9, 280, 304, 1081, 1082, 3339, 36...</td>\n",
       "      <td>[([360, 1417, 382, 98, 387, 814, 394, 397, 162...</td>\n",
       "    </tr>\n",
       "  </tbody>\n",
       "</table>\n",
       "<p>101 rows × 3 columns</p>\n",
       "</div>"
      ],
      "text/plain": [
       "      user_id                                            item_id  \\\n",
       "1528     1528  [280, 19, 20, 21, 22, 23, 24, 25, 2090, 7547, ...   \n",
       "1246     1246  [19, 21, 9, 8, 20, 1209, 1210, 1211, 280, 1619...   \n",
       "1724     1724  [9, 280, 5110, 1410, 1222, 460, 83, 94, 95, 96...   \n",
       "2187     2187  [9, 280, 1410, 1411, 68, 69, 63, 64, 83, 1229,...   \n",
       "1220     1220  [1, 4, 6, 7, 280, 284, 19, 20, 21, 22, 23, 24,...   \n",
       "...       ...                                                ...   \n",
       "1563     1563  [280, 1804, 17, 18, 19, 20, 21, 22, 23, 24, 25...   \n",
       "924       924  [2738, 280, 16, 299, 1096, 1413, 110, 101, 156...   \n",
       "379       379  [280, 19, 21, 20, 22, 23, 2089, 46, 47, 318, 3...   \n",
       "2824     2824  [280, 19, 20, 21, 22, 23, 24, 25, 34, 1089, 39...   \n",
       "2244     2244  [19, 21, 14, 9, 280, 304, 1081, 1082, 3339, 36...   \n",
       "\n",
       "                                             test_split  \n",
       "1528  [([1155, 1688, 454, 4267, 183, 5117, 159, 468,...  \n",
       "1246  [([27, 153, 81, 148, 95, 96, 129, 2087, 152, 1...  \n",
       "1724  [([1698, 1906, 1299, 1361, 190, 1907, 191, 103...  \n",
       "2187  [([1111, 1254, 1143, 1627, 1214, 2647, 1144, 2...  \n",
       "1220  [([157, 395, 171, 763, 423, 432, 160, 178, 174...  \n",
       "...                                                 ...  \n",
       "1563  [([395, 10, 3251, 98, 2564, 2087, 110, 1803, 1...  \n",
       "924   [([1301, 1442, 1910, 2009, 1911, 1443, 1342, 2...  \n",
       "379   [([1913, 1586, 101, 517, 1291, 1643, 207, 3043...  \n",
       "2824  [([65, 110, 347, 2918, 139, 140, 1136, 814, 41...  \n",
       "2244  [([360, 1417, 382, 98, 387, 814, 394, 397, 162...  \n",
       "\n",
       "[101 rows x 3 columns]"
      ]
     },
     "execution_count": 7,
     "metadata": {},
     "output_type": "execute_result"
    }
   ],
   "source": [
    "tests_df"
   ]
  },
  {
   "cell_type": "code",
   "execution_count": 8,
   "id": "93eb687a",
   "metadata": {},
   "outputs": [],
   "source": [
    "data = train_df.set_index(\"user_id\").to_dict()[\"item_id\"]\n",
    "article_data = article_train_df.set_index(\"item_id\").to_dict()[\"user_id\"]"
   ]
  },
  {
   "cell_type": "markdown",
   "id": "a1bcede0",
   "metadata": {},
   "source": [
    "## 2. Functions or building association rules"
   ]
  },
  {
   "cell_type": "code",
   "execution_count": 9,
   "id": "829c4a50",
   "metadata": {},
   "outputs": [],
   "source": [
    "def eclat(prefix, minsup, items, start=True):\n",
    "    \"\"\"\n",
    "    Basic eclat implementation for finding frequent itemsets\n",
    "    \"\"\"\n",
    "    frequents = []\n",
    "    while items:\n",
    "        i,itids = items.pop()\n",
    "        isupp = len(itids)\n",
    "        if isupp >= minsup:\n",
    "            frequents.append((frozenset(prefix + [i]), isupp))\n",
    "            suffix = [] \n",
    "            for j, ojtids in items:\n",
    "                jtids = set(itids) & set(ojtids)\n",
    "                if len(jtids) >= minsup:\n",
    "                    suffix.append((j,jtids))\n",
    "            frequents.extend(eclat(prefix+[i], minsup, sorted(suffix, key=lambda item: len(item[1]), reverse=True), False))\n",
    "    return frequents"
   ]
  },
  {
   "cell_type": "code",
   "execution_count": 10,
   "id": "10be6989",
   "metadata": {},
   "outputs": [],
   "source": [
    "def subsets(itemset, include_empty_set=False):\n",
    "    \"\"\" List all strict subsets of an itemset without the empty set or with the empty set if include_empty_set=True\n",
    "        subsets({1,2,3}) --> [{1}, {2}, {3}, {1, 2}, {1, 3}, {2, 3}]\n",
    "    \"\"\"\n",
    "    s = list(itemset)\n",
    "    if include_empty_set:\n",
    "        return map(set, chain.from_iterable(combinations(s, r) for r in range(0, len(s) + 1)))\n",
    "    return map(set, chain.from_iterable(combinations(s, r) for r in range(1, len(s))))"
   ]
  },
  {
   "cell_type": "code",
   "execution_count": 11,
   "id": "0c0b13ae",
   "metadata": {},
   "outputs": [],
   "source": [
    "def deriveRules(itemsets, minconf, test_users):\n",
    "    \"\"\" Returns all rules with conf >= minconf that can be derived from the itemsets.\n",
    "        Return: list of association rules in the format: [(antecedent, consequent, supp, conf), ...]\n",
    "    \"\"\"\n",
    "    search_items = dict(itemsets)\n",
    "    rules = []\n",
    "    for item_set, supp in tqdm(itemsets):\n",
    "        if len(item_set) > 1: # itemsets with one frequent item are unable to generate a rule\n",
    "            for subset in subsets(item_set):  # for each subset generate a rule\n",
    "                antecedent = frozenset(subset)\n",
    "                consequent = item_set - subset\n",
    "                if len(consequent)== 1: # only keep rules with one item in the consequent\n",
    "                    conf = supp / search_items[antecedent]\n",
    "                    if conf >= minconf: # assure confidence of the rule is high enough\n",
    "                        # if test_users are passed, only generate rules with one of the test users in the consequent\n",
    "                        if test_users:\n",
    "                            if list(consequent)[0] in test_users:\n",
    "                                rules.append(Association(antecedent, consequent, conf, supp))\n",
    "                        else:\n",
    "                            rules.append(Association(antecedent, consequent, conf, supp))\n",
    "                        \n",
    "\n",
    "    return rules"
   ]
  },
  {
   "cell_type": "code",
   "execution_count": 12,
   "id": "43465aa5",
   "metadata": {},
   "outputs": [],
   "source": [
    "def genRules(min_conf, minsup, data, test_users = None):\n",
    "    print(\"---Mining frequent itemsets---\")\n",
    "    frequent_itemsets = eclat([], minsup, sorted(data.items(), key=lambda item: len(item[1]), reverse=True))\n",
    "    print(f\"{len(frequent_itemsets)} frequent itemsets\")\n",
    "    c = 0\n",
    "    for f in frequent_itemsets:\n",
    "        if len(f[0]) == 1:\n",
    "            c += 1\n",
    "    print(f\"{c} frequent itemsets of length 1\")\n",
    "    print(\"---Generating rules---\")\n",
    "    return deriveRules(frequent_itemsets, min_conf, test_users)"
   ]
  },
  {
   "cell_type": "markdown",
   "id": "51817a51",
   "metadata": {},
   "source": [
    "## 3. Build association rules"
   ]
  },
  {
   "cell_type": "markdown",
   "id": "952c8977",
   "metadata": {},
   "source": [
    "### Article association rules\n",
    "Build rules of the form:\n",
    "`Item1 and Item2 -> Item3`"
   ]
  },
  {
   "cell_type": "code",
   "execution_count": 13,
   "id": "1b5c7ed3",
   "metadata": {
    "scrolled": true
   },
   "outputs": [
    {
     "name": "stdout",
     "output_type": "stream",
     "text": [
      "999\n",
      "---Mining frequent itemsets---\n",
      "3321424 frequent itemsets\n",
      "999 frequent itemsets of length 1\n",
      "---Generating rules---\n"
     ]
    },
    {
     "name": "stderr",
     "output_type": "stream",
     "text": [
      "100%|██████████████████████████████| 3321424/3321424 [01:17<00:00, 42614.43it/s]\n"
     ]
    },
    {
     "name": "stdout",
     "output_type": "stream",
     "text": [
      "CPU times: user 3min 12s, sys: 2.42 s, total: 3min 14s\n",
      "Wall time: 3min 14s\n"
     ]
    }
   ],
   "source": [
    "%%time\n",
    "\n",
    "print(len(data))\n",
    "\n",
    "# Build the article association rules with a minimum support of 50 and minimum confidence of 0.85\n",
    "article_assos_rules = genRules(0.85, 50, data)"
   ]
  },
  {
   "cell_type": "code",
   "execution_count": 14,
   "id": "ac637b7a",
   "metadata": {},
   "outputs": [
    {
     "data": {
      "text/plain": [
       "3800445"
      ]
     },
     "execution_count": 14,
     "metadata": {},
     "output_type": "execute_result"
    }
   ],
   "source": [
    "len(article_assos_rules)"
   ]
  },
  {
   "cell_type": "code",
   "execution_count": 15,
   "id": "3bb0d5d0",
   "metadata": {},
   "outputs": [
    {
     "name": "stdout",
     "output_type": "stream",
     "text": [
      "CPU times: user 556 ms, sys: 5.67 ms, total: 562 ms\n",
      "Wall time: 564 ms\n"
     ]
    },
    {
     "data": {
      "text/plain": [
       "57626"
      ]
     },
     "execution_count": 15,
     "metadata": {},
     "output_type": "execute_result"
    }
   ],
   "source": [
    "%%time\n",
    "\n",
    "# print number of rules with item 3 in the lhs\n",
    "counter = 0\n",
    "for r in article_assos_rules:\n",
    "    if 3 in r.left:\n",
    "        counter += 1\n",
    "counter"
   ]
  },
  {
   "cell_type": "code",
   "execution_count": 16,
   "id": "c559c795",
   "metadata": {},
   "outputs": [],
   "source": [
    "# print number of rules with a support greater than 150\n",
    "for r in article_assos_rules:\n",
    "    if r.s > 150:\n",
    "        print(r)"
   ]
  },
  {
   "cell_type": "markdown",
   "id": "6c19a76d",
   "metadata": {},
   "source": [
    "### User association rules\n",
    "Build rules of the form: `User1 and User2 -> User3`\n",
    "\n",
    "This builds rules that represent the relation and similarity between users."
   ]
  },
  {
   "cell_type": "code",
   "execution_count": 17,
   "id": "aee695cb",
   "metadata": {
    "scrolled": false
   },
   "outputs": [
    {
     "name": "stdout",
     "output_type": "stream",
     "text": [
      "5051\n",
      "Mining rules for split 0\n",
      "---Mining frequent itemsets---\n",
      "1337990 frequent itemsets\n",
      "1103 frequent itemsets of length 1\n",
      "---Generating rules---\n"
     ]
    },
    {
     "name": "stderr",
     "output_type": "stream",
     "text": [
      "100%|██████████████████████████████| 1337990/1337990 [02:09<00:00, 10305.20it/s]\n"
     ]
    },
    {
     "name": "stdout",
     "output_type": "stream",
     "text": [
      "Mining rules for split 1\n",
      "---Mining frequent itemsets---\n",
      "1381902 frequent itemsets\n",
      "1101 frequent itemsets of length 1\n",
      "---Generating rules---\n"
     ]
    },
    {
     "name": "stderr",
     "output_type": "stream",
     "text": [
      "100%|███████████████████████████████| 1381902/1381902 [02:21<00:00, 9763.78it/s]\n"
     ]
    },
    {
     "name": "stdout",
     "output_type": "stream",
     "text": [
      "Mining rules for split 2\n",
      "---Mining frequent itemsets---\n",
      "1427120 frequent itemsets\n",
      "1110 frequent itemsets of length 1\n",
      "---Generating rules---\n"
     ]
    },
    {
     "name": "stderr",
     "output_type": "stream",
     "text": [
      "100%|███████████████████████████████| 1427120/1427120 [02:32<00:00, 9372.33it/s]\n"
     ]
    },
    {
     "name": "stdout",
     "output_type": "stream",
     "text": [
      "Mining rules for split 3\n",
      "---Mining frequent itemsets---\n",
      "1661958 frequent itemsets\n",
      "1116 frequent itemsets of length 1\n",
      "---Generating rules---\n"
     ]
    },
    {
     "name": "stderr",
     "output_type": "stream",
     "text": [
      "100%|██████████████████████████████| 1661958/1661958 [02:41<00:00, 10296.49it/s]"
     ]
    },
    {
     "name": "stdout",
     "output_type": "stream",
     "text": [
      "CPU times: user 11min 46s, sys: 3.77 s, total: 11min 49s\n",
      "Wall time: 11min 48s\n"
     ]
    },
    {
     "name": "stderr",
     "output_type": "stream",
     "text": [
      "\n"
     ]
    }
   ],
   "source": [
    "%%time\n",
    "import copy\n",
    "# user_assos_rules = genRules(0.0, 20, article_data)\n",
    "print(len(article_data))\n",
    "test_users = tests_df[\"user_id\"].tolist()\n",
    "\n",
    "rules_split = []\n",
    "\n",
    "# build the datasets for training. We always add one part of the test set to the trainingset in order to create 4 different\n",
    "# sets of user association rules\n",
    "for i in range(4):\n",
    "    print(f\"Mining rules for split {i}\")\n",
    "    tmp = copy.deepcopy(article_data)\n",
    "    for _, article in article_test_df.iterrows():\n",
    "        # add the training split to the training data\n",
    "        if article[\"item_id\"] in tmp:\n",
    "            tmp[article[\"item_id\"]] += article[\"test_split\"][i]\n",
    "        else:\n",
    "            tmp[article[\"item_id\"]] = article[\"test_split\"][i]\n",
    "  \n",
    "    # Build the user association rules with a minimum support of 40 and minimum confidence of 0.0\n",
    "    r = genRules(0.0,40,tmp, test_users)\n",
    "    rules_split.append(r)"
   ]
  },
  {
   "cell_type": "code",
   "execution_count": 18,
   "id": "1fdea5a4",
   "metadata": {
    "scrolled": true
   },
   "outputs": [
    {
     "name": "stdout",
     "output_type": "stream",
     "text": [
      "172146\n",
      "181766\n",
      "181189\n",
      "242085\n"
     ]
    }
   ],
   "source": [
    "# print numebr of generated rules per split\n",
    "for i in range(4):\n",
    "    print(len(rules_split[i]))"
   ]
  },
  {
   "cell_type": "markdown",
   "id": "69bb9b4d",
   "metadata": {},
   "source": [
    "See for how much test users we were able to create association rules and how many"
   ]
  },
  {
   "cell_type": "code",
   "execution_count": 19,
   "id": "eb06d36d",
   "metadata": {},
   "outputs": [],
   "source": [
    "corr = {}\n",
    "test_users = tests_df[\"user_id\"].tolist()\n",
    "for user in test_users:\n",
    "    for r in rules_split[3]:\n",
    "        if user in list(r.right):\n",
    "            if user in corr:\n",
    "                corr[user] += 1\n",
    "            else:\n",
    "                corr[user] = 1"
   ]
  },
  {
   "cell_type": "code",
   "execution_count": 20,
   "id": "e8b079e9",
   "metadata": {},
   "outputs": [
    {
     "name": "stdout",
     "output_type": "stream",
     "text": [
      "101\n",
      "30\n",
      "{1246: 235, 1220: 4239, 915: 17, 2003: 3, 105: 643, 690: 369, 266: 490, 141: 679, 1620: 85, 554: 74, 603: 17, 2876: 7, 1225: 38, 74: 3418, 1627: 3, 213: 151867, 119: 1, 291: 255, 2520: 1, 1021: 231, 2362: 17, 1157: 52, 2162: 22, 192: 4, 201: 747, 1787: 9, 428: 19975, 1411: 22, 152: 58546, 1900: 19}\n"
     ]
    }
   ],
   "source": [
    "print(len(test_users))\n",
    "print(len(corr))\n",
    "print(corr)"
   ]
  },
  {
   "cell_type": "markdown",
   "id": "1267f317",
   "metadata": {},
   "source": [
    "## 4. Normalize support / confidence to better use it later"
   ]
  },
  {
   "cell_type": "code",
   "execution_count": 21,
   "id": "19bcb46d",
   "metadata": {},
   "outputs": [
    {
     "name": "stdout",
     "output_type": "stream",
     "text": [
      "Conf: 0.93\tSupp: 51.00\t {2992, 2155} => {1122}\n",
      "Conf: 0.86\tSupp: 50.00\t {2155, 403} => {83}\n",
      "Conf: 0.88\tSupp: 51.00\t {2155, 403} => {1389}\n",
      "Conf: 0.94\tSupp: 51.00\t {1122, 2155, 403} => {1389}\n",
      "Conf: 0.93\tSupp: 51.00\t {1122, 2155, 1389} => {403}\n",
      "Conf: 1.00\tSupp: 51.00\t {2155, 403, 1389} => {1122}\n",
      "Conf: 0.91\tSupp: 53.00\t {2155, 403} => {2982}\n",
      "Conf: 0.93\tSupp: 50.00\t {1122, 2155, 403} => {2982}\n",
      "Conf: 0.91\tSupp: 50.00\t {1122, 2155, 2982} => {403}\n",
      "Conf: 0.94\tSupp: 50.00\t {2155, 403, 2982} => {1122}\n",
      "Conf: 0.93\tSupp: 54.00\t {2155, 403} => {1122}\n",
      "Conf: 0.86\tSupp: 50.00\t {3184, 2155} => {1122}\n",
      "Conf: 0.88\tSupp: 51.00\t {3184, 2155} => {83}\n",
      "Conf: 0.88\tSupp: 51.00\t {3184, 2155} => {2982}\n",
      "Conf: 0.88\tSupp: 51.00\t {441, 2155} => {1389}\n",
      "Conf: 0.90\tSupp: 52.00\t {441, 2155} => {2982}\n",
      "Conf: 0.90\tSupp: 52.00\t {441, 2155} => {1122}\n",
      "Conf: 0.88\tSupp: 52.00\t {2155, 1276} => {1122}\n",
      "Conf: 0.91\tSupp: 51.00\t {2155, 1122, 83} => {2982}\n",
      "Conf: 0.93\tSupp: 51.00\t {1122, 2155, 2982} => {83}\n"
     ]
    }
   ],
   "source": [
    "\"\"\"\n",
    "minc = 1\n",
    "maxc = 0\n",
    "\n",
    "mins = 9999999999999\n",
    "maxs = -9999999999999\n",
    "for a in article_assos_rules:\n",
    "    if a.c < minc:\n",
    "        minc = a.c\n",
    "    if a.c > maxc:\n",
    "        maxc = a.c\n",
    "    \n",
    "    if a.s < mins:\n",
    "        mins = a.s\n",
    "    if a.s > maxs:\n",
    "        maxs = a.s\n",
    "            \n",
    "for a in article_assos_rules:\n",
    "    a.c = (a.c - minc) / (maxc - minc)\n",
    "    a.s = (a.s - mins) / (maxs - mins)\n",
    "    # temp score that's just lhs + weighted average of c, s\n",
    "    a.score = len(a.left) + sqrt(pow(a.c, 2) + pow(a.s, 2))\n",
    "\n",
    "\"\"\"\n",
    "\n",
    "article_assos_rules = sorted(article_assos_rules, key = lambda x: x.score, reverse=True)\n",
    "for i in article_assos_rules[:20]:\n",
    "    print(i)\n"
   ]
  },
  {
   "cell_type": "markdown",
   "id": "4bea6c09",
   "metadata": {},
   "source": [
    "## 5. Store the association rules as pickle file for further use"
   ]
  },
  {
   "cell_type": "code",
   "execution_count": 22,
   "id": "72c786f7",
   "metadata": {},
   "outputs": [],
   "source": [
    "import pickle\n",
    "pickle.dump(article_assos_rules, open(\"pickle_dumps/article_rules.p\", \"wb\"))\n",
    "pickle.dump(rules_split, open(\"pickle_dumps/user_rules.p\", \"wb\"))"
   ]
  }
 ],
 "metadata": {
  "kernelspec": {
   "display_name": "Python 3",
   "language": "python",
   "name": "python3"
  },
  "language_info": {
   "codemirror_mode": {
    "name": "ipython",
    "version": 3
   },
   "file_extension": ".py",
   "mimetype": "text/x-python",
   "name": "python",
   "nbconvert_exporter": "python",
   "pygments_lexer": "ipython3",
   "version": "3.8.10"
  }
 },
 "nbformat": 4,
 "nbformat_minor": 5
}
