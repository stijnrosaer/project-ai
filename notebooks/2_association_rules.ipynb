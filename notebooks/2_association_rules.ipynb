{
 "cells": [
  {
   "cell_type": "markdown",
   "id": "50569d85",
   "metadata": {},
   "source": [
    "## 0. Import packages"
   ]
  },
  {
   "cell_type": "code",
   "execution_count": 1,
   "id": "a0c03281",
   "metadata": {},
   "outputs": [],
   "source": [
    "import pandas as pd\n",
    "import gzip\n",
    "import math\n",
    "from tqdm import tqdm\n",
    "from itertools import chain, combinations\n",
    "from Association import Association\n",
    "from math import sqrt\n",
    "tqdm.pandas() #for progres_apply etc."
   ]
  },
  {
   "cell_type": "markdown",
   "id": "a82af1f6",
   "metadata": {},
   "source": [
    "## 1. Load data from previous step"
   ]
  },
  {
   "cell_type": "code",
   "execution_count": 2,
   "id": "b0a5784b",
   "metadata": {},
   "outputs": [],
   "source": [
    "seed_index = 0"
   ]
  },
  {
   "cell_type": "code",
   "execution_count": 3,
   "id": "7ecf0117",
   "metadata": {},
   "outputs": [],
   "source": [
    "import pickle\n",
    "train_df = pickle.load(open(f\"pickle_dumps/train_df_{seed_index}.p\", \"rb\"))\n",
    "tests_df = pickle.load(open(f\"pickle_dumps/test_df_{seed_index}.p\", \"rb\"))\n",
    "\n",
    "article_train_df = pickle.load(open(f\"pickle_dumps/article_train_df_{seed_index}.p\", \"rb\"))\n",
    "article_test_df = pickle.load(open(f\"pickle_dumps/article_test_df_{seed_index}.p\", \"rb\"))"
   ]
  },
  {
   "cell_type": "code",
   "execution_count": 4,
   "id": "0ac1c96f",
   "metadata": {
    "scrolled": false
   },
   "outputs": [
    {
     "data": {
      "text/html": [
       "<div>\n",
       "<style scoped>\n",
       "    .dataframe tbody tr th:only-of-type {\n",
       "        vertical-align: middle;\n",
       "    }\n",
       "\n",
       "    .dataframe tbody tr th {\n",
       "        vertical-align: top;\n",
       "    }\n",
       "\n",
       "    .dataframe thead th {\n",
       "        text-align: right;\n",
       "    }\n",
       "</style>\n",
       "<table border=\"1\" class=\"dataframe\">\n",
       "  <thead>\n",
       "    <tr style=\"text-align: right;\">\n",
       "      <th></th>\n",
       "      <th>item_id</th>\n",
       "      <th>user_id</th>\n",
       "    </tr>\n",
       "  </thead>\n",
       "  <tbody>\n",
       "    <tr>\n",
       "      <th>0</th>\n",
       "      <td>[300, 924, 2877, 1588, 192, 35, 3596, 1531, 24...</td>\n",
       "      <td>0</td>\n",
       "    </tr>\n",
       "    <tr>\n",
       "      <th>1</th>\n",
       "      <td>[5277, 1179, 1897, 141, 2825, 169, 1053, 1936,...</td>\n",
       "      <td>1</td>\n",
       "    </tr>\n",
       "    <tr>\n",
       "      <th>2</th>\n",
       "      <td>[1206, 55, 323, 440, 58, 3946, 698, 54, 3106, ...</td>\n",
       "      <td>2</td>\n",
       "    </tr>\n",
       "    <tr>\n",
       "      <th>3</th>\n",
       "      <td>[1198, 2839, 342, 2052, 332, 1132, 2512, 475, ...</td>\n",
       "      <td>3</td>\n",
       "    </tr>\n",
       "    <tr>\n",
       "      <th>4</th>\n",
       "      <td>[2083, 126, 106, 2249, 345, 4934, 669, 1957, 0...</td>\n",
       "      <td>4</td>\n",
       "    </tr>\n",
       "    <tr>\n",
       "      <th>...</th>\n",
       "      <td>...</td>\n",
       "      <td>...</td>\n",
       "    </tr>\n",
       "    <tr>\n",
       "      <th>62977</th>\n",
       "      <td>[0]</td>\n",
       "      <td>62977</td>\n",
       "    </tr>\n",
       "    <tr>\n",
       "      <th>62978</th>\n",
       "      <td>[3]</td>\n",
       "      <td>62978</td>\n",
       "    </tr>\n",
       "    <tr>\n",
       "      <th>62979</th>\n",
       "      <td>[198]</td>\n",
       "      <td>62979</td>\n",
       "    </tr>\n",
       "    <tr>\n",
       "      <th>62980</th>\n",
       "      <td>[14]</td>\n",
       "      <td>62980</td>\n",
       "    </tr>\n",
       "    <tr>\n",
       "      <th>62981</th>\n",
       "      <td>[51]</td>\n",
       "      <td>62981</td>\n",
       "    </tr>\n",
       "  </tbody>\n",
       "</table>\n",
       "<p>62982 rows × 2 columns</p>\n",
       "</div>"
      ],
      "text/plain": [
       "                                                 item_id  user_id\n",
       "0      [300, 924, 2877, 1588, 192, 35, 3596, 1531, 24...        0\n",
       "1      [5277, 1179, 1897, 141, 2825, 169, 1053, 1936,...        1\n",
       "2      [1206, 55, 323, 440, 58, 3946, 698, 54, 3106, ...        2\n",
       "3      [1198, 2839, 342, 2052, 332, 1132, 2512, 475, ...        3\n",
       "4      [2083, 126, 106, 2249, 345, 4934, 669, 1957, 0...        4\n",
       "...                                                  ...      ...\n",
       "62977                                                [0]    62977\n",
       "62978                                                [3]    62978\n",
       "62979                                              [198]    62979\n",
       "62980                                               [14]    62980\n",
       "62981                                               [51]    62981\n",
       "\n",
       "[62982 rows x 2 columns]"
      ]
     },
     "execution_count": 4,
     "metadata": {},
     "output_type": "execute_result"
    }
   ],
   "source": [
    "train_df"
   ]
  },
  {
   "cell_type": "markdown",
   "id": "d15592f3",
   "metadata": {},
   "source": [
    "If we plot a disrtibution of the length per user, we see that most data leans towards a length of 100 items"
   ]
  },
  {
   "cell_type": "code",
   "execution_count": 5,
   "id": "3b54a423",
   "metadata": {},
   "outputs": [
    {
     "name": "stdout",
     "output_type": "stream",
     "text": [
      "34.33992251754469\n"
     ]
    },
    {
     "data": {
      "text/plain": [
       "(array([2.4807e+04, 1.4433e+04, 8.5120e+03, 5.1410e+03, 3.3080e+03,\n",
       "        1.9260e+03, 1.1580e+03, 8.7100e+02, 6.1000e+02, 4.5800e+02,\n",
       "        3.4300e+02, 2.5100e+02, 2.2100e+02, 1.6900e+02, 1.0000e+02,\n",
       "        9.9000e+01, 7.7000e+01, 5.9000e+01, 5.6000e+01, 3.9000e+01,\n",
       "        4.7000e+01, 4.9000e+01, 1.9000e+01, 2.5000e+01, 1.6000e+01,\n",
       "        2.7000e+01, 1.7000e+01, 1.3000e+01, 7.0000e+00, 1.7000e+01,\n",
       "        1.2000e+01, 9.0000e+00, 1.3000e+01, 7.0000e+00, 1.0000e+01,\n",
       "        7.0000e+00, 3.0000e+00, 1.0000e+00, 7.0000e+00, 3.0000e+00,\n",
       "        4.0000e+00, 2.0000e+00, 5.0000e+00, 9.0000e+00, 3.0000e+00,\n",
       "        3.0000e+00, 3.0000e+00, 1.0000e+00, 2.0000e+00, 3.0000e+00]),\n",
       " array([  1.  ,  15.24,  29.48,  43.72,  57.96,  72.2 ,  86.44, 100.68,\n",
       "        114.92, 129.16, 143.4 , 157.64, 171.88, 186.12, 200.36, 214.6 ,\n",
       "        228.84, 243.08, 257.32, 271.56, 285.8 , 300.04, 314.28, 328.52,\n",
       "        342.76, 357.  , 371.24, 385.48, 399.72, 413.96, 428.2 , 442.44,\n",
       "        456.68, 470.92, 485.16, 499.4 , 513.64, 527.88, 542.12, 556.36,\n",
       "        570.6 , 584.84, 599.08, 613.32, 627.56, 641.8 , 656.04, 670.28,\n",
       "        684.52, 698.76, 713.  ]),\n",
       " <BarContainer object of 50 artists>)"
      ]
     },
     "execution_count": 5,
     "metadata": {},
     "output_type": "execute_result"
    },
    {
     "data": {
      "image/png": "[encoded data removed]",
      "text/plain": [
       "<Figure size 432x288 with 1 Axes>"
      ]
     },
     "metadata": {
      "needs_background": "light"
     },
     "output_type": "display_data"
    }
   ],
   "source": [
    "import matplotlib.pyplot as plt\n",
    "x = [len(i) for i in train_df[\"item_id\"]]\n",
    "print(sum(x)/len(x))\n",
    "plt.hist(x, bins=50)"
   ]
  },
  {
   "cell_type": "code",
   "execution_count": 6,
   "id": "f474e4fb",
   "metadata": {
    "scrolled": false
   },
   "outputs": [
    {
     "data": {
      "text/html": [
       "<div>\n",
       "<style scoped>\n",
       "    .dataframe tbody tr th:only-of-type {\n",
       "        vertical-align: middle;\n",
       "    }\n",
       "\n",
       "    .dataframe tbody tr th {\n",
       "        vertical-align: top;\n",
       "    }\n",
       "\n",
       "    .dataframe thead th {\n",
       "        text-align: right;\n",
       "    }\n",
       "</style>\n",
       "<table border=\"1\" class=\"dataframe\">\n",
       "  <thead>\n",
       "    <tr style=\"text-align: right;\">\n",
       "      <th></th>\n",
       "      <th>item_id</th>\n",
       "      <th>user_id</th>\n",
       "    </tr>\n",
       "  </thead>\n",
       "  <tbody>\n",
       "    <tr>\n",
       "      <th>0</th>\n",
       "      <td>300</td>\n",
       "      <td>[0, 7, 11, 17, 18, 23, 24, 32, 36, 49, 50, 65,...</td>\n",
       "    </tr>\n",
       "    <tr>\n",
       "      <th>1</th>\n",
       "      <td>924</td>\n",
       "      <td>[0, 3, 7, 16, 19, 20, 23, 24, 29, 42, 49, 69, ...</td>\n",
       "    </tr>\n",
       "    <tr>\n",
       "      <th>2</th>\n",
       "      <td>2877</td>\n",
       "      <td>[0, 4, 9, 27, 36, 49, 93, 95, 104, 133, 143, 1...</td>\n",
       "    </tr>\n",
       "    <tr>\n",
       "      <th>3</th>\n",
       "      <td>1588</td>\n",
       "      <td>[0, 10, 12, 13, 16, 20, 23, 32, 34, 39, 47, 49...</td>\n",
       "    </tr>\n",
       "    <tr>\n",
       "      <th>4</th>\n",
       "      <td>192</td>\n",
       "      <td>[0, 3, 10, 11, 12, 16, 17, 19, 20, 21, 24, 28,...</td>\n",
       "    </tr>\n",
       "    <tr>\n",
       "      <th>...</th>\n",
       "      <td>...</td>\n",
       "      <td>...</td>\n",
       "    </tr>\n",
       "    <tr>\n",
       "      <th>7090</th>\n",
       "      <td>7163</td>\n",
       "      <td>[45058]</td>\n",
       "    </tr>\n",
       "    <tr>\n",
       "      <th>7091</th>\n",
       "      <td>7162</td>\n",
       "      <td>[50504]</td>\n",
       "    </tr>\n",
       "    <tr>\n",
       "      <th>7092</th>\n",
       "      <td>6679</td>\n",
       "      <td>[51768]</td>\n",
       "    </tr>\n",
       "    <tr>\n",
       "      <th>7093</th>\n",
       "      <td>6962</td>\n",
       "      <td>[52641]</td>\n",
       "    </tr>\n",
       "    <tr>\n",
       "      <th>7094</th>\n",
       "      <td>6932</td>\n",
       "      <td>[54532]</td>\n",
       "    </tr>\n",
       "  </tbody>\n",
       "</table>\n",
       "<p>7095 rows × 2 columns</p>\n",
       "</div>"
      ],
      "text/plain": [
       "      item_id                                            user_id\n",
       "0         300  [0, 7, 11, 17, 18, 23, 24, 32, 36, 49, 50, 65,...\n",
       "1         924  [0, 3, 7, 16, 19, 20, 23, 24, 29, 42, 49, 69, ...\n",
       "2        2877  [0, 4, 9, 27, 36, 49, 93, 95, 104, 133, 143, 1...\n",
       "3        1588  [0, 10, 12, 13, 16, 20, 23, 32, 34, 39, 47, 49...\n",
       "4         192  [0, 3, 10, 11, 12, 16, 17, 19, 20, 21, 24, 28,...\n",
       "...       ...                                                ...\n",
       "7090     7163                                            [45058]\n",
       "7091     7162                                            [50504]\n",
       "7092     6679                                            [51768]\n",
       "7093     6962                                            [52641]\n",
       "7094     6932                                            [54532]\n",
       "\n",
       "[7095 rows x 2 columns]"
      ]
     },
     "execution_count": 6,
     "metadata": {},
     "output_type": "execute_result"
    }
   ],
   "source": [
    "article_train_df"
   ]
  },
  {
   "cell_type": "markdown",
   "id": "e7da8389",
   "metadata": {},
   "source": [
    "The transposed dataframe that is used for building user association rules has only a few items most of the time. this is not that important because of the way user associations are build."
   ]
  },
  {
   "cell_type": "code",
   "execution_count": 7,
   "id": "09a2c1fc",
   "metadata": {},
   "outputs": [
    {
     "name": "stdout",
     "output_type": "stream",
     "text": [
      "304.8339675828048\n"
     ]
    },
    {
     "data": {
      "text/plain": [
       "(array([6.389e+03, 3.150e+02, 1.280e+02, 7.100e+01, 4.400e+01, 2.300e+01,\n",
       "        1.500e+01, 1.900e+01, 1.100e+01, 1.300e+01, 1.200e+01, 1.100e+01,\n",
       "        5.000e+00, 5.000e+00, 1.000e+00, 4.000e+00, 2.000e+00, 2.000e+00,\n",
       "        6.000e+00, 2.000e+00, 1.000e+00, 2.000e+00, 2.000e+00, 0.000e+00,\n",
       "        2.000e+00, 1.000e+00, 0.000e+00, 2.000e+00, 1.000e+00, 1.000e+00,\n",
       "        0.000e+00, 0.000e+00, 0.000e+00, 1.000e+00, 0.000e+00, 0.000e+00,\n",
       "        0.000e+00, 0.000e+00, 0.000e+00, 0.000e+00, 0.000e+00, 0.000e+00,\n",
       "        1.000e+00, 1.000e+00, 0.000e+00, 0.000e+00, 0.000e+00, 0.000e+00,\n",
       "        1.000e+00, 1.000e+00]),\n",
       " array([1.000000e+00, 5.818200e+02, 1.162640e+03, 1.743460e+03,\n",
       "        2.324280e+03, 2.905100e+03, 3.485920e+03, 4.066740e+03,\n",
       "        4.647560e+03, 5.228380e+03, 5.809200e+03, 6.390020e+03,\n",
       "        6.970840e+03, 7.551660e+03, 8.132480e+03, 8.713300e+03,\n",
       "        9.294120e+03, 9.874940e+03, 1.045576e+04, 1.103658e+04,\n",
       "        1.161740e+04, 1.219822e+04, 1.277904e+04, 1.335986e+04,\n",
       "        1.394068e+04, 1.452150e+04, 1.510232e+04, 1.568314e+04,\n",
       "        1.626396e+04, 1.684478e+04, 1.742560e+04, 1.800642e+04,\n",
       "        1.858724e+04, 1.916806e+04, 1.974888e+04, 2.032970e+04,\n",
       "        2.091052e+04, 2.149134e+04, 2.207216e+04, 2.265298e+04,\n",
       "        2.323380e+04, 2.381462e+04, 2.439544e+04, 2.497626e+04,\n",
       "        2.555708e+04, 2.613790e+04, 2.671872e+04, 2.729954e+04,\n",
       "        2.788036e+04, 2.846118e+04, 2.904200e+04]),\n",
       " <BarContainer object of 50 artists>)"
      ]
     },
     "execution_count": 7,
     "metadata": {},
     "output_type": "execute_result"
    },
    {
     "data": {
      "image/png": "[encoded data removed]",
      "text/plain": [
       "<Figure size 432x288 with 1 Axes>"
      ]
     },
     "metadata": {
      "needs_background": "light"
     },
     "output_type": "display_data"
    }
   ],
   "source": [
    "x = [len(i) for i in article_train_df[\"user_id\"]]\n",
    "print(sum(x)/len(x))\n",
    "plt.hist(x, bins=50)"
   ]
  },
  {
   "cell_type": "code",
   "execution_count": 8,
   "id": "9dbcccab",
   "metadata": {
    "scrolled": true
   },
   "outputs": [
    {
     "data": {
      "text/html": [
       "<div>\n",
       "<style scoped>\n",
       "    .dataframe tbody tr th:only-of-type {\n",
       "        vertical-align: middle;\n",
       "    }\n",
       "\n",
       "    .dataframe tbody tr th {\n",
       "        vertical-align: top;\n",
       "    }\n",
       "\n",
       "    .dataframe thead th {\n",
       "        text-align: right;\n",
       "    }\n",
       "</style>\n",
       "<table border=\"1\" class=\"dataframe\">\n",
       "  <thead>\n",
       "    <tr style=\"text-align: right;\">\n",
       "      <th></th>\n",
       "      <th>item_id</th>\n",
       "      <th>user_id</th>\n",
       "    </tr>\n",
       "  </thead>\n",
       "  <tbody>\n",
       "    <tr>\n",
       "      <th>0</th>\n",
       "      <td>[682, 561, 4927, 817, 217, 266, 53, 3062, 185,...</td>\n",
       "      <td>0</td>\n",
       "    </tr>\n",
       "    <tr>\n",
       "      <th>1</th>\n",
       "      <td>[213, 1900, 4025, 1456, 3141, 1438, 1757, 459,...</td>\n",
       "      <td>1</td>\n",
       "    </tr>\n",
       "    <tr>\n",
       "      <th>2</th>\n",
       "      <td>[2460, 1989, 1301, 1857, 2507, 104, 56, 215, 1...</td>\n",
       "      <td>2</td>\n",
       "    </tr>\n",
       "    <tr>\n",
       "      <th>3</th>\n",
       "      <td>[681, 1804, 643, 729, 805, 915, 1029, 716, 193...</td>\n",
       "      <td>3</td>\n",
       "    </tr>\n",
       "    <tr>\n",
       "      <th>4</th>\n",
       "      <td>[3, 1407, 1938, 540, 1006, 2205, 2291, 1746, 3...</td>\n",
       "      <td>4</td>\n",
       "    </tr>\n",
       "    <tr>\n",
       "      <th>...</th>\n",
       "      <td>...</td>\n",
       "      <td>...</td>\n",
       "    </tr>\n",
       "    <tr>\n",
       "      <th>62977</th>\n",
       "      <td>[2]</td>\n",
       "      <td>62977</td>\n",
       "    </tr>\n",
       "    <tr>\n",
       "      <th>62978</th>\n",
       "      <td>[2]</td>\n",
       "      <td>62978</td>\n",
       "    </tr>\n",
       "    <tr>\n",
       "      <th>62979</th>\n",
       "      <td>[5]</td>\n",
       "      <td>62979</td>\n",
       "    </tr>\n",
       "    <tr>\n",
       "      <th>62980</th>\n",
       "      <td>[137]</td>\n",
       "      <td>62980</td>\n",
       "    </tr>\n",
       "    <tr>\n",
       "      <th>62981</th>\n",
       "      <td>[13]</td>\n",
       "      <td>62981</td>\n",
       "    </tr>\n",
       "  </tbody>\n",
       "</table>\n",
       "<p>62982 rows × 2 columns</p>\n",
       "</div>"
      ],
      "text/plain": [
       "                                                 item_id  user_id\n",
       "0      [682, 561, 4927, 817, 217, 266, 53, 3062, 185,...        0\n",
       "1      [213, 1900, 4025, 1456, 3141, 1438, 1757, 459,...        1\n",
       "2      [2460, 1989, 1301, 1857, 2507, 104, 56, 215, 1...        2\n",
       "3      [681, 1804, 643, 729, 805, 915, 1029, 716, 193...        3\n",
       "4      [3, 1407, 1938, 540, 1006, 2205, 2291, 1746, 3...        4\n",
       "...                                                  ...      ...\n",
       "62977                                                [2]    62977\n",
       "62978                                                [2]    62978\n",
       "62979                                                [5]    62979\n",
       "62980                                              [137]    62980\n",
       "62981                                               [13]    62981\n",
       "\n",
       "[62982 rows x 2 columns]"
      ]
     },
     "execution_count": 8,
     "metadata": {},
     "output_type": "execute_result"
    }
   ],
   "source": [
    "tests_df"
   ]
  },
  {
   "cell_type": "code",
   "execution_count": 9,
   "id": "93eb687a",
   "metadata": {},
   "outputs": [],
   "source": [
    "data = train_df.set_index(\"user_id\").to_dict()[\"item_id\"]\n",
    "article_data = article_train_df.set_index(\"item_id\").to_dict()[\"user_id\"]\n",
    "\n",
    "test_users = tests_df[\"user_id\"].tolist()"
   ]
  },
  {
   "cell_type": "markdown",
   "id": "a1bcede0",
   "metadata": {},
   "source": [
    "## 2. Functions or building association rules"
   ]
  },
  {
   "cell_type": "code",
   "execution_count": 10,
   "id": "829c4a50",
   "metadata": {},
   "outputs": [],
   "source": [
    "# def eclat(prefix, minsup, items, start=True):\n",
    "#     \"\"\"\n",
    "#     Basic eclat implementation for finding frequent itemsets\n",
    "#     \"\"\"\n",
    "#     frequents = []\n",
    "#     while items:\n",
    "#         i,itids = items.pop()\n",
    "#         isupp = len(itids)\n",
    "#         if isupp >= minsup:\n",
    "#             frequents.append((frozenset(prefix + [i]), isupp))\n",
    "#             suffix = [] \n",
    "#             for j, ojtids in items:\n",
    "#                 jtids = set(itids) & set(ojtids)\n",
    "#                 if len(jtids) >= minsup:\n",
    "#                     suffix.append((j,jtids))\n",
    "#             frequents.extend(eclat(prefix+[i], minsup, sorted(suffix, key=lambda item: len(item[1]), reverse=True), False))\n",
    "#     return frequents"
   ]
  },
  {
   "cell_type": "code",
   "execution_count": 11,
   "id": "10be6989",
   "metadata": {},
   "outputs": [],
   "source": [
    "# def subsets(itemset, include_empty_set=False):\n",
    "#     \"\"\" List all strict subsets of an itemset without the empty set or with the empty set if include_empty_set=True\n",
    "#         subsets({1,2,3}) --> [{1}, {2}, {3}, {1, 2}, {1, 3}, {2, 3}]\n",
    "#     \"\"\"\n",
    "#     s = list(itemset)\n",
    "#     if include_empty_set:\n",
    "#         return map(set, chain.from_iterable(combinations(s, r) for r in range(0, len(s) + 1)))\n",
    "#     return map(set, chain.from_iterable(combinations(s, r) for r in range(1, len(s))))"
   ]
  },
  {
   "cell_type": "code",
   "execution_count": 12,
   "id": "0c0b13ae",
   "metadata": {},
   "outputs": [],
   "source": [
    "# def deriveRules(itemsets, minconf, test_users):\n",
    "#     \"\"\" Returns all rules with conf >= minconf that can be derived from the itemsets.\n",
    "#         Return: list of association rules in the format: [(antecedent, consequent, supp, conf), ...]\n",
    "#     \"\"\"\n",
    "#     search_items = dict(itemsets)\n",
    "#     rules = []\n",
    "#     for item_set, supp in tqdm(itemsets):\n",
    "#         if len(item_set) > 1: # itemsets with one frequent item are unable to generate a rule\n",
    "#             for subset in subsets(item_set):  # for each subset generate a rule\n",
    "#                 antecedent = frozenset(subset)\n",
    "#                 consequent = item_set - subset\n",
    "#                 if len(consequent)== 1: # only keep rules with one item in the consequent\n",
    "#                     conf = supp / search_items[antecedent]\n",
    "#                     if conf >= minconf: # assure confidence of the rule is high enough\n",
    "#                         # if test_users are passed, only generate rules with one of the test users in the consequent\n",
    "#                         if test_users:\n",
    "#                             if list(consequent)[0] in test_users:\n",
    "#                                 rules.append(Association(antecedent, consequent, conf, supp))\n",
    "#                         else:\n",
    "#                             rules.append(Association(antecedent, consequent, conf, supp))\n",
    "                        \n",
    "\n",
    "#     return rules"
   ]
  },
  {
   "cell_type": "code",
   "execution_count": 13,
   "id": "9216ca96",
   "metadata": {
    "scrolled": true
   },
   "outputs": [],
   "source": [
    "def convertTo(df):\n",
    "    with open(\"eclat_in.txt\", \"w\") as f:\n",
    "        tmp = df.items()\n",
    "        for item in tmp:\n",
    "            s = ' '.join([str(elem) for elem in item[1]])\n",
    "            f.write(s + \"\\n\")\n",
    "            \n",
    "\n",
    "def convertFrom():\n",
    "    res = []\n",
    "    with open(\"eclat_out.txt\", \"r\") as f:\n",
    "        for line in f:\n",
    "            line = line.strip()\n",
    "            tmp = line.split(\" <- \")\n",
    "            consequent = [tmp[0]]\n",
    "            tmp = tmp[1].split(\" (\")\n",
    "            antecedent = tmp[0].split(\" \")\n",
    "            tmp = tmp[1].strip(')').split(\", \")\n",
    "            sup = tmp[0]\n",
    "            conf = tmp[1]\n",
    "            antecedent = list(map(int, antecedent))\n",
    "            consequent = list(map(int, consequent))\n",
    "            res.append(Association(antecedent, consequent, float(conf), float(sup)))\n",
    "    \n",
    "    return res\n",
    "\n",
    "# convertFrom()"
   ]
  },
  {
   "cell_type": "code",
   "execution_count": 14,
   "id": "43465aa5",
   "metadata": {},
   "outputs": [],
   "source": [
    "def genRules(min_conf, minsup, df):\n",
    "    print(\"---writing data---\")\n",
    "    convertTo(df)\n",
    "    print(\"---building rules---\")\n",
    "    !eclat.exe -tr -Z -s-$minsup eclat_in.txt eclat_out.txt\n",
    "    print(\"---reading data---\")\n",
    "    rules = convertFrom()\n",
    "\n",
    "#     print(\"---Mining frequent itemsets---\")\n",
    "#     !eclat.exe -Z -s-200 eclat_in.txt eclat_out.txt\n",
    "#     frequents = convertFrom()\n",
    "#     print(\"---Generating rules---\")\n",
    "#     rules = deriveRules(frequents, min_conf, test_users)\n",
    "    return rules \n",
    "\n",
    "#     print(\"---Mining frequent itemsets---\")\n",
    "\n",
    "#     frequent_itemsets = eclat([], minsup, sorted(data.items(), key=lambda item: len(item[1]), reverse=True))\n",
    "#     print(f\"{len(frequent_itemsets)} frequent itemsets\")\n",
    "#     c = 0\n",
    "#     for f in frequent_itemsets:\n",
    "#         if len(f[0]) == 1:\n",
    "#             c += 1\n",
    "#     print(f\"{c} frequent itemsets of length 1\")\n",
    "#     print(\"---Generating rules---\")\n",
    "#     return deriveRules(frequent_itemsets, min_conf, test_users)"
   ]
  },
  {
   "cell_type": "markdown",
   "id": "51817a51",
   "metadata": {},
   "source": [
    "## 3. Build association rules"
   ]
  },
  {
   "cell_type": "markdown",
   "id": "952c8977",
   "metadata": {},
   "source": [
    "### Article association rules\n",
    "Build rules of the form:\n",
    "`Item1 and Item2 -> Item3`"
   ]
  },
  {
   "cell_type": "code",
   "execution_count": 15,
   "id": "1b5c7ed3",
   "metadata": {
    "scrolled": false
   },
   "outputs": [
    {
     "name": "stdout",
     "output_type": "stream",
     "text": [
      "62982\n",
      "---writing data---\n",
      "---building rules---\n",
      "all: 584066\n",
      "  0: 0\n",
      "  1: 0\n",
      "  2: 8\n",
      "  3: 1877\n",
      "  4: 37394\n",
      "  5: 168964\n",
      "  6: 233937\n",
      "  7: 118316\n",
      "  8: 21988\n",
      "  9: 1566\n",
      " 10: 16\n",
      "---reading data---\n"
     ]
    },
    {
     "name": "stderr",
     "output_type": "stream",
     "text": [
      "eclat.exe - find frequent item sets with the eclat algorithm\n",
      "version 5.22 (2020.06.15)        (c) 2002-2020   Christian Borgelt\n",
      "reading eclat_in.txt ... [7095 item(s), 62982 transaction(s)] done [0.11s].\n",
      "filtering, sorting and recoding items ... [2296 item(s)] done [0.00s].\n",
      "sorting and reducing transactions ... [60757/62982 transaction(s)] done [0.05s].\n",
      "finding frequent item sets ... done [255.68s].\n",
      "writing eclat_out.txt ... [584066 rule(s)] done [11.01s].\n"
     ]
    },
    {
     "name": "stdout",
     "output_type": "stream",
     "text": [
      "Wall time: 4min 31s\n"
     ]
    }
   ],
   "source": [
    "%%time\n",
    "\n",
    "print(len(data))\n",
    "\n",
    "# Build the article association rules with a minimum support of 50 and minimum confidence of 0.85\n",
    "article_assos_rules = genRules(0.0, 100, data)"
   ]
  },
  {
   "cell_type": "code",
   "execution_count": 16,
   "id": "ac637b7a",
   "metadata": {},
   "outputs": [
    {
     "data": {
      "text/plain": [
       "584066"
      ]
     },
     "execution_count": 16,
     "metadata": {},
     "output_type": "execute_result"
    }
   ],
   "source": [
    "len(article_assos_rules)"
   ]
  },
  {
   "cell_type": "code",
   "execution_count": 17,
   "id": "3bb0d5d0",
   "metadata": {},
   "outputs": [
    {
     "name": "stdout",
     "output_type": "stream",
     "text": [
      "Wall time: 69 ms\n"
     ]
    },
    {
     "data": {
      "text/plain": [
       "79686"
      ]
     },
     "execution_count": 17,
     "metadata": {},
     "output_type": "execute_result"
    }
   ],
   "source": [
    "%%time\n",
    "\n",
    "# print number of rules with item 3 in the lhs\n",
    "counter = 0\n",
    "for r in article_assos_rules:\n",
    "    if 3 in r.left:\n",
    "        counter += 1\n",
    "counter"
   ]
  },
  {
   "cell_type": "code",
   "execution_count": 18,
   "id": "c559c795",
   "metadata": {
    "scrolled": true
   },
   "outputs": [
    {
     "name": "stdout",
     "output_type": "stream",
     "text": [
      "Conf: 83.71\tSupp: 743.00\t {95, 75, 0} => {38}\n",
      "Conf: 82.18\tSupp: 752.00\t {95, 75, 1} => {38}\n",
      "Conf: 80.52\tSupp: 503.00\t {95, 75, 2} => {38}\n",
      "Conf: 81.38\tSupp: 827.00\t {95, 75, 3} => {38}\n",
      "Conf: 82.23\tSupp: 591.00\t {95, 75, 4} => {38}\n",
      "Conf: 83.20\tSupp: 637.00\t {95, 75, 6} => {38}\n",
      "Conf: 83.11\tSupp: 604.00\t {95, 75, 7} => {38}\n",
      "Conf: 83.07\tSupp: 561.00\t {95, 75, 8} => {38}\n",
      "Conf: 82.31\tSupp: 554.00\t {95, 75, 10} => {38}\n",
      "Conf: 81.49\tSupp: 616.00\t {95, 75, 12} => {38}\n",
      "Conf: 81.11\tSupp: 561.00\t {95, 75, 14} => {38}\n",
      "Conf: 81.66\tSupp: 567.00\t {95, 75, 15} => {38}\n",
      "Conf: 80.86\tSupp: 606.00\t {95, 75, 18} => {38}\n",
      "Conf: 81.80\tSupp: 544.00\t {95, 75, 22} => {38}\n",
      "Conf: 80.94\tSupp: 619.00\t {95, 75, 26} => {38}\n",
      "Conf: 81.99\tSupp: 1294.00\t {95, 75} => {38}\n",
      "Conf: 81.00\tSupp: 521.00\t {165, 95} => {38}\n",
      "Conf: 80.88\tSupp: 523.00\t {178, 95} => {38}\n",
      "Conf: 86.22\tSupp: 1277.00\t {126, 0} => {38}\n",
      "Conf: 86.36\tSupp: 755.00\t {126, 1, 0} => {38}\n",
      "Conf: 84.13\tSupp: 1248.00\t {126, 1} => {38}\n",
      "Conf: 86.23\tSupp: 530.00\t {126, 2, 0} => {38}\n",
      "Conf: 82.73\tSupp: 521.00\t {126, 2, 1} => {38}\n",
      "Conf: 82.59\tSupp: 873.00\t {126, 2} => {38}\n",
      "Conf: 86.20\tSupp: 761.00\t {126, 3, 0} => {38}\n",
      "Conf: 84.62\tSupp: 767.00\t {126, 3, 1} => {38}\n",
      "Conf: 84.00\tSupp: 525.00\t {126, 3, 2} => {38}\n",
      "Conf: 83.85\tSupp: 1325.00\t {126, 3} => {38}\n",
      "Conf: 85.43\tSupp: 611.00\t {126, 4, 0} => {38}\n",
      "Conf: 81.60\tSupp: 614.00\t {126, 4, 1} => {38}\n",
      "Conf: 81.62\tSupp: 631.00\t {126, 4, 3} => {38}\n",
      "Conf: 82.18\tSupp: 1010.00\t {126, 4} => {38}\n",
      "Conf: 83.28\tSupp: 586.00\t {126, 5} => {38}\n",
      "Conf: 86.63\tSupp: 643.00\t {126, 6, 0} => {38}\n",
      "Conf: 83.81\tSupp: 661.00\t {126, 6, 1} => {38}\n",
      "Conf: 83.99\tSupp: 706.00\t {126, 6, 3} => {38}\n",
      "Conf: 82.58\tSupp: 551.00\t {126, 6, 4} => {38}\n",
      "Conf: 83.96\tSupp: 1097.00\t {126, 6} => {38}\n",
      "Conf: 85.81\tSupp: 627.00\t {126, 7, 0} => {38}\n",
      "Conf: 81.98\tSupp: 605.00\t {126, 7, 1} => {38}\n",
      "Conf: 83.49\tSupp: 630.00\t {126, 7, 3} => {38}\n",
      "Conf: 83.88\tSupp: 552.00\t {126, 7, 6} => {38}\n",
      "Conf: 83.30\tSupp: 1006.00\t {126, 7} => {38}\n",
      "Conf: 86.79\tSupp: 560.00\t {126, 8, 0} => {38}\n",
      "Conf: 86.27\tSupp: 539.00\t {126, 8, 1} => {38}\n",
      "Conf: 87.32\tSupp: 544.00\t {126, 8, 3} => {38}\n",
      "Conf: 85.87\tSupp: 892.00\t {126, 8} => {38}\n",
      "Conf: 85.61\tSupp: 563.00\t {126, 10, 0} => {38}\n",
      "Conf: 84.63\tSupp: 540.00\t {126, 10, 1} => {38}\n",
      "Conf: 83.36\tSupp: 595.00\t {126, 10, 3} => {38}\n",
      "Conf: 85.99\tSupp: 514.00\t {126, 10, 6} => {38}\n",
      "Conf: 83.64\tSupp: 923.00\t {126, 10} => {38}\n",
      "Conf: 83.37\tSupp: 511.00\t {126, 11} => {38}\n",
      "Conf: 86.39\tSupp: 632.00\t {126, 12, 0} => {38}\n",
      "Conf: 82.15\tSupp: 605.00\t {126, 12, 1} => {38}\n",
      "Conf: 83.49\tSupp: 642.00\t {126, 12, 3} => {38}\n",
      "Conf: 82.54\tSupp: 504.00\t {126, 12, 4} => {38}\n",
      "Conf: 83.08\tSupp: 585.00\t {126, 12, 6} => {38}\n",
      "Conf: 82.97\tSupp: 546.00\t {126, 12, 7} => {38}\n",
      "Conf: 82.80\tSupp: 1029.00\t {126, 12} => {38}\n",
      "Conf: 89.54\tSupp: 564.00\t {126, 14, 0} => {38}\n",
      "Conf: 84.44\tSupp: 559.00\t {126, 14, 1} => {38}\n",
      "Conf: 83.44\tSupp: 598.00\t {126, 14, 3} => {38}\n",
      "Conf: 84.18\tSupp: 607.00\t {126, 14, 6} => {38}\n",
      "Conf: 82.55\tSupp: 550.00\t {126, 14, 12} => {38}\n",
      "Conf: 84.43\tSupp: 970.00\t {126, 14} => {38}\n",
      "Conf: 86.86\tSupp: 586.00\t {126, 15, 0} => {38}\n",
      "Conf: 82.30\tSupp: 565.00\t {126, 15, 1} => {38}\n",
      "Conf: 83.46\tSupp: 641.00\t {126, 15, 3} => {38}\n",
      "Conf: 83.16\tSupp: 582.00\t {126, 15, 6} => {38}\n",
      "Conf: 83.11\tSupp: 515.00\t {126, 15, 7} => {38}\n",
      "Conf: 82.12\tSupp: 660.00\t {126, 15, 12} => {38}\n",
      "Conf: 83.05\tSupp: 531.00\t {126, 15, 14} => {38}\n",
      "Conf: 82.67\tSupp: 975.00\t {126, 15} => {38}\n",
      "Conf: 83.33\tSupp: 576.00\t {126, 19} => {38}\n",
      "Conf: 85.15\tSupp: 579.00\t {126, 18, 0} => {38}\n",
      "Conf: 81.85\tSupp: 562.00\t {126, 18, 1} => {38}\n",
      "Conf: 82.51\tSupp: 589.00\t {126, 18, 3} => {38}\n",
      "Conf: 83.18\tSupp: 547.00\t {126, 18, 6} => {38}\n",
      "Conf: 82.79\tSupp: 947.00\t {126, 18} => {38}\n",
      "Conf: 85.92\tSupp: 703.00\t {126, 21} => {38}\n",
      "Conf: 83.50\tSupp: 703.00\t {126, 23} => {38}\n",
      "Conf: 83.79\tSupp: 580.00\t {126, 24} => {38}\n",
      "Conf: 87.41\tSupp: 556.00\t {126, 22, 0} => {38}\n",
      "Conf: 82.23\tSupp: 529.00\t {126, 22, 1} => {38}\n",
      "Conf: 83.66\tSupp: 569.00\t {126, 22, 3} => {38}\n",
      "Conf: 83.81\tSupp: 519.00\t {126, 22, 6} => {38}\n",
      "Conf: 82.58\tSupp: 620.00\t {126, 22, 12} => {38}\n",
      "Conf: 83.59\tSupp: 518.00\t {126, 22, 14} => {38}\n",
      "Conf: 83.54\tSupp: 565.00\t {126, 22, 15} => {38}\n",
      "Conf: 83.74\tSupp: 892.00\t {126, 22} => {38}\n",
      "Conf: 83.90\tSupp: 671.00\t {126, 25} => {38}\n",
      "Conf: 85.41\tSupp: 555.00\t {126, 26, 0} => {38}\n",
      "Conf: 84.22\tSupp: 545.00\t {126, 26, 1} => {38}\n",
      "Conf: 84.52\tSupp: 620.00\t {126, 26, 3} => {38}\n",
      "Conf: 83.67\tSupp: 937.00\t {126, 26} => {38}\n",
      "Conf: 84.36\tSupp: 729.00\t {126, 27} => {38}\n",
      "Conf: 84.49\tSupp: 548.00\t {126, 29, 3} => {38}\n",
      "Conf: 84.36\tSupp: 505.00\t {126, 29, 6} => {38}\n",
      "Conf: 83.56\tSupp: 578.00\t {126, 29, 12} => {38}\n",
      "Conf: 84.79\tSupp: 559.00\t {126, 29, 15} => {38}\n",
      "Conf: 84.32\tSupp: 574.00\t {126, 29, 22} => {38}\n",
      "Conf: 84.30\tSupp: 841.00\t {126, 29} => {38}\n",
      "Conf: 87.91\tSupp: 513.00\t {126, 30, 0} => {38}\n",
      "Conf: 82.11\tSupp: 503.00\t {126, 30, 1} => {38}\n",
      "Conf: 84.36\tSupp: 537.00\t {126, 30, 3} => {38}\n",
      "Conf: 84.31\tSupp: 529.00\t {126, 30, 6} => {38}\n",
      "Conf: 82.96\tSupp: 581.00\t {126, 30, 12} => {38}\n",
      "Conf: 82.46\tSupp: 513.00\t {126, 30, 14} => {38}\n",
      "Conf: 83.63\tSupp: 562.00\t {126, 30, 15} => {38}\n",
      "Conf: 82.84\tSupp: 571.00\t {126, 30, 22} => {38}\n",
      "Conf: 83.19\tSupp: 601.00\t {126, 30, 29} => {38}\n",
      "Conf: 83.66\tSupp: 857.00\t {126, 30} => {38}\n",
      "Conf: 84.81\tSupp: 790.00\t {126, 31} => {38}\n",
      "Conf: 85.45\tSupp: 536.00\t {126, 32, 3} => {38}\n",
      "Conf: 85.17\tSupp: 553.00\t {126, 32, 12} => {38}\n",
      "Conf: 85.10\tSupp: 537.00\t {126, 32, 15} => {38}\n",
      "Conf: 84.69\tSupp: 542.00\t {126, 32, 22} => {38}\n",
      "Conf: 85.94\tSupp: 569.00\t {126, 32, 29} => {38}\n",
      "Conf: 84.28\tSupp: 579.00\t {126, 32, 30} => {38}\n",
      "Conf: 85.57\tSupp: 818.00\t {126, 32} => {38}\n",
      "Conf: 83.61\tSupp: 610.00\t {126, 33} => {38}\n",
      "Conf: 84.87\tSupp: 747.00\t {126, 35} => {38}\n",
      "Conf: 84.31\tSupp: 548.00\t {126, 37} => {38}\n",
      "Conf: 85.90\tSupp: 631.00\t {126, 36} => {38}\n",
      "Conf: 83.21\tSupp: 524.00\t {126, 47} => {38}\n",
      "Conf: 86.80\tSupp: 629.00\t {126, 46} => {38}\n",
      "Conf: 85.67\tSupp: 670.00\t {126, 50} => {38}\n",
      "Conf: 83.66\tSupp: 563.00\t {126, 48} => {38}\n",
      "Conf: 87.80\tSupp: 697.00\t {126, 54} => {38}\n",
      "Conf: 86.52\tSupp: 601.00\t {126, 52} => {38}\n",
      "Conf: 86.29\tSupp: 620.00\t {126, 58} => {38}\n",
      "Conf: 85.47\tSupp: 530.00\t {126, 63} => {38}\n",
      "Conf: 84.91\tSupp: 583.00\t {126, 65} => {38}\n",
      "Conf: 87.65\tSupp: 583.00\t {126, 61} => {38}\n",
      "Conf: 85.43\tSupp: 597.00\t {126, 67} => {38}\n",
      "Conf: 83.81\tSupp: 593.00\t {126, 68} => {38}\n",
      "Conf: 85.03\tSupp: 581.00\t {126, 73} => {38}\n",
      "Conf: 89.11\tSupp: 643.00\t {126, 75, 0} => {38}\n",
      "Conf: 88.38\tSupp: 628.00\t {126, 75, 1} => {38}\n",
      "Conf: 88.47\tSupp: 711.00\t {126, 75, 3} => {38}\n",
      "Conf: 86.27\tSupp: 517.00\t {126, 75, 4} => {38}\n",
      "Conf: 88.21\tSupp: 560.00\t {126, 75, 6} => {38}\n",
      "Conf: 88.59\tSupp: 517.00\t {126, 75, 7} => {38}\n",
      "Conf: 86.36\tSupp: 528.00\t {126, 75, 12} => {38}\n",
      "Conf: 86.03\tSupp: 501.00\t {126, 75, 14} => {38}\n",
      "Conf: 86.25\tSupp: 509.00\t {126, 75, 18} => {38}\n",
      "Conf: 86.73\tSupp: 520.00\t {126, 75, 26} => {38}\n",
      "Conf: 87.47\tSupp: 1109.00\t {126, 75} => {38}\n",
      "Conf: 83.23\tSupp: 650.00\t {126, 78} => {38}\n",
      "Conf: 86.13\tSupp: 649.00\t {126, 83} => {38}\n",
      "Conf: 83.59\tSupp: 2231.00\t {126} => {38}\n",
      "Conf: 86.33\tSupp: 534.00\t {126, 85} => {38}\n",
      "Conf: 85.66\tSupp: 537.00\t {126, 87} => {38}\n",
      "Conf: 84.62\tSupp: 533.00\t {126, 104} => {38}\n",
      "Conf: 86.01\tSupp: 529.00\t {126, 106} => {38}\n",
      "Conf: 83.67\tSupp: 545.00\t {126, 108} => {38}\n",
      "Conf: 84.89\tSupp: 503.00\t {126, 136} => {38}\n",
      "Conf: 84.42\tSupp: 1277.00\t {126, 0} => {95}\n",
      "Conf: 84.64\tSupp: 755.00\t {126, 1, 0} => {95}\n",
      "Conf: 85.10\tSupp: 1248.00\t {126, 1} => {95}\n",
      "Conf: 83.40\tSupp: 530.00\t {126, 2, 0} => {95}\n",
      "Conf: 84.07\tSupp: 521.00\t {126, 2, 1} => {95}\n",
      "Conf: 83.96\tSupp: 873.00\t {126, 2} => {95}\n",
      "Conf: 83.57\tSupp: 761.00\t {126, 3, 0} => {95}\n",
      "Conf: 85.53\tSupp: 767.00\t {126, 3, 1} => {95}\n",
      "Conf: 84.38\tSupp: 525.00\t {126, 3, 2} => {95}\n",
      "Conf: 85.36\tSupp: 1325.00\t {126, 3} => {95}\n",
      "Conf: 83.31\tSupp: 611.00\t {126, 4, 0} => {95}\n",
      "Conf: 83.71\tSupp: 614.00\t {126, 4, 1} => {95}\n",
      "Conf: 83.36\tSupp: 631.00\t {126, 4, 3} => {95}\n",
      "Conf: 83.66\tSupp: 1010.00\t {126, 4} => {95}\n",
      "Conf: 86.86\tSupp: 586.00\t {126, 5} => {95}\n",
      "Conf: 82.43\tSupp: 643.00\t {126, 6, 0} => {95}\n",
      "Conf: 84.72\tSupp: 661.00\t {126, 6, 1} => {95}\n",
      "Conf: 83.99\tSupp: 706.00\t {126, 6, 3} => {95}\n",
      "Conf: 81.67\tSupp: 551.00\t {126, 6, 4} => {95}\n",
      "Conf: 84.05\tSupp: 1097.00\t {126, 6} => {95}\n",
      "Conf: 83.73\tSupp: 627.00\t {126, 7, 0} => {95}\n",
      "Conf: 84.13\tSupp: 605.00\t {126, 7, 1} => {95}\n",
      "Conf: 85.08\tSupp: 630.00\t {126, 7, 3} => {95}\n",
      "Conf: 83.51\tSupp: 552.00\t {126, 7, 6} => {95}\n",
      "Conf: 84.19\tSupp: 1006.00\t {126, 7} => {95}\n",
      "Conf: 83.39\tSupp: 560.00\t {126, 8, 0} => {95}\n",
      "Conf: 85.53\tSupp: 539.00\t {126, 8, 1} => {95}\n",
      "Conf: 85.11\tSupp: 544.00\t {126, 8, 3} => {95}\n",
      "Conf: 85.20\tSupp: 892.00\t {126, 8} => {95}\n",
      "Conf: 82.77\tSupp: 563.00\t {126, 10, 0} => {95}\n",
      "Conf: 83.70\tSupp: 540.00\t {126, 10, 1} => {95}\n",
      "Conf: 83.53\tSupp: 595.00\t {126, 10, 3} => {95}\n",
      "Conf: 84.05\tSupp: 514.00\t {126, 10, 6} => {95}\n",
      "Conf: 84.07\tSupp: 923.00\t {126, 10} => {95}\n",
      "Conf: 84.54\tSupp: 511.00\t {126, 11} => {95}\n",
      "Conf: 85.60\tSupp: 632.00\t {126, 12, 0} => {95}\n",
      "Conf: 85.79\tSupp: 605.00\t {126, 12, 1} => {95}\n",
      "Conf: 86.92\tSupp: 642.00\t {126, 12, 3} => {95}\n",
      "Conf: 85.91\tSupp: 504.00\t {126, 12, 4} => {95}\n",
      "Conf: 86.67\tSupp: 585.00\t {126, 12, 6} => {95}\n",
      "Conf: 86.08\tSupp: 546.00\t {126, 12, 7} => {95}\n",
      "Conf: 86.10\tSupp: 1029.00\t {126, 12} => {95}\n",
      "Conf: 82.27\tSupp: 564.00\t {126, 14, 0} => {95}\n",
      "Conf: 83.36\tSupp: 559.00\t {126, 14, 1} => {95}\n",
      "Conf: 83.11\tSupp: 598.00\t {126, 14, 3} => {95}\n",
      "Conf: 82.54\tSupp: 607.00\t {126, 14, 6} => {95}\n",
      "Conf: 84.73\tSupp: 550.00\t {126, 14, 12} => {95}\n",
      "Conf: 83.61\tSupp: 970.00\t {126, 14} => {95}\n",
      "Conf: 84.13\tSupp: 586.00\t {126, 15, 0} => {95}\n",
      "Conf: 84.25\tSupp: 565.00\t {126, 15, 1} => {95}\n",
      "Conf: 85.49\tSupp: 641.00\t {126, 15, 3} => {95}\n",
      "Conf: 83.85\tSupp: 582.00\t {126, 15, 6} => {95}\n",
      "Conf: 84.27\tSupp: 515.00\t {126, 15, 7} => {95}\n",
      "Conf: 86.21\tSupp: 660.00\t {126, 15, 12} => {95}\n",
      "Conf: 83.43\tSupp: 531.00\t {126, 15, 14} => {95}\n",
      "Conf: 84.92\tSupp: 975.00\t {126, 15} => {95}\n",
      "Conf: 83.85\tSupp: 576.00\t {126, 19} => {95}\n",
      "Conf: 83.77\tSupp: 579.00\t {126, 18, 0} => {95}\n",
      "Conf: 85.94\tSupp: 562.00\t {126, 18, 1} => {95}\n",
      "Conf: 85.23\tSupp: 589.00\t {126, 18, 3} => {95}\n",
      "Conf: 84.10\tSupp: 547.00\t {126, 18, 6} => {95}\n",
      "Conf: 84.69\tSupp: 947.00\t {126, 18} => {95}\n",
      "Conf: 86.20\tSupp: 703.00\t {126, 21} => {95}\n",
      "Conf: 85.06\tSupp: 703.00\t {126, 23} => {95}\n",
      "Conf: 86.72\tSupp: 580.00\t {126, 24} => {95}\n",
      "Conf: 83.63\tSupp: 556.00\t {126, 22, 0} => {95}\n",
      "Conf: 84.31\tSupp: 529.00\t {126, 22, 1} => {95}\n",
      "Conf: 84.89\tSupp: 569.00\t {126, 22, 3} => {95}\n",
      "Conf: 83.81\tSupp: 519.00\t {126, 22, 6} => {95}\n",
      "Conf: 85.00\tSupp: 620.00\t {126, 22, 12} => {95}\n",
      "Conf: 83.59\tSupp: 518.00\t {126, 22, 14} => {95}\n",
      "Conf: 84.42\tSupp: 565.00\t {126, 22, 15} => {95}\n",
      "Conf: 84.87\tSupp: 892.00\t {126, 22} => {95}\n",
      "Conf: 85.25\tSupp: 671.00\t {126, 25} => {95}\n",
      "Conf: 82.70\tSupp: 555.00\t {126, 26, 0} => {95}\n",
      "Conf: 86.24\tSupp: 545.00\t {126, 26, 1} => {95}\n",
      "Conf: 84.19\tSupp: 620.00\t {126, 26, 3} => {95}\n",
      "Conf: 84.53\tSupp: 937.00\t {126, 26} => {95}\n",
      "Conf: 83.95\tSupp: 729.00\t {126, 27} => {95}\n",
      "Conf: 85.77\tSupp: 548.00\t {126, 29, 3} => {95}\n",
      "Conf: 84.55\tSupp: 505.00\t {126, 29, 6} => {95}\n",
      "Conf: 87.37\tSupp: 578.00\t {126, 29, 12} => {95}\n",
      "Conf: 85.33\tSupp: 559.00\t {126, 29, 15} => {95}\n",
      "Conf: 85.02\tSupp: 574.00\t {126, 29, 22} => {95}\n",
      "Conf: 85.85\tSupp: 841.00\t {126, 29} => {95}\n",
      "Conf: 84.41\tSupp: 513.00\t {126, 30, 0} => {95}\n",
      "Conf: 86.28\tSupp: 503.00\t {126, 30, 1} => {95}\n",
      "Conf: 85.29\tSupp: 537.00\t {126, 30, 3} => {95}\n",
      "Conf: 83.93\tSupp: 529.00\t {126, 30, 6} => {95}\n",
      "Conf: 86.40\tSupp: 581.00\t {126, 30, 12} => {95}\n",
      "Conf: 83.63\tSupp: 513.00\t {126, 30, 14} => {95}\n",
      "Conf: 84.88\tSupp: 562.00\t {126, 30, 15} => {95}\n",
      "Conf: 85.11\tSupp: 571.00\t {126, 30, 22} => {95}\n",
      "Conf: 85.52\tSupp: 601.00\t {126, 30, 29} => {95}\n",
      "Conf: 85.65\tSupp: 857.00\t {126, 30} => {95}\n",
      "Conf: 84.18\tSupp: 790.00\t {126, 31} => {95}\n",
      "Conf: 85.45\tSupp: 536.00\t {126, 32, 3} => {95}\n",
      "Conf: 86.08\tSupp: 553.00\t {126, 32, 12} => {95}\n",
      "Conf: 84.54\tSupp: 537.00\t {126, 32, 15} => {95}\n",
      "Conf: 84.32\tSupp: 542.00\t {126, 32, 22} => {95}\n",
      "Conf: 85.94\tSupp: 569.00\t {126, 32, 29} => {95}\n",
      "Conf: 85.49\tSupp: 579.00\t {126, 32, 30} => {95}\n",
      "Conf: 85.57\tSupp: 818.00\t {126, 32} => {95}\n",
      "Conf: 84.59\tSupp: 610.00\t {126, 33} => {95}\n",
      "Conf: 84.74\tSupp: 747.00\t {126, 35} => {95}\n",
      "Conf: 86.13\tSupp: 548.00\t {126, 37} => {95}\n",
      "Conf: 86.69\tSupp: 631.00\t {126, 36} => {95}\n",
      "Conf: 86.26\tSupp: 524.00\t {126, 47} => {95}\n",
      "Conf: 85.37\tSupp: 629.00\t {126, 46} => {95}\n"
     ]
    },
    {
     "name": "stdout",
     "output_type": "stream",
     "text": [
      "Conf: 86.27\tSupp: 670.00\t {126, 50} => {95}\n",
      "Conf: 83.30\tSupp: 563.00\t {126, 48} => {95}\n",
      "Conf: 86.51\tSupp: 697.00\t {126, 54} => {95}\n",
      "Conf: 87.19\tSupp: 601.00\t {126, 52} => {95}\n",
      "Conf: 86.13\tSupp: 620.00\t {126, 58} => {95}\n",
      "Conf: 84.91\tSupp: 530.00\t {126, 63} => {95}\n",
      "Conf: 85.08\tSupp: 583.00\t {126, 65} => {95}\n",
      "Conf: 88.16\tSupp: 583.00\t {126, 61} => {95}\n",
      "Conf: 85.09\tSupp: 597.00\t {126, 67} => {95}\n",
      "Conf: 85.50\tSupp: 593.00\t {126, 68} => {95}\n",
      "Conf: 85.54\tSupp: 581.00\t {126, 73} => {95}\n",
      "Conf: 85.69\tSupp: 643.00\t {126, 75, 0} => {95}\n",
      "Conf: 87.42\tSupp: 628.00\t {126, 75, 1} => {95}\n",
      "Conf: 87.06\tSupp: 711.00\t {126, 75, 3} => {95}\n",
      "Conf: 85.30\tSupp: 517.00\t {126, 75, 4} => {95}\n",
      "Conf: 84.82\tSupp: 560.00\t {126, 75, 6} => {95}\n",
      "Conf: 85.69\tSupp: 517.00\t {126, 75, 7} => {95}\n",
      "Conf: 87.88\tSupp: 528.00\t {126, 75, 12} => {95}\n",
      "Conf: 84.03\tSupp: 501.00\t {126, 75, 14} => {95}\n",
      "Conf: 86.44\tSupp: 509.00\t {126, 75, 18} => {95}\n",
      "Conf: 87.69\tSupp: 520.00\t {126, 75, 26} => {95}\n",
      "Conf: 87.47\tSupp: 1109.00\t {126, 75} => {95}\n",
      "Conf: 87.54\tSupp: 650.00\t {126, 78} => {95}\n",
      "Conf: 86.29\tSupp: 649.00\t {126, 83} => {95}\n",
      "Conf: 88.78\tSupp: 1078.00\t {126, 95, 0} => {38}\n",
      "Conf: 86.92\tSupp: 1101.00\t {126, 38, 0} => {95}\n",
      "Conf: 88.89\tSupp: 639.00\t {126, 95, 1, 0} => {38}\n",
      "Conf: 87.12\tSupp: 652.00\t {126, 38, 1, 0} => {95}\n",
      "Conf: 87.48\tSupp: 1062.00\t {126, 95, 1} => {38}\n",
      "Conf: 88.48\tSupp: 1050.00\t {126, 38, 1} => {95}\n",
      "Conf: 86.77\tSupp: 733.00\t {126, 95, 2} => {38}\n",
      "Conf: 88.21\tSupp: 721.00\t {126, 38, 2} => {95}\n",
      "Conf: 88.68\tSupp: 636.00\t {126, 95, 3, 0} => {38}\n",
      "Conf: 85.98\tSupp: 656.00\t {126, 38, 3, 0} => {95}\n",
      "Conf: 87.50\tSupp: 656.00\t {126, 95, 3, 1} => {38}\n",
      "Conf: 88.44\tSupp: 649.00\t {126, 38, 3, 1} => {95}\n",
      "Conf: 87.18\tSupp: 1131.00\t {126, 95, 3} => {38}\n",
      "Conf: 88.75\tSupp: 1111.00\t {126, 38, 3} => {95}\n",
      "Conf: 88.41\tSupp: 509.00\t {126, 95, 4, 0} => {38}\n",
      "Conf: 86.21\tSupp: 522.00\t {126, 38, 4, 0} => {95}\n",
      "Conf: 85.02\tSupp: 514.00\t {126, 95, 4, 1} => {38}\n",
      "Conf: 87.23\tSupp: 501.00\t {126, 38, 4, 1} => {95}\n",
      "Conf: 85.36\tSupp: 526.00\t {126, 95, 4, 3} => {38}\n",
      "Conf: 87.18\tSupp: 515.00\t {126, 38, 4, 3} => {95}\n",
      "Conf: 85.92\tSupp: 845.00\t {126, 95, 4} => {38}\n",
      "Conf: 87.47\tSupp: 830.00\t {126, 38, 4} => {95}\n",
      "Conf: 87.23\tSupp: 509.00\t {126, 95, 5} => {38}\n",
      "Conf: 89.43\tSupp: 530.00\t {126, 95, 6, 0} => {38}\n",
      "Conf: 85.10\tSupp: 557.00\t {126, 38, 6, 0} => {95}\n",
      "Conf: 86.96\tSupp: 560.00\t {126, 95, 6, 1} => {38}\n",
      "Conf: 87.91\tSupp: 554.00\t {126, 38, 6, 1} => {95}\n",
      "Conf: 86.68\tSupp: 593.00\t {126, 95, 6, 3} => {38}\n",
      "Conf: 86.68\tSupp: 593.00\t {126, 38, 6, 3} => {95}\n",
      "Conf: 87.64\tSupp: 922.00\t {126, 95, 6} => {38}\n",
      "Conf: 87.73\tSupp: 921.00\t {126, 38, 6} => {95}\n",
      "Conf: 87.81\tSupp: 525.00\t {126, 95, 7, 0} => {38}\n",
      "Conf: 85.69\tSupp: 538.00\t {126, 38, 7, 0} => {95}\n",
      "Conf: 85.27\tSupp: 509.00\t {126, 95, 7, 1} => {38}\n",
      "Conf: 85.63\tSupp: 536.00\t {126, 95, 7, 3} => {38}\n",
      "Conf: 87.26\tSupp: 526.00\t {126, 38, 7, 3} => {95}\n",
      "Conf: 86.42\tSupp: 847.00\t {126, 95, 7} => {38}\n",
      "Conf: 87.35\tSupp: 838.00\t {126, 38, 7} => {95}\n",
      "Conf: 88.95\tSupp: 760.00\t {126, 95, 8} => {38}\n",
      "Conf: 88.25\tSupp: 766.00\t {126, 38, 8} => {95}\n",
      "Conf: 87.63\tSupp: 776.00\t {126, 95, 10} => {38}\n",
      "Conf: 88.08\tSupp: 772.00\t {126, 38, 10} => {95}\n",
      "Conf: 87.99\tSupp: 541.00\t {126, 95, 12, 0} => {38}\n",
      "Conf: 87.18\tSupp: 546.00\t {126, 38, 12, 0} => {95}\n",
      "Conf: 84.97\tSupp: 519.00\t {126, 95, 12, 1} => {38}\n",
      "Conf: 85.66\tSupp: 558.00\t {126, 95, 12, 3} => {38}\n",
      "Conf: 89.18\tSupp: 536.00\t {126, 38, 12, 3} => {95}\n",
      "Conf: 85.60\tSupp: 507.00\t {126, 95, 12, 6} => {38}\n",
      "Conf: 85.67\tSupp: 886.00\t {126, 95, 12} => {38}\n",
      "Conf: 89.08\tSupp: 852.00\t {126, 38, 12} => {95}\n",
      "Conf: 83.76\tSupp: 505.00\t {126, 38, 14, 0} => {95}\n",
      "Conf: 87.03\tSupp: 501.00\t {126, 95, 14, 6} => {38}\n",
      "Conf: 85.32\tSupp: 511.00\t {126, 38, 14, 6} => {95}\n",
      "Conf: 87.05\tSupp: 811.00\t {126, 95, 14} => {38}\n",
      "Conf: 86.20\tSupp: 819.00\t {126, 38, 14} => {95}\n",
      "Conf: 85.85\tSupp: 509.00\t {126, 38, 15, 0} => {95}\n",
      "Conf: 85.95\tSupp: 548.00\t {126, 95, 15, 3} => {38}\n",
      "Conf: 88.04\tSupp: 535.00\t {126, 38, 15, 3} => {95}\n",
      "Conf: 84.89\tSupp: 569.00\t {126, 95, 15, 12} => {38}\n",
      "Conf: 89.11\tSupp: 542.00\t {126, 38, 15, 12} => {95}\n",
      "Conf: 85.75\tSupp: 828.00\t {126, 95, 15} => {38}\n",
      "Conf: 88.09\tSupp: 806.00\t {126, 38, 15} => {95}\n",
      "Conf: 85.66\tSupp: 502.00\t {126, 95, 18, 3} => {38}\n",
      "Conf: 86.41\tSupp: 802.00\t {126, 95, 18} => {38}\n",
      "Conf: 88.39\tSupp: 784.00\t {126, 38, 18} => {95}\n",
      "Conf: 87.95\tSupp: 606.00\t {126, 95, 21} => {38}\n",
      "Conf: 88.25\tSupp: 604.00\t {126, 38, 21} => {95}\n",
      "Conf: 87.12\tSupp: 598.00\t {126, 95, 23} => {38}\n",
      "Conf: 88.76\tSupp: 587.00\t {126, 38, 23} => {95}\n",
      "Conf: 86.68\tSupp: 503.00\t {126, 95, 24} => {38}\n",
      "Conf: 85.01\tSupp: 527.00\t {126, 95, 22, 12} => {38}\n",
      "Conf: 87.50\tSupp: 512.00\t {126, 38, 22, 12} => {95}\n",
      "Conf: 85.73\tSupp: 757.00\t {126, 95, 22} => {38}\n",
      "Conf: 86.88\tSupp: 747.00\t {126, 38, 22} => {95}\n",
      "Conf: 87.24\tSupp: 572.00\t {126, 95, 25} => {38}\n",
      "Conf: 88.63\tSupp: 563.00\t {126, 38, 25} => {95}\n",
      "Conf: 87.55\tSupp: 522.00\t {126, 95, 26, 3} => {38}\n",
      "Conf: 87.21\tSupp: 524.00\t {126, 38, 26, 3} => {95}\n",
      "Conf: 86.99\tSupp: 792.00\t {126, 95, 26} => {38}\n",
      "Conf: 87.88\tSupp: 784.00\t {126, 38, 26} => {95}\n",
      "Conf: 87.58\tSupp: 612.00\t {126, 95, 27} => {38}\n",
      "Conf: 87.15\tSupp: 615.00\t {126, 38, 27} => {95}\n",
      "Conf: 85.35\tSupp: 505.00\t {126, 95, 29, 12} => {38}\n",
      "Conf: 86.15\tSupp: 722.00\t {126, 95, 29} => {38}\n",
      "Conf: 87.73\tSupp: 709.00\t {126, 38, 29} => {95}\n",
      "Conf: 85.26\tSupp: 502.00\t {126, 95, 30, 12} => {38}\n",
      "Conf: 80.30\tSupp: 533.00\t {95, 38, 30, 12} => {126}\n",
      "Conf: 84.82\tSupp: 514.00\t {126, 95, 30, 29} => {38}\n",
      "Conf: 80.89\tSupp: 539.00\t {95, 38, 30, 29} => {126}\n",
      "Conf: 85.83\tSupp: 734.00\t {126, 95, 30} => {38}\n",
      "Conf: 87.87\tSupp: 717.00\t {126, 38, 30} => {95}\n",
      "Conf: 80.25\tSupp: 785.00\t {95, 38, 30} => {126}\n",
      "Conf: 87.82\tSupp: 665.00\t {126, 95, 31} => {38}\n",
      "Conf: 87.16\tSupp: 670.00\t {126, 38, 31} => {95}\n",
      "Conf: 80.04\tSupp: 531.00\t {95, 38, 32, 30} => {126}\n",
      "Conf: 87.29\tSupp: 700.00\t {126, 95, 32} => {38}\n",
      "Conf: 87.29\tSupp: 700.00\t {126, 38, 32} => {95}\n",
      "Conf: 86.05\tSupp: 516.00\t {126, 95, 33} => {38}\n",
      "Conf: 87.06\tSupp: 510.00\t {126, 38, 33} => {95}\n",
      "Conf: 80.87\tSupp: 549.00\t {95, 38, 33} => {126}\n",
      "Conf: 88.31\tSupp: 633.00\t {126, 95, 35} => {38}\n",
      "Conf: 88.17\tSupp: 634.00\t {126, 38, 35} => {95}\n",
      "Conf: 88.30\tSupp: 547.00\t {126, 95, 36} => {38}\n",
      "Conf: 89.11\tSupp: 542.00\t {126, 38, 36} => {95}\n",
      "Conf: 90.32\tSupp: 537.00\t {126, 95, 46} => {38}\n",
      "Conf: 88.83\tSupp: 546.00\t {126, 38, 46} => {95}\n",
      "Conf: 88.58\tSupp: 578.00\t {126, 95, 50} => {38}\n",
      "Conf: 89.20\tSupp: 574.00\t {126, 38, 50} => {95}\n",
      "Conf: 89.72\tSupp: 603.00\t {126, 95, 54} => {38}\n",
      "Conf: 88.40\tSupp: 612.00\t {126, 38, 54} => {95}\n",
      "Conf: 82.34\tSupp: 657.00\t {95, 38, 54} => {126}\n",
      "Conf: 88.55\tSupp: 524.00\t {126, 95, 52} => {38}\n",
      "Conf: 89.23\tSupp: 520.00\t {126, 38, 52} => {95}\n",
      "Conf: 80.42\tSupp: 577.00\t {95, 38, 52} => {126}\n",
      "Conf: 89.33\tSupp: 534.00\t {126, 95, 58} => {38}\n",
      "Conf: 89.16\tSupp: 535.00\t {126, 38, 58} => {95}\n",
      "Conf: 89.30\tSupp: 514.00\t {126, 95, 61} => {38}\n",
      "Conf: 89.82\tSupp: 511.00\t {126, 38, 61} => {95}\n",
      "Conf: 80.24\tSupp: 572.00\t {95, 38, 61} => {126}\n",
      "Conf: 87.20\tSupp: 508.00\t {126, 95, 67} => {38}\n",
      "Conf: 86.86\tSupp: 510.00\t {126, 38, 67} => {95}\n",
      "Conf: 80.11\tSupp: 553.00\t {95, 38, 67} => {126}\n",
      "Conf: 86.19\tSupp: 507.00\t {126, 95, 68} => {38}\n",
      "Conf: 90.38\tSupp: 551.00\t {126, 95, 75, 0} => {38}\n",
      "Conf: 86.91\tSupp: 573.00\t {126, 38, 75, 0} => {95}\n",
      "Conf: 80.06\tSupp: 622.00\t {95, 38, 75, 0} => {126}\n",
      "Conf: 89.80\tSupp: 549.00\t {126, 95, 75, 1} => {38}\n",
      "Conf: 88.83\tSupp: 555.00\t {126, 38, 75, 1} => {95}\n",
      "Conf: 89.82\tSupp: 619.00\t {126, 95, 75, 3} => {38}\n",
      "Conf: 88.39\tSupp: 629.00\t {126, 38, 75, 3} => {95}\n",
      "Conf: 82.62\tSupp: 673.00\t {95, 38, 75, 3} => {126}\n",
      "Conf: 80.94\tSupp: 530.00\t {95, 38, 75, 6} => {126}\n",
      "Conf: 80.08\tSupp: 502.00\t {95, 38, 75, 7} => {126}\n",
      "Conf: 81.67\tSupp: 502.00\t {95, 38, 75, 12} => {126}\n",
      "Conf: 80.64\tSupp: 501.00\t {95, 38, 75, 26} => {126}\n",
      "Conf: 89.07\tSupp: 970.00\t {126, 95, 75} => {38}\n",
      "Conf: 89.07\tSupp: 970.00\t {126, 38, 75} => {95}\n",
      "Conf: 81.43\tSupp: 1061.00\t {95, 38, 75} => {126}\n",
      "Conf: 84.89\tSupp: 569.00\t {126, 95, 78} => {38}\n",
      "Conf: 89.28\tSupp: 541.00\t {126, 38, 78} => {95}\n",
      "Conf: 88.57\tSupp: 560.00\t {126, 95, 83} => {38}\n",
      "Conf: 88.73\tSupp: 559.00\t {126, 38, 83} => {95}\n",
      "Conf: 87.31\tSupp: 1892.00\t {126, 95} => {38}\n",
      "Conf: 88.58\tSupp: 1865.00\t {126, 38} => {95}\n",
      "Conf: 86.14\tSupp: 534.00\t {126, 85} => {95}\n",
      "Conf: 83.80\tSupp: 537.00\t {126, 87} => {95}\n",
      "Conf: 88.18\tSupp: 533.00\t {126, 104} => {95}\n",
      "Conf: 81.69\tSupp: 508.00\t {95, 106, 38} => {126}\n",
      "Conf: 89.22\tSupp: 529.00\t {126, 106} => {95}\n",
      "Conf: 87.52\tSupp: 545.00\t {126, 108} => {95}\n",
      "Conf: 87.67\tSupp: 503.00\t {126, 136} => {95}\n",
      "Conf: 84.81\tSupp: 2231.00\t {126} => {95}\n",
      "Conf: 89.80\tSupp: 539.00\t {754} => {38}\n",
      "Conf: 91.09\tSupp: 539.00\t {754} => {95}\n",
      "Conf: 91.65\tSupp: 539.00\t {754} => {126}\n",
      "Conf: 87.34\tSupp: 537.00\t {753} => {38}\n",
      "Conf: 90.69\tSupp: 537.00\t {753} => {95}\n",
      "Conf: 91.06\tSupp: 537.00\t {753} => {126}\n"
     ]
    }
   ],
   "source": [
    "# print number of rules with a support greater than 150\n",
    "for r in article_assos_rules:\n",
    "    if int(r.s) > 500:\n",
    "        print(r)"
   ]
  },
  {
   "cell_type": "markdown",
   "id": "6c19a76d",
   "metadata": {},
   "source": [
    "### User association rules\n",
    "Build rules of the form: `User1 and User2 -> User3`\n",
    "\n",
    "This builds rules that represent the relation and similarity between users."
   ]
  },
  {
   "cell_type": "code",
   "execution_count": 19,
   "id": "aee695cb",
   "metadata": {
    "scrolled": false
   },
   "outputs": [
    {
     "name": "stdout",
     "output_type": "stream",
     "text": [
      "---writing data---\n",
      "---building rules---\n",
      "all: 356017\n",
      "  0: 0\n",
      "  1: 0\n",
      "  2: 9\n",
      "  3: 4255\n",
      "  4: 24427\n",
      "  5: 113071\n",
      "  6: 212797\n",
      "  7: 1458\n",
      "---reading data---\n"
     ]
    },
    {
     "name": "stderr",
     "output_type": "stream",
     "text": [
      "eclat.exe - find frequent item sets with the eclat algorithm\n",
      "version 5.22 (2020.06.15)        (c) 2002-2020   Christian Borgelt\n",
      "reading eclat_in.txt ... [62982 item(s), 7095 transaction(s)] done [0.15s].\n",
      "filtering, sorting and recoding items ... [16883 item(s)] done [0.01s].\n",
      "sorting and reducing transactions ... [6720/7095 transaction(s)] done [0.02s].\n",
      "finding frequent item sets ... done [85.61s].\n",
      "writing eclat_out.txt ... [356017 rule(s)] done [1.16s].\n"
     ]
    },
    {
     "name": "stdout",
     "output_type": "stream",
     "text": [
      "Wall time: 1min 29s\n"
     ]
    }
   ],
   "source": [
    "%%time\n",
    "# Build the user association rules with a minimum support of 40 and minimum confidence of 0.0\n",
    "user_assos_rules = genRules(0.0,50,article_data)\n"
   ]
  },
  {
   "cell_type": "code",
   "execution_count": 20,
   "id": "2b389295",
   "metadata": {},
   "outputs": [
    {
     "name": "stdout",
     "output_type": "stream",
     "text": [
      "<class 'int'>\n",
      "<class 'int'>\n",
      "<class 'int'>\n",
      "<class 'int'>\n",
      "<class 'int'>\n",
      "<class 'int'>\n",
      "<class 'int'>\n",
      "<class 'int'>\n",
      "<class 'int'>\n",
      "<class 'int'>\n"
     ]
    }
   ],
   "source": [
    "for i in range(5):\n",
    "    print(type(user_assos_rules[i].right[0]))\n",
    "    print(type(test_users[i]))\n"
   ]
  },
  {
   "cell_type": "code",
   "execution_count": 21,
   "id": "283703ca",
   "metadata": {},
   "outputs": [
    {
     "name": "stdout",
     "output_type": "stream",
     "text": [
      "Wall time: 834 ms\n"
     ]
    }
   ],
   "source": [
    "%%time\n",
    "\n",
    "user_assos_rules = list(filter(lambda x: any([i in test_users for i in x.right]), user_assos_rules))"
   ]
  },
  {
   "cell_type": "code",
   "execution_count": 22,
   "id": "1fdea5a4",
   "metadata": {
    "scrolled": true
   },
   "outputs": [
    {
     "name": "stdout",
     "output_type": "stream",
     "text": [
      "356017\n"
     ]
    }
   ],
   "source": [
    "# print numebr of generated rules\n",
    "print(len(user_assos_rules))"
   ]
  },
  {
   "cell_type": "markdown",
   "id": "69bb9b4d",
   "metadata": {},
   "source": [
    "See for how much test users we were able to create association rules and how many"
   ]
  },
  {
   "cell_type": "code",
   "execution_count": 23,
   "id": "eb06d36d",
   "metadata": {},
   "outputs": [],
   "source": [
    "# %%time\n",
    "\n",
    "# corr = {}\n",
    "# for r in tqdm(user_assos_rules):\n",
    "#     for user in test_users:\n",
    "#         if user in list(r.right):\n",
    "#             if user in corr:\n",
    "#                 corr[user] += 1\n",
    "#             else:\n",
    "#                 corr[user] = 1"
   ]
  },
  {
   "cell_type": "code",
   "execution_count": 24,
   "id": "e8b079e9",
   "metadata": {},
   "outputs": [],
   "source": [
    "# print(len(test_users))\n",
    "# print(len(corr))\n",
    "# print(corr)"
   ]
  },
  {
   "cell_type": "markdown",
   "id": "1267f317",
   "metadata": {},
   "source": [
    "## 4. Normalize support / confidence to better use it later"
   ]
  },
  {
   "cell_type": "code",
   "execution_count": 25,
   "id": "19bcb46d",
   "metadata": {},
   "outputs": [
    {
     "name": "stdout",
     "output_type": "stream",
     "text": [
      "Conf: 81.20\tSupp: 117.00\t {14, 9, 8, 7, 6, 3, 0} => {1}\n",
      "Conf: 82.35\tSupp: 102.00\t {15, 9, 8, 6, 5, 4, 3} => {1}\n",
      "Conf: 80.43\tSupp: 138.00\t {15, 11, 10, 9, 6, 3} => {0}\n",
      "Conf: 80.00\tSupp: 115.00\t {18, 13, 11, 10, 8, 4, 2} => {0}\n",
      "Conf: 80.00\tSupp: 105.00\t {18, 14, 9, 8, 6, 3, 0} => {1}\n",
      "Conf: 80.39\tSupp: 153.00\t {18, 15, 13, 10, 8, 2} => {0}\n",
      "Conf: 81.73\tSupp: 104.00\t {18, 15, 13, 10, 8, 2, 1} => {0}\n",
      "Conf: 80.58\tSupp: 103.00\t {18, 14, 12, 10, 7, 6, 4, 0} => {15}\n",
      "Conf: 80.19\tSupp: 106.00\t {18, 16, 15, 10, 8, 3, 0} => {12}\n",
      "Conf: 80.30\tSupp: 132.00\t {18, 19, 13, 12, 10, 8} => {0}\n",
      "Conf: 80.45\tSupp: 133.00\t {17, 12, 11, 7, 6, 4} => {0}\n",
      "Conf: 81.00\tSupp: 100.00\t {17, 13, 12, 11, 5, 4} => {1}\n",
      "Conf: 80.00\tSupp: 100.00\t {17, 15, 9, 8, 4, 3, 0} => {12}\n",
      "Conf: 80.58\tSupp: 103.00\t {17, 15, 13, 11, 5, 4} => {1}\n",
      "Conf: 82.00\tSupp: 100.00\t {17, 19, 11, 9, 7, 6} => {0}\n",
      "Conf: 81.51\tSupp: 119.00\t {17, 18, 13, 10, 6, 3} => {0}\n",
      "Conf: 80.47\tSupp: 128.00\t {20, 11, 10, 7, 6, 4} => {0}\n",
      "Conf: 82.35\tSupp: 102.00\t {21, 14, 9, 8, 6, 3, 0} => {1}\n",
      "Conf: 81.13\tSupp: 106.00\t {21, 14, 13, 10, 8, 4} => {1}\n",
      "Conf: 80.00\tSupp: 110.00\t {21, 15, 11, 9, 6, 3} => {0}\n"
     ]
    }
   ],
   "source": [
    "\"\"\"\n",
    "minc = 1\n",
    "maxc = 0\n",
    "\n",
    "mins = 9999999999999\n",
    "maxs = -9999999999999\n",
    "for a in article_assos_rules:\n",
    "    if a.c < minc:\n",
    "        minc = a.c\n",
    "    if a.c > maxc:\n",
    "        maxc = a.c\n",
    "    \n",
    "    if a.s < mins:\n",
    "        mins = a.s\n",
    "    if a.s > maxs:\n",
    "        maxs = a.s\n",
    "            \n",
    "for a in article_assos_rules:\n",
    "    a.c = (a.c - minc) / (maxc - minc)\n",
    "    a.s = (a.s - mins) / (maxs - mins)\n",
    "    # temp score that's just lhs + weighted average of c, s\n",
    "    a.score = len(a.left) + sqrt(pow(a.c, 2) + pow(a.s, 2))\n",
    "\n",
    "\"\"\"\n",
    "\n",
    "article_assos_rules = sorted(article_assos_rules, key = lambda x: x.score, reverse=True)\n",
    "for i in article_assos_rules[:20]:\n",
    "    print(i)\n"
   ]
  },
  {
   "cell_type": "markdown",
   "id": "4bea6c09",
   "metadata": {},
   "source": [
    "## 5. Store the association rules as pickle file for further use"
   ]
  },
  {
   "cell_type": "code",
   "execution_count": 26,
   "id": "72c786f7",
   "metadata": {},
   "outputs": [],
   "source": [
    "import pickle\n",
    "pickle.dump(article_assos_rules, open(\"pickle_dumps/article_rules.p\", \"wb\"))\n",
    "pickle.dump(user_assos_rules, open(\"pickle_dumps/user_rules.p\", \"wb\"))"
   ]
  }
 ],
 "metadata": {
  "kernelspec": {
   "display_name": "Python 3 (ipykernel)",
   "language": "python",
   "name": "python3"
  },
  "language_info": {
   "codemirror_mode": {
    "name": "ipython",
    "version": 3
   },
   "file_extension": ".py",
   "mimetype": "text/x-python",
   "name": "python",
   "nbconvert_exporter": "python",
   "pygments_lexer": "ipython3",
   "version": "3.8.6"
  }
 },
 "nbformat": 4,
 "nbformat_minor": 5
}
