{
 "cells": [
  {
   "cell_type": "markdown",
   "id": "50569d85",
   "metadata": {},
   "source": [
    "## 0. Import packages"
   ]
  },
  {
   "cell_type": "code",
   "execution_count": 1,
   "id": "a0c03281",
   "metadata": {},
   "outputs": [],
   "source": [
    "import pandas as pd\n",
    "import gzip\n",
    "import math\n",
    "from tqdm import tqdm\n",
    "from itertools import chain, combinations\n",
    "from Association import Association\n",
    "from math import sqrt\n",
    "tqdm.pandas() #for progres_apply etc."
   ]
  },
  {
   "cell_type": "markdown",
   "id": "a82af1f6",
   "metadata": {},
   "source": [
    "## 1. Load data from previous step"
   ]
  },
  {
   "cell_type": "code",
   "execution_count": 2,
   "id": "7ecf0117",
   "metadata": {},
   "outputs": [],
   "source": [
    "import pickle\n",
    "train_df = pickle.load(open(\"pickle_dumps/train_df.p\", \"rb\"))\n",
    "tests_df = pickle.load(open(\"pickle_dumps/test_df.p\", \"rb\"))\n",
    "\n",
    "article_train_df = pickle.load(open(\"pickle_dumps/article_train_df.p\", \"rb\"))\n",
    "article_test_df = pickle.load(open(\"pickle_dumps/article_test_df.p\", \"rb\"))"
   ]
  },
  {
   "cell_type": "code",
   "execution_count": 3,
   "id": "0ac1c96f",
   "metadata": {
    "scrolled": false
   },
   "outputs": [
    {
     "data": {
      "text/html": [
       "<div>\n",
       "<style scoped>\n",
       "    .dataframe tbody tr th:only-of-type {\n",
       "        vertical-align: middle;\n",
       "    }\n",
       "\n",
       "    .dataframe tbody tr th {\n",
       "        vertical-align: top;\n",
       "    }\n",
       "\n",
       "    .dataframe thead th {\n",
       "        text-align: right;\n",
       "    }\n",
       "</style>\n",
       "<table border=\"1\" class=\"dataframe\">\n",
       "  <thead>\n",
       "    <tr style=\"text-align: right;\">\n",
       "      <th></th>\n",
       "      <th>user_id</th>\n",
       "      <th>item_id</th>\n",
       "    </tr>\n",
       "  </thead>\n",
       "  <tbody>\n",
       "    <tr>\n",
       "      <th>2277</th>\n",
       "      <td>2277</td>\n",
       "      <td>[19, 9, 138, 20, 21, 22, 23, 1237, 14, 1213, 1...</td>\n",
       "    </tr>\n",
       "    <tr>\n",
       "      <th>2503</th>\n",
       "      <td>2503</td>\n",
       "      <td>[20, 30, 280, 1220, 1619, 42, 40, 26, 476, 27,...</td>\n",
       "    </tr>\n",
       "    <tr>\n",
       "      <th>1579</th>\n",
       "      <td>1579</td>\n",
       "      <td>[14, 1213, 16, 357, 30, 975, 1109, 1110, 1111,...</td>\n",
       "    </tr>\n",
       "    <tr>\n",
       "      <th>117</th>\n",
       "      <td>117</td>\n",
       "      <td>[9, 8, 20, 1021, 1022, 1023, 1668, 1669, 280, ...</td>\n",
       "    </tr>\n",
       "    <tr>\n",
       "      <th>3032</th>\n",
       "      <td>3032</td>\n",
       "      <td>[9, 280, 3299, 304, 1932, 19, 20, 21, 22, 23, ...</td>\n",
       "    </tr>\n",
       "    <tr>\n",
       "      <th>...</th>\n",
       "      <td>...</td>\n",
       "      <td>...</td>\n",
       "    </tr>\n",
       "    <tr>\n",
       "      <th>693</th>\n",
       "      <td>693</td>\n",
       "      <td>[9, 280, 42, 1228, 104, 1682, 140, 392, 98, 12...</td>\n",
       "    </tr>\n",
       "    <tr>\n",
       "      <th>1631</th>\n",
       "      <td>1631</td>\n",
       "      <td>[0, 277, 278, 8, 2, 3, 5, 9, 280, 745, 24, 1, ...</td>\n",
       "    </tr>\n",
       "    <tr>\n",
       "      <th>2522</th>\n",
       "      <td>2522</td>\n",
       "      <td>[19, 21, 280, 3549, 2447, 48, 1399, 1053, 1400...</td>\n",
       "    </tr>\n",
       "    <tr>\n",
       "      <th>714</th>\n",
       "      <td>714</td>\n",
       "      <td>[8, 19, 21, 280, 288, 518, 97, 42, 2541, 1223,...</td>\n",
       "    </tr>\n",
       "    <tr>\n",
       "      <th>2297</th>\n",
       "      <td>2297</td>\n",
       "      <td>[10, 30, 1, 4, 6, 7, 19, 138, 20, 21, 22, 23, ...</td>\n",
       "    </tr>\n",
       "  </tbody>\n",
       "</table>\n",
       "<p>999 rows × 2 columns</p>\n",
       "</div>"
      ],
      "text/plain": [
       "      user_id                                            item_id\n",
       "2277     2277  [19, 9, 138, 20, 21, 22, 23, 1237, 14, 1213, 1...\n",
       "2503     2503  [20, 30, 280, 1220, 1619, 42, 40, 26, 476, 27,...\n",
       "1579     1579  [14, 1213, 16, 357, 30, 975, 1109, 1110, 1111,...\n",
       "117       117  [9, 8, 20, 1021, 1022, 1023, 1668, 1669, 280, ...\n",
       "3032     3032  [9, 280, 3299, 304, 1932, 19, 20, 21, 22, 23, ...\n",
       "...       ...                                                ...\n",
       "693       693  [9, 280, 42, 1228, 104, 1682, 140, 392, 98, 12...\n",
       "1631     1631  [0, 277, 278, 8, 2, 3, 5, 9, 280, 745, 24, 1, ...\n",
       "2522     2522  [19, 21, 280, 3549, 2447, 48, 1399, 1053, 1400...\n",
       "714       714  [8, 19, 21, 280, 288, 518, 97, 42, 2541, 1223,...\n",
       "2297     2297  [10, 30, 1, 4, 6, 7, 19, 138, 20, 21, 22, 23, ...\n",
       "\n",
       "[999 rows x 2 columns]"
      ]
     },
     "execution_count": 3,
     "metadata": {},
     "output_type": "execute_result"
    }
   ],
   "source": [
    "train_df"
   ]
  },
  {
   "cell_type": "code",
   "execution_count": 4,
   "id": "3b54a423",
   "metadata": {},
   "outputs": [
    {
     "name": "stdout",
     "output_type": "stream",
     "text": [
      "192.03803803803802\n"
     ]
    },
    {
     "data": {
      "text/plain": [
       "(array([122.,  98.,  94.,  75.,  64.,  62.,  49.,  39.,  37.,  33.,  30.,\n",
       "         24.,  27.,  20.,  19.,  23.,  12.,  15.,  13.,  16.,  12.,   4.,\n",
       "         14.,   7.,  10.,   5.,   7.,   5.,   9.,   7.,   4.,   1.,   5.,\n",
       "          1.,   5.,   2.,   3.,   3.,   2.,   1.,   2.,   2.,   3.,   0.,\n",
       "          2.,   2.,   2.,   3.,   3.,   1.]),\n",
       " array([101.  , 110.88, 120.76, 130.64, 140.52, 150.4 , 160.28, 170.16,\n",
       "        180.04, 189.92, 199.8 , 209.68, 219.56, 229.44, 239.32, 249.2 ,\n",
       "        259.08, 268.96, 278.84, 288.72, 298.6 , 308.48, 318.36, 328.24,\n",
       "        338.12, 348.  , 357.88, 367.76, 377.64, 387.52, 397.4 , 407.28,\n",
       "        417.16, 427.04, 436.92, 446.8 , 456.68, 466.56, 476.44, 486.32,\n",
       "        496.2 , 506.08, 515.96, 525.84, 535.72, 545.6 , 555.48, 565.36,\n",
       "        575.24, 585.12, 595.  ]),\n",
       " <BarContainer object of 50 artists>)"
      ]
     },
     "execution_count": 4,
     "metadata": {},
     "output_type": "execute_result"
    },
    {
     "data": {
      "image/png": "[encoded data removed]",
      "text/plain": [
       "<Figure size 432x288 with 1 Axes>"
      ]
     },
     "metadata": {
      "needs_background": "light"
     },
     "output_type": "display_data"
    }
   ],
   "source": [
    "import matplotlib.pyplot as plt\n",
    "x = [len(i) for i in train_df[\"item_id\"]]\n",
    "print(sum(x)/len(x))\n",
    "plt.hist(x, bins=50)"
   ]
  },
  {
   "cell_type": "code",
   "execution_count": 5,
   "id": "f474e4fb",
   "metadata": {
    "scrolled": false
   },
   "outputs": [
    {
     "data": {
      "text/html": [
       "<div>\n",
       "<style scoped>\n",
       "    .dataframe tbody tr th:only-of-type {\n",
       "        vertical-align: middle;\n",
       "    }\n",
       "\n",
       "    .dataframe tbody tr th {\n",
       "        vertical-align: top;\n",
       "    }\n",
       "\n",
       "    .dataframe thead th {\n",
       "        text-align: right;\n",
       "    }\n",
       "</style>\n",
       "<table border=\"1\" class=\"dataframe\">\n",
       "  <thead>\n",
       "    <tr style=\"text-align: right;\">\n",
       "      <th></th>\n",
       "      <th>item_id</th>\n",
       "      <th>user_id</th>\n",
       "    </tr>\n",
       "  </thead>\n",
       "  <tbody>\n",
       "    <tr>\n",
       "      <th>2</th>\n",
       "      <td>138</td>\n",
       "      <td>[2277, 117, 2622, 1325, 1276, 773, 1838, 1134,...</td>\n",
       "    </tr>\n",
       "    <tr>\n",
       "      <th>7</th>\n",
       "      <td>1237</td>\n",
       "      <td>[2277, 1579, 2087, 1180, 2054, 761, 922, 1106,...</td>\n",
       "    </tr>\n",
       "    <tr>\n",
       "      <th>8</th>\n",
       "      <td>14</td>\n",
       "      <td>[2277, 1579, 1647, 2087, 1325, 2309, 788, 1134...</td>\n",
       "    </tr>\n",
       "    <tr>\n",
       "      <th>9</th>\n",
       "      <td>1213</td>\n",
       "      <td>[2277, 1579, 2627, 1598, 1276, 3041, 1356, 300...</td>\n",
       "    </tr>\n",
       "    <tr>\n",
       "      <th>10</th>\n",
       "      <td>16</td>\n",
       "      <td>[2277, 1579, 1276, 788, 498, 1134, 1504, 2061,...</td>\n",
       "    </tr>\n",
       "    <tr>\n",
       "      <th>...</th>\n",
       "      <td>...</td>\n",
       "      <td>...</td>\n",
       "    </tr>\n",
       "    <tr>\n",
       "      <th>6403</th>\n",
       "      <td>4344</td>\n",
       "      <td>[778, 2484]</td>\n",
       "    </tr>\n",
       "    <tr>\n",
       "      <th>6419</th>\n",
       "      <td>3214</td>\n",
       "      <td>[152, 2339]</td>\n",
       "    </tr>\n",
       "    <tr>\n",
       "      <th>6421</th>\n",
       "      <td>4714</td>\n",
       "      <td>[499, 1521]</td>\n",
       "    </tr>\n",
       "    <tr>\n",
       "      <th>6438</th>\n",
       "      <td>4033</td>\n",
       "      <td>[359, 3138]</td>\n",
       "    </tr>\n",
       "    <tr>\n",
       "      <th>6445</th>\n",
       "      <td>800</td>\n",
       "      <td>[649, 248]</td>\n",
       "    </tr>\n",
       "  </tbody>\n",
       "</table>\n",
       "<p>5036 rows × 2 columns</p>\n",
       "</div>"
      ],
      "text/plain": [
       "      item_id                                            user_id\n",
       "2         138  [2277, 117, 2622, 1325, 1276, 773, 1838, 1134,...\n",
       "7        1237  [2277, 1579, 2087, 1180, 2054, 761, 922, 1106,...\n",
       "8          14  [2277, 1579, 1647, 2087, 1325, 2309, 788, 1134...\n",
       "9        1213  [2277, 1579, 2627, 1598, 1276, 3041, 1356, 300...\n",
       "10         16  [2277, 1579, 1276, 788, 498, 1134, 1504, 2061,...\n",
       "...       ...                                                ...\n",
       "6403     4344                                        [778, 2484]\n",
       "6419     3214                                        [152, 2339]\n",
       "6421     4714                                        [499, 1521]\n",
       "6438     4033                                        [359, 3138]\n",
       "6445      800                                         [649, 248]\n",
       "\n",
       "[5036 rows x 2 columns]"
      ]
     },
     "execution_count": 5,
     "metadata": {},
     "output_type": "execute_result"
    }
   ],
   "source": [
    "article_train_df"
   ]
  },
  {
   "cell_type": "code",
   "execution_count": 6,
   "id": "09a2c1fc",
   "metadata": {},
   "outputs": [
    {
     "name": "stdout",
     "output_type": "stream",
     "text": [
      "31.684868943606038\n"
     ]
    },
    {
     "data": {
      "text/plain": [
       "(array([2.449e+03, 7.160e+02, 4.380e+02, 2.560e+02, 1.720e+02, 1.330e+02,\n",
       "        9.800e+01, 8.000e+01, 7.700e+01, 7.200e+01, 5.600e+01, 4.300e+01,\n",
       "        4.900e+01, 3.400e+01, 3.300e+01, 2.500e+01, 3.000e+01, 1.800e+01,\n",
       "        1.700e+01, 1.500e+01, 1.400e+01, 2.600e+01, 1.400e+01, 1.300e+01,\n",
       "        7.000e+00, 5.000e+00, 1.800e+01, 8.000e+00, 8.000e+00, 7.000e+00,\n",
       "        1.400e+01, 1.000e+01, 5.000e+00, 8.000e+00, 5.000e+00, 5.000e+00,\n",
       "        5.000e+00, 5.000e+00, 1.000e+01, 7.000e+00, 2.000e+00, 7.000e+00,\n",
       "        2.000e+00, 0.000e+00, 2.000e+00, 1.000e+01, 2.000e+00, 1.000e+00,\n",
       "        2.000e+00, 3.000e+00]),\n",
       " array([  2.  ,   9.86,  17.72,  25.58,  33.44,  41.3 ,  49.16,  57.02,\n",
       "         64.88,  72.74,  80.6 ,  88.46,  96.32, 104.18, 112.04, 119.9 ,\n",
       "        127.76, 135.62, 143.48, 151.34, 159.2 , 167.06, 174.92, 182.78,\n",
       "        190.64, 198.5 , 206.36, 214.22, 222.08, 229.94, 237.8 , 245.66,\n",
       "        253.52, 261.38, 269.24, 277.1 , 284.96, 292.82, 300.68, 308.54,\n",
       "        316.4 , 324.26, 332.12, 339.98, 347.84, 355.7 , 363.56, 371.42,\n",
       "        379.28, 387.14, 395.  ]),\n",
       " <BarContainer object of 50 artists>)"
      ]
     },
     "execution_count": 6,
     "metadata": {},
     "output_type": "execute_result"
    },
    {
     "data": {
      "image/png": "[encoded data removed]",
      "text/plain": [
       "<Figure size 432x288 with 1 Axes>"
      ]
     },
     "metadata": {
      "needs_background": "light"
     },
     "output_type": "display_data"
    }
   ],
   "source": [
    "x = [len(i) for i in article_train_df[\"user_id\"]]\n",
    "print(sum(x)/len(x))\n",
    "plt.hist(x, bins=50)"
   ]
  },
  {
   "cell_type": "code",
   "execution_count": 7,
   "id": "9dbcccab",
   "metadata": {
    "scrolled": true
   },
   "outputs": [
    {
     "data": {
      "text/html": [
       "<div>\n",
       "<style scoped>\n",
       "    .dataframe tbody tr th:only-of-type {\n",
       "        vertical-align: middle;\n",
       "    }\n",
       "\n",
       "    .dataframe tbody tr th {\n",
       "        vertical-align: top;\n",
       "    }\n",
       "\n",
       "    .dataframe thead th {\n",
       "        text-align: right;\n",
       "    }\n",
       "</style>\n",
       "<table border=\"1\" class=\"dataframe\">\n",
       "  <thead>\n",
       "    <tr style=\"text-align: right;\">\n",
       "      <th></th>\n",
       "      <th>user_id</th>\n",
       "      <th>item_id</th>\n",
       "    </tr>\n",
       "  </thead>\n",
       "  <tbody>\n",
       "    <tr>\n",
       "      <th>488</th>\n",
       "      <td>488</td>\n",
       "      <td>[280, 19, 20, 21, 22, 23, 24, 25, 46, 47, 146,...</td>\n",
       "    </tr>\n",
       "    <tr>\n",
       "      <th>3080</th>\n",
       "      <td>3080</td>\n",
       "      <td>[11, 1377, 1225, 68, 69, 67, 74, 1413, 104, 21...</td>\n",
       "    </tr>\n",
       "    <tr>\n",
       "      <th>641</th>\n",
       "      <td>641</td>\n",
       "      <td>[280, 143, 153, 19, 20, 21, 22, 23, 24, 25, 23...</td>\n",
       "    </tr>\n",
       "    <tr>\n",
       "      <th>965</th>\n",
       "      <td>965</td>\n",
       "      <td>[1668, 1669, 280, 9, 24, 308, 310, 1087, 1220,...</td>\n",
       "    </tr>\n",
       "    <tr>\n",
       "      <th>1274</th>\n",
       "      <td>1274</td>\n",
       "      <td>[0, 1, 2, 3, 4, 5, 6, 7, 19, 21, 9, 20, 22, 23...</td>\n",
       "    </tr>\n",
       "    <tr>\n",
       "      <th>...</th>\n",
       "      <td>...</td>\n",
       "      <td>...</td>\n",
       "    </tr>\n",
       "    <tr>\n",
       "      <th>2985</th>\n",
       "      <td>2985</td>\n",
       "      <td>[10, 280, 1143, 292, 293, 294, 300, 19, 20, 21...</td>\n",
       "    </tr>\n",
       "    <tr>\n",
       "      <th>1271</th>\n",
       "      <td>1271</td>\n",
       "      <td>[19, 21, 9, 280, 304, 29, 3333, 518, 2343, 97,...</td>\n",
       "    </tr>\n",
       "    <tr>\n",
       "      <th>2531</th>\n",
       "      <td>2531</td>\n",
       "      <td>[6, 19, 21, 9, 0, 2, 3, 5, 277, 278, 1021, 102...</td>\n",
       "    </tr>\n",
       "    <tr>\n",
       "      <th>2895</th>\n",
       "      <td>2895</td>\n",
       "      <td>[19, 21, 280, 1087, 518, 2447, 42, 43, 147, 16...</td>\n",
       "    </tr>\n",
       "    <tr>\n",
       "      <th>3200</th>\n",
       "      <td>3200</td>\n",
       "      <td>[19, 21, 280, 2541, 2352, 321, 67, 70, 63, 64,...</td>\n",
       "    </tr>\n",
       "  </tbody>\n",
       "</table>\n",
       "<p>101 rows × 2 columns</p>\n",
       "</div>"
      ],
      "text/plain": [
       "      user_id                                            item_id\n",
       "488       488  [280, 19, 20, 21, 22, 23, 24, 25, 46, 47, 146,...\n",
       "3080     3080  [11, 1377, 1225, 68, 69, 67, 74, 1413, 104, 21...\n",
       "641       641  [280, 143, 153, 19, 20, 21, 22, 23, 24, 25, 23...\n",
       "965       965  [1668, 1669, 280, 9, 24, 308, 310, 1087, 1220,...\n",
       "1274     1274  [0, 1, 2, 3, 4, 5, 6, 7, 19, 21, 9, 20, 22, 23...\n",
       "...       ...                                                ...\n",
       "2985     2985  [10, 280, 1143, 292, 293, 294, 300, 19, 20, 21...\n",
       "1271     1271  [19, 21, 9, 280, 304, 29, 3333, 518, 2343, 97,...\n",
       "2531     2531  [6, 19, 21, 9, 0, 2, 3, 5, 277, 278, 1021, 102...\n",
       "2895     2895  [19, 21, 280, 1087, 518, 2447, 42, 43, 147, 16...\n",
       "3200     3200  [19, 21, 280, 2541, 2352, 321, 67, 70, 63, 64,...\n",
       "\n",
       "[101 rows x 2 columns]"
      ]
     },
     "execution_count": 7,
     "metadata": {},
     "output_type": "execute_result"
    }
   ],
   "source": [
    "tests_df"
   ]
  },
  {
   "cell_type": "code",
   "execution_count": 8,
   "id": "93eb687a",
   "metadata": {},
   "outputs": [],
   "source": [
    "data = train_df.set_index(\"user_id\").to_dict()[\"item_id\"]\n",
    "article_data = article_train_df.set_index(\"item_id\").to_dict()[\"user_id\"]"
   ]
  },
  {
   "cell_type": "code",
   "execution_count": 9,
   "id": "829c4a50",
   "metadata": {},
   "outputs": [],
   "source": [
    "def eclat(prefix, minsup, items, start=True):\n",
    "    frequents = []\n",
    "    while items:\n",
    "        i,itids = items.pop()\n",
    "        isupp = len(itids)\n",
    "        if isupp >= minsup:\n",
    "            frequents.append((frozenset(prefix + [i]), isupp))\n",
    "            suffix = [] \n",
    "            for j, ojtids in items:\n",
    "                jtids = set(itids) & set(ojtids)\n",
    "                if len(jtids) >= minsup:\n",
    "                    suffix.append((j,jtids))\n",
    "            frequents.extend(eclat(prefix+[i], minsup, sorted(suffix, key=lambda item: len(item[1]), reverse=True), False))\n",
    "    return frequents"
   ]
  },
  {
   "cell_type": "code",
   "execution_count": 10,
   "id": "10be6989",
   "metadata": {},
   "outputs": [],
   "source": [
    "def subsets(itemset, include_empty_set=False):\n",
    "    \"\"\" List all strict subsets of an itemset without the empty set or with the empty set if include_empty_set=True\n",
    "        subsets({1,2,3}) --> [{1}, {2}, {3}, {1, 2}, {1, 3}, {2, 3}]\n",
    "    \"\"\"\n",
    "    s = list(itemset)\n",
    "    if include_empty_set:\n",
    "        return map(set, chain.from_iterable(combinations(s, r) for r in range(0, len(s) + 1)))\n",
    "    return map(set, chain.from_iterable(combinations(s, r) for r in range(1, len(s))))"
   ]
  },
  {
   "cell_type": "code",
   "execution_count": 11,
   "id": "0c0b13ae",
   "metadata": {},
   "outputs": [],
   "source": [
    "def deriveRules(itemsets, minconf, test_users):\n",
    "    \"\"\" Returns all rules with conf >= minconf that can be derived from the itemsets.\n",
    "        Return: list of association rules in the format: [(antecedent, consequent, supp, conf), ...]\n",
    "    \"\"\"\n",
    "    search_items = dict(itemsets)\n",
    "    rules = []\n",
    "    for item_set, supp in tqdm(itemsets):\n",
    "        go = False\n",
    "        if len(item_set) > 1:\n",
    "            for subset in subsets(item_set):  # for each subset generate a rule\n",
    "                antecedent = frozenset(subset)\n",
    "                consequent = item_set - subset\n",
    "                if len(consequent)== 1:\n",
    "                    conf = supp / search_items[antecedent]\n",
    "                    if conf >= minconf:\n",
    "                        if test_users:\n",
    "                            if list(consequent)[0] in test_users:\n",
    "                                rules.append(Association(antecedent, consequent, conf, supp))\n",
    "                        else:\n",
    "                            rules.append(Association(antecedent, consequent, conf, supp))\n",
    "                        \n",
    "\n",
    "    return rules"
   ]
  },
  {
   "cell_type": "code",
   "execution_count": 12,
   "id": "43465aa5",
   "metadata": {},
   "outputs": [],
   "source": [
    "def genRules(min_conf, minsup, data, test_users = None):\n",
    "    print(\"---Mining frequent itemsets---\")\n",
    "    frequent_itemsets = eclat([], minsup, sorted(data.items(), key=lambda item: len(item[1]), reverse=True))\n",
    "    print(f\"{len(frequent_itemsets)} frequent itemsets\")\n",
    "    c = 0\n",
    "    for f in frequent_itemsets:\n",
    "        if len(f[0]) == 1:\n",
    "            c += 1\n",
    "    print(f\"{c} frequent itemsets of length 1\")\n",
    "    print(\"---Generating rules---\")\n",
    "    return deriveRules(frequent_itemsets, min_conf, test_users)"
   ]
  },
  {
   "cell_type": "code",
   "execution_count": 13,
   "id": "1b5c7ed3",
   "metadata": {
    "scrolled": true
   },
   "outputs": [
    {
     "name": "stdout",
     "output_type": "stream",
     "text": [
      "999\n",
      "---Mining frequent itemsets---\n",
      "4611886 frequent itemsets\n",
      "999 frequent itemsets of length 1\n",
      "---Generating rules---\n"
     ]
    },
    {
     "name": "stderr",
     "output_type": "stream",
     "text": [
      "100%|██████████| 4611886/4611886 [01:50<00:00, 41666.01it/s]"
     ]
    },
    {
     "name": "stdout",
     "output_type": "stream",
     "text": [
      "Wall time: 3min 36s\n"
     ]
    },
    {
     "name": "stderr",
     "output_type": "stream",
     "text": [
      "\n"
     ]
    }
   ],
   "source": [
    "%%time\n",
    "\n",
    "print(len(data))\n",
    "article_assos_rules = genRules(0.85, 50, data)"
   ]
  },
  {
   "cell_type": "code",
   "execution_count": 14,
   "id": "ac637b7a",
   "metadata": {},
   "outputs": [
    {
     "data": {
      "text/plain": [
       "6997716"
      ]
     },
     "execution_count": 14,
     "metadata": {},
     "output_type": "execute_result"
    }
   ],
   "source": [
    "len(article_assos_rules)"
   ]
  },
  {
   "cell_type": "code",
   "execution_count": 15,
   "id": "3bb0d5d0",
   "metadata": {},
   "outputs": [
    {
     "name": "stdout",
     "output_type": "stream",
     "text": [
      "Wall time: 976 ms\n"
     ]
    },
    {
     "data": {
      "text/plain": [
       "74784"
      ]
     },
     "execution_count": 15,
     "metadata": {},
     "output_type": "execute_result"
    }
   ],
   "source": [
    "%%time\n",
    "counter = 0\n",
    "for r in article_assos_rules:\n",
    "    if 3 in r.left:\n",
    "        counter += 1\n",
    "counter"
   ]
  },
  {
   "cell_type": "code",
   "execution_count": 16,
   "id": "c559c795",
   "metadata": {},
   "outputs": [
    {
     "name": "stdout",
     "output_type": "stream",
     "text": [
      "Conf: 0.87\tSupp: 158.00\t {1328, 1276, 1839} => {1576}\n"
     ]
    }
   ],
   "source": [
    "for r in article_assos_rules:\n",
    "    if r.s > 150:\n",
    "        print(r)"
   ]
  },
  {
   "cell_type": "code",
   "execution_count": 17,
   "id": "aee695cb",
   "metadata": {
    "scrolled": false
   },
   "outputs": [
    {
     "name": "stdout",
     "output_type": "stream",
     "text": [
      "5036\n",
      "Mining rules for split 0\n",
      "---Mining frequent itemsets---\n",
      "1732291 frequent itemsets\n",
      "1100 frequent itemsets of length 1\n",
      "---Generating rules---\n"
     ]
    },
    {
     "name": "stderr",
     "output_type": "stream",
     "text": [
      "100%|██████████| 1732291/1732291 [02:31<00:00, 11451.95it/s]\n"
     ]
    },
    {
     "name": "stdout",
     "output_type": "stream",
     "text": [
      "Mining rules for split 1\n",
      "---Mining frequent itemsets---\n",
      "1571028 frequent itemsets\n",
      "1104 frequent itemsets of length 1\n",
      "---Generating rules---\n"
     ]
    },
    {
     "name": "stderr",
     "output_type": "stream",
     "text": [
      "100%|██████████| 1571028/1571028 [02:20<00:00, 11151.85it/s]\n"
     ]
    },
    {
     "name": "stdout",
     "output_type": "stream",
     "text": [
      "Mining rules for split 2\n",
      "---Mining frequent itemsets---\n",
      "1616877 frequent itemsets\n",
      "1109 frequent itemsets of length 1\n",
      "---Generating rules---\n"
     ]
    },
    {
     "name": "stderr",
     "output_type": "stream",
     "text": [
      "100%|██████████| 1616877/1616877 [02:30<00:00, 10759.52it/s]\n"
     ]
    },
    {
     "name": "stdout",
     "output_type": "stream",
     "text": [
      "Mining rules for split 3\n",
      "---Mining frequent itemsets---\n",
      "1713377 frequent itemsets\n",
      "1113 frequent itemsets of length 1\n",
      "---Generating rules---\n"
     ]
    },
    {
     "name": "stderr",
     "output_type": "stream",
     "text": [
      "100%|██████████| 1713377/1713377 [02:43<00:00, 10509.52it/s]"
     ]
    },
    {
     "name": "stdout",
     "output_type": "stream",
     "text": [
      "Wall time: 12min\n"
     ]
    },
    {
     "name": "stderr",
     "output_type": "stream",
     "text": [
      "\n"
     ]
    }
   ],
   "source": [
    "%%time\n",
    "import copy\n",
    "# user_assos_rules = genRules(0.0, 20, article_data)\n",
    "print(len(article_data))\n",
    "test_users = tests_df[\"user_id\"].tolist()\n",
    "\n",
    "rules_split = []\n",
    "for i in range(4):\n",
    "    print(f\"Mining rules for split {i}\")\n",
    "    tmp = copy.deepcopy(article_data)\n",
    "    for _, article in article_test_df.iterrows():\n",
    "        try:\n",
    "            if article[\"item_id\"] in tmp:\n",
    "                tmp[article[\"item_id\"]] += article[\"test_split\"][i][0]\n",
    "            else:\n",
    "                tmp[article[\"item_id\"]] = article[\"test_split\"][i][0]\n",
    "#                 print(tmp[article[\"item_id\"]])\n",
    "#                 break\n",
    "        except:\n",
    "            if article[\"item_id\"] in tmp:\n",
    "                tmp[article[\"item_id\"]] += article[\"user_id\"]\n",
    "            else:\n",
    "                tmp[article[\"item_id\"]] = article[\"user_id\"]\n",
    "        \n",
    "    r = genRules(0.0,40,tmp, test_users)\n",
    "    rules_split.append(r)"
   ]
  },
  {
   "cell_type": "code",
   "execution_count": 18,
   "id": "1fdea5a4",
   "metadata": {
    "scrolled": true
   },
   "outputs": [
    {
     "name": "stdout",
     "output_type": "stream",
     "text": [
      "314345\n",
      "297308\n",
      "331005\n",
      "331241\n"
     ]
    }
   ],
   "source": [
    "for i in range(4):\n",
    "    print(len(rules_split[i]))"
   ]
  },
  {
   "cell_type": "code",
   "execution_count": 19,
   "id": "eb06d36d",
   "metadata": {},
   "outputs": [],
   "source": [
    "corr = {}\n",
    "test_users = tests_df[\"user_id\"].tolist()\n",
    "for user in test_users:\n",
    "    for r in rules_split[3]:\n",
    "        if user in list(r.right):\n",
    "            if user in corr:\n",
    "                corr[user] += 1\n",
    "            else:\n",
    "                corr[user] = 1"
   ]
  },
  {
   "cell_type": "code",
   "execution_count": 20,
   "id": "e8b079e9",
   "metadata": {},
   "outputs": [
    {
     "name": "stdout",
     "output_type": "stream",
     "text": [
      "101\n",
      "24\n",
      "{460: 2104, 1472: 195, 1157: 39, 2114: 67, 68: 865, 1678: 166569, 296: 3, 1146: 12, 119: 1, 2502: 29, 2316: 16, 2353: 12, 2178: 1, 563: 1824, 1236: 8495, 1030: 661, 2025: 59, 568: 49, 1155: 18, 213: 142503, 2: 4188, 1805: 3353, 1022: 139, 2531: 39}\n"
     ]
    }
   ],
   "source": [
    "print(len(test_users))\n",
    "print(len(corr))\n",
    "print(corr)"
   ]
  },
  {
   "cell_type": "code",
   "execution_count": 21,
   "id": "215db7ef",
   "metadata": {},
   "outputs": [
    {
     "data": {
      "text/plain": [
       "'\\ntrain: [\\na: 1,2,3\\nb: 2,3,4\\nc: 1,5,7\\n]\\n\\ntest: [\\nd: 2,4,8\\ne: 1,3,7\\n]\\n\\nrules voor train + 1e block van test -> maak recomm met als test test-1e block\\nrules voor train + 2e block van test -> maak recomm met als test test-2e block\\n...\\n\\n'"
      ]
     },
     "execution_count": 21,
     "metadata": {},
     "output_type": "execute_result"
    }
   ],
   "source": [
    "# user_assos_rules = genRules(0.0, 20, article_data)\n",
    "\n",
    "\"\"\"\n",
    "train: [\n",
    "a: 1,2,3\n",
    "b: 2,3,4\n",
    "c: 1,5,7\n",
    "]\n",
    "\n",
    "test: [\n",
    "d: 2,4,8\n",
    "e: 1,3,7\n",
    "]\n",
    "\n",
    "rules voor train + 1e block van test -> maak recomm met als test test-1e block\n",
    "rules voor train + 2e block van test -> maak recomm met als test test-2e block\n",
    "...\n",
    "\n",
    "\"\"\""
   ]
  },
  {
   "cell_type": "markdown",
   "id": "1267f317",
   "metadata": {},
   "source": [
    "# normalize support / confidence to better use it later"
   ]
  },
  {
   "cell_type": "code",
   "execution_count": 22,
   "id": "19bcb46d",
   "metadata": {},
   "outputs": [
    {
     "name": "stdout",
     "output_type": "stream",
     "text": [
      "Conf: 1.00\tSupp: 50.00\t {736, 4, 167, 1576, 780, 750, 1839, 212, 1597} => {1328}\n",
      "Conf: 1.00\tSupp: 50.00\t {736, 167, 1576, 780, 750, 1839, 1328, 212, 1597} => {4}\n",
      "Conf: 0.98\tSupp: 50.00\t {736, 4, 167, 1576, 780, 750, 1328, 212, 1597} => {1839}\n",
      "Conf: 0.98\tSupp: 50.00\t {736, 4, 167, 1576, 750, 1839, 1328, 212, 1597} => {780}\n",
      "Conf: 0.98\tSupp: 50.00\t {4, 167, 1576, 780, 750, 1839, 1328, 212, 1597} => {736}\n",
      "Conf: 0.96\tSupp: 50.00\t {736, 4, 167, 1576, 780, 750, 1839, 1328, 212} => {1597}\n",
      "Conf: 0.96\tSupp: 50.00\t {736, 4, 167, 1576, 780, 750, 1839, 1328, 1597} => {212}\n",
      "Conf: 0.96\tSupp: 50.00\t {736, 4, 167, 1576, 780, 1839, 1328, 212, 1597} => {750}\n",
      "Conf: 0.96\tSupp: 50.00\t {736, 4, 167, 780, 750, 1839, 1328, 212, 1597} => {1576}\n",
      "Conf: 0.96\tSupp: 50.00\t {736, 4, 1576, 780, 750, 1839, 1328, 212, 1597} => {167}\n",
      "Conf: 1.00\tSupp: 54.00\t {736, 4, 1576, 1960, 750, 1328, 1276, 1597} => {1839}\n",
      "Conf: 1.00\tSupp: 54.00\t {736, 1576, 1960, 750, 1839, 1328, 1276, 1597} => {4}\n",
      "Conf: 1.00\tSupp: 54.00\t {1089, 4, 1576, 750, 1839, 1328, 2419, 1276} => {736}\n",
      "Conf: 1.00\tSupp: 54.00\t {4, 1576, 750, 1839, 1328, 721, 2419, 1276} => {736}\n",
      "Conf: 1.00\tSupp: 54.00\t {736, 4, 167, 750, 1839, 2419, 212, 1276} => {1328}\n",
      "Conf: 1.00\tSupp: 54.00\t {736, 167, 750, 1839, 1328, 2419, 212, 1276} => {4}\n",
      "Conf: 1.00\tSupp: 54.00\t {4, 167, 1576, 750, 1839, 1328, 2419, 1276} => {736}\n",
      "Conf: 1.00\tSupp: 53.00\t {736, 1089, 1576, 1960, 750, 1839, 1328, 1276} => {4}\n",
      "Conf: 1.00\tSupp: 53.00\t {736, 1576, 1960, 750, 1839, 1328, 2419, 1276} => {4}\n",
      "Conf: 1.00\tSupp: 53.00\t {4, 1960, 1576, 750, 1839, 1328, 2419, 1276} => {736}\n",
      "Conf: 1.00\tSupp: 53.00\t {736, 167, 1576, 1960, 750, 1839, 1328, 1276} => {4}\n",
      "Conf: 1.00\tSupp: 53.00\t {736, 4, 167, 750, 1839, 721, 212, 1276} => {1328}\n",
      "Conf: 1.00\tSupp: 53.00\t {736, 167, 750, 1839, 1328, 721, 212, 1276} => {4}\n",
      "Conf: 1.00\tSupp: 53.00\t {4, 1576, 750, 1839, 1328, 2419, 1276, 1917} => {736}\n",
      "Conf: 1.00\tSupp: 53.00\t {736, 4, 167, 750, 1839, 785, 212, 1276} => {1328}\n",
      "Conf: 1.00\tSupp: 53.00\t {736, 167, 750, 1839, 1328, 785, 212, 1276} => {4}\n",
      "Conf: 1.00\tSupp: 53.00\t {4, 1576, 750, 1839, 2672, 1328, 2419, 1276} => {736}\n",
      "Conf: 1.00\tSupp: 53.00\t {4, 167, 1576, 750, 1328, 785, 2419, 1276} => {736}\n",
      "Conf: 1.00\tSupp: 53.00\t {512, 1412, 4, 167, 1576, 1648, 785, 1328} => {736}\n",
      "Conf: 1.00\tSupp: 53.00\t {736, 167, 1576, 397, 2672, 1624, 1276, 3133} => {1328}\n",
      "Conf: 1.00\tSupp: 52.00\t {4, 1960, 1576, 750, 1839, 1328, 1276, 1917} => {736}\n",
      "Conf: 1.00\tSupp: 52.00\t {736, 167, 1576, 1960, 2510, 1839, 1328, 1276} => {4}\n",
      "Conf: 1.00\tSupp: 52.00\t {736, 4, 1576, 1960, 1328, 721, 1276, 1597} => {1839}\n",
      "Conf: 1.00\tSupp: 52.00\t {4, 1421, 1328, 2769, 1143, 1245, 1276, 1917} => {167}\n",
      "Conf: 1.00\tSupp: 52.00\t {167, 1421, 1328, 2769, 1143, 1245, 1276, 1917} => {4}\n",
      "Conf: 1.00\tSupp: 52.00\t {736, 2500, 167, 750, 1328, 785, 2419, 1276} => {4}\n",
      "Conf: 1.00\tSupp: 52.00\t {736, 4, 167, 750, 721, 2419, 212, 1276} => {1328}\n",
      "Conf: 1.00\tSupp: 52.00\t {736, 101, 750, 1839, 1328, 721, 2419, 1276} => {4}\n",
      "Conf: 1.00\tSupp: 52.00\t {736, 4, 167, 780, 750, 1839, 212, 1597} => {1328}\n",
      "Conf: 1.00\tSupp: 52.00\t {736, 167, 780, 750, 1839, 1328, 212, 1597} => {4}\n",
      "Conf: 1.00\tSupp: 52.00\t {736, 1576, 780, 750, 1839, 1328, 212, 1597} => {4}\n",
      "Conf: 1.00\tSupp: 52.00\t {736, 4, 1576, 750, 1328, 2419, 1276, 1597} => {1839}\n",
      "Conf: 1.00\tSupp: 52.00\t {4, 1576, 750, 1839, 1328, 2419, 1276, 1597} => {736}\n",
      "Conf: 1.00\tSupp: 52.00\t {4, 1576, 750, 2607, 1839, 1328, 2419, 1276} => {736}\n",
      "Conf: 1.00\tSupp: 52.00\t {736, 4, 167, 1576, 780, 750, 1839, 212} => {1328}\n",
      "Conf: 1.00\tSupp: 52.00\t {736, 167, 1576, 780, 750, 1839, 1328, 212} => {4}\n",
      "Conf: 1.00\tSupp: 52.00\t {736, 1576, 397, 750, 1839, 1328, 19, 1276} => {4}\n",
      "Conf: 1.00\tSupp: 52.00\t {4, 167, 750, 1839, 1328, 2419, 1276, 1917} => {736}\n",
      "Conf: 1.00\tSupp: 52.00\t {736, 4, 167, 750, 1839, 2672, 212, 1276} => {1328}\n",
      "Conf: 1.00\tSupp: 52.00\t {4, 167, 1576, 750, 2672, 1328, 2419, 1276} => {736}\n",
      "Conf: 1.00\tSupp: 52.00\t {736, 4, 167, 750, 1839, 1648, 785, 2419} => {1328}\n",
      "Conf: 1.00\tSupp: 52.00\t {4, 1576, 750, 1839, 1328, 785, 2419, 1276} => {736}\n",
      "Conf: 1.00\tSupp: 52.00\t {736, 4, 167, 750, 1839, 1648, 785, 1276} => {1328}\n",
      "Conf: 1.00\tSupp: 52.00\t {4, 167, 1576, 750, 2672, 785, 1328, 1276} => {736}\n",
      "Conf: 1.00\tSupp: 52.00\t {736, 1089, 4, 1576, 780, 878, 1328, 1597} => {1839}\n",
      "Conf: 1.00\tSupp: 52.00\t {736, 4, 167, 780, 1839, 212, 1276, 1597} => {1328}\n",
      "Conf: 1.00\tSupp: 52.00\t {736, 4, 167, 780, 1328, 212, 1276, 1597} => {1839}\n",
      "Conf: 1.00\tSupp: 52.00\t {736, 4, 167, 1576, 780, 1839, 212, 1597} => {1328}\n",
      "Conf: 1.00\tSupp: 52.00\t {736, 1089, 4, 1576, 878, 1328, 1276, 1597} => {1839}\n",
      "Conf: 1.00\tSupp: 52.00\t {736, 4, 1576, 397, 2510, 1328, 1276, 1597} => {1839}\n",
      "Conf: 1.00\tSupp: 52.00\t {736, 4, 101, 1576, 1328, 721, 1276, 1597} => {1839}\n",
      "Conf: 1.00\tSupp: 52.00\t {512, 736, 1412, 167, 1576, 878, 1648, 1328} => {785}\n",
      "Conf: 1.00\tSupp: 52.00\t {512, 1412, 167, 1576, 878, 1648, 1328, 785} => {736}\n",
      "Conf: 1.00\tSupp: 52.00\t {736, 4, 167, 1839, 1648, 785, 2419, 1276} => {1328}\n",
      "Conf: 1.00\tSupp: 51.00\t {736, 1960, 750, 1839, 1328, 2419, 1276, 1917} => {4}\n",
      "Conf: 1.00\tSupp: 51.00\t {4, 1960, 750, 1839, 1328, 2419, 1276, 1917} => {736}\n",
      "Conf: 1.00\tSupp: 51.00\t {736, 167, 1960, 750, 1839, 1328, 1276, 1917} => {4}\n",
      "Conf: 1.00\tSupp: 51.00\t {4, 167, 1960, 750, 1839, 1328, 1276, 1917} => {736}\n",
      "Conf: 1.00\tSupp: 51.00\t {736, 167, 1960, 750, 1839, 1328, 2419, 1276} => {4}\n",
      "Conf: 1.00\tSupp: 51.00\t {4, 167, 1960, 750, 1839, 1328, 2419, 1276} => {736}\n",
      "Conf: 1.00\tSupp: 51.00\t {736, 4, 1576, 1960, 1648, 1328, 1276, 1597} => {1839}\n",
      "Conf: 1.00\tSupp: 51.00\t {4, 167, 1960, 1576, 2510, 1839, 1276, 1597} => {1328}\n",
      "Conf: 1.00\tSupp: 51.00\t {4, 167, 1960, 1576, 2510, 1328, 1276, 1597} => {1839}\n",
      "Conf: 1.00\tSupp: 51.00\t {167, 1960, 1576, 2510, 1839, 1328, 1276, 1597} => {4}\n",
      "Conf: 1.00\tSupp: 51.00\t {736, 4, 1576, 1960, 2510, 1328, 1276, 1597} => {1839}\n",
      "Conf: 1.00\tSupp: 51.00\t {736, 1576, 1960, 2510, 1839, 1328, 1276, 1597} => {4}\n",
      "Conf: 1.00\tSupp: 51.00\t {736, 4, 167, 1576, 1960, 1328, 1276, 1597} => {1839}\n",
      "Conf: 1.00\tSupp: 51.00\t {736, 167, 1576, 1960, 1839, 2672, 1328, 1276} => {4}\n",
      "Conf: 1.00\tSupp: 51.00\t {736, 2500, 167, 750, 1839, 1328, 785, 2419} => {4}\n",
      "Conf: 1.00\tSupp: 51.00\t {736, 2500, 750, 1839, 1328, 785, 2419, 1276} => {4}\n",
      "Conf: 1.00\tSupp: 51.00\t {736, 167, 2569, 750, 1328, 785, 2419, 1276} => {4}\n",
      "Conf: 1.00\tSupp: 51.00\t {1089, 4, 750, 1839, 1328, 721, 2419, 1276} => {736}\n",
      "Conf: 1.00\tSupp: 51.00\t {736, 1089, 1576, 397, 750, 1839, 1328, 19} => {4}\n",
      "Conf: 1.00\tSupp: 51.00\t {1089, 4, 167, 750, 1839, 1328, 2419, 1276} => {736}\n",
      "Conf: 1.00\tSupp: 51.00\t {736, 167, 397, 750, 2607, 3087, 212, 3133} => {1328}\n",
      "Conf: 1.00\tSupp: 51.00\t {736, 167, 750, 3087, 2607, 1328, 212, 3133} => {397}\n",
      "Conf: 1.00\tSupp: 51.00\t {167, 397, 750, 3087, 2607, 1328, 212, 3133} => {736}\n",
      "Conf: 1.00\tSupp: 51.00\t {736, 4, 167, 750, 721, 785, 212, 1276} => {1328}\n",
      "Conf: 1.00\tSupp: 51.00\t {736, 4, 167, 750, 2672, 721, 212, 1276} => {1328}\n",
      "Conf: 1.00\tSupp: 51.00\t {736, 4, 167, 750, 1648, 721, 212, 1276} => {1328}\n",
      "Conf: 1.00\tSupp: 51.00\t {4, 167, 1576, 750, 1328, 721, 2419, 1276} => {736}\n",
      "Conf: 1.00\tSupp: 51.00\t {4, 1576, 1917, 750, 1839, 1328, 1276, 1597} => {736}\n",
      "Conf: 1.00\tSupp: 51.00\t {736, 4, 167, 1576, 750, 1839, 212, 1597} => {1328}\n",
      "Conf: 1.00\tSupp: 51.00\t {736, 167, 1576, 750, 1839, 1328, 212, 1597} => {4}\n",
      "Conf: 1.00\tSupp: 51.00\t {4, 167, 1576, 780, 750, 1839, 212, 1597} => {1328}\n",
      "Conf: 1.00\tSupp: 51.00\t {167, 1576, 780, 750, 1839, 1328, 212, 1597} => {4}\n",
      "Conf: 1.00\tSupp: 51.00\t {736, 4, 167, 750, 1839, 212, 1276, 1597} => {1328}\n",
      "Conf: 1.00\tSupp: 51.00\t {736, 4, 167, 750, 1328, 212, 1276, 1597} => {1839}\n",
      "Conf: 1.00\tSupp: 51.00\t {736, 167, 750, 1839, 1328, 212, 1276, 1597} => {4}\n",
      "Conf: 1.00\tSupp: 51.00\t {736, 4, 1576, 750, 2672, 1328, 1276, 1597} => {1839}\n"
     ]
    }
   ],
   "source": [
    "minc = 1\n",
    "maxc = 0\n",
    "\n",
    "mins = 9999999999999\n",
    "maxs = -9999999999999\n",
    "for a in article_assos_rules:\n",
    "    if a.c < minc:\n",
    "        minc = a.c\n",
    "    if a.c > maxc:\n",
    "        maxc = a.c\n",
    "    \n",
    "    if a.s < mins:\n",
    "        mins = a.s\n",
    "    if a.s > maxs:\n",
    "        maxs = a.s\n",
    "            \n",
    "for a in article_assos_rules:\n",
    "    a.c = (a.c - minc) / (maxc - minc)\n",
    "    a.s = (a.s - mins) / (maxs - mins)\n",
    "    # temp score that's just lhs + weighted average of c, s\n",
    "    a.score = len(a.left) + sqrt(pow(a.c, 2) + pow(a.s, 2))\n",
    "\n",
    "article_assos_rules = sorted(article_assos_rules, key = lambda x: x.score, reverse=True)\n",
    "for i in article_assos_rules[:100]:\n",
    "    print(i)"
   ]
  },
  {
   "cell_type": "markdown",
   "id": "4bea6c09",
   "metadata": {},
   "source": [
    "# ??. Store the association rules as pickle file for further use"
   ]
  },
  {
   "cell_type": "code",
   "execution_count": 23,
   "id": "72c786f7",
   "metadata": {},
   "outputs": [],
   "source": [
    "import pickle\n",
    "pickle.dump(article_assos_rules, open(\"pickle_dumps/article_rules.p\", \"wb\"))\n",
    "pickle.dump(rules_split, open(\"pickle_dumps/user_rules.p\", \"wb\"))"
   ]
  }
 ],
 "metadata": {
  "kernelspec": {
   "display_name": "Python 3 (ipykernel)",
   "language": "python",
   "name": "python3"
  },
  "language_info": {
   "codemirror_mode": {
    "name": "ipython",
    "version": 3
   },
   "file_extension": ".py",
   "mimetype": "text/x-python",
   "name": "python",
   "nbconvert_exporter": "python",
   "pygments_lexer": "ipython3",
   "version": "3.8.6"
  }
 },
 "nbformat": 4,
 "nbformat_minor": 5
}
