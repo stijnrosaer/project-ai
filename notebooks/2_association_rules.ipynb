{
 "cells": [
  {
   "cell_type": "markdown",
   "id": "50569d85",
   "metadata": {},
   "source": [
    "## 0. Import packages"
   ]
  },
  {
   "cell_type": "code",
   "execution_count": 1,
   "id": "a0c03281",
   "metadata": {},
   "outputs": [],
   "source": [
    "import pandas as pd\n",
    "import gzip\n",
    "import math\n",
    "from tqdm import tqdm\n",
    "from itertools import chain, combinations\n",
    "tqdm.pandas() #for progres_apply etc."
   ]
  },
  {
   "cell_type": "markdown",
   "id": "a82af1f6",
   "metadata": {},
   "source": [
    "## 1. Load data from previous step"
   ]
  },
  {
   "cell_type": "code",
   "execution_count": 2,
   "id": "7ecf0117",
   "metadata": {},
   "outputs": [],
   "source": [
    "import pickle\n",
    "train_df = pickle.load(open(\"pickle_dumps/train_df.p\", \"rb\"))"
   ]
  },
  {
   "cell_type": "code",
   "execution_count": 3,
   "id": "0ac1c96f",
   "metadata": {
    "scrolled": true
   },
   "outputs": [
    {
     "data": {
      "text/html": [
       "<div>\n",
       "<style scoped>\n",
       "    .dataframe tbody tr th:only-of-type {\n",
       "        vertical-align: middle;\n",
       "    }\n",
       "\n",
       "    .dataframe tbody tr th {\n",
       "        vertical-align: top;\n",
       "    }\n",
       "\n",
       "    .dataframe thead th {\n",
       "        text-align: right;\n",
       "    }\n",
       "</style>\n",
       "<table border=\"1\" class=\"dataframe\">\n",
       "  <thead>\n",
       "    <tr style=\"text-align: right;\">\n",
       "      <th></th>\n",
       "      <th>user_id</th>\n",
       "      <th>item_id</th>\n",
       "      <th>recommend</th>\n",
       "    </tr>\n",
       "  </thead>\n",
       "  <tbody>\n",
       "    <tr>\n",
       "      <th>0</th>\n",
       "      <td>302211</td>\n",
       "      <td>[1971, 4158, 13725]</td>\n",
       "      <td>[True, True, True]</td>\n",
       "    </tr>\n",
       "    <tr>\n",
       "      <th>1</th>\n",
       "      <td>1378215</td>\n",
       "      <td>[13884]</td>\n",
       "      <td>[True]</td>\n",
       "    </tr>\n",
       "    <tr>\n",
       "      <th>2</th>\n",
       "      <td>403149</td>\n",
       "      <td>[2678]</td>\n",
       "      <td>[True]</td>\n",
       "    </tr>\n",
       "    <tr>\n",
       "      <th>3</th>\n",
       "      <td>1170243</td>\n",
       "      <td>[10819, 12169, 13215]</td>\n",
       "      <td>[True, True, True]</td>\n",
       "    </tr>\n",
       "    <tr>\n",
       "      <th>4</th>\n",
       "      <td>127771</td>\n",
       "      <td>[703, 1241, 2098, 2382, 8908, 9676, 13637, 13997]</td>\n",
       "      <td>[True, True, True, True, True, True, True, True]</td>\n",
       "    </tr>\n",
       "    <tr>\n",
       "      <th>...</th>\n",
       "      <td>...</td>\n",
       "      <td>...</td>\n",
       "      <td>...</td>\n",
       "    </tr>\n",
       "    <tr>\n",
       "      <th>1188484</th>\n",
       "      <td>166817</td>\n",
       "      <td>[440, 8549]</td>\n",
       "      <td>[True, True]</td>\n",
       "    </tr>\n",
       "    <tr>\n",
       "      <th>1188485</th>\n",
       "      <td>694962</td>\n",
       "      <td>[5266]</td>\n",
       "      <td>[True]</td>\n",
       "    </tr>\n",
       "    <tr>\n",
       "      <th>1188486</th>\n",
       "      <td>34608</td>\n",
       "      <td>[284, 11238, 12663]</td>\n",
       "      <td>[True, True, True]</td>\n",
       "    </tr>\n",
       "    <tr>\n",
       "      <th>1188487</th>\n",
       "      <td>172968</td>\n",
       "      <td>[440]</td>\n",
       "      <td>[True]</td>\n",
       "    </tr>\n",
       "    <tr>\n",
       "      <th>1188488</th>\n",
       "      <td>1269518</td>\n",
       "      <td>[12577]</td>\n",
       "      <td>[True]</td>\n",
       "    </tr>\n",
       "  </tbody>\n",
       "</table>\n",
       "<p>1188489 rows × 3 columns</p>\n",
       "</div>"
      ],
      "text/plain": [
       "         user_id                                            item_id  \\\n",
       "0         302211                                [1971, 4158, 13725]   \n",
       "1        1378215                                            [13884]   \n",
       "2         403149                                             [2678]   \n",
       "3        1170243                              [10819, 12169, 13215]   \n",
       "4         127771  [703, 1241, 2098, 2382, 8908, 9676, 13637, 13997]   \n",
       "...          ...                                                ...   \n",
       "1188484   166817                                        [440, 8549]   \n",
       "1188485   694962                                             [5266]   \n",
       "1188486    34608                                [284, 11238, 12663]   \n",
       "1188487   172968                                              [440]   \n",
       "1188488  1269518                                            [12577]   \n",
       "\n",
       "                                                recommend  \n",
       "0                                      [True, True, True]  \n",
       "1                                                  [True]  \n",
       "2                                                  [True]  \n",
       "3                                      [True, True, True]  \n",
       "4        [True, True, True, True, True, True, True, True]  \n",
       "...                                                   ...  \n",
       "1188484                                      [True, True]  \n",
       "1188485                                            [True]  \n",
       "1188486                                [True, True, True]  \n",
       "1188487                                            [True]  \n",
       "1188488                                            [True]  \n",
       "\n",
       "[1188489 rows x 3 columns]"
      ]
     },
     "execution_count": 3,
     "metadata": {},
     "output_type": "execute_result"
    }
   ],
   "source": [
    "train_df"
   ]
  },
  {
   "cell_type": "code",
   "execution_count": 4,
   "id": "93eb687a",
   "metadata": {},
   "outputs": [],
   "source": [
    "data = data = train_df.set_index(\"user_id\").to_dict()[\"item_id\"]"
   ]
  },
  {
   "cell_type": "code",
   "execution_count": 5,
   "id": "829c4a50",
   "metadata": {},
   "outputs": [],
   "source": [
    "\n",
    "def eclat(prefix, items):\n",
    "    frequents = []\n",
    "    while items:\n",
    "        i,itids = items.pop()\n",
    "        isupp = len(itids)\n",
    "        if isupp >= minsup:\n",
    "            frequents.append((frozenset(prefix + [i]), isupp))\n",
    "            suffix = [] \n",
    "            for j, ojtids in items:\n",
    "                jtids = set(itids) & set(ojtids)\n",
    "                if len(jtids) >= minsup:\n",
    "                    suffix.append((j,jtids))\n",
    "            frequents.extend(eclat(prefix+[i], sorted(suffix, key=lambda item: len(item[1]), reverse=True)))\n",
    "    return frequents"
   ]
  },
  {
   "cell_type": "code",
   "execution_count": null,
   "id": "afbee1fc",
   "metadata": {},
   "outputs": [],
   "source": [
    "%%time\n",
    "\n",
    "minsup = 5\n",
    "\n",
    "frequent_itemsets = eclat([], sorted(data.items(), key=lambda item: len(item[1]), reverse=True))\n"
   ]
  },
  {
   "cell_type": "code",
   "execution_count": null,
   "id": "81284ce9",
   "metadata": {
    "scrolled": true
   },
   "outputs": [],
   "source": [
    "print(len(frequent_itemsets))"
   ]
  },
  {
   "cell_type": "code",
   "execution_count": null,
   "id": "10be6989",
   "metadata": {},
   "outputs": [],
   "source": [
    "def subsets(itemset, include_empty_set=False):\n",
    "    \"\"\" List all strict subsets of an itemset without the empty set or with the empty set if include_empty_set=True\n",
    "        subsets({1,2,3}) --> [{1}, {2}, {3}, {1, 2}, {1, 3}, {2, 3}]\n",
    "    \"\"\"\n",
    "    s = list(itemset)\n",
    "    if include_empty_set:\n",
    "        return map(set, chain.from_iterable(combinations(s, r) for r in range(0, len(s) + 1)))\n",
    "    return map(set, chain.from_iterable(combinations(s, r) for r in range(1, len(s))))"
   ]
  },
  {
   "cell_type": "code",
   "execution_count": null,
   "id": "0c0b13ae",
   "metadata": {},
   "outputs": [],
   "source": [
    "def deriveRules(itemsets, minconf):\n",
    "    \"\"\" Returns all rules with conf >= minconf that can be derived from the itemsets.\n",
    "        Return: list of association rules in the format: [(antecedent, consequent, supp, conf), ...]\n",
    "    \"\"\"\n",
    "    search_items = dict(itemsets)\n",
    "    rules = []\n",
    "    for i, (item_set, supp) in enumerate(itemsets):\n",
    "        if len(item_set) > 1:\n",
    "            for subset in subsets(item_set):  # for each subset generate a rule\n",
    "                antecedent = frozenset(subset)\n",
    "                consequent = item_set - subset\n",
    "                if len(consequent) == 1:\n",
    "                    conf = supp / search_items[antecedent]\n",
    "                    if conf >= minconf:\n",
    "                        rules.append((antecedent, consequent, supp, conf))\n",
    "\n",
    "    return rules\n",
    "\n",
    "rules = deriveRules(frequent_itemsets, 0.8)"
   ]
  },
  {
   "cell_type": "code",
   "execution_count": null,
   "id": "07235973",
   "metadata": {},
   "outputs": [],
   "source": [
    "rules"
   ]
  },
  {
   "cell_type": "code",
   "execution_count": null,
   "id": "ac637b7a",
   "metadata": {},
   "outputs": [],
   "source": [
    "len(rules)"
   ]
  }
 ],
 "metadata": {
  "kernelspec": {
   "display_name": "Python 3 (ipykernel)",
   "language": "python",
   "name": "python3"
  },
  "language_info": {
   "codemirror_mode": {
    "name": "ipython",
    "version": 3
   },
   "file_extension": ".py",
   "mimetype": "text/x-python",
   "name": "python",
   "nbconvert_exporter": "python",
   "pygments_lexer": "ipython3",
   "version": "3.8.6"
  }
 },
 "nbformat": 4,
 "nbformat_minor": 5
}
