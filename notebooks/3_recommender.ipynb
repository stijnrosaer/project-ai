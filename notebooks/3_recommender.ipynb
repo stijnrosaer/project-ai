{
 "cells": [
  {
   "cell_type": "markdown",
   "id": "50569d85",
   "metadata": {},
   "source": [
    "## 0. Import packages"
   ]
  },
  {
   "cell_type": "code",
   "execution_count": 14,
   "id": "a0c03281",
   "metadata": {},
   "outputs": [],
   "source": [
    "import pandas as pd\n",
    "import gzip\n",
    "import math\n",
    "from tqdm import tqdm\n",
    "from itertools import chain, combinations\n",
    "from Association import Association\n",
    "import numpy as np\n",
    "tqdm.pandas() #for progres_apply etc."
   ]
  },
  {
   "cell_type": "markdown",
   "id": "a82af1f6",
   "metadata": {},
   "source": [
    "## 1. Load data from previous step"
   ]
  },
  {
   "cell_type": "code",
   "execution_count": 2,
   "id": "7ecf0117",
   "metadata": {},
   "outputs": [],
   "source": [
    "import pickle\n",
    "rules = pickle.load(open(\"pickle_dumps/article_rules.p\", \"rb\"))\n",
    "df_test = pickle.load(open(\"pickle_dumps/test_df.p\", \"rb\"))\n",
    "df_test = df_test.set_index(\"user_id\").to_dict()[\"item_id\"]"
   ]
  },
  {
   "cell_type": "code",
   "execution_count": 3,
   "id": "0ac1c96f",
   "metadata": {
    "scrolled": false
   },
   "outputs": [
    {
     "name": "stdout",
     "output_type": "stream",
     "text": [
      "9112\n",
      "Conf: 0.96\tSupp: 26.00\t {1025, 2954, 132} => {7}\n",
      "Conf: 0.95\tSupp: 20.00\t {562, 20396, 23214} => {7}\n",
      "Conf: 0.93\tSupp: 27.00\t {1025, 3, 132} => {7}\n",
      "Conf: 0.92\tSupp: 34.00\t {1025, 171, 132} => {7}\n",
      "Conf: 0.92\tSupp: 23.00\t {2219, 14364, 7} => {1025}\n",
      "Conf: 0.92\tSupp: 23.00\t {1025, 3, 2219} => {7}\n",
      "Conf: 0.92\tSupp: 23.00\t {3, 2219, 7} => {1025}\n",
      "Conf: 0.92\tSupp: 23.00\t {1025, 3, 3327} => {7}\n",
      "Conf: 0.92\tSupp: 22.00\t {129, 2219, 1025} => {7}\n",
      "Conf: 0.91\tSupp: 21.00\t {1025, 7, 23047} => {132}\n"
     ]
    }
   ],
   "source": [
    "print(len(rules))\n",
    "for i in range(10):\n",
    "    if i < len(rules):\n",
    "        print(rules[i])"
   ]
  },
  {
   "cell_type": "code",
   "execution_count": 4,
   "id": "4d6f9cfd",
   "metadata": {},
   "outputs": [],
   "source": [
    "class Recommender():\n",
    "    def __init__(self, df_train, assos, df_test):\n",
    "        pass\n",
    "    \n",
    "    def recommend(self, user_id, k):\n",
    "        pass        "
   ]
  },
  {
   "cell_type": "code",
   "execution_count": 5,
   "id": "ffda1f1f",
   "metadata": {},
   "outputs": [],
   "source": [
    "class Assos_Recommender(Recommender):\n",
    "    def __init__(self, assos):\n",
    "        # use popular items to fill unused space\n",
    "        # TODO (df_train is used for this)\n",
    "        \n",
    "        self.assos = assos\n",
    "        \n",
    "#     def get_items(self, user_id):\n",
    "#         return self.df_test[user_id]\n",
    "    \n",
    "    def recommend(self, user_items, k):\n",
    "        recommendation = set()\n",
    "        for a in self.assos:\n",
    "            for l in a.left:\n",
    "                # break if any element is not in the user session\n",
    "                if l not in user_items:\n",
    "                    break\n",
    "                    \n",
    "                # all elements are in the user session --> add RHS of rule to the recommendation\n",
    "                for item in a.right:\n",
    "                    r = item\n",
    "                    if r not in user_items and (len(recommendation) < k or k == -1):\n",
    "                        recommendation.add(r)\n",
    "                        \n",
    "            if len(recommendation) >= k and k != -1:\n",
    "                break\n",
    "                \n",
    "        return recommendation"
   ]
  },
  {
   "cell_type": "code",
   "execution_count": 24,
   "id": "be2dcbf5",
   "metadata": {},
   "outputs": [
    {
     "name": "stdout",
     "output_type": "stream",
     "text": [
      "[([3, 4, 5, 6, 7, 8, 9], [0, 1, 2]), ([0, 1, 2, 6, 7, 8, 9], [3, 4, 5]), ([0, 1, 2, 3, 4, 5, 8, 9], [6, 7]), ([0, 1, 2, 3, 4, 5, 6, 7], [8, 9])]\n"
     ]
    }
   ],
   "source": [
    "def splitUser(user_items):\n",
    "    splits = []\n",
    "    \n",
    "#     scores = cross_val_score(clf, X, y, cv=5)\n",
    "    tmp = np.array_split(user_items, 4)\n",
    "    \n",
    "    for l in tmp:\n",
    "        if len(l) > 0:\n",
    "            splits.append(list(l))\n",
    "    \n",
    "    res = []\n",
    "    for i in splits:\n",
    "        join = []\n",
    "        for j in splits:\n",
    "            if i != j:\n",
    "                join += j\n",
    "        res.append((join, i))\n",
    "                    \n",
    "                \n",
    "\n",
    "    return res\n",
    "\n",
    "print(splitUser(range(10)))"
   ]
  },
  {
   "cell_type": "code",
   "execution_count": 28,
   "id": "c15a800e",
   "metadata": {},
   "outputs": [],
   "source": [
    "def hitrate(rc, k):\n",
    "    hits = 0\n",
    "    counts = 0\n",
    "    avg_len = 0\n",
    "    for user in tqdm(df_test):\n",
    "        user_items = df_test[user]\n",
    "        split_user = splitUser(user_items)\n",
    "        for split in split_user:\n",
    "            r = rc.recommend(split[0], k)\n",
    "        \n",
    "            avg_len += len(r)/len(split_user)\n",
    "            \n",
    "            for item in split[1]:\n",
    "                if item in r:\n",
    "                    hits += (item in r) / len(split_user)\n",
    "                    break\n",
    "                \n",
    "        counts += 1\n",
    "    \n",
    "    print(\"avg len: {:f}\".format(avg_len / len(df_test)))\n",
    "    if k == -1:\n",
    "        print(\"HR\\t{:.5f}\".format((hits / counts)))\n",
    "    else:\n",
    "        print(\"HR@{}\\t{:.5f}\".format(k, (hits / counts)))\n",
    "    return hits / counts"
   ]
  },
  {
   "cell_type": "code",
   "execution_count": 26,
   "id": "234d3e96",
   "metadata": {
    "scrolled": false
   },
   "outputs": [
    {
     "name": "stderr",
     "output_type": "stream",
     "text": [
      "100%|██████████| 11256/11256 [02:35<00:00, 72.43it/s]"
     ]
    },
    {
     "name": "stdout",
     "output_type": "stream",
     "text": [
      "avg len: 1.118507\n",
      "HR\t0.01481%\n"
     ]
    },
    {
     "name": "stderr",
     "output_type": "stream",
     "text": [
      "\n"
     ]
    }
   ],
   "source": [
    "rc = Assos_Recommender(rules)\n",
    "hr = hitrate(rc, -1)"
   ]
  },
  {
   "cell_type": "code",
   "execution_count": 27,
   "id": "e04ef7be",
   "metadata": {},
   "outputs": [
    {
     "name": "stdout",
     "output_type": "stream",
     "text": [
      "0.00014806917791992418\n"
     ]
    }
   ],
   "source": [
    "print(hr)"
   ]
  },
  {
   "cell_type": "markdown",
   "id": "fedae42e",
   "metadata": {},
   "source": [
    "# ??. Store the association rules as pickle file for further use"
   ]
  },
  {
   "cell_type": "code",
   "execution_count": 10,
   "id": "48cce044",
   "metadata": {},
   "outputs": [],
   "source": [
    "# import pickle\n",
    "# pickle.dump(rules, open(\"pickle_dumps/article_rules.p\", \"wb\"))"
   ]
  }
 ],
 "metadata": {
  "kernelspec": {
   "display_name": "Python 3 (ipykernel)",
   "language": "python",
   "name": "python3"
  },
  "language_info": {
   "codemirror_mode": {
    "name": "ipython",
    "version": 3
   },
   "file_extension": ".py",
   "mimetype": "text/x-python",
   "name": "python",
   "nbconvert_exporter": "python",
   "pygments_lexer": "ipython3",
   "version": "3.8.6"
  }
 },
 "nbformat": 4,
 "nbformat_minor": 5
}
