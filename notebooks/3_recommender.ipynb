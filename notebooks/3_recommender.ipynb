{
 "cells": [
  {
   "cell_type": "markdown",
   "id": "50569d85",
   "metadata": {},
   "source": [
    "## 0. Import packages"
   ]
  },
  {
   "cell_type": "code",
   "execution_count": 1,
   "id": "a0c03281",
   "metadata": {},
   "outputs": [],
   "source": [
    "import pandas as pd\n",
    "import gzip\n",
    "import math\n",
    "from tqdm import tqdm\n",
    "from itertools import chain, combinations\n",
    "from Association import Association\n",
    "import numpy as np\n",
    "import random\n",
    "tqdm.pandas() #for progres_apply etc."
   ]
  },
  {
   "cell_type": "code",
   "execution_count": 2,
   "id": "a02c1d93",
   "metadata": {},
   "outputs": [],
   "source": [
    "seed_index = 0"
   ]
  },
  {
   "cell_type": "markdown",
   "id": "a82af1f6",
   "metadata": {},
   "source": [
    "## 1. Load data from previous step"
   ]
  },
  {
   "cell_type": "code",
   "execution_count": 3,
   "id": "7ecf0117",
   "metadata": {},
   "outputs": [],
   "source": [
    "import pickle\n",
    "rules = pickle.load(open(f\"pickle_dumps/article_rules_{seed_index}.p\", \"rb\"))\n",
    "user_rules = pickle.load(open(f\"pickle_dumps/user_rules_{seed_index}.p\", \"rb\"))"
   ]
  },
  {
   "cell_type": "code",
   "execution_count": 4,
   "id": "828fc0a0",
   "metadata": {},
   "outputs": [],
   "source": [
    "df_test = pickle.load(open(f\"pickle_dumps/test_df_{seed_index}.p\", \"rb\"))\n",
    "df_test = df_test.set_index(\"user_id\").to_dict()[\"item_id\"]"
   ]
  },
  {
   "cell_type": "code",
   "execution_count": 5,
   "id": "43d21dbe",
   "metadata": {},
   "outputs": [],
   "source": [
    "df_train = pickle.load(open(f\"pickle_dumps/train_df_{seed_index}.p\", \"rb\"))\n",
    "df_train = df_train.set_index(\"user_id\").to_dict()[\"item_id\"]"
   ]
  },
  {
   "cell_type": "code",
   "execution_count": 6,
   "id": "4d6f9cfd",
   "metadata": {},
   "outputs": [],
   "source": [
    "class Recommender():\n",
    "    def __init__(self, assos):\n",
    "        pass\n",
    "    \n",
    "    def recommend(self, user_items, k, user_id=None, split=None):\n",
    "        pass        "
   ]
  },
  {
   "cell_type": "code",
   "execution_count": 7,
   "id": "ffda1f1f",
   "metadata": {},
   "outputs": [],
   "source": [
    "class Assos_Recommender(Recommender):\n",
    "    def __init__(self, assos, sorter=lambda x: x.s * x.c):\n",
    "        # use popular items to fill unused space\n",
    "        # TODO (df_train is used for this)\n",
    "        \n",
    "        self.sorter = sorter\n",
    "        self.assos = sorted(assos, key=self.sorter, reverse=True)[:100000]\n",
    "        \n",
    "#     def get_items(self, user_id):\n",
    "#         return self.df_test[user_id]\n",
    "    \n",
    "    def recommend(self, user_items, k, user_id=None, split=None):\n",
    "        recommendation = []\n",
    "        user_items = set(user_items)\n",
    "        for a in self.assos:\n",
    "#             print(a.left, user_items)\n",
    "            stop = False\n",
    "            for l in a.left:\n",
    "                # break if any element is not in the user session\n",
    "                if l not in user_items:\n",
    "                    stop = True\n",
    "                    break\n",
    "                    \n",
    "                # all elements are in the user session --> add RHS of rule to the recommendation\n",
    "            if not stop:\n",
    "                r = a.right\n",
    "                for item in r:\n",
    "                    if item not in user_items:\n",
    "                        if item not in recommendation:\n",
    "                            recommendation.append(item)\n",
    "                        if len(recommendation) >= k and k != -1:\n",
    "                            break\n",
    "                        \n",
    "            if len(recommendation) >= k and k != -1:\n",
    "                break\n",
    "                \n",
    "        return recommendation"
   ]
  },
  {
   "cell_type": "code",
   "execution_count": 48,
   "id": "69b33f52",
   "metadata": {},
   "outputs": [],
   "source": [
    "class User_Recommender(Recommender):\n",
    "    def __init__(self, assos, value=lambda x: x.s * x.c):\n",
    "        self.assos = assos\n",
    "        self.value = value\n",
    "    \n",
    "    def recommend(self, user_items, k, user_id):\n",
    "        if len(user_items) <= 0 or user_id not in self.assos:\n",
    "            return []\n",
    "        \n",
    "        user_items = set(user_items)\n",
    "        rdict = dict()\n",
    "\n",
    "        for a in self.assos[user_id]:\n",
    "            item_list = list()\n",
    "            for l in a.left:\n",
    "                tmp = []\n",
    "                tmp.extend(df_test[l])\n",
    "                tmp.extend(df_train[l])\n",
    "                item_list.append(set(tmp))\n",
    "\n",
    "            if item_list:\n",
    "                intersection = set.intersection(*item_list)\n",
    "                tmp = intersection - user_items\n",
    "                for item in tmp:\n",
    "                    if item in rdict:\n",
    "                        rdict[item] += self.value(a)\n",
    "                    else:\n",
    "                        rdict[item] = self.value(a)\n",
    "            \n",
    "        rlist = sorted(rdict.keys(), key=lambda x: rdict[x], reverse=True)\n",
    "\n",
    "        recommendation = []\n",
    "        for i in rlist:\n",
    "            if i not in recommendation:\n",
    "                recommendation.append(i)\n",
    "            if len(recommendation) >= k and k != -1:\n",
    "                break\n",
    "        return recommendation"
   ]
  },
  {
   "cell_type": "code",
   "execution_count": 9,
   "id": "61823ea7",
   "metadata": {},
   "outputs": [],
   "source": [
    "class Combo_Recommender(Recommender):\n",
    "    def __init__(self, ar, ur):\n",
    "        self.ar = ar\n",
    "        self.ur = ur\n",
    "        \n",
    "    def recommend(self, user_items, k, user_id):\n",
    "        recommendation = self.ur.recommend(user_items, np.ceil(k/3), user_id)\n",
    "        tmp = list(user_items) + recommendation\n",
    "        if len(recommendation) < k:\n",
    "            recommendation += (self.ar.recommend(tmp, k-len(recommendation), user_id))\n",
    "        return recommendation"
   ]
  },
  {
   "cell_type": "code",
   "execution_count": 10,
   "id": "c15a800e",
   "metadata": {},
   "outputs": [],
   "source": [
    "def hitrate(rc, k, nr_users = float(\"1\"), qualitative = False, df = df_test):\n",
    "    hits = 0\n",
    "    ndcg = []\n",
    "    counts = 0\n",
    "    avg_len = 0\n",
    "    n_recall = 0\n",
    "    preds = []\n",
    "    \n",
    "    \n",
    "    \n",
    "    user_ids = list(df.keys())\n",
    "    random.seed(20)\n",
    "    for user in tqdm(random.sample(user_ids, int(len(user_ids) * nr_users), )):\n",
    "#     for user in tqdm(user_ids[: int(len(user_ids) * nr_users)]):\n",
    "        user_target = df[user]\n",
    "        user_items = df_train[user]\n",
    "        \n",
    "        r = rc.recommend(user_items, k, user)\n",
    "\n",
    "        avg_len += len(r)\n",
    "\n",
    "        correct = 0\n",
    "        hit = False\n",
    "        for item in user_target:\n",
    "            if item in r:\n",
    "                if not hit:\n",
    "                    hits += 1\n",
    "                    hit = True\n",
    "                correct += 1\n",
    "        n_recall += correct / max(1, (min(k, len(user_target))))\n",
    "\n",
    "        dcg = 0\n",
    "        idcg = sum(1/np.log2(i+1) for i in range(1,max(1, min(len(user_target), k))+1))\n",
    "        for i, rec in enumerate(r):\n",
    "            good = 1 if rec in user_target else 0\n",
    "            dcg += (2**good - 1)/(np.log2(i+2))\n",
    "        ndcg.append(dcg/idcg)\n",
    "            \n",
    "        if qualitative:      \n",
    "            preds.append((user_items, user_target, r))\n",
    "        counts += 1\n",
    "    \n",
    "    print(\"avg len: {:f}\".format(avg_len / counts))\n",
    "    if k == -1:\n",
    "        print(\"HR\\t{:.5f}\".format((hits / counts)))\n",
    "        print(\"EHR\\t{:.5f}\".format((hits / counts) * (avg_len /  counts)))\n",
    "    else:\n",
    "        print(\"HR@{}\\t{:.5f}\".format(k, (hits / counts)))\n",
    "        print(\"normalised recall@{}\\t{:.5f}\".format(k, (n_recall / counts)))\n",
    "        print(\"EHR@{}\\t{:.5f}\".format(k, (hits / counts) * (avg_len /  counts)))\n",
    "    print(\"nDCG@{}\\t{:.5f}\".format(k, (sum(ndcg) / len(ndcg))))\n",
    "    \n",
    "    if qualitative:\n",
    "        return {\"HR\": hits /counts,\n",
    "               \"EHR\": (hits / counts) * (avg_len /  counts),\n",
    "               \"normalised recall\": (n_recall / counts),\n",
    "               \"nDCG\": sum(ndcg) / len(ndcg),\n",
    "               \"predictions\": preds}\n",
    "    else:\n",
    "        return {\"HR\": hits /counts,\n",
    "               \"EHR\": (hits / counts) * (avg_len /  counts),\n",
    "               \"normalised recall\": (n_recall / counts),\n",
    "               \"nDCG\": sum(ndcg) / len(ndcg)}"
   ]
  },
  {
   "cell_type": "markdown",
   "id": "0bd13c08",
   "metadata": {},
   "source": [
    "# Results\n",
    "rule.s --> 18.317 <br>\n",
    "rule.s * rule.c --> 20.545"
   ]
  },
  {
   "cell_type": "code",
   "execution_count": 109,
   "id": "aa207102",
   "metadata": {},
   "outputs": [],
   "source": [
    "results = []\n",
    "partition_size = 0.1\n",
    "k = 20"
   ]
  },
  {
   "cell_type": "raw",
   "id": "34811b11",
   "metadata": {},
   "source": [
    "ar = Assos_Recommender(rules, lambda x: x.z)\n",
    "results.append((\"lambda x: x.z\", hitrate(ar, k, partition_size)))"
   ]
  },
  {
   "cell_type": "code",
   "execution_count": 110,
   "id": "234d3e96",
   "metadata": {},
   "outputs": [
    {
     "name": "stderr",
     "output_type": "stream",
     "text": [
      "100%|██████████| 5419/5419 [00:22<00:00, 243.62it/s]"
     ]
    },
    {
     "name": "stdout",
     "output_type": "stream",
     "text": [
      "avg len: 19.201329\n",
      "HR@20\t0.53202\n",
      "normalised recall@20\t0.22718\n",
      "EHR@20\t10.21543\n",
      "nDCG@20\t0.16753\n"
     ]
    },
    {
     "name": "stderr",
     "output_type": "stream",
     "text": [
      "\n"
     ]
    }
   ],
   "source": [
    "ar = Assos_Recommender(rules, lambda x: x.s * x.c)\n",
    "results.append((\"lambda x: x.s * x.c\", hitrate(ar, k, partition_size)))"
   ]
  },
  {
   "cell_type": "code",
   "execution_count": 111,
   "id": "79208497",
   "metadata": {},
   "outputs": [
    {
     "name": "stderr",
     "output_type": "stream",
     "text": [
      "100%|██████████| 5419/5419 [01:43<00:00, 52.13it/s]"
     ]
    },
    {
     "name": "stdout",
     "output_type": "stream",
     "text": [
      "avg len: 15.762687\n",
      "HR@20\t0.52224\n",
      "normalised recall@20\t0.22120\n",
      "EHR@20\t8.23185\n",
      "nDCG@20\t0.18971\n"
     ]
    },
    {
     "name": "stderr",
     "output_type": "stream",
     "text": [
      "\n"
     ]
    }
   ],
   "source": [
    "ar = Assos_Recommender(rules, lambda x: x.s + x.c)\n",
    "results.append((\"lambda x: x.s + x.c\", hitrate(ar, k, partition_size)))"
   ]
  },
  {
   "cell_type": "raw",
   "id": "8f5677a2",
   "metadata": {},
   "source": [
    "ar = Assos_Recommender(rules, lambda x: x.s)\n",
    "results.append((\"lambda x: x.s\", hitrate(ar, k, partition_size)))"
   ]
  },
  {
   "cell_type": "code",
   "execution_count": 112,
   "id": "35b5d6e1",
   "metadata": {},
   "outputs": [
    {
     "name": "stderr",
     "output_type": "stream",
     "text": [
      "100%|██████████| 5419/5419 [01:43<00:00, 52.11it/s]"
     ]
    },
    {
     "name": "stdout",
     "output_type": "stream",
     "text": [
      "avg len: 15.584610\n",
      "HR@20\t0.51965\n",
      "normalised recall@20\t0.21912\n",
      "EHR@20\t8.09859\n",
      "nDCG@20\t0.18832\n"
     ]
    },
    {
     "name": "stderr",
     "output_type": "stream",
     "text": [
      "\n"
     ]
    }
   ],
   "source": [
    "ar = Assos_Recommender(rules, lambda x: x.c)\n",
    "results.append((\"lambda x: x.c\", hitrate(ar, k, partition_size)))"
   ]
  },
  {
   "cell_type": "raw",
   "id": "7bb1d9fd",
   "metadata": {},
   "source": [
    "ar = Assos_Recommender(rules, lambda x: x.lift)\n",
    "results.append((\"lambda x: x.lift\", hitrate(ar, k, partition_size)))"
   ]
  },
  {
   "cell_type": "raw",
   "id": "344937df",
   "metadata": {},
   "source": [
    "ar = Assos_Recommender(rules, lambda x: -x.lift)\n",
    "results.append((\"lambda x: -x.lift\", hitrate(ar, k, partition_size)))"
   ]
  },
  {
   "cell_type": "code",
   "execution_count": 113,
   "id": "109ec4af",
   "metadata": {},
   "outputs": [
    {
     "name": "stderr",
     "output_type": "stream",
     "text": [
      "100%|██████████| 5419/5419 [01:43<00:00, 52.35it/s]"
     ]
    },
    {
     "name": "stdout",
     "output_type": "stream",
     "text": [
      "avg len: 15.924709\n",
      "HR@20\t0.52242\n",
      "normalised recall@20\t0.22203\n",
      "EHR@20\t8.31940\n",
      "nDCG@20\t0.18968\n"
     ]
    },
    {
     "name": "stderr",
     "output_type": "stream",
     "text": [
      "\n"
     ]
    }
   ],
   "source": [
    "ar = Assos_Recommender(rules, lambda x: 2 * x.s + x.c)\n",
    "results.append((\"lambda x: 2 * x.s + x.c\", hitrate(ar, k, partition_size)))"
   ]
  },
  {
   "cell_type": "raw",
   "id": "53488cfa",
   "metadata": {},
   "source": [
    "ar = Assos_Recommender(rules, lambda x: x.s * x.s * x.c)\n",
    "results.append((\"lambda x: x.s * x.s * x.c\", hitrate(ar, k, partition_size)))"
   ]
  },
  {
   "cell_type": "code",
   "execution_count": 114,
   "id": "77814a6a",
   "metadata": {},
   "outputs": [
    {
     "name": "stderr",
     "output_type": "stream",
     "text": [
      "100%|██████████| 5419/5419 [01:44<00:00, 51.90it/s]"
     ]
    },
    {
     "name": "stdout",
     "output_type": "stream",
     "text": [
      "avg len: 15.595497\n",
      "HR@20\t0.52021\n",
      "normalised recall@20\t0.21958\n",
      "EHR@20\t8.11288\n",
      "nDCG@20\t0.18871\n"
     ]
    },
    {
     "name": "stderr",
     "output_type": "stream",
     "text": [
      "\n"
     ]
    }
   ],
   "source": [
    "ar = Assos_Recommender(rules, lambda x: np.sqrt(np.power(x.s, 2) + np.power(x.c, 2)))\n",
    "results.append((\"lambda x: np.sqrt(np.power(x.s, 2) + np.power(x.c, 2))\", hitrate(ar, k, partition_size)))"
   ]
  },
  {
   "cell_type": "code",
   "execution_count": 115,
   "id": "44361f85",
   "metadata": {},
   "outputs": [
    {
     "name": "stderr",
     "output_type": "stream",
     "text": [
      "100%|██████████| 5419/5419 [01:44<00:00, 51.70it/s]"
     ]
    },
    {
     "name": "stdout",
     "output_type": "stream",
     "text": [
      "avg len: 15.603617\n",
      "HR@20\t0.52021\n",
      "normalised recall@20\t0.21958\n",
      "EHR@20\t8.11711\n",
      "nDCG@20\t0.18871\n"
     ]
    },
    {
     "name": "stderr",
     "output_type": "stream",
     "text": [
      "\n"
     ]
    }
   ],
   "source": [
    "ar = Assos_Recommender(rules, lambda x: np.sqrt(2 * np.power(x.s, 2) + np.power(x.c, 2)))\n",
    "results.append((\"lambda x: np.sqrt(2 * np.power(x.s, 2) + np.power(x.c, 2))\", hitrate(ar, k, partition_size)))"
   ]
  },
  {
   "cell_type": "raw",
   "id": "7a73fae7",
   "metadata": {},
   "source": [
    "ar = Assos_Recommender(rules, lambda x: -np.abs(x.lift - 1))\n",
    "results.append((\"lambda x: -np.abs(x.lift - 1)\", hitrate(ar, k, partition_size)))"
   ]
  },
  {
   "cell_type": "raw",
   "id": "23a59415",
   "metadata": {},
   "source": [
    "ar = Assos_Recommender(rules, lambda x: np.abs(x.lift - 1))\n",
    "results.append((\"lambda x: np.abs(x.lift - 1)\", hitrate(ar, k, partition_size)))"
   ]
  },
  {
   "cell_type": "code",
   "execution_count": 116,
   "id": "57c93a6f",
   "metadata": {},
   "outputs": [
    {
     "name": "stderr",
     "output_type": "stream",
     "text": [
      "100%|██████████| 5419/5419 [01:30<00:00, 59.81it/s]"
     ]
    },
    {
     "name": "stdout",
     "output_type": "stream",
     "text": [
      "avg len: 18.689426\n",
      "HR@20\t0.53183\n",
      "normalised recall@20\t0.23560\n",
      "EHR@20\t9.93964\n",
      "nDCG@20\t0.18658\n"
     ]
    },
    {
     "name": "stderr",
     "output_type": "stream",
     "text": [
      "\n"
     ]
    }
   ],
   "source": [
    "ar = Assos_Recommender(rules, lambda x: x.lift * x.s * x.c)\n",
    "results.append((\"lambda x: x.lift * x.s * x.c\", hitrate(ar, k, partition_size)))"
   ]
  },
  {
   "cell_type": "code",
   "execution_count": 117,
   "id": "c3416add",
   "metadata": {},
   "outputs": [
    {
     "name": "stderr",
     "output_type": "stream",
     "text": [
      "100%|██████████| 5419/5419 [00:51<00:00, 105.67it/s]"
     ]
    },
    {
     "name": "stdout",
     "output_type": "stream",
     "text": [
      "avg len: 19.155564\n",
      "HR@20\t0.51578\n",
      "normalised recall@20\t0.22719\n",
      "EHR@20\t9.88001\n",
      "nDCG@20\t0.17583\n"
     ]
    },
    {
     "name": "stderr",
     "output_type": "stream",
     "text": [
      "\n"
     ]
    }
   ],
   "source": [
    "ar = Assos_Recommender(rules, lambda x: x.z * x.s)\n",
    "results.append((\"lambda x: x.z * x.s\", hitrate(ar, k, partition_size)))"
   ]
  },
  {
   "cell_type": "code",
   "execution_count": 118,
   "id": "14a17f76",
   "metadata": {},
   "outputs": [
    {
     "name": "stderr",
     "output_type": "stream",
     "text": [
      "100%|██████████| 5419/5419 [01:30<00:00, 59.75it/s]"
     ]
    },
    {
     "name": "stdout",
     "output_type": "stream",
     "text": [
      "avg len: 18.689426\n",
      "HR@20\t0.53183\n",
      "normalised recall@20\t0.23560\n",
      "EHR@20\t9.93964\n",
      "nDCG@20\t0.18658\n"
     ]
    },
    {
     "name": "stderr",
     "output_type": "stream",
     "text": [
      "\n"
     ]
    }
   ],
   "source": [
    "ar = Assos_Recommender(rules, lambda x: x.z * x.s *x.c)\n",
    "results.append((\"lambda x: x.z * x.s * x.c\", hitrate(ar, k, partition_size)))"
   ]
  },
  {
   "cell_type": "code",
   "execution_count": 119,
   "id": "e476187a",
   "metadata": {},
   "outputs": [
    {
     "name": "stderr",
     "output_type": "stream",
     "text": [
      "100%|██████████| 5419/5419 [00:46<00:00, 115.66it/s]"
     ]
    },
    {
     "name": "stdout",
     "output_type": "stream",
     "text": [
      "avg len: 19.161284\n",
      "HR@20\t0.53811\n",
      "normalised recall@20\t0.23961\n",
      "EHR@20\t10.31081\n",
      "nDCG@20\t0.18122\n"
     ]
    },
    {
     "name": "stderr",
     "output_type": "stream",
     "text": [
      "\n"
     ]
    }
   ],
   "source": [
    "ar = Assos_Recommender(rules, lambda x: x.z * x.s * x.s *x.c)\n",
    "results.append((\"lambda x: x.z * x.s * x.s * x.c\", hitrate(ar, k, partition_size)))"
   ]
  },
  {
   "cell_type": "raw",
   "id": "f2644daa",
   "metadata": {},
   "source": [
    "ar = Assos_Recommender(rules, lambda x: np.sqrt(np.power(x.z, 2) + np.power(x.lift, 2) + np.power(x.s, 2) + np.power(x.s, 2) + np.power(x.c, 2)))\n",
    "results.append((\"lambda x: np.sqrt(np.power(x.z, 2) + np.power(x.lift, 2) + np.power(x.s, 2) + np.power(x.s, 2) + np.power(x.c, 2))\", hitrate(ar, k, partition_size)))"
   ]
  },
  {
   "cell_type": "raw",
   "id": "e423101f",
   "metadata": {},
   "source": [
    "ar = Assos_Recommender(rules, lambda x: np.sqrt(np.power(x.z, 2) + np.power(x.lift, 2) + np.power(x.s, 2) + np.power(x.s, 2) + np.power(x.c, 2)))\n",
    "results.append((\"lambda x: np.sqrt(np.power(x.z, 2) + np.power(x.lift, 2) + np.power(x.s, 2) + np.power(x.s, 2) + np.power(x.c, 2))\", hitrate(ar, k, partition_size)))"
   ]
  },
  {
   "cell_type": "code",
   "execution_count": 120,
   "id": "8058babd",
   "metadata": {
    "scrolled": false
   },
   "outputs": [
    {
     "name": "stdout",
     "output_type": "stream",
     "text": [
      "1 0.21911639495784002\n",
      "lambda x: x.c\n",
      "-78.09%\n",
      "{'HR': 0.5196530725226056, 'EHR': 8.098590318094042, 'normalised recall': 0.21911639495784002, 'nDCG': 0.18831996732359677}\n",
      "----- \n",
      "\n",
      "0.21911639495784002 0.21957773468841763\n",
      "lambda x: np.sqrt(np.power(x.s, 2) + np.power(x.c, 2))\n",
      "0.21%\n",
      "{'HR': 0.5202066801992987, 'EHR': 8.112881889094506, 'normalised recall': 0.21957773468841763, 'nDCG': 0.18871293410279336}\n",
      "----- \n",
      "\n",
      "0.21957773468841763 0.21957773468841763\n",
      "lambda x: np.sqrt(2 * np.power(x.s, 2) + np.power(x.c, 2))\n",
      "0.00%\n",
      "{'HR': 0.5202066801992987, 'EHR': 8.117105748465013, 'normalised recall': 0.21957773468841763, 'nDCG': 0.18870843557582107}\n",
      "----- \n",
      "\n",
      "0.21957773468841763 0.22120075398007014\n",
      "lambda x: x.s + x.c\n",
      "0.74%\n",
      "{'HR': 0.5222365750138402, 'EHR': 8.231851589690388, 'normalised recall': 0.22120075398007014, 'nDCG': 0.18971087070197695}\n",
      "----- \n",
      "\n",
      "0.22120075398007014 0.22202755357946333\n",
      "lambda x: 2 * x.s + x.c\n",
      "0.37%\n",
      "{'HR': 0.5224211109060712, 'EHR': 8.319404352602016, 'normalised recall': 0.22202755357946333, 'nDCG': 0.18968150070765238}\n",
      "----- \n",
      "\n",
      "0.22202755357946333 0.2271792571779517\n",
      "lambda x: x.s * x.c\n",
      "2.32%\n",
      "{'HR': 0.5320169773020853, 'EHR': 10.215432833038676, 'normalised recall': 0.2271792571779517, 'nDCG': 0.16752891720657953}\n",
      "----- \n",
      "\n",
      "0.2271792571779517 0.2271903094697794\n",
      "lambda x: x.z * x.s\n",
      "0.00%\n",
      "{'HR': 0.5157778187857538, 'EHR': 9.88001489227466, 'normalised recall': 0.2271903094697794, 'nDCG': 0.17583235294901658}\n",
      "----- \n",
      "\n",
      "0.2271903094697794 0.23560416531352313\n",
      "lambda x: x.lift * x.s * x.c\n",
      "3.70%\n",
      "{'HR': 0.5318324414098542, 'EHR': 9.939643107788745, 'normalised recall': 0.23560416531352313, 'nDCG': 0.18657894759132407}\n",
      "----- \n",
      "\n",
      "0.23560416531352313 0.23560416531352313\n",
      "lambda x: x.z * x.s * x.c\n",
      "0.00%\n",
      "{'HR': 0.5318324414098542, 'EHR': 9.939643107788745, 'normalised recall': 0.23560416531352313, 'nDCG': 0.18657894759132407}\n",
      "----- \n",
      "\n",
      "0.23560416531352313 0.2396081919142624\n",
      "lambda x: x.z * x.s * x.s * x.c\n",
      "1.70%\n",
      "{'HR': 0.5381066617457095, 'EHR': 10.31081476699866, 'normalised recall': 0.2396081919142624, 'nDCG': 0.1812220256639104}\n",
      "----- \n",
      "\n"
     ]
    }
   ],
   "source": [
    "last = 1\n",
    "for i in sorted(results, key=lambda x: x[1][\"normalised recall\"], reverse=False):\n",
    "    gain = i[1][\"normalised recall\"]/last - 1\n",
    "    print(last, i[1][\"normalised recall\"])\n",
    "    print(i[0])\n",
    "    print(\"{:.2f}%\".format(gain*100))\n",
    "    print(i[1])\n",
    "    print(\"-\"*5, '\\n')\n",
    "    \n",
    "    last = i[1][\"normalised recall\"]"
   ]
  },
  {
   "cell_type": "code",
   "execution_count": 121,
   "id": "84ed606b",
   "metadata": {},
   "outputs": [
    {
     "name": "stdout",
     "output_type": "stream",
     "text": [
      "0,5320169773020853\n",
      "0,5222365750138402\n",
      "0,5196530725226056\n",
      "0,5224211109060712\n",
      "0,5202066801992987\n",
      "0,5202066801992987\n",
      "0,5318324414098542\n",
      "0,5157778187857538\n",
      "0,5318324414098542\n",
      "0,5381066617457095\n",
      "-----\n",
      "0,2271792571779517\n",
      "0,22120075398007014\n",
      "0,21911639495784002\n",
      "0,22202755357946333\n",
      "0,21957773468841763\n",
      "0,21957773468841763\n",
      "0,23560416531352313\n",
      "0,2271903094697794\n",
      "0,23560416531352313\n",
      "0,2396081919142624\n",
      "-----\n",
      "0,16752891720657953\n",
      "0,18971087070197695\n",
      "0,18831996732359677\n",
      "0,18968150070765238\n",
      "0,18871293410279336\n",
      "0,18870843557582107\n",
      "0,18657894759132407\n",
      "0,17583235294901658\n",
      "0,18657894759132407\n",
      "0,1812220256639104\n"
     ]
    }
   ],
   "source": [
    "for i in results:\n",
    "    print(f\"{i[1]['HR']}\".replace(\".\", \",\"))\n",
    "\n",
    "print(\"-\"*5)\n",
    "for i in results:\n",
    "    print(f\"{i[1]['normalised recall']}\".replace(\".\", \",\"))\n",
    "\n",
    "print(\"-\"*5)\n",
    "for i in results:\n",
    "    print(f\"{i[1]['nDCG']}\".replace(\".\", \",\"))"
   ]
  },
  {
   "cell_type": "markdown",
   "id": "344a21aa",
   "metadata": {},
   "source": [
    "# Results\n",
    "sum(rule.s * rule.c) --> 23.020"
   ]
  },
  {
   "cell_type": "code",
   "execution_count": 122,
   "id": "b374272d",
   "metadata": {
    "scrolled": true
   },
   "outputs": [
    {
     "name": "stderr",
     "output_type": "stream",
     "text": [
      "100%|██████████| 5419/5419 [01:21<00:00, 66.75it/s]"
     ]
    },
    {
     "name": "stdout",
     "output_type": "stream",
     "text": [
      "avg len: 19.966784\n",
      "HR@20\t0.23325\n",
      "normalised recall@20\t0.06476\n",
      "EHR@20\t4.65732\n",
      "nDCG@20\t0.03922\n"
     ]
    },
    {
     "name": "stderr",
     "output_type": "stream",
     "text": [
      "\n"
     ]
    }
   ],
   "source": [
    "ur = User_Recommender(user_rules)\n",
    "hr = hitrate(ur, k, partition_size)"
   ]
  },
  {
   "cell_type": "markdown",
   "id": "6e280363",
   "metadata": {},
   "source": [
    "no filter: 36139; 08554 <br>\n",
    "25: idem<br>"
   ]
  },
  {
   "cell_type": "code",
   "execution_count": 123,
   "id": "5062888b",
   "metadata": {},
   "outputs": [
    {
     "name": "stderr",
     "output_type": "stream",
     "text": [
      "100%|██████████| 5419/5419 [02:06<00:00, 42.98it/s]"
     ]
    },
    {
     "name": "stdout",
     "output_type": "stream",
     "text": [
      "avg len: 19.961063\n",
      "HR@20\t0.43753\n",
      "normalised recall@20\t0.17079\n",
      "EHR@20\t8.73366\n",
      "nDCG@20\t0.08909\n"
     ]
    },
    {
     "name": "stderr",
     "output_type": "stream",
     "text": [
      "\n"
     ]
    }
   ],
   "source": [
    "score_function = lambda x: 2 * x.s + x.c\n",
    "\n",
    "ar = Assos_Recommender(rules, score_function)\n",
    "ur = User_Recommender(user_rules)\n",
    "cr = Combo_Recommender(ar, ur)\n",
    "hr = hitrate(cr, k, partition_size)"
   ]
  },
  {
   "cell_type": "code",
   "execution_count": 124,
   "id": "67697386",
   "metadata": {},
   "outputs": [],
   "source": [
    "df_test2 = pickle.load(open(f\"pickle_dumps/test_df_{seed_index}.p\", \"rb\"))\n",
    "df_test2 = df_test2.set_index(\"user_id\").to_dict()[\"item_id\"]"
   ]
  },
  {
   "cell_type": "code",
   "execution_count": 125,
   "id": "7ae4c18d",
   "metadata": {},
   "outputs": [],
   "source": [
    "df_test2 = { key: df_test2[key] for key in [69, 420, 42069] }"
   ]
  },
  {
   "cell_type": "code",
   "execution_count": 126,
   "id": "758eaa65",
   "metadata": {},
   "outputs": [
    {
     "name": "stderr",
     "output_type": "stream",
     "text": [
      "100%|██████████| 3/3 [00:00<00:00, 78.95it/s]"
     ]
    },
    {
     "name": "stdout",
     "output_type": "stream",
     "text": [
      "avg len: 17.333333\n",
      "HR@20\t0.66667\n",
      "normalised recall@20\t0.15000\n",
      "EHR@20\t11.55556\n",
      "nDCG@20\t0.17391\n"
     ]
    },
    {
     "name": "stderr",
     "output_type": "stream",
     "text": [
      "\n"
     ]
    }
   ],
   "source": [
    "results2 = hitrate(ar, k, 1, True, df_test2)"
   ]
  },
  {
   "cell_type": "code",
   "execution_count": 127,
   "id": "5e90652a",
   "metadata": {},
   "outputs": [
    {
     "name": "stdout",
     "output_type": "stream",
     "text": [
      "[329]\n",
      "[4, 7, 18, 9, 33, 14, 65, 3, 10, 5, 37, 67]\n",
      "-----\n",
      "[2717 3346 2181 2268  139  353 1263 3556 1788 3058  834  181  385  583\n",
      " 4590  681  775 2425 2139 3138   89  183 1966 2675 3568 1657 3342 4260\n",
      " 3405  687  219  508 1617  403  578 4057 2352 3500 4989  997 1618 2800\n",
      " 2193 2231 1551  195 3994  980 1233 5839 6169 6354   60  924    1 4490\n",
      " 4222 2365  406   24 1719 4552 1580  732  177  853   98 1802  693  305\n",
      " 3046 1904 1465  226  452  445 2570  927  107 1164  878  379  281 2203\n",
      "  322 3848 3066  928  918  193  331  413  234  893  200]\n",
      "[1, 149, 98, 910, 406, 246, 922, 939, 608, 115, 187, 117, 195, 86, 14, 305, 924, 118, 415, 92]\n",
      "-----\n",
      "[1191 1696  829  516 1335 1497  421  730  507   59  889 1553  824 1748\n",
      " 1939 3929 1635 2248  121 2714  366 1831 3729 3642 1718 3612  482  185\n",
      "    7 1029 3437  731 1333  142  708  883  464 1397 1947 1268 1522 2399\n",
      " 1981  787 3129 3412  837  261   22]\n",
      "[28, 1, 121, 416, 279, 64, 243, 284, 661, 7, 269, 377, 282, 283, 421, 455, 440, 556, 232, 406]\n",
      "-----\n"
     ]
    }
   ],
   "source": [
    "for prediction in results2[\"predictions\"]:\n",
    "    items = prediction[0]\n",
    "    target = prediction[1]\n",
    "    recommended = prediction[2]\n",
    "#     print(items)\n",
    "    print(target)\n",
    "    print(recommended)\n",
    "    print(\"-\"*5)"
   ]
  }
 ],
 "metadata": {
  "kernelspec": {
   "display_name": "Python 3 (ipykernel)",
   "language": "python",
   "name": "python3"
  },
  "language_info": {
   "codemirror_mode": {
    "name": "ipython",
    "version": 3
   },
   "file_extension": ".py",
   "mimetype": "text/x-python",
   "name": "python",
   "nbconvert_exporter": "python",
   "pygments_lexer": "ipython3",
   "version": "3.8.6"
  }
 },
 "nbformat": 4,
 "nbformat_minor": 5
}
