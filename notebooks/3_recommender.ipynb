{
 "cells": [
  {
   "cell_type": "markdown",
   "id": "50569d85",
   "metadata": {},
   "source": [
    "## 0. Import packages"
   ]
  },
  {
   "cell_type": "code",
   "execution_count": 1,
   "id": "a0c03281",
   "metadata": {},
   "outputs": [],
   "source": [
    "import pandas as pd\n",
    "import gzip\n",
    "import math\n",
    "from tqdm import tqdm\n",
    "from itertools import chain, combinations\n",
    "from Association import Association\n",
    "import numpy as np\n",
    "tqdm.pandas() #for progres_apply etc."
   ]
  },
  {
   "cell_type": "markdown",
   "id": "a82af1f6",
   "metadata": {},
   "source": [
    "## 1. Load data from previous step"
   ]
  },
  {
   "cell_type": "code",
   "execution_count": 2,
   "id": "7ecf0117",
   "metadata": {},
   "outputs": [],
   "source": [
    "import pickle\n",
    "rules = pickle.load(open(\"pickle_dumps/article_rules.p\", \"rb\"))\n",
    "df_test = pickle.load(open(\"pickle_dumps/test_df.p\", \"rb\"))\n",
    "df_test = df_test.set_index(\"user_id\").to_dict()[\"item_id\"]"
   ]
  },
  {
   "cell_type": "code",
   "execution_count": 3,
   "id": "0ac1c96f",
   "metadata": {
    "scrolled": false
   },
   "outputs": [
    {
     "name": "stdout",
     "output_type": "stream",
     "text": [
      "6997716\n",
      "Conf: 1.00\tSupp: 50.00\t {736, 4, 167, 1576, 780, 750, 1839, 212, 1597} => {1328}\n",
      "Conf: 1.00\tSupp: 50.00\t {736, 167, 1576, 780, 750, 1839, 1328, 212, 1597} => {4}\n",
      "Conf: 0.98\tSupp: 50.00\t {736, 4, 167, 1576, 780, 750, 1328, 212, 1597} => {1839}\n",
      "Conf: 0.98\tSupp: 50.00\t {736, 4, 167, 1576, 750, 1839, 1328, 212, 1597} => {780}\n",
      "Conf: 0.98\tSupp: 50.00\t {4, 167, 1576, 780, 750, 1839, 1328, 212, 1597} => {736}\n",
      "Conf: 0.96\tSupp: 50.00\t {736, 4, 167, 1576, 780, 750, 1839, 1328, 212} => {1597}\n",
      "Conf: 0.96\tSupp: 50.00\t {736, 4, 167, 1576, 780, 750, 1839, 1328, 1597} => {212}\n",
      "Conf: 0.96\tSupp: 50.00\t {736, 4, 167, 1576, 780, 1839, 1328, 212, 1597} => {750}\n",
      "Conf: 0.96\tSupp: 50.00\t {736, 4, 167, 780, 750, 1839, 1328, 212, 1597} => {1576}\n",
      "Conf: 0.96\tSupp: 50.00\t {736, 4, 1576, 780, 750, 1839, 1328, 212, 1597} => {167}\n"
     ]
    }
   ],
   "source": [
    "print(len(rules))\n",
    "for i in range(10):\n",
    "    if i < len(rules):\n",
    "        print(rules[i])"
   ]
  },
  {
   "cell_type": "code",
   "execution_count": 4,
   "id": "4d6f9cfd",
   "metadata": {},
   "outputs": [],
   "source": [
    "class Recommender():\n",
    "    def __init__(self, df_train, assos, df_test):\n",
    "        pass\n",
    "    \n",
    "    def recommend(self, user_id, k):\n",
    "        pass        "
   ]
  },
  {
   "cell_type": "code",
   "execution_count": 29,
   "id": "ffda1f1f",
   "metadata": {},
   "outputs": [],
   "source": [
    "class Assos_Recommender(Recommender):\n",
    "    def __init__(self, assos):\n",
    "        # use popular items to fill unused space\n",
    "        # TODO (df_train is used for this)\n",
    "        \n",
    "        self.assos = sorted(assos, key=lambda x: x.s, reverse=True)\n",
    "        \n",
    "#     def get_items(self, user_id):\n",
    "#         return self.df_test[user_id]\n",
    "    \n",
    "    def recommend(self, user_items, k):\n",
    "        recommendation = set()\n",
    "        for a in self.assos:\n",
    "            for l in a.left:\n",
    "                # break if any element is not in the user session\n",
    "                if l not in user_items:\n",
    "                    break\n",
    "                    \n",
    "                # all elements are in the user session --> add RHS of rule to the recommendation\n",
    "                r = list(a.right)[0]\n",
    "                if r not in user_items:\n",
    "                    recommendation.add(r)\n",
    "                        \n",
    "            if len(recommendation) >= k and k != -1:\n",
    "                break\n",
    "                \n",
    "        return recommendation"
   ]
  },
  {
   "cell_type": "code",
   "execution_count": 6,
   "id": "be2dcbf5",
   "metadata": {},
   "outputs": [
    {
     "name": "stdout",
     "output_type": "stream",
     "text": [
      "[([3, 4, 5, 6, 7, 8, 9], [0, 1, 2]), ([0, 1, 2, 6, 7, 8, 9], [3, 4, 5]), ([0, 1, 2, 3, 4, 5, 8, 9], [6, 7]), ([0, 1, 2, 3, 4, 5, 6, 7], [8, 9])]\n"
     ]
    }
   ],
   "source": [
    "def splitUser(user_items):\n",
    "    splits = []\n",
    "    \n",
    "#     scores = cross_val_score(clf, X, y, cv=5)\n",
    "    tmp = np.array_split(user_items, 4)\n",
    "    \n",
    "    for l in tmp:\n",
    "        if len(l) > 0:\n",
    "            splits.append(list(l))\n",
    "    \n",
    "    res = []\n",
    "    for i in splits:\n",
    "        join = []\n",
    "        for j in splits:\n",
    "            if i != j:\n",
    "                join += j\n",
    "        res.append((join, i))\n",
    "                    \n",
    "                \n",
    "\n",
    "    return res\n",
    "\n",
    "print(splitUser(range(10)))"
   ]
  },
  {
   "cell_type": "code",
   "execution_count": 7,
   "id": "c15a800e",
   "metadata": {},
   "outputs": [],
   "source": [
    "def hitrate(rc, k):\n",
    "    hits = 0\n",
    "    counts = 0\n",
    "    avg_len = 0\n",
    "    for user in tqdm(df_test):\n",
    "        user_items = df_test[user]\n",
    "        split_user = splitUser(user_items)\n",
    "        for split in split_user:\n",
    "            r = rc.recommend(split[0], k)\n",
    "        \n",
    "            avg_len += len(r)/len(split_user)\n",
    "            \n",
    "            for item in split[1]:\n",
    "                if item in r:\n",
    "                    hits += (item in r) / len(split_user)\n",
    "                    break\n",
    "                \n",
    "        counts += 1\n",
    "    \n",
    "    print(\"avg len: {:f}\".format(avg_len / len(df_test)))\n",
    "    if k == -1:\n",
    "        print(\"HR\\t{:.5f}\".format((hits / counts)))\n",
    "    else:\n",
    "        print(\"HR@{}\\t{:.5f}\".format(k, (hits / counts)))\n",
    "    return hits / counts"
   ]
  },
  {
   "cell_type": "code",
   "execution_count": 31,
   "id": "234d3e96",
   "metadata": {
    "scrolled": false
   },
   "outputs": [
    {
     "name": "stdout",
     "output_type": "stream",
     "text": [
      "go\n"
     ]
    },
    {
     "name": "stderr",
     "output_type": "stream",
     "text": [
      "100%|██████████| 101/101 [05:55<00:00,  3.52s/it]"
     ]
    },
    {
     "name": "stdout",
     "output_type": "stream",
     "text": [
      "avg len: 20.000000\n",
      "HR@20\t0.33416\n"
     ]
    },
    {
     "name": "stderr",
     "output_type": "stream",
     "text": [
      "\n"
     ]
    }
   ],
   "source": [
    "rc = Assos_Recommender(rules)\n",
    "print(\"go\")\n",
    "hr = hitrate(rc, 10)"
   ]
  },
  {
   "cell_type": "code",
   "execution_count": null,
   "id": "e04ef7be",
   "metadata": {},
   "outputs": [],
   "source": [
    "print(hr)"
   ]
  },
  {
   "cell_type": "markdown",
   "id": "fedae42e",
   "metadata": {},
   "source": [
    "# ??. Store the association rules as pickle file for further use"
   ]
  },
  {
   "cell_type": "code",
   "execution_count": null,
   "id": "48cce044",
   "metadata": {},
   "outputs": [],
   "source": [
    "# import pickle\n",
    "# pickle.dump(rules, open(\"pickle_dumps/article_rules.p\", \"wb\"))"
   ]
  }
 ],
 "metadata": {
  "kernelspec": {
   "display_name": "Python 3 (ipykernel)",
   "language": "python",
   "name": "python3"
  },
  "language_info": {
   "codemirror_mode": {
    "name": "ipython",
    "version": 3
   },
   "file_extension": ".py",
   "mimetype": "text/x-python",
   "name": "python",
   "nbconvert_exporter": "python",
   "pygments_lexer": "ipython3",
   "version": "3.8.6"
  }
 },
 "nbformat": 4,
 "nbformat_minor": 5
}
