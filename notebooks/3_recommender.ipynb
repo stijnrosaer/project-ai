{
 "cells": [
  {
   "cell_type": "markdown",
   "id": "50569d85",
   "metadata": {},
   "source": [
    "## 0. Import packages"
   ]
  },
  {
   "cell_type": "code",
   "execution_count": 1,
   "id": "a0c03281",
   "metadata": {},
   "outputs": [],
   "source": [
    "import pandas as pd\n",
    "import gzip\n",
    "import math\n",
    "from tqdm import tqdm\n",
    "from itertools import chain, combinations\n",
    "from Association import Association\n",
    "import numpy as np\n",
    "import random\n",
    "tqdm.pandas() #for progres_apply etc."
   ]
  },
  {
   "cell_type": "code",
   "execution_count": 2,
   "id": "a02c1d93",
   "metadata": {},
   "outputs": [],
   "source": [
    "seed_index = 0"
   ]
  },
  {
   "cell_type": "markdown",
   "id": "a82af1f6",
   "metadata": {},
   "source": [
    "## 1. Load data from previous step"
   ]
  },
  {
   "cell_type": "code",
   "execution_count": 3,
   "id": "7ecf0117",
   "metadata": {},
   "outputs": [],
   "source": [
    "import pickle\n",
    "rules = pickle.load(open(\"pickle_dumps/article_rules.p\", \"rb\"))\n",
    "user_rules = pickle.load(open(\"pickle_dumps/user_rules.p\", \"rb\"))"
   ]
  },
  {
   "cell_type": "code",
   "execution_count": 4,
   "id": "828fc0a0",
   "metadata": {},
   "outputs": [],
   "source": [
    "df_test = pickle.load(open(f\"pickle_dumps/test_df_{seed_index}.p\", \"rb\"))\n",
    "df_test = df_test.set_index(\"user_id\").to_dict()[\"item_id\"]"
   ]
  },
  {
   "cell_type": "code",
   "execution_count": 5,
   "id": "43d21dbe",
   "metadata": {},
   "outputs": [],
   "source": [
    "df_train = pickle.load(open(f\"pickle_dumps/train_df_{seed_index}.p\", \"rb\"))\n",
    "df_train = df_train.set_index(\"user_id\").to_dict()[\"item_id\"]"
   ]
  },
  {
   "cell_type": "code",
   "execution_count": 6,
   "id": "4d6f9cfd",
   "metadata": {},
   "outputs": [],
   "source": [
    "class Recommender():\n",
    "    def __init__(self, assos):\n",
    "        pass\n",
    "    \n",
    "    def recommend(self, user_items, k, user_id=None, split=None):\n",
    "        pass        "
   ]
  },
  {
   "cell_type": "code",
   "execution_count": 7,
   "id": "c15a800e",
   "metadata": {},
   "outputs": [],
   "source": [
    "def hitrate(rc, k, nr_users = float(\"1\")):\n",
    "    hits = 0\n",
    "    ndcg = []\n",
    "    counts = 0\n",
    "    avg_len = 0\n",
    "    n_recall = 0\n",
    "    \n",
    "    \n",
    "    \n",
    "    user_ids = list(df_test.keys())\n",
    "    for user in tqdm(random.sample(user_ids, int(len(user_ids) * nr_users))):\n",
    "        user_target = df_test[user]\n",
    "        user_items = df_train[user]\n",
    "        \n",
    "        r = rc.recommend(user_items, k, user)\n",
    "\n",
    "        avg_len += len(r)\n",
    "\n",
    "        correct = 0\n",
    "        hit = False\n",
    "        for item in user_target:\n",
    "            if item in r:\n",
    "                if not hit:\n",
    "                    hits += 1\n",
    "                    hit = True\n",
    "                correct += 1\n",
    "        n_recall += correct / max(1, (min(len(k), len(user_target))))\n",
    "\n",
    "        dcg = 0\n",
    "        idcg = sum(1/np.log2(i+1) for i in range(1,(max(1, len(r)))+1))\n",
    "        for i, rec in enumerate(r):\n",
    "            good = 1 if rec in user_target else 0\n",
    "            dcg += (2**good - 1)/(np.log2(i+2))\n",
    "        ndcg.append(dcg/idcg)\n",
    "            \n",
    "                \n",
    "                \n",
    "        counts += 1\n",
    "    \n",
    "    print(\"avg len: {:f}\".format(avg_len / counts))\n",
    "    if k == -1:\n",
    "        print(\"HR\\t{:.5f}\".format((hits / counts)))\n",
    "        print(\"EHR\\t{:.5f}\".format((hits / counts) * (avg_len /  counts)))\n",
    "    else:\n",
    "        print(\"HR@{}\\t{:.5f}\".format(k, (hits / counts)))\n",
    "        print(\"normalised recall@{}\\t{:.5f}\".format(k, (n_recall / counts)))\n",
    "        print(\"EHR@{}\\t{:.5f}\".format(k, (hits / counts) * (avg_len /  counts)))\n",
    "    print(\"nDCG@{}\\t{:.5f}\".format(k, (sum(ndcg) / len(ndcg))))\n",
    "    return {\"HR\": hits /counts,\n",
    "           \"EHR\": (hits / counts) * (avg_len /  counts),\n",
    "           \"normalised recall\": (n_recall / counts),\n",
    "           \"nDCG\": sum(ndcg) / len(ndcg)}"
   ]
  },
  {
   "cell_type": "code",
   "execution_count": 8,
   "id": "ffda1f1f",
   "metadata": {},
   "outputs": [],
   "source": [
    "class Assos_Recommender(Recommender):\n",
    "    def __init__(self, assos, sorter=lambda x: x.s * x.c):\n",
    "        # use popular items to fill unused space\n",
    "        # TODO (df_train is used for this)\n",
    "        \n",
    "        self.sorter = sorter\n",
    "        self.assos = sorted(assos, key=self.sorter, reverse=True)[:100000]\n",
    "        \n",
    "#     def get_items(self, user_id):\n",
    "#         return self.df_test[user_id]\n",
    "    \n",
    "    def recommend(self, user_items, k, user_id=None, split=None):\n",
    "        recommendation = set()\n",
    "        user_items = set(user_items)\n",
    "        for a in self.assos:\n",
    "#             print(a.left, user_items)\n",
    "            stop = False\n",
    "            for l in a.left:\n",
    "                # break if any element is not in the user session\n",
    "                if l not in user_items:\n",
    "                    stop = True\n",
    "                    break\n",
    "                    \n",
    "                # all elements are in the user session --> add RHS of rule to the recommendation\n",
    "            if not stop:\n",
    "                r = a.right\n",
    "                for item in r:\n",
    "                    if item not in user_items:\n",
    "                        recommendation.add(item)\n",
    "                        if len(recommendation) >= k and k != -1:\n",
    "                            break\n",
    "                        \n",
    "            if len(recommendation) >= k and k != -1:\n",
    "                break\n",
    "                \n",
    "        return recommendation"
   ]
  },
  {
   "cell_type": "markdown",
   "id": "0bd13c08",
   "metadata": {},
   "source": [
    "# Results\n",
    "rule.s --> 18.317 <br>\n",
    "rule.s * rule.c --> 20.545"
   ]
  },
  {
   "cell_type": "code",
   "execution_count": 9,
   "id": "aa207102",
   "metadata": {},
   "outputs": [],
   "source": [
    "results = []\n",
    "partition_size = 0.01\n",
    "k = 10"
   ]
  },
  {
   "cell_type": "code",
   "execution_count": 10,
   "id": "b7b335ca",
   "metadata": {},
   "outputs": [
    {
     "name": "stderr",
     "output_type": "stream",
     "text": [
      "100%|██████████| 629/629 [00:26<00:00, 23.49it/s]"
     ]
    },
    {
     "name": "stdout",
     "output_type": "stream",
     "text": [
      "avg len: 3.950715\n",
      "HR@10\t0.26391\n",
      "normalised recall@10\t0.08178\n",
      "EHR@10\t1.04264\n",
      "nDCG@10\t0.07166\n"
     ]
    },
    {
     "name": "stderr",
     "output_type": "stream",
     "text": [
      "\n"
     ]
    }
   ],
   "source": [
    "ar = Assos_Recommender(rules, lambda x: x.z)\n",
    "results.append((\"lambda x: x.z\", hitrate(ar, k, partition_size)))"
   ]
  },
  {
   "cell_type": "code",
   "execution_count": 11,
   "id": "234d3e96",
   "metadata": {},
   "outputs": [
    {
     "name": "stderr",
     "output_type": "stream",
     "text": [
      "100%|██████████| 629/629 [00:00<00:00, 1283.68it/s]"
     ]
    },
    {
     "name": "stdout",
     "output_type": "stream",
     "text": [
      "avg len: 9.850556\n",
      "HR@10\t0.67250\n",
      "normalised recall@10\t0.28095\n",
      "EHR@10\t6.62446\n",
      "nDCG@10\t0.13309\n"
     ]
    },
    {
     "name": "stderr",
     "output_type": "stream",
     "text": [
      "\n"
     ]
    }
   ],
   "source": [
    "ar = Assos_Recommender(rules, lambda x: x.s * x.c)\n",
    "results.append((\"lambda x: x.s * x.c\", hitrate(ar, k, partition_size)))"
   ]
  },
  {
   "cell_type": "code",
   "execution_count": 12,
   "id": "79208497",
   "metadata": {},
   "outputs": [
    {
     "name": "stderr",
     "output_type": "stream",
     "text": [
      "100%|██████████| 629/629 [00:00<00:00, 1776.85it/s]"
     ]
    },
    {
     "name": "stdout",
     "output_type": "stream",
     "text": [
      "avg len: 9.888712\n",
      "HR@10\t0.68839\n",
      "normalised recall@10\t0.27784\n",
      "EHR@10\t6.80733\n",
      "nDCG@10\t0.13936\n"
     ]
    },
    {
     "name": "stderr",
     "output_type": "stream",
     "text": [
      "\n"
     ]
    }
   ],
   "source": [
    "ar = Assos_Recommender(rules, lambda x: x.s + x.c)\n",
    "results.append((\"lambda x: x.s + x.c\", hitrate(ar, k, partition_size)))"
   ]
  },
  {
   "cell_type": "code",
   "execution_count": 13,
   "id": "fc7c672e",
   "metadata": {},
   "outputs": [
    {
     "name": "stderr",
     "output_type": "stream",
     "text": [
      "100%|██████████| 629/629 [00:12<00:00, 50.01it/s]"
     ]
    },
    {
     "name": "stdout",
     "output_type": "stream",
     "text": [
      "avg len: 4.290938\n",
      "HR@10\t0.39428\n",
      "normalised recall@10\t0.12967\n",
      "EHR@10\t1.69182\n",
      "nDCG@10\t0.10903\n"
     ]
    },
    {
     "name": "stderr",
     "output_type": "stream",
     "text": [
      "\n"
     ]
    }
   ],
   "source": [
    "ar = Assos_Recommender(rules, lambda x: x.s)\n",
    "results.append((\"lambda x: x.s\", hitrate(ar, k, partition_size)))"
   ]
  },
  {
   "cell_type": "code",
   "execution_count": 14,
   "id": "35b5d6e1",
   "metadata": {},
   "outputs": [
    {
     "name": "stderr",
     "output_type": "stream",
     "text": [
      "100%|██████████| 629/629 [00:00<00:00, 2536.29it/s]"
     ]
    },
    {
     "name": "stdout",
     "output_type": "stream",
     "text": [
      "avg len: 9.945946\n",
      "HR@10\t0.68680\n",
      "normalised recall@10\t0.26959\n",
      "EHR@10\t6.83092\n",
      "nDCG@10\t0.13367\n"
     ]
    },
    {
     "name": "stderr",
     "output_type": "stream",
     "text": [
      "\n"
     ]
    }
   ],
   "source": [
    "ar = Assos_Recommender(rules, lambda x: x.c)\n",
    "results.append((\"lambda x: x.c\", hitrate(ar, k, partition_size)))"
   ]
  },
  {
   "cell_type": "code",
   "execution_count": 15,
   "id": "918c9fdd",
   "metadata": {},
   "outputs": [
    {
     "name": "stderr",
     "output_type": "stream",
     "text": [
      "100%|██████████| 629/629 [00:26<00:00, 23.79it/s]"
     ]
    },
    {
     "name": "stdout",
     "output_type": "stream",
     "text": [
      "avg len: 3.696343\n",
      "HR@10\t0.30207\n",
      "normalised recall@10\t0.09762\n",
      "EHR@10\t1.11654\n",
      "nDCG@10\t0.09027\n"
     ]
    },
    {
     "name": "stderr",
     "output_type": "stream",
     "text": [
      "\n"
     ]
    }
   ],
   "source": [
    "ar = Assos_Recommender(rules, lambda x: x.lift)\n",
    "results.append((\"lambda x: x.lift\", hitrate(ar, k, partition_size)))"
   ]
  },
  {
   "cell_type": "code",
   "execution_count": 16,
   "id": "b099dfd6",
   "metadata": {},
   "outputs": [
    {
     "name": "stderr",
     "output_type": "stream",
     "text": [
      "100%|██████████| 629/629 [00:01<00:00, 605.39it/s]"
     ]
    },
    {
     "name": "stdout",
     "output_type": "stream",
     "text": [
      "avg len: 9.869634\n",
      "HR@10\t0.20986\n",
      "normalised recall@10\t0.04946\n",
      "EHR@10\t2.07121\n",
      "nDCG@10\t0.03475\n"
     ]
    },
    {
     "name": "stderr",
     "output_type": "stream",
     "text": [
      "\n"
     ]
    }
   ],
   "source": [
    "ar = Assos_Recommender(rules, lambda x: -x.lift)\n",
    "results.append((\"lambda x: -x.lift\", hitrate(ar, k, partition_size)))"
   ]
  },
  {
   "cell_type": "code",
   "execution_count": 17,
   "id": "109ec4af",
   "metadata": {},
   "outputs": [
    {
     "name": "stderr",
     "output_type": "stream",
     "text": [
      "100%|██████████| 629/629 [00:00<00:00, 2117.84it/s]"
     ]
    },
    {
     "name": "stdout",
     "output_type": "stream",
     "text": [
      "avg len: 9.922099\n",
      "HR@10\t0.65978\n",
      "normalised recall@10\t0.26304\n",
      "EHR@10\t6.54638\n",
      "nDCG@10\t0.13331\n"
     ]
    },
    {
     "name": "stderr",
     "output_type": "stream",
     "text": [
      "\n"
     ]
    }
   ],
   "source": [
    "ar = Assos_Recommender(rules, lambda x: 2 * x.s + x.c)\n",
    "results.append((\"lambda x: 2 * x.s + x.c\", hitrate(ar, k, partition_size)))"
   ]
  },
  {
   "cell_type": "code",
   "execution_count": 18,
   "id": "c3dda36b",
   "metadata": {},
   "outputs": [
    {
     "name": "stderr",
     "output_type": "stream",
     "text": [
      "100%|██████████| 629/629 [00:02<00:00, 250.60it/s]"
     ]
    },
    {
     "name": "stdout",
     "output_type": "stream",
     "text": [
      "avg len: 9.562798\n",
      "HR@10\t0.65024\n",
      "normalised recall@10\t0.24249\n",
      "EHR@10\t6.21810\n",
      "nDCG@10\t0.13129\n"
     ]
    },
    {
     "name": "stderr",
     "output_type": "stream",
     "text": [
      "\n"
     ]
    }
   ],
   "source": [
    "ar = Assos_Recommender(rules, lambda x: x.s * x.s * x.c)\n",
    "results.append((\"lambda x: x.s * x.s * x.c\", hitrate(ar, k, partition_size)))"
   ]
  },
  {
   "cell_type": "code",
   "execution_count": 19,
   "id": "77814a6a",
   "metadata": {},
   "outputs": [
    {
     "name": "stderr",
     "output_type": "stream",
     "text": [
      "100%|██████████| 629/629 [00:00<00:00, 2222.61it/s]"
     ]
    },
    {
     "name": "stdout",
     "output_type": "stream",
     "text": [
      "avg len: 9.917329\n",
      "HR@10\t0.65501\n",
      "normalised recall@10\t0.23408\n",
      "EHR@10\t6.49593\n",
      "nDCG@10\t0.12971\n"
     ]
    },
    {
     "name": "stderr",
     "output_type": "stream",
     "text": [
      "\n"
     ]
    }
   ],
   "source": [
    "ar = Assos_Recommender(rules, lambda x: np.sqrt(np.power(x.s, 2) + np.power(x.c, 2)))\n",
    "results.append((\"lambda x: np.sqrt(np.power(x.s, 2) + np.power(x.c, 2))\", hitrate(ar, k, partition_size)))"
   ]
  },
  {
   "cell_type": "code",
   "execution_count": 21,
   "id": "44361f85",
   "metadata": {},
   "outputs": [
    {
     "name": "stderr",
     "output_type": "stream",
     "text": [
      "100%|██████████| 629/629 [00:00<00:00, 2114.11it/s]"
     ]
    },
    {
     "name": "stdout",
     "output_type": "stream",
     "text": [
      "avg len: 9.910970\n",
      "HR@10\t0.66296\n",
      "normalised recall@10\t0.25574\n",
      "EHR@10\t6.57055\n",
      "nDCG@10\t0.12606\n"
     ]
    },
    {
     "name": "stderr",
     "output_type": "stream",
     "text": [
      "\n"
     ]
    }
   ],
   "source": [
    "ar = Assos_Recommender(rules, lambda x: np.sqrt(2 * np.power(x.s, 2) + np.power(x.c, 2)))\n",
    "results.append((\"lambda x: np.sqrt(2 * np.power(x.s, 2) + np.power(x.c, 2))\", hitrate(ar, k, partition_size)))"
   ]
  },
  {
   "cell_type": "code",
   "execution_count": 22,
   "id": "407bc66e",
   "metadata": {},
   "outputs": [
    {
     "name": "stderr",
     "output_type": "stream",
     "text": [
      "100%|██████████| 629/629 [00:01<00:00, 622.16it/s]"
     ]
    },
    {
     "name": "stdout",
     "output_type": "stream",
     "text": [
      "avg len: 9.871224\n",
      "HR@10\t0.26073\n",
      "normalised recall@10\t0.06562\n",
      "EHR@10\t2.57374\n",
      "nDCG@10\t0.04275\n"
     ]
    },
    {
     "name": "stderr",
     "output_type": "stream",
     "text": [
      "\n"
     ]
    }
   ],
   "source": [
    "ar = Assos_Recommender(rules, lambda x: -np.abs(x.lift - 1))\n",
    "results.append((\"lambda x: -np.abs(x.lift - 1)\", hitrate(ar, k, partition_size)))"
   ]
  },
  {
   "cell_type": "code",
   "execution_count": 23,
   "id": "6e3d6657",
   "metadata": {},
   "outputs": [
    {
     "name": "stderr",
     "output_type": "stream",
     "text": [
      "100%|██████████| 629/629 [00:26<00:00, 24.06it/s]"
     ]
    },
    {
     "name": "stdout",
     "output_type": "stream",
     "text": [
      "avg len: 3.885533\n",
      "HR@10\t0.29889\n",
      "normalised recall@10\t0.10006\n",
      "EHR@10\t1.16134\n",
      "nDCG@10\t0.08596\n"
     ]
    },
    {
     "name": "stderr",
     "output_type": "stream",
     "text": [
      "\n"
     ]
    }
   ],
   "source": [
    "ar = Assos_Recommender(rules, lambda x: np.abs(x.lift - 1))\n",
    "results.append((\"lambda x: np.abs(x.lift - 1)\", hitrate(ar, k, partition_size)))"
   ]
  },
  {
   "cell_type": "code",
   "execution_count": 24,
   "id": "57c93a6f",
   "metadata": {},
   "outputs": [
    {
     "name": "stderr",
     "output_type": "stream",
     "text": [
      "100%|██████████| 629/629 [00:12<00:00, 51.84it/s]"
     ]
    },
    {
     "name": "stdout",
     "output_type": "stream",
     "text": [
      "avg len: 9.709062\n",
      "HR@10\t0.71383\n",
      "normalised recall@10\t0.29420\n",
      "EHR@10\t6.93063\n",
      "nDCG@10\t0.14416\n"
     ]
    },
    {
     "name": "stderr",
     "output_type": "stream",
     "text": [
      "\n"
     ]
    }
   ],
   "source": [
    "ar = Assos_Recommender(rules, lambda x: x.lift * x.s * x.c)\n",
    "results.append((\"lambda x: x.lift * x.s * x.c\", hitrate(ar, k, partition_size)))"
   ]
  },
  {
   "cell_type": "code",
   "execution_count": 25,
   "id": "c3416add",
   "metadata": {},
   "outputs": [
    {
     "name": "stderr",
     "output_type": "stream",
     "text": [
      "100%|██████████| 629/629 [00:28<00:00, 22.26it/s]"
     ]
    },
    {
     "name": "stdout",
     "output_type": "stream",
     "text": [
      "avg len: 2.406995\n",
      "HR@10\t0.25437\n",
      "normalised recall@10\t0.09782\n",
      "EHR@10\t0.61227\n",
      "nDCG@10\t0.08587\n"
     ]
    },
    {
     "name": "stderr",
     "output_type": "stream",
     "text": [
      "\n"
     ]
    }
   ],
   "source": [
    "ar = Assos_Recommender(rules, lambda x: x.z * x.s)\n",
    "results.append((\"lambda x: x.z * x.s\", hitrate(ar, k, partition_size)))"
   ]
  },
  {
   "cell_type": "code",
   "execution_count": 26,
   "id": "14a17f76",
   "metadata": {},
   "outputs": [
    {
     "name": "stderr",
     "output_type": "stream",
     "text": [
      "100%|██████████| 629/629 [00:12<00:00, 50.91it/s]"
     ]
    },
    {
     "name": "stdout",
     "output_type": "stream",
     "text": [
      "avg len: 9.618442\n",
      "HR@10\t0.69634\n",
      "normalised recall@10\t0.28730\n",
      "EHR@10\t6.69774\n",
      "nDCG@10\t0.14411\n"
     ]
    },
    {
     "name": "stderr",
     "output_type": "stream",
     "text": [
      "\n"
     ]
    }
   ],
   "source": [
    "ar = Assos_Recommender(rules, lambda x: x.z * x.s *x.c)\n",
    "results.append((\"lambda x: x.z * x.s * x.c\", hitrate(ar, k, partition_size)))"
   ]
  },
  {
   "cell_type": "code",
   "execution_count": 31,
   "id": "e476187a",
   "metadata": {},
   "outputs": [
    {
     "name": "stderr",
     "output_type": "stream",
     "text": [
      "100%|██████████| 629/629 [00:27<00:00, 22.92it/s]"
     ]
    },
    {
     "name": "stdout",
     "output_type": "stream",
     "text": [
      "avg len: 4.143084\n",
      "HR@10\t0.44356\n",
      "normalised recall@10\t0.18344\n",
      "EHR@10\t1.83771\n",
      "nDCG@10\t0.15634\n"
     ]
    },
    {
     "name": "stderr",
     "output_type": "stream",
     "text": [
      "\n"
     ]
    }
   ],
   "source": [
    "ar = Assos_Recommender(rules, lambda x: x.z * x.s * x.s *x.c)\n",
    "results.append((\"lambda x: x.z * x.s * x.s * x.c\", hitrate(ar, k, partition_size)))"
   ]
  },
  {
   "cell_type": "code",
   "execution_count": 39,
   "id": "58990b1e",
   "metadata": {},
   "outputs": [
    {
     "name": "stderr",
     "output_type": "stream",
     "text": [
      "100%|██████████| 629/629 [00:00<00:00, 1872.02it/s]"
     ]
    },
    {
     "name": "stdout",
     "output_type": "stream",
     "text": [
      "avg len: 9.942766\n",
      "HR@10\t0.65978\n",
      "normalised recall@10\t0.25565\n",
      "EHR@10\t6.56001\n",
      "nDCG@10\t0.12741\n"
     ]
    },
    {
     "name": "stderr",
     "output_type": "stream",
     "text": [
      "\n"
     ]
    }
   ],
   "source": [
    "ar = Assos_Recommender(rules, lambda x: np.sqrt(np.power(x.z, 2) + np.power(x.lift, 2) + np.power(x.s, 2) + np.power(x.s, 2) + np.power(x.c, 2)))\n",
    "results.append((\"lambda x: np.sqrt(np.power(x.z, 2) + np.power(x.lift, 2) + np.power(x.s, 2) + np.power(x.s, 2) + np.power(x.c, 2))\", hitrate(ar, k, partition_size)))"
   ]
  },
  {
   "cell_type": "code",
   "execution_count": null,
   "id": "b564f103",
   "metadata": {},
   "outputs": [],
   "source": [
    "ar = Assos_Recommender(rules, lambda x: np.sqrt(np.power(x.z, 2) + np.power(x.lift, 2) + np.power(x.s, 2) + np.power(x.s, 2) + np.power(x.c, 2)))\n",
    "results.append((\"lambda x: np.sqrt(np.power(x.z, 2) + np.power(x.lift, 2) + np.power(x.s, 2) + np.power(x.s, 2) + np.power(x.c, 2))\", hitrate(ar, k, partition_size)))"
   ]
  },
  {
   "cell_type": "code",
   "execution_count": 36,
   "id": "8058babd",
   "metadata": {},
   "outputs": [
    {
     "name": "stdout",
     "output_type": "stream",
     "text": [
      "lambda x: x.lift * x.s * x.c\n",
      "{'HR': 0.7138314785373608, 'EHR': 6.93063408494064, 'normalised recall': 0.29419713831478517, 'nDCG': 0.14416404550826728}\n",
      "----- \n",
      "\n",
      "lambda x: x.z * x.s * x.c\n",
      "{'HR': 0.6963434022257552, 'EHR': 6.697738606463941, 'normalised recall': 0.28729843288666823, 'nDCG': 0.14411251821811266}\n",
      "----- \n",
      "\n",
      "lambda x: x.s + x.c\n",
      "{'HR': 0.6883942766295708, 'EHR': 6.807332910390986, 'normalised recall': 0.27784402049107904, 'nDCG': 0.13935831334654492}\n",
      "----- \n",
      "\n",
      "lambda x: x.c\n",
      "{'HR': 0.6868044515103339, 'EHR': 6.830919950156834, 'normalised recall': 0.2695889166477401, 'nDCG': 0.13367345037753606}\n",
      "----- \n",
      "\n",
      "lambda x: x.s * x.c\n",
      "{'HR': 0.6724960254372019, 'EHR': 6.624460053432278, 'normalised recall': 0.2809504883034294, 'nDCG': 0.13308973025642926}\n",
      "----- \n",
      "\n",
      "lambda x: np.sqrt(2 * np.power(x.s, 2) + np.power(x.c, 2))\n",
      "{'HR': 0.6629570747217806, 'EHR': 6.57054754183717, 'normalised recall': 0.25574166603578363, 'nDCG': 0.12606155819652637}\n",
      "----- \n",
      "\n",
      "lambda x: 2 * x.s + x.c\n",
      "{'HR': 0.6597774244833068, 'EHR': 6.546376639428169, 'normalised recall': 0.2630416130416129, 'nDCG': 0.13330997956661672}\n",
      "----- \n",
      "\n",
      "lambda x: np.sqrt(np.power(x.s, 2) + np.power(x.c, 2))\n",
      "{'HR': 0.6550079491255962, 'EHR': 6.4959293905333375, 'normalised recall': 0.23407777525424597, 'nDCG': 0.12970812570694815}\n",
      "----- \n",
      "\n",
      "lambda x: x.s * x.s * x.c\n",
      "{'HR': 0.6502384737678856, 'EHR': 6.218099236428985, 'normalised recall': 0.24249375425845998, 'nDCG': 0.13128847494325713}\n",
      "----- \n",
      "\n",
      "lambda x: x.z * x.s * x.s * x.c\n",
      "{'HR': 0.4435612082670906, 'EHR': 1.83771146064235, 'normalised recall': 0.18344058344058356, 'nDCG': 0.15633644185378415}\n",
      "----- \n",
      "\n",
      "lambda x: x.s\n",
      "{'HR': 0.3942766295707472, 'EHR': 1.691816571083381, 'normalised recall': 0.1296735811441694, 'nDCG': 0.10902894286379279}\n",
      "----- \n",
      "\n",
      "lambda x: x.lift\n",
      "{'HR': 0.302066772655008, 'EHR': 1.1165425221349659, 'normalised recall': 0.09762157115098295, 'nDCG': 0.09027466908830276}\n",
      "----- \n",
      "\n",
      "lambda x: np.abs(x.lift - 1)\n",
      "{'HR': 0.2988871224165342, 'EHR': 1.161335655303672, 'normalised recall': 0.10005551770257666, 'nDCG': 0.08595556619056471}\n",
      "----- \n",
      "\n",
      "lambda x: x.z\n",
      "{'HR': 0.28298887122416533, 'EHR': 1.0910143286464242, 'normalised recall': 0.09809220985691579, 'nDCG': 0.08348402982413675}\n",
      "----- \n",
      "\n",
      "lambda x: -np.abs(x.lift - 1)\n",
      "{'HR': 0.26073131955484896, 'EHR': 2.5737373022512835, 'normalised recall': 0.06562318621142152, 'nDCG': 0.04275294088734251}\n",
      "----- \n",
      "\n",
      "lambda x: x.z * x.s\n",
      "{'HR': 0.2543720190779014, 'EHR': 0.612272236699432, 'normalised recall': 0.09781840664193608, 'nDCG': 0.08586675621153973}\n",
      "----- \n",
      "\n",
      "lambda x: -x.lift\n",
      "{'HR': 0.20985691573926868, 'EHR': 2.0712110221134816, 'normalised recall': 0.049456178867943554, 'nDCG': 0.03475195820831814}\n",
      "----- \n",
      "\n"
     ]
    }
   ],
   "source": [
    "for i in sorted(results, key=lambda x: x[1][\"HR\"], reverse=True):\n",
    "    print(i[0])\n",
    "    print(i[1])\n",
    "    print(\"-\"*5, '\\n')"
   ]
  },
  {
   "cell_type": "code",
   "execution_count": 11,
   "id": "69b33f52",
   "metadata": {},
   "outputs": [],
   "source": [
    "class User_Recommender(Recommender):\n",
    "    def __init__(self, assos):\n",
    "        self.assos = assos\n",
    "    \n",
    "    def recommend(self, user_items, k, user_id):\n",
    "        if len(user_items) <= 0 or user_id not in self.assos:\n",
    "            return set()\n",
    "        \n",
    "        user_items = set(user_items)\n",
    "        rdict = dict()\n",
    "\n",
    "        for a in self.assos[user_id]:\n",
    "            item_list = list()\n",
    "            for l in a.left:\n",
    "                tmp = []\n",
    "                tmp.extend(df_test[l])\n",
    "                tmp.extend(df_train[l])\n",
    "                item_list.append(set(tmp))\n",
    "\n",
    "            if item_list:\n",
    "                intersection = set.intersection(*item_list)\n",
    "                for item in intersection - user_items:\n",
    "                    if item in rdict:\n",
    "                        rdict[item] += (a.c * a.s)\n",
    "                    else:\n",
    "                        rdict[item] = (a.c * a.s)\n",
    "            \n",
    "        rlist = sorted(rdict.keys(), key=lambda x: rdict[x], reverse=True)\n",
    "\n",
    "        recommendation = set()\n",
    "        for i in rlist:\n",
    "            recommendation.add(i)\n",
    "            if len(recommendation) >= k and k != -1:\n",
    "                break\n",
    "        return recommendation"
   ]
  },
  {
   "cell_type": "markdown",
   "id": "344a21aa",
   "metadata": {},
   "source": [
    "# Results\n",
    "sum(rule.s * rule.c) --> 23.020"
   ]
  },
  {
   "cell_type": "code",
   "execution_count": 12,
   "id": "b374272d",
   "metadata": {
    "scrolled": true
   },
   "outputs": [
    {
     "name": "stderr",
     "output_type": "stream",
     "text": [
      "100%|██████████| 629/629 [00:05<00:00, 110.89it/s]"
     ]
    },
    {
     "name": "stdout",
     "output_type": "stream",
     "text": [
      "avg len: 5.580286\n",
      "HR@10\t0.34340\n",
      "normalised recall@10\t0.07201\n",
      "EHR@10\t1.91628\n",
      "nDCG@10\t0.06338\n"
     ]
    },
    {
     "name": "stderr",
     "output_type": "stream",
     "text": [
      "\n"
     ]
    }
   ],
   "source": [
    "ur = User_Recommender(user_rules)\n",
    "hr = hitrate(ur, 10, 0.01)"
   ]
  },
  {
   "cell_type": "code",
   "execution_count": 13,
   "id": "61823ea7",
   "metadata": {},
   "outputs": [],
   "source": [
    "class Combo_Recommender(Recommender):\n",
    "    def __init__(self, ar, ur):\n",
    "        self.ar = ar\n",
    "        self.ur = ur\n",
    "        \n",
    "    def recommend(self, user_items, k, user_id):\n",
    "        recommendation = self.ur.recommend(user_items, k, user_id)\n",
    "        if len(recommendation) < k:\n",
    "            recommendation.update(self.ar.recommend(user_items, k, user_id))\n",
    "        return recommendation"
   ]
  },
  {
   "cell_type": "markdown",
   "id": "6e280363",
   "metadata": {},
   "source": [
    "no filter: 36139; 08554 <br>\n",
    "25: idem<br>"
   ]
  },
  {
   "cell_type": "code",
   "execution_count": 14,
   "id": "58585ff2",
   "metadata": {},
   "outputs": [
    {
     "name": "stderr",
     "output_type": "stream",
     "text": [
      "100%|██████████| 629/629 [00:19<00:00, 31.46it/s]"
     ]
    },
    {
     "name": "stdout",
     "output_type": "stream",
     "text": [
      "avg len: 5.561208\n",
      "HR@10\t0.34976\n",
      "normalised recall@10\t0.08395\n",
      "EHR@10\t1.94510\n",
      "nDCG@10\t0.06983\n"
     ]
    },
    {
     "name": "stderr",
     "output_type": "stream",
     "text": [
      "\n"
     ]
    }
   ],
   "source": [
    "cr = Combo_Recommender(ar, ur)\n",
    "hr = hitrate(cr, 10, 0.01)"
   ]
  },
  {
   "cell_type": "code",
   "execution_count": null,
   "id": "5811ce4f",
   "metadata": {},
   "outputs": [],
   "source": [
    "class Combo_Recommender2(Recommender):\n",
    "    def __init__(self, ar, ur):\n",
    "        self.ar = ar\n",
    "        self.ur = ur\n",
    "        \n",
    "    def recommend(self, user_items, k, user_id, split):\n",
    "        recommendation = self.ur.recommend(user_items, 8, user_id, split)\n",
    "        if len(recommendation) < k:\n",
    "            recommendation.update(self.ar.recommend(user_items, k - len(recommendation), user_id, split))\n",
    "        return recommendation"
   ]
  },
  {
   "cell_type": "code",
   "execution_count": null,
   "id": "cb80c7a3",
   "metadata": {},
   "outputs": [],
   "source": [
    "cr = Combo_Recommender2(ar, ur)\n",
    "hr = hitrate(cr, 10)"
   ]
  },
  {
   "cell_type": "code",
   "execution_count": null,
   "id": "ba5ceadb",
   "metadata": {},
   "outputs": [],
   "source": [
    "class Combo_Recommender3(Recommender):\n",
    "    def __init__(self, ar, ur):\n",
    "        self.ar = ar\n",
    "        self.ur = ur\n",
    "        \n",
    "    def recommend(self, user_items, k, user_id, split):\n",
    "        recommendation = self.ar.recommend(user_items, 5, user_id, split)\n",
    "        if len(recommendation) < k:\n",
    "            recommendation.update(self.ur.recommend(user_items, k - len(recommendation), user_id, split))\n",
    "        return recommendation"
   ]
  },
  {
   "cell_type": "code",
   "execution_count": null,
   "id": "4e36d049",
   "metadata": {},
   "outputs": [],
   "source": [
    "cr = Combo_Recommender3(ar, ur)\n",
    "hr = hitrate(cr, 10)"
   ]
  },
  {
   "cell_type": "code",
   "execution_count": null,
   "id": "56d41b30",
   "metadata": {},
   "outputs": [],
   "source": []
  }
 ],
 "metadata": {
  "kernelspec": {
   "display_name": "Python 3 (ipykernel)",
   "language": "python",
   "name": "python3"
  },
  "language_info": {
   "codemirror_mode": {
    "name": "ipython",
    "version": 3
   },
   "file_extension": ".py",
   "mimetype": "text/x-python",
   "name": "python",
   "nbconvert_exporter": "python",
   "pygments_lexer": "ipython3",
   "version": "3.8.6"
  }
 },
 "nbformat": 4,
 "nbformat_minor": 5
}
