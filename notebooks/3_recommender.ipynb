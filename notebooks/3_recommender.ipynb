{
 "cells": [
  {
   "cell_type": "markdown",
   "id": "50569d85",
   "metadata": {},
   "source": [
    "## 0. Import packages"
   ]
  },
  {
   "cell_type": "code",
   "execution_count": 1,
   "id": "a0c03281",
   "metadata": {},
   "outputs": [],
   "source": [
    "import pandas as pd\n",
    "import gzip\n",
    "import math\n",
    "from tqdm import tqdm\n",
    "from itertools import chain, combinations\n",
    "from Association import Association\n",
    "import numpy as np\n",
    "import random\n",
    "tqdm.pandas() #for progres_apply etc."
   ]
  },
  {
   "cell_type": "code",
   "execution_count": 2,
   "id": "a02c1d93",
   "metadata": {},
   "outputs": [],
   "source": [
    "seed_index = 0"
   ]
  },
  {
   "cell_type": "markdown",
   "id": "a82af1f6",
   "metadata": {},
   "source": [
    "## 1. Load data from previous step"
   ]
  },
  {
   "cell_type": "code",
   "execution_count": 3,
   "id": "7ecf0117",
   "metadata": {},
   "outputs": [],
   "source": [
    "import pickle\n",
    "rules = pickle.load(open(f\"pickle_dumps/article_rules_{seed_index}.p\", \"rb\"))\n",
    "user_rules = pickle.load(open(f\"pickle_dumps/user_rules_{seed_index}.p\", \"rb\"))"
   ]
  },
  {
   "cell_type": "code",
   "execution_count": 4,
   "id": "828fc0a0",
   "metadata": {},
   "outputs": [],
   "source": [
    "df_test = pickle.load(open(f\"pickle_dumps/test_df_{seed_index}.p\", \"rb\"))\n",
    "df_test = df_test.set_index(\"user_id\").to_dict()[\"item_id\"]"
   ]
  },
  {
   "cell_type": "code",
   "execution_count": 5,
   "id": "43d21dbe",
   "metadata": {},
   "outputs": [],
   "source": [
    "df_train = pickle.load(open(f\"pickle_dumps/train_df_{seed_index}.p\", \"rb\"))\n",
    "df_train = df_train.set_index(\"user_id\").to_dict()[\"item_id\"]"
   ]
  },
  {
   "cell_type": "code",
   "execution_count": 6,
   "id": "4d6f9cfd",
   "metadata": {},
   "outputs": [],
   "source": [
    "class Recommender():\n",
    "    def __init__(self, assos):\n",
    "        pass\n",
    "    \n",
    "    def recommend(self, user_items, k, user_id=None, split=None):\n",
    "        pass        "
   ]
  },
  {
   "cell_type": "code",
   "execution_count": 7,
   "id": "ffda1f1f",
   "metadata": {},
   "outputs": [],
   "source": [
    "class Assos_Recommender(Recommender):\n",
    "    def __init__(self, assos, sorter=lambda x: x.s * x.c):\n",
    "        # use popular items to fill unused space\n",
    "        # TODO (df_train is used for this)\n",
    "        \n",
    "        self.sorter = sorter\n",
    "        self.assos = sorted(assos, key=self.sorter, reverse=True)[:100000]\n",
    "        \n",
    "#     def get_items(self, user_id):\n",
    "#         return self.df_test[user_id]\n",
    "    \n",
    "    def recommend(self, user_items, k, user_id=None, split=None):\n",
    "        recommendation = []\n",
    "        user_items = set(user_items)\n",
    "        for a in self.assos:\n",
    "#             print(a.left, user_items)\n",
    "            stop = False\n",
    "            for l in a.left:\n",
    "                # break if any element is not in the user session\n",
    "                if l not in user_items:\n",
    "                    stop = True\n",
    "                    break\n",
    "                    \n",
    "                # all elements are in the user session --> add RHS of rule to the recommendation\n",
    "            if not stop:\n",
    "                r = a.right\n",
    "                for item in r:\n",
    "                    if item not in user_items:\n",
    "                        if item not in recommendation:\n",
    "                            recommendation.append(item)\n",
    "                        if len(recommendation) >= k and k != -1:\n",
    "                            break\n",
    "                        \n",
    "            if len(recommendation) >= k and k != -1:\n",
    "                break\n",
    "                \n",
    "        return recommendation"
   ]
  },
  {
   "cell_type": "code",
   "execution_count": 8,
   "id": "69b33f52",
   "metadata": {},
   "outputs": [],
   "source": [
    "class User_Recommender(Recommender):\n",
    "    def __init__(self, assos, value=lambda x: x.s * x.c):\n",
    "        self.assos = assos\n",
    "        self.value = value\n",
    "    \n",
    "    def recommend(self, user_items, k, user_id):\n",
    "        if len(user_items) <= 0 or user_id not in self.assos:\n",
    "            return []\n",
    "        \n",
    "        user_items = set(user_items)\n",
    "        rdict = dict()\n",
    "\n",
    "        for a in self.assos[user_id]:\n",
    "            item_list = list()\n",
    "            for l in a.left:\n",
    "                tmp = []\n",
    "                tmp.extend(df_test[l])\n",
    "                tmp.extend(df_train[l])\n",
    "                item_list.append(set(tmp))\n",
    "\n",
    "            if item_list:\n",
    "                intersection = set.intersection(*item_list)\n",
    "                for item in intersection - user_items:\n",
    "                    if item in rdict:\n",
    "                        rdict[item] += self.value(a)\n",
    "                    else:\n",
    "                        rdict[item] = self.value(a)\n",
    "            \n",
    "        rlist = sorted(rdict.keys(), key=lambda x: rdict[x], reverse=True)\n",
    "\n",
    "        recommendation = []\n",
    "        for i in rlist:\n",
    "            if i not in recommendation:\n",
    "                recommendation.append(i)\n",
    "            if len(recommendation) >= k and k != -1:\n",
    "                break\n",
    "        return recommendation"
   ]
  },
  {
   "cell_type": "code",
   "execution_count": 9,
   "id": "61823ea7",
   "metadata": {},
   "outputs": [],
   "source": [
    "class Combo_Recommender(Recommender):\n",
    "    def __init__(self, ar, ur):\n",
    "        self.ar = ar\n",
    "        self.ur = ur\n",
    "        \n",
    "    def recommend(self, user_items, k, user_id):\n",
    "        recommendation = self.ur.recommend(user_items, np.ceil(k/3), user_id)\n",
    "        tmp = list(user_items) + recommendation\n",
    "        if len(recommendation) < k:\n",
    "            recommendation += (self.ar.recommend(tmp, k-len(recommendation), user_id))\n",
    "        return recommendation"
   ]
  },
  {
   "cell_type": "code",
   "execution_count": 10,
   "id": "c15a800e",
   "metadata": {},
   "outputs": [],
   "source": [
    "def hitrate(rc, k, nr_users = float(\"1\"), qualitative = False, df = df_test):\n",
    "    hits = 0\n",
    "    ndcg = []\n",
    "    counts = 0\n",
    "    avg_len = 0\n",
    "    n_recall = 0\n",
    "    preds = []\n",
    "    \n",
    "    \n",
    "    \n",
    "    user_ids = list(df.keys())\n",
    "    for user in tqdm(random.sample(user_ids, int(len(user_ids) * nr_users))):\n",
    "        user_target = df[user]\n",
    "        user_items = df_train[user]\n",
    "        \n",
    "        r = rc.recommend(user_items, k, user)\n",
    "\n",
    "        avg_len += len(r)\n",
    "\n",
    "        correct = 0\n",
    "        hit = False\n",
    "        for item in user_target:\n",
    "            if item in r:\n",
    "                if not hit:\n",
    "                    hits += 1\n",
    "                    hit = True\n",
    "                correct += 1\n",
    "        n_recall += correct / max(1, (min(k, len(user_target))))\n",
    "\n",
    "        dcg = 0\n",
    "        idcg = sum(1/np.log2(i+1) for i in range(1,max(1, min(len(user_target), k))+1))\n",
    "        for i, rec in enumerate(r):\n",
    "            good = 1 if rec in user_target else 0\n",
    "            dcg += (2**good - 1)/(np.log2(i+2))\n",
    "        ndcg.append(dcg/idcg)\n",
    "            \n",
    "        if qualitative:      \n",
    "            preds.append((user_items, user_target, r))\n",
    "        counts += 1\n",
    "    \n",
    "    print(\"avg len: {:f}\".format(avg_len / counts))\n",
    "    if k == -1:\n",
    "        print(\"HR\\t{:.5f}\".format((hits / counts)))\n",
    "        print(\"EHR\\t{:.5f}\".format((hits / counts) * (avg_len /  counts)))\n",
    "    else:\n",
    "        print(\"HR@{}\\t{:.5f}\".format(k, (hits / counts)))\n",
    "        print(\"normalised recall@{}\\t{:.5f}\".format(k, (n_recall / counts)))\n",
    "        print(\"EHR@{}\\t{:.5f}\".format(k, (hits / counts) * (avg_len /  counts)))\n",
    "    print(\"nDCG@{}\\t{:.5f}\".format(k, (sum(ndcg) / len(ndcg))))\n",
    "    \n",
    "    if qualitative:\n",
    "        return {\"HR\": hits /counts,\n",
    "               \"EHR\": (hits / counts) * (avg_len /  counts),\n",
    "               \"normalised recall\": (n_recall / counts),\n",
    "               \"nDCG\": sum(ndcg) / len(ndcg),\n",
    "               \"predictions\": preds}\n",
    "    else:\n",
    "        return {\"HR\": hits /counts,\n",
    "               \"EHR\": (hits / counts) * (avg_len /  counts),\n",
    "               \"normalised recall\": (n_recall / counts),\n",
    "               \"nDCG\": sum(ndcg) / len(ndcg)}"
   ]
  },
  {
   "cell_type": "markdown",
   "id": "0bd13c08",
   "metadata": {},
   "source": [
    "# Results\n",
    "rule.s --> 18.317 <br>\n",
    "rule.s * rule.c --> 20.545"
   ]
  },
  {
   "cell_type": "code",
   "execution_count": 11,
   "id": "aa207102",
   "metadata": {},
   "outputs": [],
   "source": [
    "results = []\n",
    "partition_size = 0.1\n",
    "k = 10"
   ]
  },
  {
   "cell_type": "code",
   "execution_count": 12,
   "id": "b7b335ca",
   "metadata": {},
   "outputs": [
    {
     "name": "stderr",
     "output_type": "stream",
     "text": [
      "100%|██████████| 5419/5419 [00:21<00:00, 250.05it/s]"
     ]
    },
    {
     "name": "stdout",
     "output_type": "stream",
     "text": [
      "avg len: 9.499723\n",
      "HR@10\t0.18306\n",
      "normalised recall@10\t0.05046\n",
      "EHR@10\t1.73902\n",
      "nDCG@10\t0.05562\n"
     ]
    },
    {
     "name": "stderr",
     "output_type": "stream",
     "text": [
      "\n"
     ]
    }
   ],
   "source": [
    "ar = Assos_Recommender(rules, lambda x: x.z)\n",
    "results.append((\"lambda x: x.z\", hitrate(ar, k, partition_size)))"
   ]
  },
  {
   "cell_type": "code",
   "execution_count": 13,
   "id": "234d3e96",
   "metadata": {},
   "outputs": [
    {
     "name": "stderr",
     "output_type": "stream",
     "text": [
      "100%|██████████| 5419/5419 [00:14<00:00, 368.12it/s]"
     ]
    },
    {
     "name": "stdout",
     "output_type": "stream",
     "text": [
      "avg len: 9.672818\n",
      "HR@10\t0.43384\n",
      "normalised recall@10\t0.18027\n",
      "EHR@10\t4.19649\n",
      "nDCG@10\t0.15185\n"
     ]
    },
    {
     "name": "stderr",
     "output_type": "stream",
     "text": [
      "\n"
     ]
    }
   ],
   "source": [
    "ar = Assos_Recommender(rules, lambda x: x.s * x.c)\n",
    "results.append((\"lambda x: x.s * x.c\", hitrate(ar, k, partition_size)))"
   ]
  },
  {
   "cell_type": "code",
   "execution_count": 14,
   "id": "79208497",
   "metadata": {},
   "outputs": [
    {
     "name": "stderr",
     "output_type": "stream",
     "text": [
      "100%|██████████| 5419/5419 [01:24<00:00, 63.89it/s]"
     ]
    },
    {
     "name": "stdout",
     "output_type": "stream",
     "text": [
      "avg len: 8.552500\n",
      "HR@10\t0.44768\n",
      "normalised recall@10\t0.18523\n",
      "EHR@10\t3.82882\n",
      "nDCG@10\t0.16982\n"
     ]
    },
    {
     "name": "stderr",
     "output_type": "stream",
     "text": [
      "\n"
     ]
    }
   ],
   "source": [
    "ar = Assos_Recommender(rules, lambda x: x.s + x.c)\n",
    "results.append((\"lambda x: x.s + x.c\", hitrate(ar, k, partition_size)))"
   ]
  },
  {
   "cell_type": "code",
   "execution_count": 15,
   "id": "fc7c672e",
   "metadata": {},
   "outputs": [
    {
     "name": "stderr",
     "output_type": "stream",
     "text": [
      "100%|██████████| 5419/5419 [00:10<00:00, 498.00it/s]"
     ]
    },
    {
     "name": "stdout",
     "output_type": "stream",
     "text": [
      "avg len: 9.681676\n",
      "HR@10\t0.37184\n",
      "normalised recall@10\t0.14491\n",
      "EHR@10\t3.60003\n",
      "nDCG@10\t0.12024\n"
     ]
    },
    {
     "name": "stderr",
     "output_type": "stream",
     "text": [
      "\n"
     ]
    }
   ],
   "source": [
    "ar = Assos_Recommender(rules, lambda x: x.s)\n",
    "results.append((\"lambda x: x.s\", hitrate(ar, k, partition_size)))"
   ]
  },
  {
   "cell_type": "code",
   "execution_count": 16,
   "id": "35b5d6e1",
   "metadata": {},
   "outputs": [
    {
     "name": "stderr",
     "output_type": "stream",
     "text": [
      "100%|██████████| 5419/5419 [01:24<00:00, 64.21it/s]"
     ]
    },
    {
     "name": "stdout",
     "output_type": "stream",
     "text": [
      "avg len: 8.462816\n",
      "HR@10\t0.44842\n",
      "normalised recall@10\t0.18576\n",
      "EHR@10\t3.79491\n",
      "nDCG@10\t0.17467\n"
     ]
    },
    {
     "name": "stderr",
     "output_type": "stream",
     "text": [
      "\n"
     ]
    }
   ],
   "source": [
    "ar = Assos_Recommender(rules, lambda x: x.c)\n",
    "results.append((\"lambda x: x.c\", hitrate(ar, k, partition_size)))"
   ]
  },
  {
   "cell_type": "code",
   "execution_count": 17,
   "id": "918c9fdd",
   "metadata": {},
   "outputs": [
    {
     "name": "stderr",
     "output_type": "stream",
     "text": [
      "100%|██████████| 5419/5419 [00:21<00:00, 247.77it/s]"
     ]
    },
    {
     "name": "stdout",
     "output_type": "stream",
     "text": [
      "avg len: 9.482377\n",
      "HR@10\t0.18306\n",
      "normalised recall@10\t0.05146\n",
      "EHR@10\t1.73584\n",
      "nDCG@10\t0.05685\n"
     ]
    },
    {
     "name": "stderr",
     "output_type": "stream",
     "text": [
      "\n"
     ]
    }
   ],
   "source": [
    "ar = Assos_Recommender(rules, lambda x: x.lift)\n",
    "results.append((\"lambda x: x.lift\", hitrate(ar, k, partition_size)))"
   ]
  },
  {
   "cell_type": "code",
   "execution_count": 18,
   "id": "b099dfd6",
   "metadata": {},
   "outputs": [
    {
     "name": "stderr",
     "output_type": "stream",
     "text": [
      "100%|██████████| 5419/5419 [00:11<00:00, 477.44it/s]"
     ]
    },
    {
     "name": "stdout",
     "output_type": "stream",
     "text": [
      "avg len: 9.488836\n",
      "HR@10\t0.00148\n",
      "normalised recall@10\t0.00050\n",
      "EHR@10\t0.01401\n",
      "nDCG@10\t0.00026\n"
     ]
    },
    {
     "name": "stderr",
     "output_type": "stream",
     "text": [
      "\n"
     ]
    }
   ],
   "source": [
    "ar = Assos_Recommender(rules, lambda x: -x.lift)\n",
    "results.append((\"lambda x: -x.lift\", hitrate(ar, k, partition_size)))"
   ]
  },
  {
   "cell_type": "code",
   "execution_count": 19,
   "id": "109ec4af",
   "metadata": {},
   "outputs": [
    {
     "name": "stderr",
     "output_type": "stream",
     "text": [
      "100%|██████████| 5419/5419 [01:23<00:00, 64.81it/s]"
     ]
    },
    {
     "name": "stdout",
     "output_type": "stream",
     "text": [
      "avg len: 8.630190\n",
      "HR@10\t0.45525\n",
      "normalised recall@10\t0.19185\n",
      "EHR@10\t3.92889\n",
      "nDCG@10\t0.17639\n"
     ]
    },
    {
     "name": "stderr",
     "output_type": "stream",
     "text": [
      "\n"
     ]
    }
   ],
   "source": [
    "ar = Assos_Recommender(rules, lambda x: 2 * x.s + x.c)\n",
    "results.append((\"lambda x: 2 * x.s + x.c\", hitrate(ar, k, partition_size)))"
   ]
  },
  {
   "cell_type": "code",
   "execution_count": 20,
   "id": "c3dda36b",
   "metadata": {},
   "outputs": [
    {
     "name": "stderr",
     "output_type": "stream",
     "text": [
      "100%|██████████| 5419/5419 [00:13<00:00, 414.49it/s]"
     ]
    },
    {
     "name": "stdout",
     "output_type": "stream",
     "text": [
      "avg len: 9.693117\n",
      "HR@10\t0.40949\n",
      "normalised recall@10\t0.16241\n",
      "EHR@10\t3.96919\n",
      "nDCG@10\t0.13770\n"
     ]
    },
    {
     "name": "stderr",
     "output_type": "stream",
     "text": [
      "\n"
     ]
    }
   ],
   "source": [
    "ar = Assos_Recommender(rules, lambda x: x.s * x.s * x.c)\n",
    "results.append((\"lambda x: x.s * x.s * x.c\", hitrate(ar, k, partition_size)))"
   ]
  },
  {
   "cell_type": "code",
   "execution_count": 21,
   "id": "77814a6a",
   "metadata": {},
   "outputs": [
    {
     "name": "stderr",
     "output_type": "stream",
     "text": [
      "100%|██████████| 5419/5419 [01:26<00:00, 62.97it/s]"
     ]
    },
    {
     "name": "stdout",
     "output_type": "stream",
     "text": [
      "avg len: 8.427385\n",
      "HR@10\t0.44824\n",
      "normalised recall@10\t0.18794\n",
      "EHR@10\t3.77747\n",
      "nDCG@10\t0.17326\n"
     ]
    },
    {
     "name": "stderr",
     "output_type": "stream",
     "text": [
      "\n"
     ]
    }
   ],
   "source": [
    "ar = Assos_Recommender(rules, lambda x: np.sqrt(np.power(x.s, 2) + np.power(x.c, 2)))\n",
    "results.append((\"lambda x: np.sqrt(np.power(x.s, 2) + np.power(x.c, 2))\", hitrate(ar, k, partition_size)))"
   ]
  },
  {
   "cell_type": "code",
   "execution_count": null,
   "id": "44361f85",
   "metadata": {},
   "outputs": [
    {
     "name": "stderr",
     "output_type": "stream",
     "text": [
      " 17%|█▋        | 907/5419 [00:14<00:56, 80.28it/s]"
     ]
    }
   ],
   "source": [
    "ar = Assos_Recommender(rules, lambda x: np.sqrt(2 * np.power(x.s, 2) + np.power(x.c, 2)))\n",
    "results.append((\"lambda x: np.sqrt(2 * np.power(x.s, 2) + np.power(x.c, 2))\", hitrate(ar, k, partition_size)))"
   ]
  },
  {
   "cell_type": "code",
   "execution_count": null,
   "id": "407bc66e",
   "metadata": {},
   "outputs": [],
   "source": [
    "ar = Assos_Recommender(rules, lambda x: -np.abs(x.lift - 1))\n",
    "results.append((\"lambda x: -np.abs(x.lift - 1)\", hitrate(ar, k, partition_size)))"
   ]
  },
  {
   "cell_type": "code",
   "execution_count": null,
   "id": "6e3d6657",
   "metadata": {},
   "outputs": [],
   "source": [
    "ar = Assos_Recommender(rules, lambda x: np.abs(x.lift - 1))\n",
    "results.append((\"lambda x: np.abs(x.lift - 1)\", hitrate(ar, k, partition_size)))"
   ]
  },
  {
   "cell_type": "code",
   "execution_count": null,
   "id": "57c93a6f",
   "metadata": {},
   "outputs": [],
   "source": [
    "ar = Assos_Recommender(rules, lambda x: x.lift * x.s * x.c)\n",
    "results.append((\"lambda x: x.lift * x.s * x.c\", hitrate(ar, k, partition_size)))"
   ]
  },
  {
   "cell_type": "code",
   "execution_count": null,
   "id": "c3416add",
   "metadata": {},
   "outputs": [],
   "source": [
    "ar = Assos_Recommender(rules, lambda x: x.z * x.s)\n",
    "results.append((\"lambda x: x.z * x.s\", hitrate(ar, k, partition_size)))"
   ]
  },
  {
   "cell_type": "code",
   "execution_count": null,
   "id": "14a17f76",
   "metadata": {},
   "outputs": [],
   "source": [
    "ar = Assos_Recommender(rules, lambda x: x.z * x.s *x.c)\n",
    "results.append((\"lambda x: x.z * x.s * x.c\", hitrate(ar, k, partition_size)))"
   ]
  },
  {
   "cell_type": "code",
   "execution_count": null,
   "id": "e476187a",
   "metadata": {},
   "outputs": [],
   "source": [
    "ar = Assos_Recommender(rules, lambda x: x.z * x.s * x.s *x.c)\n",
    "results.append((\"lambda x: x.z * x.s * x.s * x.c\", hitrate(ar, k, partition_size)))"
   ]
  },
  {
   "cell_type": "code",
   "execution_count": null,
   "id": "58990b1e",
   "metadata": {},
   "outputs": [],
   "source": [
    "ar = Assos_Recommender(rules, lambda x: np.sqrt(np.power(x.z, 2) + np.power(x.lift, 2) + np.power(x.s, 2) + np.power(x.s, 2) + np.power(x.c, 2)))\n",
    "results.append((\"lambda x: np.sqrt(np.power(x.z, 2) + np.power(x.lift, 2) + np.power(x.s, 2) + np.power(x.s, 2) + np.power(x.c, 2))\", hitrate(ar, k, partition_size)))"
   ]
  },
  {
   "cell_type": "code",
   "execution_count": null,
   "id": "b564f103",
   "metadata": {},
   "outputs": [],
   "source": [
    "ar = Assos_Recommender(rules, lambda x: np.sqrt(np.power(x.z, 2) + np.power(x.lift, 2) + np.power(x.s, 2) + np.power(x.s, 2) + np.power(x.c, 2)))\n",
    "results.append((\"lambda x: np.sqrt(np.power(x.z, 2) + np.power(x.lift, 2) + np.power(x.s, 2) + np.power(x.s, 2) + np.power(x.c, 2))\", hitrate(ar, k, partition_size)))"
   ]
  },
  {
   "cell_type": "code",
   "execution_count": null,
   "id": "8058babd",
   "metadata": {
    "scrolled": true
   },
   "outputs": [],
   "source": [
    "for i in sorted(results, key=lambda x: x[1][\"HR\"], reverse=True):\n",
    "    print(i[0])\n",
    "    print(i[1])\n",
    "    print(\"-\"*5, '\\n')"
   ]
  },
  {
   "cell_type": "markdown",
   "id": "344a21aa",
   "metadata": {},
   "source": [
    "# Results\n",
    "sum(rule.s * rule.c) --> 23.020"
   ]
  },
  {
   "cell_type": "code",
   "execution_count": null,
   "id": "b374272d",
   "metadata": {
    "scrolled": true
   },
   "outputs": [],
   "source": [
    "ur = User_Recommender(user_rules)\n",
    "hr = hitrate(ur, k, partition_size)"
   ]
  },
  {
   "cell_type": "markdown",
   "id": "6e280363",
   "metadata": {},
   "source": [
    "no filter: 36139; 08554 <br>\n",
    "25: idem<br>"
   ]
  },
  {
   "cell_type": "code",
   "execution_count": null,
   "id": "5062888b",
   "metadata": {},
   "outputs": [],
   "source": [
    "score_function = lambda x: x.lift * x.s * x.c\n",
    "\n",
    "ar = Assos_Recommender(rules, score_function)\n",
    "ur = User_Recommender(user_rules)\n",
    "cr = Combo_Recommender(ar, ur)\n",
    "hr = hitrate(cr, k, partition_size)"
   ]
  },
  {
   "cell_type": "code",
   "execution_count": null,
   "id": "3bf53917",
   "metadata": {},
   "outputs": [],
   "source": [
    "df_test2 = pickle.load(open(f\"pickle_dumps/test_df_{seed_index}.p\", \"rb\"))\n",
    "df_test2 = df_test2.set_index(\"user_id\").to_dict()[\"item_id\"]"
   ]
  },
  {
   "cell_type": "code",
   "execution_count": null,
   "id": "0f08396e",
   "metadata": {},
   "outputs": [],
   "source": [
    "df_test2 = { key: df_test2[key] for key in [69, 420, 42069] }"
   ]
  },
  {
   "cell_type": "code",
   "execution_count": null,
   "id": "3e584094",
   "metadata": {},
   "outputs": [],
   "source": [
    "results = hitrate(ar, k, 1, True, df_test2)"
   ]
  },
  {
   "cell_type": "code",
   "execution_count": null,
   "id": "ccbf01d4",
   "metadata": {},
   "outputs": [],
   "source": [
    "for prediction in results[\"predictions\"]:\n",
    "    items = prediction[0]\n",
    "    target = prediction[1]\n",
    "    recommended = prediction[2]\n",
    "#     print(items)\n",
    "    print(target)\n",
    "    print(recommended)\n",
    "    print(\"-\"*5)"
   ]
  }
 ],
 "metadata": {
  "kernelspec": {
   "display_name": "Python 3 (ipykernel)",
   "language": "python",
   "name": "python3"
  },
  "language_info": {
   "codemirror_mode": {
    "name": "ipython",
    "version": 3
   },
   "file_extension": ".py",
   "mimetype": "text/x-python",
   "name": "python",
   "nbconvert_exporter": "python",
   "pygments_lexer": "ipython3",
   "version": "3.8.6"
  }
 },
 "nbformat": 4,
 "nbformat_minor": 5
}
