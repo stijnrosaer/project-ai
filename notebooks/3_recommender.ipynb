{
 "cells": [
  {
   "cell_type": "markdown",
   "id": "50569d85",
   "metadata": {},
   "source": [
    "## 0. Import packages"
   ]
  },
  {
   "cell_type": "code",
   "execution_count": 1,
   "id": "a0c03281",
   "metadata": {},
   "outputs": [],
   "source": [
    "import pandas as pd\n",
    "import gzip\n",
    "import math\n",
    "from tqdm import tqdm\n",
    "from itertools import chain, combinations\n",
    "from Association import Association\n",
    "import numpy as np\n",
    "tqdm.pandas() #for progres_apply etc."
   ]
  },
  {
   "cell_type": "markdown",
   "id": "a82af1f6",
   "metadata": {},
   "source": [
    "## 1. Load data from previous step"
   ]
  },
  {
   "cell_type": "code",
   "execution_count": 2,
   "id": "7ecf0117",
   "metadata": {},
   "outputs": [],
   "source": [
    "import pickle\n",
    "rules = pickle.load(open(\"pickle_dumps/article_rules.p\", \"rb\"))\n",
    "user_rules = pickle.load(open(\"pickle_dumps/user_rules.p\", \"rb\"))\n",
    "\n",
    "df_test = pickle.load(open(\"pickle_dumps/test_df.p\", \"rb\"))\n",
    "df_test = df_test.set_index(\"user_id\").to_dict()[\"item_id\"]\n",
    "\n",
    "df_train = pickle.load(open(\"pickle_dumps/train_df.p\", \"rb\"))\n",
    "df_train = df_train.set_index(\"user_id\").to_dict()[\"item_id\"]"
   ]
  },
  {
   "cell_type": "code",
   "execution_count": 3,
   "id": "0ac1c96f",
   "metadata": {
    "scrolled": false
   },
   "outputs": [
    {
     "name": "stdout",
     "output_type": "stream",
     "text": [
      "6919444\n",
      "Conf: 1.00\tSupp: 50.00\t {736, 4, 167, 1576, 780, 750, 1839, 212, 1597} => {1328}\n",
      "Conf: 1.00\tSupp: 50.00\t {736, 167, 1576, 780, 750, 1839, 1328, 212, 1597} => {4}\n",
      "Conf: 1.00\tSupp: 50.00\t {512, 481, 736, 1576, 1328, 2353, 2258, 785, 2970} => {167}\n",
      "Conf: 1.00\tSupp: 50.00\t {512, 481, 167, 1576, 1328, 2353, 2258, 785, 2970} => {736}\n",
      "Conf: 0.98\tSupp: 50.00\t {736, 4, 167, 1576, 780, 750, 1328, 212, 1597} => {1839}\n",
      "Conf: 0.98\tSupp: 50.00\t {736, 4, 167, 1576, 750, 1839, 1328, 212, 1597} => {780}\n",
      "Conf: 0.98\tSupp: 50.00\t {4, 167, 1576, 780, 750, 1839, 1328, 212, 1597} => {736}\n",
      "Conf: 0.98\tSupp: 50.00\t {512, 481, 736, 167, 1576, 1328, 2353, 2258, 2970} => {785}\n",
      "Conf: 0.98\tSupp: 50.00\t {512, 481, 736, 167, 1576, 2353, 2258, 785, 2970} => {1328}\n",
      "Conf: 0.96\tSupp: 50.00\t {736, 4, 167, 1576, 780, 750, 1839, 1328, 212} => {1597}\n"
     ]
    }
   ],
   "source": [
    "print(len(rules))\n",
    "for i in range(10):\n",
    "    if i < len(rules):\n",
    "        print(rules[i])"
   ]
  },
  {
   "cell_type": "code",
   "execution_count": 4,
   "id": "4d6f9cfd",
   "metadata": {},
   "outputs": [],
   "source": [
    "class Recommender():\n",
    "    def __init__(self, assos):\n",
    "        pass\n",
    "    \n",
    "    def recommend(self, user_items, k, user_id=None, split=None):\n",
    "        pass        "
   ]
  },
  {
   "cell_type": "code",
   "execution_count": 6,
   "id": "be2dcbf5",
   "metadata": {},
   "outputs": [
    {
     "name": "stdout",
     "output_type": "stream",
     "text": [
      "[([3, 4, 5, 6, 7, 8, 9], [0, 1, 2]), ([0, 1, 2, 6, 7, 8, 9], [3, 4, 5]), ([0, 1, 2, 3, 4, 5, 8, 9], [6, 7]), ([0, 1, 2, 3, 4, 5, 6, 7], [8, 9])]\n"
     ]
    }
   ],
   "source": [
    "def splitUser(user_items):\n",
    "    splits = []\n",
    "    \n",
    "#     scores = cross_val_score(clf, X, y, cv=5)\n",
    "    tmp = np.array_split(user_items, 4)\n",
    "    \n",
    "    for l in tmp:\n",
    "        if len(l) > 0:\n",
    "            splits.append(list(l))\n",
    "    \n",
    "    res = []\n",
    "    for i in splits:\n",
    "        join = []\n",
    "        for j in splits:\n",
    "            if i != j:\n",
    "                join += j\n",
    "        res.append((join, i))\n",
    "                    \n",
    "                \n",
    "\n",
    "    return res\n",
    "\n",
    "print(splitUser(range(10)))"
   ]
  },
  {
   "cell_type": "code",
   "execution_count": 7,
   "id": "c15a800e",
   "metadata": {},
   "outputs": [],
   "source": [
    "def hitrate(rc, k):\n",
    "    hits = 0\n",
    "    counts = 0\n",
    "    avg_len = 0\n",
    "    for user in tqdm(df_test):\n",
    "        user_items = df_test[user]\n",
    "        split_user = splitUser(user_items)\n",
    "        for split_id, split in enumerate(split_user):\n",
    "            r = rc.recommend(split[0], k, user, split_id)\n",
    "        \n",
    "            avg_len += len(r)/len(split_user)\n",
    "            \n",
    "            for item in split[1]:\n",
    "                if item in r:\n",
    "                    hits += (item in r) / len(split_user)\n",
    "                    break\n",
    "                \n",
    "        counts += 1\n",
    "    \n",
    "    print(\"avg len: {:f}\".format(avg_len / len(df_test)))\n",
    "    if k == -1:\n",
    "        print(\"HR\\t{:.5f}\".format((hits / counts)))\n",
    "    else:\n",
    "        print(\"HR@{}\\t{:.5f}\".format(k, (hits / counts)))\n",
    "    return hits / counts"
   ]
  },
  {
   "cell_type": "code",
   "execution_count": 21,
   "id": "ffda1f1f",
   "metadata": {},
   "outputs": [],
   "source": [
    "class Assos_Recommender(Recommender):\n",
    "    def __init__(self, assos):\n",
    "        # use popular items to fill unused space\n",
    "        # TODO (df_train is used for this)\n",
    "        \n",
    "        self.assos = sorted(assos, key=lambda x: x.s * x.c, reverse=True)\n",
    "        \n",
    "#     def get_items(self, user_id):\n",
    "#         return self.df_test[user_id]\n",
    "    \n",
    "    def recommend(self, user_items, k, user_id=None, split=None):\n",
    "        recommendation = set()\n",
    "        for a in self.assos:\n",
    "            for l in a.left:\n",
    "                # break if any element is not in the user session\n",
    "                if l not in user_items:\n",
    "                    break\n",
    "                    \n",
    "                # all elements are in the user session --> add RHS of rule to the recommendation\n",
    "                r = list(a.right)[0]\n",
    "                if r not in user_items:\n",
    "                    recommendation.add(r)\n",
    "                        \n",
    "            if len(recommendation) >= k and k != -1:\n",
    "                break\n",
    "                \n",
    "        return recommendation"
   ]
  },
  {
   "cell_type": "markdown",
   "id": "0bd13c08",
   "metadata": {},
   "source": [
    "# Results\n",
    "rule.s --> 18.317 <br>\n",
    "rule.s * rule.c --> 20.545"
   ]
  },
  {
   "cell_type": "code",
   "execution_count": 22,
   "id": "234d3e96",
   "metadata": {
    "scrolled": false
   },
   "outputs": [
    {
     "name": "stderr",
     "output_type": "stream",
     "text": [
      "\r",
      "  0%|          | 0/101 [00:00<?, ?it/s]"
     ]
    },
    {
     "name": "stdout",
     "output_type": "stream",
     "text": [
      "go\n"
     ]
    },
    {
     "name": "stderr",
     "output_type": "stream",
     "text": [
      "100%|██████████| 101/101 [02:41<00:00,  1.60s/it]"
     ]
    },
    {
     "name": "stdout",
     "output_type": "stream",
     "text": [
      "avg len: 10.000000\n",
      "HR@10\t0.20545\n"
     ]
    },
    {
     "name": "stderr",
     "output_type": "stream",
     "text": [
      "\n"
     ]
    }
   ],
   "source": [
    "ar = Assos_Recommender(rules)\n",
    "print(\"go\")\n",
    "hr = hitrate(ar, 10)"
   ]
  },
  {
   "cell_type": "code",
   "execution_count": 85,
   "id": "69b33f52",
   "metadata": {},
   "outputs": [],
   "source": [
    "class User_Recommender(Recommender):\n",
    "    def __init__(self, assos):\n",
    "        self.assos = assos\n",
    "    \n",
    "    def recommend(self, user_items, k, user_id, split):\n",
    "        user_items = set(user_items)\n",
    "        rdict = dict()\n",
    "        for a in self.assos[split]:\n",
    "            if user_id in a.right:\n",
    "                item_list = list()\n",
    "                for l in a.left:\n",
    "                    if l in df_test:\n",
    "                        item_list.append(set(df_test[l]))\n",
    "                    if l in df_train:\n",
    "                        item_list.append(set(df_train[l]))\n",
    "                        \n",
    "                if item_list:\n",
    "                    intersection = set.intersection(*item_list)\n",
    "                    for item in intersection - user_items:\n",
    "                        if item in rdict:\n",
    "                            rdict[item] += (a.c * a.s)\n",
    "                        else:\n",
    "                            rdict[item] = (a.c * a.s)\n",
    "\n",
    "                            \n",
    "        if rdict.values():   \n",
    "            if max(rdict.values()) < 50:\n",
    "                return set()\n",
    "            \n",
    "        rlist = sorted(rdict.keys(), key=lambda x: rdict[x], reverse=True)\n",
    "\n",
    "        recommendation = set()\n",
    "        for i in rlist:\n",
    "            recommendation.add(i)\n",
    "            if len(recommendation) >= k and k != -1:\n",
    "                break\n",
    "        return recommendation"
   ]
  },
  {
   "cell_type": "markdown",
   "id": "344a21aa",
   "metadata": {},
   "source": [
    "# Results\n",
    "sum(rule.s * rule.c) --> 23.020"
   ]
  },
  {
   "cell_type": "code",
   "execution_count": 86,
   "id": "b374272d",
   "metadata": {
    "scrolled": false
   },
   "outputs": [
    {
     "name": "stderr",
     "output_type": "stream",
     "text": [
      "100%|██████████| 101/101 [00:14<00:00,  7.19it/s]"
     ]
    },
    {
     "name": "stdout",
     "output_type": "stream",
     "text": [
      "avg len: 2.376238\n",
      "HR@10\t0.21287\n"
     ]
    },
    {
     "name": "stderr",
     "output_type": "stream",
     "text": [
      "\n"
     ]
    }
   ],
   "source": [
    "ur = User_Recommender(user_rules)\n",
    "hr = hitrate(ur, 10)"
   ]
  },
  {
   "cell_type": "code",
   "execution_count": 79,
   "id": "61823ea7",
   "metadata": {},
   "outputs": [],
   "source": [
    "class Combo_Recommender(Recommender):\n",
    "    def __init__(self, ar, ur):\n",
    "        self.ar = ar\n",
    "        self.ur = ur\n",
    "        \n",
    "    def recommend(self, user_items, k, user_id, split):\n",
    "        recommendation = self.ur.recommend(user_items, k, user_id, split)\n",
    "        if len(recommendation) < k:\n",
    "            recommendation.update(self.ar.recommend(user_items, k, user_id, split))\n",
    "        return recommendation"
   ]
  },
  {
   "cell_type": "code",
   "execution_count": null,
   "id": "58585ff2",
   "metadata": {},
   "outputs": [
    {
     "name": "stderr",
     "output_type": "stream",
     "text": [
      " 58%|█████▊    | 59/101 [01:15<01:03,  1.51s/it]"
     ]
    }
   ],
   "source": [
    "cr = Combo_Recommender(ar, ur)\n",
    "hr = hitrate(cr, 10)"
   ]
  },
  {
   "cell_type": "code",
   "execution_count": 63,
   "id": "5811ce4f",
   "metadata": {},
   "outputs": [],
   "source": [
    "class Combo_Recommender2(Recommender):\n",
    "    def __init__(self, ar, ur):\n",
    "        self.ar = ar\n",
    "        self.ur = ur\n",
    "        \n",
    "    def recommend(self, user_items, k, user_id, split):\n",
    "        recommendation = self.ur.recommend(user_items, 8, user_id, split)\n",
    "        if len(recommendation) < k:\n",
    "            recommendation.update(self.ar.recommend(user_items, k - len(recommendation), user_id, split))\n",
    "        return recommendation"
   ]
  },
  {
   "cell_type": "code",
   "execution_count": 64,
   "id": "cb80c7a3",
   "metadata": {},
   "outputs": [
    {
     "name": "stderr",
     "output_type": "stream",
     "text": [
      "100%|██████████| 101/101 [02:05<00:00,  1.25s/it]"
     ]
    },
    {
     "name": "stdout",
     "output_type": "stream",
     "text": [
      "avg len: 10.000000\n",
      "HR@10\t0.37376\n"
     ]
    },
    {
     "name": "stderr",
     "output_type": "stream",
     "text": [
      "\n"
     ]
    }
   ],
   "source": [
    "cr = Combo_Recommender2(ar, ur)\n",
    "hr = hitrate(cr, 10)"
   ]
  },
  {
   "cell_type": "markdown",
   "id": "fedae42e",
   "metadata": {},
   "source": [
    "# ??. Store the association rules as pickle file for further use"
   ]
  },
  {
   "cell_type": "code",
   "execution_count": 14,
   "id": "48cce044",
   "metadata": {},
   "outputs": [],
   "source": [
    "# import pickle\n",
    "# pickle.dump(rules, open(\"pickle_dumps/article_rules.p\", \"wb\"))"
   ]
  }
 ],
 "metadata": {
  "kernelspec": {
   "display_name": "Python 3",
   "language": "python",
   "name": "python3"
  },
  "language_info": {
   "codemirror_mode": {
    "name": "ipython",
    "version": 3
   },
   "file_extension": ".py",
   "mimetype": "text/x-python",
   "name": "python",
   "nbconvert_exporter": "python",
   "pygments_lexer": "ipython3",
   "version": "3.8.10"
  }
 },
 "nbformat": 4,
 "nbformat_minor": 5
}
