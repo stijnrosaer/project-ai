{
 "cells": [
  {
   "cell_type": "markdown",
   "id": "50569d85",
   "metadata": {},
   "source": [
    "## 0. Import packages"
   ]
  },
  {
   "cell_type": "code",
   "execution_count": 2,
   "id": "a0c03281",
   "metadata": {},
   "outputs": [],
   "source": [
    "import pandas as pd\n",
    "import gzip\n",
    "import math\n",
    "from tqdm import tqdm\n",
    "from itertools import chain, combinations\n",
    "from Association import Association\n",
    "import numpy as np\n",
    "tqdm.pandas() #for progres_apply etc."
   ]
  },
  {
   "cell_type": "markdown",
   "id": "a82af1f6",
   "metadata": {},
   "source": [
    "## 1. Load data from previous step"
   ]
  },
  {
   "cell_type": "code",
   "execution_count": 3,
   "id": "7ecf0117",
   "metadata": {},
   "outputs": [],
   "source": [
    "import pickle\n",
    "rules = pickle.load(open(\"pickle_dumps/article_rules.p\", \"rb\"))\n",
    "user_rules = pickle.load(open(\"pickle_dumps/user_rules.p\", \"rb\"))"
   ]
  },
  {
   "cell_type": "code",
   "execution_count": 4,
   "id": "828fc0a0",
   "metadata": {},
   "outputs": [],
   "source": [
    "df_test = pickle.load(open(\"pickle_dumps/test_df.p\", \"rb\"))\n",
    "df_test = df_test.set_index(\"user_id\").to_dict()[\"test_split\"]"
   ]
  },
  {
   "cell_type": "code",
   "execution_count": 5,
   "id": "43d21dbe",
   "metadata": {},
   "outputs": [],
   "source": [
    "df_train = pickle.load(open(\"pickle_dumps/train_df.p\", \"rb\"))\n",
    "df_train = df_train.set_index(\"user_id\").to_dict()[\"item_id\"]"
   ]
  },
  {
   "cell_type": "code",
   "execution_count": 6,
   "id": "4d6f9cfd",
   "metadata": {},
   "outputs": [],
   "source": [
    "class Recommender():\n",
    "    def __init__(self, assos):\n",
    "        pass\n",
    "    \n",
    "    def recommend(self, user_items, k, user_id=None, split=None):\n",
    "        pass        "
   ]
  },
  {
   "cell_type": "code",
   "execution_count": 7,
   "id": "c15a800e",
   "metadata": {},
   "outputs": [],
   "source": [
    "def hitrate(rc, k):\n",
    "    hits = 0\n",
    "    ndcg = []\n",
    "    counts = 0\n",
    "    avg_len = 0\n",
    "    \n",
    "    idcg = sum(1/np.log2(i+1) for i in range(1,k+1))\n",
    "    \n",
    "    for user in tqdm(df_test):\n",
    "        split_user = df_test[user]\n",
    "        for split_id, split in enumerate(split_user):\n",
    "            r = rc.recommend(split[0], k, user, split_id)\n",
    "        \n",
    "            avg_len += len(r)/len(split_user)\n",
    "            \n",
    "            for item in split[1]:\n",
    "                if item in r:\n",
    "                    hits += (item in r) / len(split_user)\n",
    "                    break\n",
    "            \n",
    "            dcg = 0\n",
    "            for i, rec in enumerate(r):\n",
    "                good = 1 if rec in split[1] else 0\n",
    "                dcg += (2**good - 1)/(np.log2(i+2))\n",
    "            ndcg.append(dcg/idcg)\n",
    "            \n",
    "                \n",
    "                \n",
    "        counts += 1\n",
    "    \n",
    "    print(\"avg len: {:f}\".format(avg_len / len(df_test)))\n",
    "    if k == -1:\n",
    "        print(\"HR\\t{:.5f}\".format((hits / counts)))\n",
    "        print(\"EHR\\t{:.5f}\".format((hits / counts) / (avg_len /  len(df_test)) * 10))\n",
    "    else:\n",
    "        print(\"HR@{}\\t{:.5f}\".format(k, (hits / counts)))\n",
    "        print(\"EHR@{}\\t{:.5f}\".format(k, (hits / counts) / (avg_len /  len(df_test)) * 10))\n",
    "    print(\"nDCG@{}\\t{:.5f}\".format(k, (sum(ndcg) / len(ndcg))))\n",
    "    return hits / counts"
   ]
  },
  {
   "cell_type": "code",
   "execution_count": 8,
   "id": "ffda1f1f",
   "metadata": {},
   "outputs": [],
   "source": [
    "class Assos_Recommender(Recommender):\n",
    "    def __init__(self, assos):\n",
    "        # use popular items to fill unused space\n",
    "        # TODO (df_train is used for this)\n",
    "        \n",
    "        self.assos = sorted(assos, key=lambda x: x.s, reverse=True)\n",
    "        \n",
    "#     def get_items(self, user_id):\n",
    "#         return self.df_test[user_id]\n",
    "    \n",
    "    def recommend(self, user_items, k, user_id=None, split=None):\n",
    "        recommendation = set()\n",
    "        for a in self.assos:\n",
    "            for l in a.left:\n",
    "                # break if any element is not in the user session\n",
    "                if l not in user_items:\n",
    "                    break\n",
    "                    \n",
    "                # all elements are in the user session --> add RHS of rule to the recommendation\n",
    "                r = list(a.right)[0]\n",
    "                if r not in user_items:\n",
    "                    recommendation.add(r)\n",
    "                        \n",
    "            if len(recommendation) >= k and k != -1:\n",
    "                break\n",
    "                \n",
    "        return recommendation"
   ]
  },
  {
   "cell_type": "markdown",
   "id": "0bd13c08",
   "metadata": {},
   "source": [
    "# Results\n",
    "rule.s --> 18.317 <br>\n",
    "rule.s * rule.c --> 20.545"
   ]
  },
  {
   "cell_type": "code",
   "execution_count": 9,
   "id": "234d3e96",
   "metadata": {
    "scrolled": false
   },
   "outputs": [
    {
     "name": "stderr",
     "output_type": "stream",
     "text": [
      "100%|██████████| 101/101 [00:39<00:00,  2.56it/s]"
     ]
    },
    {
     "name": "stdout",
     "output_type": "stream",
     "text": [
      "avg len: 10.000000\n",
      "HR@10\t0.21040\n",
      "EHR@10\t0.21040\n",
      "nDCG@10\t0.02383\n"
     ]
    },
    {
     "name": "stderr",
     "output_type": "stream",
     "text": [
      "\n"
     ]
    }
   ],
   "source": [
    "ar = Assos_Recommender(rules)\n",
    "hr = hitrate(ar, 10)"
   ]
  },
  {
   "cell_type": "code",
   "execution_count": 10,
   "id": "69b33f52",
   "metadata": {},
   "outputs": [],
   "source": [
    "class User_Recommender(Recommender):\n",
    "    def __init__(self, assos):\n",
    "        self.assos = assos\n",
    "    \n",
    "    def recommend(self, user_items, k, user_id, split):\n",
    "        if len(user_items) <= 0:\n",
    "            return set()\n",
    "        \n",
    "        user_items = set(user_items)\n",
    "        rdict = dict()\n",
    "        for a in self.assos[split]:\n",
    "            if user_id in a.right:\n",
    "                item_list = list()\n",
    "                for l in a.left:\n",
    "                    if l in df_test:\n",
    "                        item_list.append(set(df_test[l][split][0]))\n",
    "                    if l in df_train:\n",
    "                        item_list.append(set(df_train[l]))\n",
    "                        \n",
    "                if item_list:\n",
    "                    intersection = set.intersection(*item_list)\n",
    "                    for item in intersection - user_items:\n",
    "                        if item in rdict:\n",
    "                            rdict[item] += (a.c * a.s)\n",
    "                        else:\n",
    "                            rdict[item] = (a.c * a.s)\n",
    "\n",
    "                            \n",
    "#         if rdict.values():   \n",
    "#             if max(rdict.values()) < 50:\n",
    "#                 return set()\n",
    "            \n",
    "        rlist = sorted(rdict.keys(), key=lambda x: rdict[x], reverse=True)\n",
    "\n",
    "        recommendation = set()\n",
    "        for i in rlist:\n",
    "            recommendation.add(i)\n",
    "            if len(recommendation) >= k and k != -1:\n",
    "                break\n",
    "        return recommendation"
   ]
  },
  {
   "cell_type": "markdown",
   "id": "344a21aa",
   "metadata": {},
   "source": [
    "# Results\n",
    "sum(rule.s * rule.c) --> 23.020"
   ]
  },
  {
   "cell_type": "code",
   "execution_count": 11,
   "id": "b374272d",
   "metadata": {
    "scrolled": false
   },
   "outputs": [
    {
     "name": "stderr",
     "output_type": "stream",
     "text": [
      "100%|██████████| 101/101 [00:28<00:00,  3.55it/s]"
     ]
    },
    {
     "name": "stdout",
     "output_type": "stream",
     "text": [
      "avg len: 2.574257\n",
      "HR@10\t0.21287\n",
      "EHR@10\t0.82692\n",
      "nDCG@10\t0.06986\n"
     ]
    },
    {
     "name": "stderr",
     "output_type": "stream",
     "text": [
      "\n"
     ]
    }
   ],
   "source": [
    "ur = User_Recommender(user_rules)\n",
    "hr = hitrate(ur, 10)"
   ]
  },
  {
   "cell_type": "code",
   "execution_count": 12,
   "id": "61823ea7",
   "metadata": {},
   "outputs": [],
   "source": [
    "class Combo_Recommender(Recommender):\n",
    "    def __init__(self, ar, ur):\n",
    "        self.ar = ar\n",
    "        self.ur = ur\n",
    "        \n",
    "    def recommend(self, user_items, k, user_id, split):\n",
    "        recommendation = self.ur.recommend(user_items, k, user_id, split)\n",
    "        if len(recommendation) < k:\n",
    "            recommendation.update(self.ar.recommend(user_items, k, user_id, split))\n",
    "        return recommendation"
   ]
  },
  {
   "cell_type": "markdown",
   "id": "6e280363",
   "metadata": {},
   "source": [
    "no filter: 36139; 08554 <br>\n",
    "25: idem<br>"
   ]
  },
  {
   "cell_type": "code",
   "execution_count": 13,
   "id": "58585ff2",
   "metadata": {},
   "outputs": [
    {
     "name": "stderr",
     "output_type": "stream",
     "text": [
      "100%|██████████| 101/101 [00:59<00:00,  1.70it/s]"
     ]
    },
    {
     "name": "stdout",
     "output_type": "stream",
     "text": [
      "avg len: 10.000000\n",
      "HR@10\t0.36139\n",
      "EHR@10\t0.36139\n",
      "nDCG@10\t0.08554\n"
     ]
    },
    {
     "name": "stderr",
     "output_type": "stream",
     "text": [
      "\n"
     ]
    }
   ],
   "source": [
    "cr = Combo_Recommender(ar, ur)\n",
    "hr = hitrate(cr, 10)"
   ]
  },
  {
   "cell_type": "code",
   "execution_count": 14,
   "id": "5811ce4f",
   "metadata": {},
   "outputs": [],
   "source": [
    "class Combo_Recommender2(Recommender):\n",
    "    def __init__(self, ar, ur):\n",
    "        self.ar = ar\n",
    "        self.ur = ur\n",
    "        \n",
    "    def recommend(self, user_items, k, user_id, split):\n",
    "        recommendation = self.ur.recommend(user_items, 8, user_id, split)\n",
    "        if len(recommendation) < k:\n",
    "            recommendation.update(self.ar.recommend(user_items, k - len(recommendation), user_id, split))\n",
    "        return recommendation"
   ]
  },
  {
   "cell_type": "code",
   "execution_count": 15,
   "id": "cb80c7a3",
   "metadata": {},
   "outputs": [
    {
     "name": "stderr",
     "output_type": "stream",
     "text": [
      "100%|██████████| 101/101 [01:00<00:00,  1.67it/s]"
     ]
    },
    {
     "name": "stdout",
     "output_type": "stream",
     "text": [
      "avg len: 9.997525\n",
      "HR@10\t0.35149\n",
      "EHR@10\t0.35157\n",
      "nDCG@10\t0.07773\n"
     ]
    },
    {
     "name": "stderr",
     "output_type": "stream",
     "text": [
      "\n"
     ]
    }
   ],
   "source": [
    "cr = Combo_Recommender2(ar, ur)\n",
    "hr = hitrate(cr, 10)"
   ]
  },
  {
   "cell_type": "code",
   "execution_count": 16,
   "id": "ba5ceadb",
   "metadata": {},
   "outputs": [],
   "source": [
    "class Combo_Recommender3(Recommender):\n",
    "    def __init__(self, ar, ur):\n",
    "        self.ar = ar\n",
    "        self.ur = ur\n",
    "        \n",
    "    def recommend(self, user_items, k, user_id, split):\n",
    "        recommendation = self.ar.recommend(user_items, 5, user_id, split)\n",
    "        if len(recommendation) < k:\n",
    "            recommendation.update(self.ur.recommend(user_items, k - len(recommendation), user_id, split))\n",
    "        return recommendation"
   ]
  },
  {
   "cell_type": "code",
   "execution_count": 17,
   "id": "4e36d049",
   "metadata": {},
   "outputs": [
    {
     "name": "stderr",
     "output_type": "stream",
     "text": [
      "100%|██████████| 101/101 [00:36<00:00,  2.79it/s]"
     ]
    },
    {
     "name": "stdout",
     "output_type": "stream",
     "text": [
      "avg len: 6.274752\n",
      "HR@10\t0.26980\n",
      "EHR@10\t0.42998\n",
      "nDCG@10\t0.05957\n"
     ]
    },
    {
     "name": "stderr",
     "output_type": "stream",
     "text": [
      "\n"
     ]
    }
   ],
   "source": [
    "cr = Combo_Recommender3(ar, ur)\n",
    "hr = hitrate(cr, 10)"
   ]
  },
  {
   "cell_type": "code",
   "execution_count": null,
   "id": "56d41b30",
   "metadata": {},
   "outputs": [],
   "source": []
  }
 ],
 "metadata": {
  "kernelspec": {
   "display_name": "Python 3",
   "language": "python",
   "name": "python3"
  },
  "language_info": {
   "codemirror_mode": {
    "name": "ipython",
    "version": 3
   },
   "file_extension": ".py",
   "mimetype": "text/x-python",
   "name": "python",
   "nbconvert_exporter": "python",
   "pygments_lexer": "ipython3",
   "version": "3.8.10"
  }
 },
 "nbformat": 4,
 "nbformat_minor": 5
}
