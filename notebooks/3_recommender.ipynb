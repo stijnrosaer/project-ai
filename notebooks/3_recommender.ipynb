{
 "cells": [
  {
   "cell_type": "markdown",
   "id": "50569d85",
   "metadata": {},
   "source": [
    "## 0. Import packages"
   ]
  },
  {
   "cell_type": "code",
   "execution_count": 1,
   "id": "a0c03281",
   "metadata": {},
   "outputs": [],
   "source": [
    "import pandas as pd\n",
    "import gzip\n",
    "import math\n",
    "from tqdm import tqdm\n",
    "from itertools import chain, combinations\n",
    "from Association import Association\n",
    "import numpy as np\n",
    "import random\n",
    "tqdm.pandas() #for progres_apply etc."
   ]
  },
  {
   "cell_type": "code",
   "execution_count": 2,
   "id": "a02c1d93",
   "metadata": {},
   "outputs": [],
   "source": [
    "seed_index = 0"
   ]
  },
  {
   "cell_type": "markdown",
   "id": "a82af1f6",
   "metadata": {},
   "source": [
    "## 1. Load data from previous step"
   ]
  },
  {
   "cell_type": "code",
   "execution_count": 3,
   "id": "7ecf0117",
   "metadata": {},
   "outputs": [],
   "source": [
    "import pickle\n",
    "rules = pickle.load(open(\"pickle_dumps/article_rules.p\", \"rb\"))\n",
    "user_rules = pickle.load(open(\"pickle_dumps/user_rules.p\", \"rb\"))"
   ]
  },
  {
   "cell_type": "code",
   "execution_count": 4,
   "id": "828fc0a0",
   "metadata": {},
   "outputs": [],
   "source": [
    "df_test = pickle.load(open(f\"pickle_dumps/test_df_{seed_index}.p\", \"rb\"))\n",
    "df_test = df_test.set_index(\"user_id\").to_dict()[\"item_id\"]"
   ]
  },
  {
   "cell_type": "code",
   "execution_count": 5,
   "id": "43d21dbe",
   "metadata": {},
   "outputs": [],
   "source": [
    "df_train = pickle.load(open(f\"pickle_dumps/train_df_{seed_index}.p\", \"rb\"))\n",
    "df_train = df_train.set_index(\"user_id\").to_dict()[\"item_id\"]"
   ]
  },
  {
   "cell_type": "code",
   "execution_count": 6,
   "id": "4d6f9cfd",
   "metadata": {},
   "outputs": [],
   "source": [
    "class Recommender():\n",
    "    def __init__(self, assos):\n",
    "        pass\n",
    "    \n",
    "    def recommend(self, user_items, k, user_id=None, split=None):\n",
    "        pass        "
   ]
  },
  {
   "cell_type": "code",
   "execution_count": 7,
   "id": "c15a800e",
   "metadata": {},
   "outputs": [],
   "source": [
    "def hitrate(rc, k, nr_users = float(\"1\")):\n",
    "    hits = 0\n",
    "    ndcg = []\n",
    "    counts = 0\n",
    "    avg_len = 0\n",
    "    n_recall = 0\n",
    "    \n",
    "    \n",
    "    \n",
    "    user_ids = list(df_test.keys())\n",
    "    for user in tqdm(random.sample(user_ids, int(len(user_ids) * nr_users))):\n",
    "        user_target = df_test[user]\n",
    "        user_items = df_train[user]\n",
    "        \n",
    "        r = rc.recommend(user_items, k, user)\n",
    "\n",
    "        avg_len += len(r)\n",
    "\n",
    "        correct = 0\n",
    "        hit = False\n",
    "        for item in user_target:\n",
    "            if item in r:\n",
    "                if not hit:\n",
    "                    hits += 1\n",
    "                    hit = True\n",
    "                correct += 1\n",
    "        n_recall += correct / max(1, (min(len(r), len(user_target))))\n",
    "\n",
    "        dcg = 0\n",
    "        idcg = sum(1/np.log2(i+1) for i in range(1,(max(1, len(r)))+1))\n",
    "        for i, rec in enumerate(r):\n",
    "            good = 1 if rec in user_target else 0\n",
    "            dcg += (2**good - 1)/(np.log2(i+2))\n",
    "        ndcg.append(dcg/idcg)\n",
    "            \n",
    "                \n",
    "                \n",
    "        counts += 1\n",
    "    \n",
    "    print(\"avg len: {:f}\".format(avg_len / counts))\n",
    "    if k == -1:\n",
    "        print(\"HR\\t{:.5f}\".format((hits / counts)))\n",
    "        print(\"EHR\\t{:.5f}\".format((hits / counts) * (avg_len /  counts)))\n",
    "    else:\n",
    "        print(\"HR@{}\\t{:.5f}\".format(k, (hits / counts)))\n",
    "        print(\"normalised recall@{}\\t{:.5f}\".format(k, (n_recall / counts)))\n",
    "        print(\"EHR@{}\\t{:.5f}\".format(k, (hits / counts) * (avg_len /  counts)))\n",
    "    print(\"nDCG@{}\\t{:.5f}\".format(k, (sum(ndcg) / len(ndcg))))\n",
    "    return {\"HR\": hits /counts,\n",
    "           \"EHR\": (hits / counts) * (avg_len /  counts),\n",
    "           \"normalised recall\": (n_recall / counts),\n",
    "           \"nDCG\": sum(ndcg) / len(ndcg)}"
   ]
  },
  {
   "cell_type": "code",
   "execution_count": 8,
   "id": "ffda1f1f",
   "metadata": {},
   "outputs": [],
   "source": [
    "class Assos_Recommender(Recommender):\n",
    "    def __init__(self, assos, sorter=lambda x: x.s * x.c):\n",
    "        # use popular items to fill unused space\n",
    "        # TODO (df_train is used for this)\n",
    "        \n",
    "        self.sorter = sorter\n",
    "        self.assos = sorted(assos, key=self.sorter, reverse=True)[:100000]\n",
    "        \n",
    "#     def get_items(self, user_id):\n",
    "#         return self.df_test[user_id]\n",
    "    \n",
    "    def recommend(self, user_items, k, user_id=None, split=None):\n",
    "        recommendation = set()\n",
    "        user_items = set(user_items)\n",
    "        for a in self.assos:\n",
    "#             print(a.left, user_items)\n",
    "            stop = False\n",
    "            for l in a.left:\n",
    "                # break if any element is not in the user session\n",
    "                if l not in user_items:\n",
    "                    stop = True\n",
    "                    break\n",
    "                    \n",
    "                # all elements are in the user session --> add RHS of rule to the recommendation\n",
    "            if not stop:\n",
    "                r = a.right\n",
    "                for item in r:\n",
    "                    if item not in user_items:\n",
    "                        recommendation.add(item)\n",
    "                        if len(recommendation) >= k and k != -1:\n",
    "                            break\n",
    "                        \n",
    "            if len(recommendation) >= k and k != -1:\n",
    "                break\n",
    "                \n",
    "        return recommendation"
   ]
  },
  {
   "cell_type": "markdown",
   "id": "0bd13c08",
   "metadata": {},
   "source": [
    "# Results\n",
    "rule.s --> 18.317 <br>\n",
    "rule.s * rule.c --> 20.545"
   ]
  },
  {
   "cell_type": "code",
   "execution_count": 9,
   "id": "aa207102",
   "metadata": {},
   "outputs": [],
   "source": [
    "results = []"
   ]
  },
  {
   "cell_type": "code",
   "execution_count": 14,
   "id": "b7b335ca",
   "metadata": {},
   "outputs": [
    {
     "name": "stderr",
     "output_type": "stream",
     "text": [
      "100%|██████████| 6297/6297 [01:36<00:00, 65.44it/s]"
     ]
    },
    {
     "name": "stdout",
     "output_type": "stream",
     "text": [
      "avg len: 6.254407\n",
      "HR@10\t0.24631\n",
      "normalised recall@10\t0.06225\n",
      "EHR@10\t1.54051\n",
      "nDCG@10\t0.05166\n"
     ]
    },
    {
     "name": "stderr",
     "output_type": "stream",
     "text": [
      "\n"
     ]
    }
   ],
   "source": [
    "ar = Assos_Recommender(rules, lambda x: x.z)\n",
    "results.append((\"lambda x: x.z\", hitrate(ar, 10, 0.1)))"
   ]
  },
  {
   "cell_type": "code",
   "execution_count": 15,
   "id": "234d3e96",
   "metadata": {},
   "outputs": [
    {
     "name": "stderr",
     "output_type": "stream",
     "text": [
      "100%|██████████| 6297/6297 [04:46<00:00, 22.00it/s]"
     ]
    },
    {
     "name": "stdout",
     "output_type": "stream",
     "text": [
      "avg len: 5.952676\n",
      "HR@10\t0.38923\n",
      "normalised recall@10\t0.11703\n",
      "EHR@10\t2.31698\n",
      "nDCG@10\t0.08194\n"
     ]
    },
    {
     "name": "stderr",
     "output_type": "stream",
     "text": [
      "\n"
     ]
    }
   ],
   "source": [
    "ar = Assos_Recommender(rules, lambda x: x.s * x.c)\n",
    "results.append((\"lambda x: x.s * x.c\", hitrate(ar, 10, 0.1)))"
   ]
  },
  {
   "cell_type": "code",
   "execution_count": 16,
   "id": "79208497",
   "metadata": {},
   "outputs": [
    {
     "name": "stderr",
     "output_type": "stream",
     "text": [
      "  2%|▏         | 137/6297 [00:02<01:50, 55.75it/s]\n"
     ]
    },
    {
     "ename": "KeyboardInterrupt",
     "evalue": "",
     "output_type": "error",
     "traceback": [
      "\u001b[0;31m---------------------------------------------------------------------------\u001b[0m",
      "\u001b[0;31mKeyboardInterrupt\u001b[0m                         Traceback (most recent call last)",
      "\u001b[0;32m<ipython-input-16-13ee28455add>\u001b[0m in \u001b[0;36m<module>\u001b[0;34m\u001b[0m\n\u001b[1;32m      1\u001b[0m \u001b[0mar\u001b[0m \u001b[0;34m=\u001b[0m \u001b[0mAssos_Recommender\u001b[0m\u001b[0;34m(\u001b[0m\u001b[0mrules\u001b[0m\u001b[0;34m,\u001b[0m \u001b[0;32mlambda\u001b[0m \u001b[0mx\u001b[0m\u001b[0;34m:\u001b[0m \u001b[0mx\u001b[0m\u001b[0;34m.\u001b[0m\u001b[0ms\u001b[0m \u001b[0;34m+\u001b[0m \u001b[0mx\u001b[0m\u001b[0;34m.\u001b[0m\u001b[0mc\u001b[0m\u001b[0;34m)\u001b[0m\u001b[0;34m\u001b[0m\u001b[0;34m\u001b[0m\u001b[0m\n\u001b[0;32m----> 2\u001b[0;31m \u001b[0mresults\u001b[0m\u001b[0;34m.\u001b[0m\u001b[0mappend\u001b[0m\u001b[0;34m(\u001b[0m\u001b[0;34m(\u001b[0m\u001b[0;34m\"lambda x: x.s + x.c\"\u001b[0m\u001b[0;34m,\u001b[0m \u001b[0mhitrate\u001b[0m\u001b[0;34m(\u001b[0m\u001b[0mar\u001b[0m\u001b[0;34m,\u001b[0m \u001b[0;36m10\u001b[0m\u001b[0;34m,\u001b[0m \u001b[0;36m0.1\u001b[0m\u001b[0;34m)\u001b[0m\u001b[0;34m)\u001b[0m\u001b[0;34m)\u001b[0m\u001b[0;34m\u001b[0m\u001b[0;34m\u001b[0m\u001b[0m\n\u001b[0m",
      "\u001b[0;32m<ipython-input-7-3a7027d37e0d>\u001b[0m in \u001b[0;36mhitrate\u001b[0;34m(rc, k, nr_users)\u001b[0m\n\u001b[1;32m     13\u001b[0m         \u001b[0muser_items\u001b[0m \u001b[0;34m=\u001b[0m \u001b[0mdf_train\u001b[0m\u001b[0;34m[\u001b[0m\u001b[0muser\u001b[0m\u001b[0;34m]\u001b[0m\u001b[0;34m\u001b[0m\u001b[0;34m\u001b[0m\u001b[0m\n\u001b[1;32m     14\u001b[0m \u001b[0;34m\u001b[0m\u001b[0m\n\u001b[0;32m---> 15\u001b[0;31m         \u001b[0mr\u001b[0m \u001b[0;34m=\u001b[0m \u001b[0mrc\u001b[0m\u001b[0;34m.\u001b[0m\u001b[0mrecommend\u001b[0m\u001b[0;34m(\u001b[0m\u001b[0muser_items\u001b[0m\u001b[0;34m,\u001b[0m \u001b[0mk\u001b[0m\u001b[0;34m,\u001b[0m \u001b[0muser\u001b[0m\u001b[0;34m)\u001b[0m\u001b[0;34m\u001b[0m\u001b[0;34m\u001b[0m\u001b[0m\n\u001b[0m\u001b[1;32m     16\u001b[0m \u001b[0;34m\u001b[0m\u001b[0m\n\u001b[1;32m     17\u001b[0m         \u001b[0mavg_len\u001b[0m \u001b[0;34m+=\u001b[0m \u001b[0mlen\u001b[0m\u001b[0;34m(\u001b[0m\u001b[0mr\u001b[0m\u001b[0;34m)\u001b[0m\u001b[0;34m\u001b[0m\u001b[0;34m\u001b[0m\u001b[0m\n",
      "\u001b[0;32m<ipython-input-8-724addca8528>\u001b[0m in \u001b[0;36mrecommend\u001b[0;34m(self, user_items, k, user_id, split)\u001b[0m\n\u001b[1;32m     16\u001b[0m \u001b[0;31m#             print(a.left, user_items)\u001b[0m\u001b[0;34m\u001b[0m\u001b[0;34m\u001b[0m\u001b[0;34m\u001b[0m\u001b[0m\n\u001b[1;32m     17\u001b[0m             \u001b[0mstop\u001b[0m \u001b[0;34m=\u001b[0m \u001b[0;32mFalse\u001b[0m\u001b[0;34m\u001b[0m\u001b[0;34m\u001b[0m\u001b[0m\n\u001b[0;32m---> 18\u001b[0;31m             \u001b[0;32mfor\u001b[0m \u001b[0ml\u001b[0m \u001b[0;32min\u001b[0m \u001b[0ma\u001b[0m\u001b[0;34m.\u001b[0m\u001b[0mleft\u001b[0m\u001b[0;34m:\u001b[0m\u001b[0;34m\u001b[0m\u001b[0;34m\u001b[0m\u001b[0m\n\u001b[0m\u001b[1;32m     19\u001b[0m                 \u001b[0;31m# break if any element is not in the user session\u001b[0m\u001b[0;34m\u001b[0m\u001b[0;34m\u001b[0m\u001b[0;34m\u001b[0m\u001b[0m\n\u001b[1;32m     20\u001b[0m                 \u001b[0;32mif\u001b[0m \u001b[0ml\u001b[0m \u001b[0;32mnot\u001b[0m \u001b[0;32min\u001b[0m \u001b[0muser_items\u001b[0m\u001b[0;34m:\u001b[0m\u001b[0;34m\u001b[0m\u001b[0;34m\u001b[0m\u001b[0m\n",
      "\u001b[0;31mKeyboardInterrupt\u001b[0m: "
     ]
    }
   ],
   "source": [
    "ar = Assos_Recommender(rules, lambda x: x.s + x.c)\n",
    "results.append((\"lambda x: x.s + x.c\", hitrate(ar, 10, 0.1)))"
   ]
  },
  {
   "cell_type": "code",
   "execution_count": null,
   "id": "fc7c672e",
   "metadata": {},
   "outputs": [],
   "source": [
    "ar = Assos_Recommender(rules, lambda x: x.s)\n",
    "results.append((\"lambda x: x.s\", hitrate(ar, 10, 0.1)))"
   ]
  },
  {
   "cell_type": "code",
   "execution_count": null,
   "id": "35b5d6e1",
   "metadata": {},
   "outputs": [],
   "source": [
    "ar = Assos_Recommender(rules, lambda x: x.c)\n",
    "results.append((\"lambda x: x.c\", hitrate(ar, 10, 0.1)))"
   ]
  },
  {
   "cell_type": "code",
   "execution_count": null,
   "id": "918c9fdd",
   "metadata": {},
   "outputs": [],
   "source": [
    "ar = Assos_Recommender(rules, lambda x: x.lift)\n",
    "results.append((\"lambda x: x.lift\", hitrate(ar, 10, 0.1)))"
   ]
  },
  {
   "cell_type": "code",
   "execution_count": null,
   "id": "b099dfd6",
   "metadata": {},
   "outputs": [],
   "source": [
    "ar = Assos_Recommender(rules, lambda x: -x.lift)\n",
    "results.append((\"lambda x: -x.lift\", hitrate(ar, 10, 0.1)))"
   ]
  },
  {
   "cell_type": "code",
   "execution_count": null,
   "id": "109ec4af",
   "metadata": {},
   "outputs": [],
   "source": [
    "ar = Assos_Recommender(rules, lambda x: 2 * x.s + x.c)\n",
    "results.append((\"lambda x: 2 * x.s + x.c\", hitrate(ar, 10, 0.1)))"
   ]
  },
  {
   "cell_type": "code",
   "execution_count": null,
   "id": "c3dda36b",
   "metadata": {},
   "outputs": [],
   "source": [
    "ar = Assos_Recommender(rules, lambda x: x.s * x.s * x.c)\n",
    "results.append((\"lambda x: x.s * x.s * x.c\", hitrate(ar, 10, 0.1)))"
   ]
  },
  {
   "cell_type": "code",
   "execution_count": null,
   "id": "77814a6a",
   "metadata": {},
   "outputs": [],
   "source": [
    "ar = Assos_Recommender(rules, lambda x: np.sqrt(np.power(x.s, 2) + np.power(x.c, 2)))\n",
    "results.append((\"lambda x: np.sqrt(np.power(x.s, 2) + np.power(x.c, 2))\", hitrate(ar, 10, 0.1)))"
   ]
  },
  {
   "cell_type": "code",
   "execution_count": null,
   "id": "44361f85",
   "metadata": {},
   "outputs": [],
   "source": [
    "ar = Assos_Recommender(rules, lambda x: np.sqrt(2 * np.power(x.s, 2) + np.power(x.c, 2)))\n",
    "results.append((\"lambda x: np.sqrt(2 * np.power(x.s, 2) + np.power(x.c, 2))\", hitrate(ar, 10, 0.1))"
   ]
  },
  {
   "cell_type": "code",
   "execution_count": null,
   "id": "407bc66e",
   "metadata": {},
   "outputs": [],
   "source": [
    "ar = Assos_Recommender(rules, lambda x: -np.abs(x.lift - 1))\n",
    "results.append((\"lambda x: -np.abs(x.lift - 1)\", hitrate(ar, 10, 0.1)))"
   ]
  },
  {
   "cell_type": "code",
   "execution_count": null,
   "id": "6e3d6657",
   "metadata": {},
   "outputs": [],
   "source": [
    "ar = Assos_Recommender(rules, lambda x: np.abs(x.lift - 1))\n",
    "results.append((\"lambda x: np.abs(x.lift - 1)\", hitrate(ar, 10, 0.1)))"
   ]
  },
  {
   "cell_type": "code",
   "execution_count": null,
   "id": "57c93a6f",
   "metadata": {},
   "outputs": [],
   "source": [
    "ar = Assos_Recommender(rules, lambda x: x.lift * x.s * x.c)\n",
    "results.append((\"lambda x: x.lift * x.s * x.c\", hitrate(ar, 10, 0.1)))"
   ]
  },
  {
   "cell_type": "code",
   "execution_count": 17,
   "id": "69b33f52",
   "metadata": {},
   "outputs": [],
   "source": [
    "class User_Recommender(Recommender):\n",
    "    def __init__(self, assos):\n",
    "        self.assos = assos\n",
    "    \n",
    "    def recommend(self, user_items, k, user_id):\n",
    "        if len(user_items) <= 0 or user_id not in self.assos:\n",
    "            return set()\n",
    "        \n",
    "        user_items = set(user_items)\n",
    "        rdict = dict()\n",
    "\n",
    "        for a in self.assos[user_id]:\n",
    "            item_list = list()\n",
    "            for l in a.left:\n",
    "                tmp = []\n",
    "                tmp.extend(df_test[l])\n",
    "                tmp.extend(df_train[l])\n",
    "                item_list.append(set(tmp))\n",
    "\n",
    "#                     if l in df_test:\n",
    "#                         item_list.append(set(df_test[l]))\n",
    "#                     if l in df_train:\n",
    "#                         item_list.append(set(df_train[l]))\n",
    "\n",
    "            if item_list:\n",
    "                intersection = set.intersection(*item_list)\n",
    "                for item in intersection - user_items:\n",
    "                    if item in rdict:\n",
    "                        rdict[item] += (a.c * a.s)\n",
    "                    else:\n",
    "                        rdict[item] = (a.c * a.s)\n",
    "\n",
    "                            \n",
    "#         if rdict.values():   \n",
    "#             if max(rdict.values()) < 50:\n",
    "#                 return set()\n",
    "            \n",
    "        rlist = sorted(rdict.keys(), key=lambda x: rdict[x], reverse=True)\n",
    "\n",
    "        recommendation = set()\n",
    "        for i in rlist:\n",
    "            recommendation.add(i)\n",
    "            if len(recommendation) >= k and k != -1:\n",
    "                break\n",
    "        return recommendation"
   ]
  },
  {
   "cell_type": "markdown",
   "id": "344a21aa",
   "metadata": {},
   "source": [
    "# Results\n",
    "sum(rule.s * rule.c) --> 23.020"
   ]
  },
  {
   "cell_type": "code",
   "execution_count": 19,
   "id": "b374272d",
   "metadata": {
    "scrolled": true
   },
   "outputs": [
    {
     "name": "stderr",
     "output_type": "stream",
     "text": [
      "100%|██████████| 6297/6297 [00:19<00:00, 315.56it/s] "
     ]
    },
    {
     "name": "stdout",
     "output_type": "stream",
     "text": [
      "avg len: 0.190567\n",
      "HR@10\t0.01874\n",
      "normalised recall@10\t0.00659\n",
      "EHR@10\t0.00357\n",
      "nDCG@10\t0.00660\n"
     ]
    },
    {
     "name": "stderr",
     "output_type": "stream",
     "text": [
      "\n"
     ]
    }
   ],
   "source": [
    "ur = User_Recommender(user_rules)\n",
    "hr = hitrate(ur, 10, 0.1)"
   ]
  },
  {
   "cell_type": "code",
   "execution_count": 14,
   "id": "61823ea7",
   "metadata": {},
   "outputs": [],
   "source": [
    "class Combo_Recommender(Recommender):\n",
    "    def __init__(self, ar, ur):\n",
    "        self.ar = ar\n",
    "        self.ur = ur\n",
    "        \n",
    "    def recommend(self, user_items, k, user_id):\n",
    "        recommendation = self.ur.recommend(user_items, k, user_id)\n",
    "        if len(recommendation) < k:\n",
    "            recommendation.update(self.ar.recommend(user_items, k, user_id))\n",
    "        return recommendation"
   ]
  },
  {
   "cell_type": "markdown",
   "id": "6e280363",
   "metadata": {},
   "source": [
    "no filter: 36139; 08554 <br>\n",
    "25: idem<br>"
   ]
  },
  {
   "cell_type": "code",
   "execution_count": 15,
   "id": "58585ff2",
   "metadata": {},
   "outputs": [
    {
     "name": "stderr",
     "output_type": "stream",
     "text": [
      "100%|██████████| 62970/62970 [04:09<00:00, 252.48it/s]"
     ]
    },
    {
     "name": "stdout",
     "output_type": "stream",
     "text": [
      "avg len: 9.971780\n",
      "HR@10\t0.66540\n",
      "normalised recall@10\t0.25960\n",
      "EHR@10\t6.63518\n",
      "nDCG@10\t0.13109\n"
     ]
    },
    {
     "name": "stderr",
     "output_type": "stream",
     "text": [
      "\n"
     ]
    }
   ],
   "source": [
    "cr = Combo_Recommender(ar, ur)\n",
    "hr = hitrate(cr, 10)"
   ]
  },
  {
   "cell_type": "code",
   "execution_count": null,
   "id": "5811ce4f",
   "metadata": {},
   "outputs": [],
   "source": [
    "class Combo_Recommender2(Recommender):\n",
    "    def __init__(self, ar, ur):\n",
    "        self.ar = ar\n",
    "        self.ur = ur\n",
    "        \n",
    "    def recommend(self, user_items, k, user_id, split):\n",
    "        recommendation = self.ur.recommend(user_items, 8, user_id, split)\n",
    "        if len(recommendation) < k:\n",
    "            recommendation.update(self.ar.recommend(user_items, k - len(recommendation), user_id, split))\n",
    "        return recommendation"
   ]
  },
  {
   "cell_type": "code",
   "execution_count": null,
   "id": "cb80c7a3",
   "metadata": {},
   "outputs": [],
   "source": [
    "cr = Combo_Recommender2(ar, ur)\n",
    "hr = hitrate(cr, 10)"
   ]
  },
  {
   "cell_type": "code",
   "execution_count": null,
   "id": "ba5ceadb",
   "metadata": {},
   "outputs": [],
   "source": [
    "class Combo_Recommender3(Recommender):\n",
    "    def __init__(self, ar, ur):\n",
    "        self.ar = ar\n",
    "        self.ur = ur\n",
    "        \n",
    "    def recommend(self, user_items, k, user_id, split):\n",
    "        recommendation = self.ar.recommend(user_items, 5, user_id, split)\n",
    "        if len(recommendation) < k:\n",
    "            recommendation.update(self.ur.recommend(user_items, k - len(recommendation), user_id, split))\n",
    "        return recommendation"
   ]
  },
  {
   "cell_type": "code",
   "execution_count": null,
   "id": "4e36d049",
   "metadata": {},
   "outputs": [],
   "source": [
    "cr = Combo_Recommender3(ar, ur)\n",
    "hr = hitrate(cr, 10)"
   ]
  },
  {
   "cell_type": "code",
   "execution_count": null,
   "id": "56d41b30",
   "metadata": {},
   "outputs": [],
   "source": []
  }
 ],
 "metadata": {
  "kernelspec": {
   "display_name": "Python 3",
   "language": "python",
   "name": "python3"
  },
  "language_info": {
   "codemirror_mode": {
    "name": "ipython",
    "version": 3
   },
   "file_extension": ".py",
   "mimetype": "text/x-python",
   "name": "python",
   "nbconvert_exporter": "python",
   "pygments_lexer": "ipython3",
   "version": "3.8.10"
  }
 },
 "nbformat": 4,
 "nbformat_minor": 5
}
