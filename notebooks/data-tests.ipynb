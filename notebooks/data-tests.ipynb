{
 "cells": [
  {
   "cell_type": "markdown",
   "metadata": {},
   "source": [
    "# 0. Import packages"
   ]
  },
  {
   "cell_type": "code",
   "execution_count": 1,
   "metadata": {},
   "outputs": [],
   "source": [
    "import numpy as np\n",
    "import pandas as pd\n",
    "import sklearn\n",
    "import gzip\n",
    "import json\n",
    "from tqdm import tqdm\n",
    "import os\n",
    "from collections import Counter\n",
    "from datetime import datetime\n",
    "import math\n",
    "tqdm.pandas() #for progres_apply etc."
   ]
  },
  {
   "cell_type": "code",
   "execution_count": 2,
   "metadata": {},
   "outputs": [],
   "source": [
    "#read file line-by-line and parse json, returns dataframe\n",
    "def parse_json(filename_gzipped_python_json, read_max=-1):\n",
    "  #read gzipped content\n",
    "  f=gzip.open(filename_gzipped_python_json,'r')\n",
    "  \n",
    "  #parse json\n",
    "  parse_data = []\n",
    "  for line in tqdm(f): #tqdm is for showing progress bar, always good when processing large amounts of data\n",
    "    line = line.decode('utf-8')\n",
    "    line = line.replace('true','True') #difference json/python\n",
    "    line = line.replace('false','False')\n",
    "    parsed_result = eval(line) #load python nested datastructure\n",
    "    parse_data.append(parsed_result)\n",
    "    if read_max !=-1 and len(parse_data) > read_max:\n",
    "      print(f'Break reading after {read_max} records')\n",
    "      break\n",
    "  print(f\"Reading {len(parse_data)} rows.\")\n",
    "\n",
    "  #create dataframe\n",
    "  df= pd.DataFrame.from_dict(parse_data)\n",
    "  return df"
   ]
  },
  {
   "cell_type": "markdown",
   "metadata": {},
   "source": [
    "# 1. Load Steam data"
   ]
  },
  {
   "cell_type": "code",
   "execution_count": 3,
   "metadata": {},
   "outputs": [],
   "source": [
    "steam_path = 'data/'\n",
    "metadata_games = 'steam_games.json.gz' \n",
    "user_items = 'australian_users_items.json.gz'\n",
    "user_reviews = 'australian_user_reviews.json.gz'\n",
    "game_bundles = 'bundle_data.json.gz'\n",
    "steam_reviews= 'steam_reviews.json.gz'"
   ]
  },
  {
   "cell_type": "code",
   "execution_count": 4,
   "metadata": {},
   "outputs": [
    {
     "name": "stdout",
     "output_type": "stream",
     "text": [
      "----- australian_user_reviews.json.gz-----\n",
      "Size of file is 6.940139MB\n"
     ]
    },
    {
     "name": "stderr",
     "output_type": "stream",
     "text": [
      "25799it [00:01, 17074.17it/s]\n"
     ]
    },
    {
     "name": "stdout",
     "output_type": "stream",
     "text": [
      "Reading 25799 rows.\n"
     ]
    },
    {
     "data": {
      "text/plain": "             user_id                                              user_url  \\\n0  76561197970982479  http://steamcommunity.com/profiles/76561197970982479   \n1            js41637                  http://steamcommunity.com/id/js41637   \n\n                                                                                                                                                                                                                                                                                                                                                                                                                                                                                                                                                                                                                                                                                                                                                                                                                                                                                                                                                                                                                                                                                                                                                                                                                                                                                                                                                                                                                                                                                                                                                                                                                                                                                                                                                                                                                                                                               reviews  \n0                                                                                                                                                                                                                                                                                                                                                                                                                                                                                                                                                                                                                                                                                                                                                                                                                                                                                                                          [{'funny': '', 'posted': 'Posted November 5, 2011.', 'last_edited': '', 'item_id': '1250', 'helpful': 'No ratings yet', 'recommend': True, 'review': 'Simple yet with great replayability. In my opinion does \"zombie\" hordes and team work better than left 4 dead plus has a global leveling system. Alot of down to earth \"zombie\" splattering fun for the whole family. Amazed this sort of FPS is so rare.'}, {'funny': '', 'posted': 'Posted July 15, 2011.', 'last_edited': '', 'item_id': '22200', 'helpful': 'No ratings yet', 'recommend': True, 'review': 'It's unique and worth a playthrough.'}, {'funny': '', 'posted': 'Posted April 21, 2011.', 'last_edited': '', 'item_id': '43110', 'helpful': 'No ratings yet', 'recommend': True, 'review': 'Great atmosphere. The gunplay can be a bit chunky at times but at the end of the day this game is definitely worth it and I hope they do a sequel...so buy the game so I get a sequel!'}]  \n1  [{'funny': '', 'posted': 'Posted June 24, 2014.', 'last_edited': '', 'item_id': '251610', 'helpful': '15 of 20 people (75%) found this review helpful', 'recommend': True, 'review': 'I know what you think when you see this title \"Barbie Dreamhouse Party\" but do not be intimidated by it's title, this is easily one of my GOTYs. You don't get any of that cliche game mechanics that all the latest games have, this is simply good core gameplay. Yes, you can't 360 noscope your friends, but what you can do is show them up with your bad ♥♥♥ dance moves and put them to shame as you show them what True fashion and color combinations are.I know this game says for kids but, this is easily for any age range and any age will have a blast playing this.8/8'}, {'funny': '', 'posted': 'Posted September 8, 2013.', 'last_edited': '', 'item_id': '227300', 'helpful': '0 of 1 people (0%) found this review helpful', 'recommend': True, 'review': 'For a simple (it's actually not all that simple but it can be!) truck driving Simulator, it is quite a fun and relaxing game. Playing on simple (or easy?) its just the basic WASD keys for driving but (if you want) the game can be much harder and realistic with having to manually change gears, much harder turning, etc. And reversing in this game is a ♥♥♥♥♥, as I imagine it would be with an actual truck. Luckily, you don't have to reverse park it but you get extra points if you do cause it is bloody hard. But this is suprisingly a nice truck driving game and I had a bit of fun with it.'}, {'funny': '', 'posted': 'Posted November 29, 2013.', 'last_edited': '', 'item_id': '239030', 'helpful': '1 of 4 people (25%) found this review helpful', 'recommend': True, 'review': 'Very fun little game to play when your bored or as a time passer. Very gud. Do Recommend. pls buy'}]  ",
      "text/html": "<div>\n<style scoped>\n    .dataframe tbody tr th:only-of-type {\n        vertical-align: middle;\n    }\n\n    .dataframe tbody tr th {\n        vertical-align: top;\n    }\n\n    .dataframe thead th {\n        text-align: right;\n    }\n</style>\n<table border=\"1\" class=\"dataframe\">\n  <thead>\n    <tr style=\"text-align: right;\">\n      <th></th>\n      <th>user_id</th>\n      <th>user_url</th>\n      <th>reviews</th>\n    </tr>\n  </thead>\n  <tbody>\n    <tr>\n      <th>0</th>\n      <td>76561197970982479</td>\n      <td>http://steamcommunity.com/profiles/76561197970982479</td>\n      <td>[{'funny': '', 'posted': 'Posted November 5, 2011.', 'last_edited': '', 'item_id': '1250', 'helpful': 'No ratings yet', 'recommend': True, 'review': 'Simple yet with great replayability. In my opinion does \"zombie\" hordes and team work better than left 4 dead plus has a global leveling system. Alot of down to earth \"zombie\" splattering fun for the whole family. Amazed this sort of FPS is so rare.'}, {'funny': '', 'posted': 'Posted July 15, 2011.', 'last_edited': '', 'item_id': '22200', 'helpful': 'No ratings yet', 'recommend': True, 'review': 'It's unique and worth a playthrough.'}, {'funny': '', 'posted': 'Posted April 21, 2011.', 'last_edited': '', 'item_id': '43110', 'helpful': 'No ratings yet', 'recommend': True, 'review': 'Great atmosphere. The gunplay can be a bit chunky at times but at the end of the day this game is definitely worth it and I hope they do a sequel...so buy the game so I get a sequel!'}]</td>\n    </tr>\n    <tr>\n      <th>1</th>\n      <td>js41637</td>\n      <td>http://steamcommunity.com/id/js41637</td>\n      <td>[{'funny': '', 'posted': 'Posted June 24, 2014.', 'last_edited': '', 'item_id': '251610', 'helpful': '15 of 20 people (75%) found this review helpful', 'recommend': True, 'review': 'I know what you think when you see this title \"Barbie Dreamhouse Party\" but do not be intimidated by it's title, this is easily one of my GOTYs. You don't get any of that cliche game mechanics that all the latest games have, this is simply good core gameplay. Yes, you can't 360 noscope your friends, but what you can do is show them up with your bad ♥♥♥ dance moves and put them to shame as you show them what True fashion and color combinations are.I know this game says for kids but, this is easily for any age range and any age will have a blast playing this.8/8'}, {'funny': '', 'posted': 'Posted September 8, 2013.', 'last_edited': '', 'item_id': '227300', 'helpful': '0 of 1 people (0%) found this review helpful', 'recommend': True, 'review': 'For a simple (it's actually not all that simple but it can be!) truck driving Simulator, it is quite a fun and relaxing game. Playing on simple (or easy?) its just the basic WASD keys for driving but (if you want) the game can be much harder and realistic with having to manually change gears, much harder turning, etc. And reversing in this game is a ♥♥♥♥♥, as I imagine it would be with an actual truck. Luckily, you don't have to reverse park it but you get extra points if you do cause it is bloody hard. But this is suprisingly a nice truck driving game and I had a bit of fun with it.'}, {'funny': '', 'posted': 'Posted November 29, 2013.', 'last_edited': '', 'item_id': '239030', 'helpful': '1 of 4 people (25%) found this review helpful', 'recommend': True, 'review': 'Very fun little game to play when your bored or as a time passer. Very gud. Do Recommend. pls buy'}]</td>\n    </tr>\n  </tbody>\n</table>\n</div>"
     },
     "metadata": {},
     "output_type": "display_data"
    },
    {
     "data": {
      "text/plain": "                  user_id  \\\ncount               25799   \nunique              25485   \ntop     76561198027488037   \nfreq                    3   \n\n                                                    user_url reviews  \ncount                                                  25799   25799  \nunique                                                 25485   25459  \ntop     http://steamcommunity.com/profiles/76561198027488037      []  \nfreq                                                       3      28  ",
      "text/html": "<div>\n<style scoped>\n    .dataframe tbody tr th:only-of-type {\n        vertical-align: middle;\n    }\n\n    .dataframe tbody tr th {\n        vertical-align: top;\n    }\n\n    .dataframe thead th {\n        text-align: right;\n    }\n</style>\n<table border=\"1\" class=\"dataframe\">\n  <thead>\n    <tr style=\"text-align: right;\">\n      <th></th>\n      <th>user_id</th>\n      <th>user_url</th>\n      <th>reviews</th>\n    </tr>\n  </thead>\n  <tbody>\n    <tr>\n      <th>count</th>\n      <td>25799</td>\n      <td>25799</td>\n      <td>25799</td>\n    </tr>\n    <tr>\n      <th>unique</th>\n      <td>25485</td>\n      <td>25485</td>\n      <td>25459</td>\n    </tr>\n    <tr>\n      <th>top</th>\n      <td>76561198027488037</td>\n      <td>http://steamcommunity.com/profiles/76561198027488037</td>\n      <td>[]</td>\n    </tr>\n    <tr>\n      <th>freq</th>\n      <td>3</td>\n      <td>3</td>\n      <td>28</td>\n    </tr>\n  </tbody>\n</table>\n</div>"
     },
     "metadata": {},
     "output_type": "display_data"
    },
    {
     "name": "stdout",
     "output_type": "stream",
     "text": [
      "----- steam_reviews.json.gz-----\n",
      "Size of file is 1350.067901MB\n"
     ]
    },
    {
     "name": "stderr",
     "output_type": "stream",
     "text": [
      "7793069it [04:37, 28047.64it/s]\n"
     ]
    },
    {
     "name": "stdout",
     "output_type": "stream",
     "text": [
      "Reading 7793069 rows.\n"
     ]
    },
    {
     "data": {
      "text/plain": "      username product_id  page_order  \\\n0  Chaos Syren     725280           0   \n1   ₮ʜᴇ Wᴀʀᴛᴏɴ     328100           0   \n\n                                                                                                                                                                                                    text  \\\n0  This would not be acceptable as an entertainment even back in the day when these graphics were all there was to be had. No effort has been made to bring the player into any story or even entertain.   \n1                                                                                                                                                                             looks like a facebook game   \n\n   hours  recommended  products        date  early_access  page compensation  \\\n0    0.1         True      41.0  2017-12-17         False     1          NaN   \n1   51.1         True     769.0  2017-12-27         False     1          NaN   \n\n   found_funny user_id  \n0          NaN     NaN  \n1          NaN     NaN  ",
      "text/html": "<div>\n<style scoped>\n    .dataframe tbody tr th:only-of-type {\n        vertical-align: middle;\n    }\n\n    .dataframe tbody tr th {\n        vertical-align: top;\n    }\n\n    .dataframe thead th {\n        text-align: right;\n    }\n</style>\n<table border=\"1\" class=\"dataframe\">\n  <thead>\n    <tr style=\"text-align: right;\">\n      <th></th>\n      <th>username</th>\n      <th>product_id</th>\n      <th>page_order</th>\n      <th>text</th>\n      <th>hours</th>\n      <th>recommended</th>\n      <th>products</th>\n      <th>date</th>\n      <th>early_access</th>\n      <th>page</th>\n      <th>compensation</th>\n      <th>found_funny</th>\n      <th>user_id</th>\n    </tr>\n  </thead>\n  <tbody>\n    <tr>\n      <th>0</th>\n      <td>Chaos Syren</td>\n      <td>725280</td>\n      <td>0</td>\n      <td>This would not be acceptable as an entertainment even back in the day when these graphics were all there was to be had. No effort has been made to bring the player into any story or even entertain.</td>\n      <td>0.1</td>\n      <td>True</td>\n      <td>41.0</td>\n      <td>2017-12-17</td>\n      <td>False</td>\n      <td>1</td>\n      <td>NaN</td>\n      <td>NaN</td>\n      <td>NaN</td>\n    </tr>\n    <tr>\n      <th>1</th>\n      <td>₮ʜᴇ Wᴀʀᴛᴏɴ</td>\n      <td>328100</td>\n      <td>0</td>\n      <td>looks like a facebook game</td>\n      <td>51.1</td>\n      <td>True</td>\n      <td>769.0</td>\n      <td>2017-12-27</td>\n      <td>False</td>\n      <td>1</td>\n      <td>NaN</td>\n      <td>NaN</td>\n      <td>NaN</td>\n    </tr>\n  </tbody>\n</table>\n</div>"
     },
     "metadata": {},
     "output_type": "display_data"
    },
    {
     "data": {
      "text/plain": "       username product_id    page_order     text         hours recommended  \\\ncount   7793069    7793069  7.793069e+06  7793069  7.766532e+06     7793069   \nunique  2567532      15474           NaN  6350454           NaN           1   \ntop         123        440           NaN                    NaN        True   \nfreq       2045     183666           NaN    17963           NaN     7793069   \nmean        NaN        NaN  4.483445e+00      NaN  1.118365e+02         NaN   \nstd         NaN        NaN  2.872802e+00      NaN  3.928604e+02         NaN   \nmin         NaN        NaN  0.000000e+00      NaN  0.000000e+00         NaN   \n25%         NaN        NaN  2.000000e+00      NaN  4.000000e+00         NaN   \n50%         NaN        NaN  4.000000e+00      NaN  1.530000e+01         NaN   \n75%         NaN        NaN  7.000000e+00      NaN  5.970000e+01         NaN   \nmax         NaN        NaN  9.000000e+00      NaN  4.210070e+04         NaN   \n\n            products        date early_access          page  \\\ncount   7.778108e+06     7793069      7793069  7.793069e+06   \nunique           NaN        2628            2           NaN   \ntop              NaN  2016-11-23        False           NaN   \nfreq             NaN       64245      6719736           NaN   \nmean    2.364839e+02         NaN          NaN  8.930331e+02   \nstd     4.857889e+02         NaN          NaN  1.927711e+03   \nmin     1.000000e+00         NaN          NaN  1.000000e+00   \n25%     4.500000e+01         NaN          NaN  5.200000e+01   \n50%     1.100000e+02         NaN          NaN  2.370000e+02   \n75%     2.460000e+02         NaN          NaN  8.290000e+02   \nmax     1.818800e+04         NaN          NaN  1.837100e+04   \n\n                     compensation   found_funny            user_id  \ncount                      145623  1.200756e+06            3176223  \nunique                          1           NaN            1485611  \ntop     Product received for free           NaN  76561198011965365  \nfreq                       145623           NaN               1254  \nmean                          NaN  7.896183e+00                NaN  \nstd                           NaN  7.338724e+01                NaN  \nmin                           NaN  1.000000e+00                NaN  \n25%                           NaN  1.000000e+00                NaN  \n50%                           NaN  1.000000e+00                NaN  \n75%                           NaN  3.000000e+00                NaN  \nmax                           NaN  1.331800e+04                NaN  ",
      "text/html": "<div>\n<style scoped>\n    .dataframe tbody tr th:only-of-type {\n        vertical-align: middle;\n    }\n\n    .dataframe tbody tr th {\n        vertical-align: top;\n    }\n\n    .dataframe thead th {\n        text-align: right;\n    }\n</style>\n<table border=\"1\" class=\"dataframe\">\n  <thead>\n    <tr style=\"text-align: right;\">\n      <th></th>\n      <th>username</th>\n      <th>product_id</th>\n      <th>page_order</th>\n      <th>text</th>\n      <th>hours</th>\n      <th>recommended</th>\n      <th>products</th>\n      <th>date</th>\n      <th>early_access</th>\n      <th>page</th>\n      <th>compensation</th>\n      <th>found_funny</th>\n      <th>user_id</th>\n    </tr>\n  </thead>\n  <tbody>\n    <tr>\n      <th>count</th>\n      <td>7793069</td>\n      <td>7793069</td>\n      <td>7.793069e+06</td>\n      <td>7793069</td>\n      <td>7.766532e+06</td>\n      <td>7793069</td>\n      <td>7.778108e+06</td>\n      <td>7793069</td>\n      <td>7793069</td>\n      <td>7.793069e+06</td>\n      <td>145623</td>\n      <td>1.200756e+06</td>\n      <td>3176223</td>\n    </tr>\n    <tr>\n      <th>unique</th>\n      <td>2567532</td>\n      <td>15474</td>\n      <td>NaN</td>\n      <td>6350454</td>\n      <td>NaN</td>\n      <td>1</td>\n      <td>NaN</td>\n      <td>2628</td>\n      <td>2</td>\n      <td>NaN</td>\n      <td>1</td>\n      <td>NaN</td>\n      <td>1485611</td>\n    </tr>\n    <tr>\n      <th>top</th>\n      <td>123</td>\n      <td>440</td>\n      <td>NaN</td>\n      <td></td>\n      <td>NaN</td>\n      <td>True</td>\n      <td>NaN</td>\n      <td>2016-11-23</td>\n      <td>False</td>\n      <td>NaN</td>\n      <td>Product received for free</td>\n      <td>NaN</td>\n      <td>76561198011965365</td>\n    </tr>\n    <tr>\n      <th>freq</th>\n      <td>2045</td>\n      <td>183666</td>\n      <td>NaN</td>\n      <td>17963</td>\n      <td>NaN</td>\n      <td>7793069</td>\n      <td>NaN</td>\n      <td>64245</td>\n      <td>6719736</td>\n      <td>NaN</td>\n      <td>145623</td>\n      <td>NaN</td>\n      <td>1254</td>\n    </tr>\n    <tr>\n      <th>mean</th>\n      <td>NaN</td>\n      <td>NaN</td>\n      <td>4.483445e+00</td>\n      <td>NaN</td>\n      <td>1.118365e+02</td>\n      <td>NaN</td>\n      <td>2.364839e+02</td>\n      <td>NaN</td>\n      <td>NaN</td>\n      <td>8.930331e+02</td>\n      <td>NaN</td>\n      <td>7.896183e+00</td>\n      <td>NaN</td>\n    </tr>\n    <tr>\n      <th>std</th>\n      <td>NaN</td>\n      <td>NaN</td>\n      <td>2.872802e+00</td>\n      <td>NaN</td>\n      <td>3.928604e+02</td>\n      <td>NaN</td>\n      <td>4.857889e+02</td>\n      <td>NaN</td>\n      <td>NaN</td>\n      <td>1.927711e+03</td>\n      <td>NaN</td>\n      <td>7.338724e+01</td>\n      <td>NaN</td>\n    </tr>\n    <tr>\n      <th>min</th>\n      <td>NaN</td>\n      <td>NaN</td>\n      <td>0.000000e+00</td>\n      <td>NaN</td>\n      <td>0.000000e+00</td>\n      <td>NaN</td>\n      <td>1.000000e+00</td>\n      <td>NaN</td>\n      <td>NaN</td>\n      <td>1.000000e+00</td>\n      <td>NaN</td>\n      <td>1.000000e+00</td>\n      <td>NaN</td>\n    </tr>\n    <tr>\n      <th>25%</th>\n      <td>NaN</td>\n      <td>NaN</td>\n      <td>2.000000e+00</td>\n      <td>NaN</td>\n      <td>4.000000e+00</td>\n      <td>NaN</td>\n      <td>4.500000e+01</td>\n      <td>NaN</td>\n      <td>NaN</td>\n      <td>5.200000e+01</td>\n      <td>NaN</td>\n      <td>1.000000e+00</td>\n      <td>NaN</td>\n    </tr>\n    <tr>\n      <th>50%</th>\n      <td>NaN</td>\n      <td>NaN</td>\n      <td>4.000000e+00</td>\n      <td>NaN</td>\n      <td>1.530000e+01</td>\n      <td>NaN</td>\n      <td>1.100000e+02</td>\n      <td>NaN</td>\n      <td>NaN</td>\n      <td>2.370000e+02</td>\n      <td>NaN</td>\n      <td>1.000000e+00</td>\n      <td>NaN</td>\n    </tr>\n    <tr>\n      <th>75%</th>\n      <td>NaN</td>\n      <td>NaN</td>\n      <td>7.000000e+00</td>\n      <td>NaN</td>\n      <td>5.970000e+01</td>\n      <td>NaN</td>\n      <td>2.460000e+02</td>\n      <td>NaN</td>\n      <td>NaN</td>\n      <td>8.290000e+02</td>\n      <td>NaN</td>\n      <td>3.000000e+00</td>\n      <td>NaN</td>\n    </tr>\n    <tr>\n      <th>max</th>\n      <td>NaN</td>\n      <td>NaN</td>\n      <td>9.000000e+00</td>\n      <td>NaN</td>\n      <td>4.210070e+04</td>\n      <td>NaN</td>\n      <td>1.818800e+04</td>\n      <td>NaN</td>\n      <td>NaN</td>\n      <td>1.837100e+04</td>\n      <td>NaN</td>\n      <td>1.331800e+04</td>\n      <td>NaN</td>\n    </tr>\n  </tbody>\n</table>\n</div>"
     },
     "metadata": {},
     "output_type": "display_data"
    }
   ],
   "source": [
    "dataframes = []\n",
    "for dataset in [ user_reviews, steam_reviews]:\n",
    "# for dataset in [ metadata_games, user_items, user_reviews, game_bundles, steam_reviews]:\n",
    "  print(f\"----- {dataset}-----\")\n",
    "  size = os.path.getsize(steam_path + dataset) \n",
    "  print(f'Size of file is {size / 1000000}MB')\n",
    "  df_metadata = parse_json(steam_path + dataset)\n",
    "  dataframes.append(df_metadata)\n",
    "  pd.set_option('display.max_colwidth', None)\n",
    "  display(df_metadata.head(2))\n",
    "  display(df_metadata.describe(include='all'))"
   ]
  },
  {
   "cell_type": "code",
   "execution_count": 10,
   "metadata": {},
   "outputs": [
    {
     "data": {
      "text/plain": "                 user_id  \\\n0      76561197970982479   \n1      76561197970982479   \n2      76561197970982479   \n3                js41637   \n4                js41637   \n...                  ...   \n59328  76561198312638244   \n59329  76561198312638244   \n59330        LydiaMorley   \n59331        LydiaMorley   \n59332        LydiaMorley   \n\n                                                   user_url  \\\n0      http://steamcommunity.com/profiles/76561197970982479   \n1      http://steamcommunity.com/profiles/76561197970982479   \n2      http://steamcommunity.com/profiles/76561197970982479   \n3                      http://steamcommunity.com/id/js41637   \n4                      http://steamcommunity.com/id/js41637   \n...                                                     ...   \n59328  http://steamcommunity.com/profiles/76561198312638244   \n59329  http://steamcommunity.com/profiles/76561198312638244   \n59330              http://steamcommunity.com/id/LydiaMorley   \n59331              http://steamcommunity.com/id/LydiaMorley   \n59332              http://steamcommunity.com/id/LydiaMorley   \n\n                                                                                                                                                                                                                                                                                                                                                                                                                                                                                                                                                                                                                                                                                                                                                                                                      reviews  \n0                                                                                                                                                                                                                                                                                                                                                                                            {'funny': '', 'posted': 'Posted November 5, 2011.', 'last_edited': '', 'item_id': '1250', 'helpful': 'No ratings yet', 'recommend': True, 'review': 'Simple yet with great replayability. In my opinion does \"zombie\" hordes and team work better than left 4 dead plus has a global leveling system. Alot of down to earth \"zombie\" splattering fun for the whole family. Amazed this sort of FPS is so rare.'}  \n1                                                                                                                                                                                                                                                                                                                                                                                                                                                                                                                                                                                                                   {'funny': '', 'posted': 'Posted July 15, 2011.', 'last_edited': '', 'item_id': '22200', 'helpful': 'No ratings yet', 'recommend': True, 'review': 'It's unique and worth a playthrough.'}  \n2                                                                                                                                                                                                                                                                                                                                                                                                                                                                {'funny': '', 'posted': 'Posted April 21, 2011.', 'last_edited': '', 'item_id': '43110', 'helpful': 'No ratings yet', 'recommend': True, 'review': 'Great atmosphere. The gunplay can be a bit chunky at times but at the end of the day this game is definitely worth it and I hope they do a sequel...so buy the game so I get a sequel!'}  \n3                               {'funny': '', 'posted': 'Posted June 24, 2014.', 'last_edited': '', 'item_id': '251610', 'helpful': '15 of 20 people (75%) found this review helpful', 'recommend': True, 'review': 'I know what you think when you see this title \"Barbie Dreamhouse Party\" but do not be intimidated by it's title, this is easily one of my GOTYs. You don't get any of that cliche game mechanics that all the latest games have, this is simply good core gameplay. Yes, you can't 360 noscope your friends, but what you can do is show them up with your bad ♥♥♥ dance moves and put them to shame as you show them what True fashion and color combinations are.I know this game says for kids but, this is easily for any age range and any age will have a blast playing this.8/8'}  \n4      {'funny': '', 'posted': 'Posted September 8, 2013.', 'last_edited': '', 'item_id': '227300', 'helpful': '0 of 1 people (0%) found this review helpful', 'recommend': True, 'review': 'For a simple (it's actually not all that simple but it can be!) truck driving Simulator, it is quite a fun and relaxing game. Playing on simple (or easy?) its just the basic WASD keys for driving but (if you want) the game can be much harder and realistic with having to manually change gears, much harder turning, etc. And reversing in this game is a ♥♥♥♥♥, as I imagine it would be with an actual truck. Luckily, you don't have to reverse park it but you get extra points if you do cause it is bloody hard. But this is suprisingly a nice truck driving game and I had a bit of fun with it.'}  \n...                                                                                                                                                                                                                                                                                                                                                                                                                                                                                                                                                                                                                                                                                                                                                                                                       ...  \n59328                                                                                                                                                                                                                                                                                                                                                                                                                                                                                                                                                                                                     {'funny': '', 'posted': 'Posted July 10.', 'last_edited': '', 'item_id': '70', 'helpful': 'No ratings yet', 'recommend': True, 'review': 'a must have classic from steam definitely worth buying.'}  \n59329                                                                                                                                                                                            {'funny': '', 'posted': 'Posted July 8.', 'last_edited': '', 'item_id': '362890', 'helpful': 'No ratings yet', 'recommend': True, 'review': 'this game is a perfect remake of the original half life. personally one of the best remakes i have played in a long time. there are a few changes in the remake but for the most part its almost the same as the original half life.the game still needs Xen to be completed but all the other chapters are ready for you to play and enjoy. i say buy this game if you loved the original half life. but avoid it if you can t wait for xen to be completed.'}  \n59330                                                                                                                                                                                                                                                                                                                                                                                                                                                                                     {'funny': '1 person found this review funny', 'posted': 'Posted July 3.', 'last_edited': '', 'item_id': '273110', 'helpful': '1 of 2 people (50%) found this review helpful', 'recommend': True, 'review': 'had so much fun plaing this and collecting resources xD we won on my first try and killed final boss!'}  \n59331                                                                                                                                                                                                                                                                                                                                                                                                                                                                                                                                                                                                                                                         {'funny': '', 'posted': 'Posted July 20.', 'last_edited': '', 'item_id': '730', 'helpful': 'No ratings yet', 'recommend': True, 'review': ':D'}  \n59332                                                                                                                                                                                                                                                                                                                                                                                                                                                                                                                                                                                                                                              {'funny': '', 'posted': 'Posted July 2.', 'last_edited': '', 'item_id': '440', 'helpful': 'No ratings yet', 'recommend': True, 'review': 'so much fun :D'}  \n\n[59333 rows x 3 columns]",
      "text/html": "<div>\n<style scoped>\n    .dataframe tbody tr th:only-of-type {\n        vertical-align: middle;\n    }\n\n    .dataframe tbody tr th {\n        vertical-align: top;\n    }\n\n    .dataframe thead th {\n        text-align: right;\n    }\n</style>\n<table border=\"1\" class=\"dataframe\">\n  <thead>\n    <tr style=\"text-align: right;\">\n      <th></th>\n      <th>user_id</th>\n      <th>user_url</th>\n      <th>reviews</th>\n    </tr>\n  </thead>\n  <tbody>\n    <tr>\n      <th>0</th>\n      <td>76561197970982479</td>\n      <td>http://steamcommunity.com/profiles/76561197970982479</td>\n      <td>{'funny': '', 'posted': 'Posted November 5, 2011.', 'last_edited': '', 'item_id': '1250', 'helpful': 'No ratings yet', 'recommend': True, 'review': 'Simple yet with great replayability. In my opinion does \"zombie\" hordes and team work better than left 4 dead plus has a global leveling system. Alot of down to earth \"zombie\" splattering fun for the whole family. Amazed this sort of FPS is so rare.'}</td>\n    </tr>\n    <tr>\n      <th>1</th>\n      <td>76561197970982479</td>\n      <td>http://steamcommunity.com/profiles/76561197970982479</td>\n      <td>{'funny': '', 'posted': 'Posted July 15, 2011.', 'last_edited': '', 'item_id': '22200', 'helpful': 'No ratings yet', 'recommend': True, 'review': 'It's unique and worth a playthrough.'}</td>\n    </tr>\n    <tr>\n      <th>2</th>\n      <td>76561197970982479</td>\n      <td>http://steamcommunity.com/profiles/76561197970982479</td>\n      <td>{'funny': '', 'posted': 'Posted April 21, 2011.', 'last_edited': '', 'item_id': '43110', 'helpful': 'No ratings yet', 'recommend': True, 'review': 'Great atmosphere. The gunplay can be a bit chunky at times but at the end of the day this game is definitely worth it and I hope they do a sequel...so buy the game so I get a sequel!'}</td>\n    </tr>\n    <tr>\n      <th>3</th>\n      <td>js41637</td>\n      <td>http://steamcommunity.com/id/js41637</td>\n      <td>{'funny': '', 'posted': 'Posted June 24, 2014.', 'last_edited': '', 'item_id': '251610', 'helpful': '15 of 20 people (75%) found this review helpful', 'recommend': True, 'review': 'I know what you think when you see this title \"Barbie Dreamhouse Party\" but do not be intimidated by it's title, this is easily one of my GOTYs. You don't get any of that cliche game mechanics that all the latest games have, this is simply good core gameplay. Yes, you can't 360 noscope your friends, but what you can do is show them up with your bad ♥♥♥ dance moves and put them to shame as you show them what True fashion and color combinations are.I know this game says for kids but, this is easily for any age range and any age will have a blast playing this.8/8'}</td>\n    </tr>\n    <tr>\n      <th>4</th>\n      <td>js41637</td>\n      <td>http://steamcommunity.com/id/js41637</td>\n      <td>{'funny': '', 'posted': 'Posted September 8, 2013.', 'last_edited': '', 'item_id': '227300', 'helpful': '0 of 1 people (0%) found this review helpful', 'recommend': True, 'review': 'For a simple (it's actually not all that simple but it can be!) truck driving Simulator, it is quite a fun and relaxing game. Playing on simple (or easy?) its just the basic WASD keys for driving but (if you want) the game can be much harder and realistic with having to manually change gears, much harder turning, etc. And reversing in this game is a ♥♥♥♥♥, as I imagine it would be with an actual truck. Luckily, you don't have to reverse park it but you get extra points if you do cause it is bloody hard. But this is suprisingly a nice truck driving game and I had a bit of fun with it.'}</td>\n    </tr>\n    <tr>\n      <th>...</th>\n      <td>...</td>\n      <td>...</td>\n      <td>...</td>\n    </tr>\n    <tr>\n      <th>59328</th>\n      <td>76561198312638244</td>\n      <td>http://steamcommunity.com/profiles/76561198312638244</td>\n      <td>{'funny': '', 'posted': 'Posted July 10.', 'last_edited': '', 'item_id': '70', 'helpful': 'No ratings yet', 'recommend': True, 'review': 'a must have classic from steam definitely worth buying.'}</td>\n    </tr>\n    <tr>\n      <th>59329</th>\n      <td>76561198312638244</td>\n      <td>http://steamcommunity.com/profiles/76561198312638244</td>\n      <td>{'funny': '', 'posted': 'Posted July 8.', 'last_edited': '', 'item_id': '362890', 'helpful': 'No ratings yet', 'recommend': True, 'review': 'this game is a perfect remake of the original half life. personally one of the best remakes i have played in a long time. there are a few changes in the remake but for the most part its almost the same as the original half life.the game still needs Xen to be completed but all the other chapters are ready for you to play and enjoy. i say buy this game if you loved the original half life. but avoid it if you can t wait for xen to be completed.'}</td>\n    </tr>\n    <tr>\n      <th>59330</th>\n      <td>LydiaMorley</td>\n      <td>http://steamcommunity.com/id/LydiaMorley</td>\n      <td>{'funny': '1 person found this review funny', 'posted': 'Posted July 3.', 'last_edited': '', 'item_id': '273110', 'helpful': '1 of 2 people (50%) found this review helpful', 'recommend': True, 'review': 'had so much fun plaing this and collecting resources xD we won on my first try and killed final boss!'}</td>\n    </tr>\n    <tr>\n      <th>59331</th>\n      <td>LydiaMorley</td>\n      <td>http://steamcommunity.com/id/LydiaMorley</td>\n      <td>{'funny': '', 'posted': 'Posted July 20.', 'last_edited': '', 'item_id': '730', 'helpful': 'No ratings yet', 'recommend': True, 'review': ':D'}</td>\n    </tr>\n    <tr>\n      <th>59332</th>\n      <td>LydiaMorley</td>\n      <td>http://steamcommunity.com/id/LydiaMorley</td>\n      <td>{'funny': '', 'posted': 'Posted July 2.', 'last_edited': '', 'item_id': '440', 'helpful': 'No ratings yet', 'recommend': True, 'review': 'so much fun :D'}</td>\n    </tr>\n  </tbody>\n</table>\n<p>59333 rows × 3 columns</p>\n</div>"
     },
     "execution_count": 10,
     "metadata": {},
     "output_type": "execute_result"
    }
   ],
   "source": [
    "t = dataframes[0]\n",
    "k = t.explode(\"reviews\").reset_index(drop=True)\n",
    "k"
   ]
  },
  {
   "cell_type": "code",
   "execution_count": 11,
   "outputs": [
    {
     "name": "stderr",
     "output_type": "stream",
     "text": [
      "100%|██████████| 59333/59333 [00:13<00:00, 4357.91it/s] \n"
     ]
    },
    {
     "data": {
      "text/plain": "                 user_id  \\\n0      76561197970982479   \n1      76561197970982479   \n2      76561197970982479   \n3                js41637   \n4                js41637   \n...                  ...   \n59328  76561198312638244   \n59329  76561198312638244   \n59330        LydiaMorley   \n59331        LydiaMorley   \n59332        LydiaMorley   \n\n                                                   user_url   0  \\\n0      http://steamcommunity.com/profiles/76561197970982479 NaN   \n1      http://steamcommunity.com/profiles/76561197970982479 NaN   \n2      http://steamcommunity.com/profiles/76561197970982479 NaN   \n3                      http://steamcommunity.com/id/js41637 NaN   \n4                      http://steamcommunity.com/id/js41637 NaN   \n...                                                     ...  ..   \n59328  http://steamcommunity.com/profiles/76561198312638244 NaN   \n59329  http://steamcommunity.com/profiles/76561198312638244 NaN   \n59330              http://steamcommunity.com/id/LydiaMorley NaN   \n59331              http://steamcommunity.com/id/LydiaMorley NaN   \n59332              http://steamcommunity.com/id/LydiaMorley NaN   \n\n                                  funny  \\\n0                                         \n1                                         \n2                                         \n3                                         \n4                                         \n...                                 ...   \n59328                                     \n59329                                     \n59330  1 person found this review funny   \n59331                                     \n59332                                     \n\n                                               helpful item_id last_edited  \\\n0                                       No ratings yet    1250               \n1                                       No ratings yet   22200               \n2                                       No ratings yet   43110               \n3      15 of 20 people (75%) found this review helpful  251610               \n4         0 of 1 people (0%) found this review helpful  227300               \n...                                                ...     ...         ...   \n59328                                   No ratings yet      70               \n59329                                   No ratings yet  362890               \n59330    1 of 2 people (50%) found this review helpful  273110               \n59331                                   No ratings yet     730               \n59332                                   No ratings yet     440               \n\n                          posted recommend  \\\n0       Posted November 5, 2011.      True   \n1          Posted July 15, 2011.      True   \n2         Posted April 21, 2011.      True   \n3          Posted June 24, 2014.      True   \n4      Posted September 8, 2013.      True   \n...                          ...       ...   \n59328            Posted July 10.      True   \n59329             Posted July 8.      True   \n59330             Posted July 3.      True   \n59331            Posted July 20.      True   \n59332             Posted July 2.      True   \n\n                                                                                                                                                                                                                                                                                                                                                                                                                                                                                                                                                                                                               review  \n0                                                                                                                                                                                                                                                                                                                                                           Simple yet with great replayability. In my opinion does \"zombie\" hordes and team work better than left 4 dead plus has a global leveling system. Alot of down to earth \"zombie\" splattering fun for the whole family. Amazed this sort of FPS is so rare.  \n1                                                                                                                                                                                                                                                                                                                                                                                                                                                                                                                                                                                It's unique and worth a playthrough.  \n2                                                                                                                                                                                                                                                                                                                                                                                                                              Great atmosphere. The gunplay can be a bit chunky at times but at the end of the day this game is definitely worth it and I hope they do a sequel...so buy the game so I get a sequel!  \n3                              I know what you think when you see this title \"Barbie Dreamhouse Party\" but do not be intimidated by it's title, this is easily one of my GOTYs. You don't get any of that cliche game mechanics that all the latest games have, this is simply good core gameplay. Yes, you can't 360 noscope your friends, but what you can do is show them up with your bad ♥♥♥ dance moves and put them to shame as you show them what True fashion and color combinations are.I know this game says for kids but, this is easily for any age range and any age will have a blast playing this.8/8  \n4      For a simple (it's actually not all that simple but it can be!) truck driving Simulator, it is quite a fun and relaxing game. Playing on simple (or easy?) its just the basic WASD keys for driving but (if you want) the game can be much harder and realistic with having to manually change gears, much harder turning, etc. And reversing in this game is a ♥♥♥♥♥, as I imagine it would be with an actual truck. Luckily, you don't have to reverse park it but you get extra points if you do cause it is bloody hard. But this is suprisingly a nice truck driving game and I had a bit of fun with it.  \n...                                                                                                                                                                                                                                                                                                                                                                                                                                                                                                                                                                                                               ...  \n59328                                                                                                                                                                                                                                                                                                                                                                                                                                                                                                                                                         a must have classic from steam definitely worth buying.  \n59329                                                                                                                                                   this game is a perfect remake of the original half life. personally one of the best remakes i have played in a long time. there are a few changes in the remake but for the most part its almost the same as the original half life.the game still needs Xen to be completed but all the other chapters are ready for you to play and enjoy. i say buy this game if you loved the original half life. but avoid it if you can t wait for xen to be completed.  \n59330                                                                                                                                                                                                                                                                                                                                                                                                                                                                                                           had so much fun plaing this and collecting resources xD we won on my first try and killed final boss!  \n59331                                                                                                                                                                                                                                                                                                                                                                                                                                                                                                                                                                                                              :D  \n59332                                                                                                                                                                                                                                                                                                                                                                                                                                                                                                                                                                                                  so much fun :D  \n\n[59333 rows x 10 columns]",
      "text/html": "<div>\n<style scoped>\n    .dataframe tbody tr th:only-of-type {\n        vertical-align: middle;\n    }\n\n    .dataframe tbody tr th {\n        vertical-align: top;\n    }\n\n    .dataframe thead th {\n        text-align: right;\n    }\n</style>\n<table border=\"1\" class=\"dataframe\">\n  <thead>\n    <tr style=\"text-align: right;\">\n      <th></th>\n      <th>user_id</th>\n      <th>user_url</th>\n      <th>0</th>\n      <th>funny</th>\n      <th>helpful</th>\n      <th>item_id</th>\n      <th>last_edited</th>\n      <th>posted</th>\n      <th>recommend</th>\n      <th>review</th>\n    </tr>\n  </thead>\n  <tbody>\n    <tr>\n      <th>0</th>\n      <td>76561197970982479</td>\n      <td>http://steamcommunity.com/profiles/76561197970982479</td>\n      <td>NaN</td>\n      <td></td>\n      <td>No ratings yet</td>\n      <td>1250</td>\n      <td></td>\n      <td>Posted November 5, 2011.</td>\n      <td>True</td>\n      <td>Simple yet with great replayability. In my opinion does \"zombie\" hordes and team work better than left 4 dead plus has a global leveling system. Alot of down to earth \"zombie\" splattering fun for the whole family. Amazed this sort of FPS is so rare.</td>\n    </tr>\n    <tr>\n      <th>1</th>\n      <td>76561197970982479</td>\n      <td>http://steamcommunity.com/profiles/76561197970982479</td>\n      <td>NaN</td>\n      <td></td>\n      <td>No ratings yet</td>\n      <td>22200</td>\n      <td></td>\n      <td>Posted July 15, 2011.</td>\n      <td>True</td>\n      <td>It's unique and worth a playthrough.</td>\n    </tr>\n    <tr>\n      <th>2</th>\n      <td>76561197970982479</td>\n      <td>http://steamcommunity.com/profiles/76561197970982479</td>\n      <td>NaN</td>\n      <td></td>\n      <td>No ratings yet</td>\n      <td>43110</td>\n      <td></td>\n      <td>Posted April 21, 2011.</td>\n      <td>True</td>\n      <td>Great atmosphere. The gunplay can be a bit chunky at times but at the end of the day this game is definitely worth it and I hope they do a sequel...so buy the game so I get a sequel!</td>\n    </tr>\n    <tr>\n      <th>3</th>\n      <td>js41637</td>\n      <td>http://steamcommunity.com/id/js41637</td>\n      <td>NaN</td>\n      <td></td>\n      <td>15 of 20 people (75%) found this review helpful</td>\n      <td>251610</td>\n      <td></td>\n      <td>Posted June 24, 2014.</td>\n      <td>True</td>\n      <td>I know what you think when you see this title \"Barbie Dreamhouse Party\" but do not be intimidated by it's title, this is easily one of my GOTYs. You don't get any of that cliche game mechanics that all the latest games have, this is simply good core gameplay. Yes, you can't 360 noscope your friends, but what you can do is show them up with your bad ♥♥♥ dance moves and put them to shame as you show them what True fashion and color combinations are.I know this game says for kids but, this is easily for any age range and any age will have a blast playing this.8/8</td>\n    </tr>\n    <tr>\n      <th>4</th>\n      <td>js41637</td>\n      <td>http://steamcommunity.com/id/js41637</td>\n      <td>NaN</td>\n      <td></td>\n      <td>0 of 1 people (0%) found this review helpful</td>\n      <td>227300</td>\n      <td></td>\n      <td>Posted September 8, 2013.</td>\n      <td>True</td>\n      <td>For a simple (it's actually not all that simple but it can be!) truck driving Simulator, it is quite a fun and relaxing game. Playing on simple (or easy?) its just the basic WASD keys for driving but (if you want) the game can be much harder and realistic with having to manually change gears, much harder turning, etc. And reversing in this game is a ♥♥♥♥♥, as I imagine it would be with an actual truck. Luckily, you don't have to reverse park it but you get extra points if you do cause it is bloody hard. But this is suprisingly a nice truck driving game and I had a bit of fun with it.</td>\n    </tr>\n    <tr>\n      <th>...</th>\n      <td>...</td>\n      <td>...</td>\n      <td>...</td>\n      <td>...</td>\n      <td>...</td>\n      <td>...</td>\n      <td>...</td>\n      <td>...</td>\n      <td>...</td>\n      <td>...</td>\n    </tr>\n    <tr>\n      <th>59328</th>\n      <td>76561198312638244</td>\n      <td>http://steamcommunity.com/profiles/76561198312638244</td>\n      <td>NaN</td>\n      <td></td>\n      <td>No ratings yet</td>\n      <td>70</td>\n      <td></td>\n      <td>Posted July 10.</td>\n      <td>True</td>\n      <td>a must have classic from steam definitely worth buying.</td>\n    </tr>\n    <tr>\n      <th>59329</th>\n      <td>76561198312638244</td>\n      <td>http://steamcommunity.com/profiles/76561198312638244</td>\n      <td>NaN</td>\n      <td></td>\n      <td>No ratings yet</td>\n      <td>362890</td>\n      <td></td>\n      <td>Posted July 8.</td>\n      <td>True</td>\n      <td>this game is a perfect remake of the original half life. personally one of the best remakes i have played in a long time. there are a few changes in the remake but for the most part its almost the same as the original half life.the game still needs Xen to be completed but all the other chapters are ready for you to play and enjoy. i say buy this game if you loved the original half life. but avoid it if you can t wait for xen to be completed.</td>\n    </tr>\n    <tr>\n      <th>59330</th>\n      <td>LydiaMorley</td>\n      <td>http://steamcommunity.com/id/LydiaMorley</td>\n      <td>NaN</td>\n      <td>1 person found this review funny</td>\n      <td>1 of 2 people (50%) found this review helpful</td>\n      <td>273110</td>\n      <td></td>\n      <td>Posted July 3.</td>\n      <td>True</td>\n      <td>had so much fun plaing this and collecting resources xD we won on my first try and killed final boss!</td>\n    </tr>\n    <tr>\n      <th>59331</th>\n      <td>LydiaMorley</td>\n      <td>http://steamcommunity.com/id/LydiaMorley</td>\n      <td>NaN</td>\n      <td></td>\n      <td>No ratings yet</td>\n      <td>730</td>\n      <td></td>\n      <td>Posted July 20.</td>\n      <td>True</td>\n      <td>:D</td>\n    </tr>\n    <tr>\n      <th>59332</th>\n      <td>LydiaMorley</td>\n      <td>http://steamcommunity.com/id/LydiaMorley</td>\n      <td>NaN</td>\n      <td></td>\n      <td>No ratings yet</td>\n      <td>440</td>\n      <td></td>\n      <td>Posted July 2.</td>\n      <td>True</td>\n      <td>so much fun :D</td>\n    </tr>\n  </tbody>\n</table>\n<p>59333 rows × 10 columns</p>\n</div>"
     },
     "execution_count": 11,
     "metadata": {},
     "output_type": "execute_result"
    }
   ],
   "source": [
    "k = pd.concat([k.drop(['reviews'], axis=1), k['reviews'].progress_apply(pd.Series)], axis=1)\n",
    "k"
   ],
   "metadata": {
    "collapsed": false,
    "pycharm": {
     "name": "#%%\n"
    }
   }
  },
  {
   "cell_type": "code",
   "execution_count": 12,
   "outputs": [
    {
     "data": {
      "text/plain": "                 user_id item_id recommend\n0      76561197970982479    1250      True\n1      76561197970982479   22200      True\n2      76561197970982479   43110      True\n3                js41637  251610      True\n4                js41637  227300      True\n...                  ...     ...       ...\n59328  76561198312638244      70      True\n59329  76561198312638244  362890      True\n59330        LydiaMorley  273110      True\n59331        LydiaMorley     730      True\n59332        LydiaMorley     440      True\n\n[59333 rows x 3 columns]",
      "text/html": "<div>\n<style scoped>\n    .dataframe tbody tr th:only-of-type {\n        vertical-align: middle;\n    }\n\n    .dataframe tbody tr th {\n        vertical-align: top;\n    }\n\n    .dataframe thead th {\n        text-align: right;\n    }\n</style>\n<table border=\"1\" class=\"dataframe\">\n  <thead>\n    <tr style=\"text-align: right;\">\n      <th></th>\n      <th>user_id</th>\n      <th>item_id</th>\n      <th>recommend</th>\n    </tr>\n  </thead>\n  <tbody>\n    <tr>\n      <th>0</th>\n      <td>76561197970982479</td>\n      <td>1250</td>\n      <td>True</td>\n    </tr>\n    <tr>\n      <th>1</th>\n      <td>76561197970982479</td>\n      <td>22200</td>\n      <td>True</td>\n    </tr>\n    <tr>\n      <th>2</th>\n      <td>76561197970982479</td>\n      <td>43110</td>\n      <td>True</td>\n    </tr>\n    <tr>\n      <th>3</th>\n      <td>js41637</td>\n      <td>251610</td>\n      <td>True</td>\n    </tr>\n    <tr>\n      <th>4</th>\n      <td>js41637</td>\n      <td>227300</td>\n      <td>True</td>\n    </tr>\n    <tr>\n      <th>...</th>\n      <td>...</td>\n      <td>...</td>\n      <td>...</td>\n    </tr>\n    <tr>\n      <th>59328</th>\n      <td>76561198312638244</td>\n      <td>70</td>\n      <td>True</td>\n    </tr>\n    <tr>\n      <th>59329</th>\n      <td>76561198312638244</td>\n      <td>362890</td>\n      <td>True</td>\n    </tr>\n    <tr>\n      <th>59330</th>\n      <td>LydiaMorley</td>\n      <td>273110</td>\n      <td>True</td>\n    </tr>\n    <tr>\n      <th>59331</th>\n      <td>LydiaMorley</td>\n      <td>730</td>\n      <td>True</td>\n    </tr>\n    <tr>\n      <th>59332</th>\n      <td>LydiaMorley</td>\n      <td>440</td>\n      <td>True</td>\n    </tr>\n  </tbody>\n</table>\n<p>59333 rows × 3 columns</p>\n</div>"
     },
     "execution_count": 12,
     "metadata": {},
     "output_type": "execute_result"
    }
   ],
   "source": [
    "k.loc[k['recommend'] == False]\n",
    "k.describe(include='all')\n",
    "k = k[[\"user_id\", \"item_id\", \"recommend\"]]\n",
    "k"
   ],
   "metadata": {
    "collapsed": false,
    "pycharm": {
     "name": "#%%\n"
    }
   }
  },
  {
   "cell_type": "code",
   "execution_count": 13,
   "outputs": [
    {
     "data": {
      "text/plain": "                   user_id item_id  recommend\n0                      NaN  725280       True\n1                      NaN  328100       True\n2                      NaN  328100       True\n3                      NaN   35140       True\n4        76561198007483075   35140       True\n...                    ...     ...        ...\n7793064                NaN  252490       True\n7793065  76561198089897928  252490       True\n7793066  76561198048207033  252490       True\n7793067                NaN  252490       True\n7793068                NaN  252490       True\n\n[7793069 rows x 3 columns]",
      "text/html": "<div>\n<style scoped>\n    .dataframe tbody tr th:only-of-type {\n        vertical-align: middle;\n    }\n\n    .dataframe tbody tr th {\n        vertical-align: top;\n    }\n\n    .dataframe thead th {\n        text-align: right;\n    }\n</style>\n<table border=\"1\" class=\"dataframe\">\n  <thead>\n    <tr style=\"text-align: right;\">\n      <th></th>\n      <th>user_id</th>\n      <th>item_id</th>\n      <th>recommend</th>\n    </tr>\n  </thead>\n  <tbody>\n    <tr>\n      <th>0</th>\n      <td>NaN</td>\n      <td>725280</td>\n      <td>True</td>\n    </tr>\n    <tr>\n      <th>1</th>\n      <td>NaN</td>\n      <td>328100</td>\n      <td>True</td>\n    </tr>\n    <tr>\n      <th>2</th>\n      <td>NaN</td>\n      <td>328100</td>\n      <td>True</td>\n    </tr>\n    <tr>\n      <th>3</th>\n      <td>NaN</td>\n      <td>35140</td>\n      <td>True</td>\n    </tr>\n    <tr>\n      <th>4</th>\n      <td>76561198007483075</td>\n      <td>35140</td>\n      <td>True</td>\n    </tr>\n    <tr>\n      <th>...</th>\n      <td>...</td>\n      <td>...</td>\n      <td>...</td>\n    </tr>\n    <tr>\n      <th>7793064</th>\n      <td>NaN</td>\n      <td>252490</td>\n      <td>True</td>\n    </tr>\n    <tr>\n      <th>7793065</th>\n      <td>76561198089897928</td>\n      <td>252490</td>\n      <td>True</td>\n    </tr>\n    <tr>\n      <th>7793066</th>\n      <td>76561198048207033</td>\n      <td>252490</td>\n      <td>True</td>\n    </tr>\n    <tr>\n      <th>7793067</th>\n      <td>NaN</td>\n      <td>252490</td>\n      <td>True</td>\n    </tr>\n    <tr>\n      <th>7793068</th>\n      <td>NaN</td>\n      <td>252490</td>\n      <td>True</td>\n    </tr>\n  </tbody>\n</table>\n<p>7793069 rows × 3 columns</p>\n</div>"
     },
     "execution_count": 13,
     "metadata": {},
     "output_type": "execute_result"
    }
   ],
   "source": [
    "l = dataframes[1]\n",
    "l = l[[\"user_id\", \"product_id\", \"recommended\"]]\n",
    "l = l.rename(columns={'product_id': \"item_id\", \"recommended\": 'recommend'})\n",
    "l"
   ],
   "metadata": {
    "collapsed": false,
    "pycharm": {
     "name": "#%%\n"
    }
   }
  },
  {
   "cell_type": "code",
   "execution_count": 31,
   "outputs": [
    {
     "data": {
      "text/plain": "                   user_id item_id  recommend\n4        76561198007483075   35140       True\n8        76561197970402776  707610       True\n11       76561198060686749  328100       True\n13       76561198023491401   35140       True\n16       76561198115331805   35140       True\n...                    ...     ...        ...\n7793058  76561197962161824  252490       True\n7793061  76561198010660367  252490       True\n7793062  76561197983773018  252490       True\n7793065  76561198089897928  252490       True\n7793066  76561198048207033  252490       True\n\n[3176223 rows x 3 columns]",
      "text/html": "<div>\n<style scoped>\n    .dataframe tbody tr th:only-of-type {\n        vertical-align: middle;\n    }\n\n    .dataframe tbody tr th {\n        vertical-align: top;\n    }\n\n    .dataframe thead th {\n        text-align: right;\n    }\n</style>\n<table border=\"1\" class=\"dataframe\">\n  <thead>\n    <tr style=\"text-align: right;\">\n      <th></th>\n      <th>user_id</th>\n      <th>item_id</th>\n      <th>recommend</th>\n    </tr>\n  </thead>\n  <tbody>\n    <tr>\n      <th>4</th>\n      <td>76561198007483075</td>\n      <td>35140</td>\n      <td>True</td>\n    </tr>\n    <tr>\n      <th>8</th>\n      <td>76561197970402776</td>\n      <td>707610</td>\n      <td>True</td>\n    </tr>\n    <tr>\n      <th>11</th>\n      <td>76561198060686749</td>\n      <td>328100</td>\n      <td>True</td>\n    </tr>\n    <tr>\n      <th>13</th>\n      <td>76561198023491401</td>\n      <td>35140</td>\n      <td>True</td>\n    </tr>\n    <tr>\n      <th>16</th>\n      <td>76561198115331805</td>\n      <td>35140</td>\n      <td>True</td>\n    </tr>\n    <tr>\n      <th>...</th>\n      <td>...</td>\n      <td>...</td>\n      <td>...</td>\n    </tr>\n    <tr>\n      <th>7793058</th>\n      <td>76561197962161824</td>\n      <td>252490</td>\n      <td>True</td>\n    </tr>\n    <tr>\n      <th>7793061</th>\n      <td>76561198010660367</td>\n      <td>252490</td>\n      <td>True</td>\n    </tr>\n    <tr>\n      <th>7793062</th>\n      <td>76561197983773018</td>\n      <td>252490</td>\n      <td>True</td>\n    </tr>\n    <tr>\n      <th>7793065</th>\n      <td>76561198089897928</td>\n      <td>252490</td>\n      <td>True</td>\n    </tr>\n    <tr>\n      <th>7793066</th>\n      <td>76561198048207033</td>\n      <td>252490</td>\n      <td>True</td>\n    </tr>\n  </tbody>\n</table>\n<p>3176223 rows × 3 columns</p>\n</div>"
     },
     "execution_count": 31,
     "metadata": {},
     "output_type": "execute_result"
    }
   ],
   "source": [
    "# u = k.append(l)\n",
    "u = l\n",
    "u = u.dropna()\n",
    "u"
   ],
   "metadata": {
    "collapsed": false,
    "pycharm": {
     "name": "#%%\n"
    }
   }
  },
  {
   "cell_type": "code",
   "execution_count": 32,
   "outputs": [
    {
     "name": "stderr",
     "output_type": "stream",
     "text": [
      "100%|██████████| 3176223/3176223 [00:03<00:00, 844291.53it/s] \n",
      "C:\\Users\\stijn\\AppData\\Local\\Temp/ipykernel_3444/1987368790.py:11: SettingWithCopyWarning: \n",
      "A value is trying to be set on a copy of a slice from a DataFrame.\n",
      "Try using .loc[row_indexer,col_indexer] = value instead\n",
      "\n",
      "See the caveats in the documentation: https://pandas.pydata.org/pandas-docs/stable/user_guide/indexing.html#returning-a-view-versus-a-copy\n",
      "  u['user_id_int'] = u['user_id'].progress_apply(map_to_consecutive_id)\n",
      "100%|██████████| 3176223/3176223 [00:02<00:00, 1282803.47it/s]\n",
      "C:\\Users\\stijn\\AppData\\Local\\Temp/ipykernel_3444/1987368790.py:15: SettingWithCopyWarning: \n",
      "A value is trying to be set on a copy of a slice from a DataFrame.\n",
      "Try using .loc[row_indexer,col_indexer] = value instead\n",
      "\n",
      "See the caveats in the documentation: https://pandas.pydata.org/pandas-docs/stable/user_guide/indexing.html#returning-a-view-versus-a-copy\n",
      "  u['item_id_int'] = u['item_id'].progress_apply(map_to_consecutive_id)\n"
     ]
    },
    {
     "data": {
      "text/plain": "              user_id item_id  recommend  user_id_int  item_id_int\n4   76561198007483075   35140       True            0            0\n8   76561197970402776  707610       True            1            1\n11  76561198060686749  328100       True            2            2\n13  76561198023491401   35140       True            3            0\n16  76561198115331805   35140       True            4            0",
      "text/html": "<div>\n<style scoped>\n    .dataframe tbody tr th:only-of-type {\n        vertical-align: middle;\n    }\n\n    .dataframe tbody tr th {\n        vertical-align: top;\n    }\n\n    .dataframe thead th {\n        text-align: right;\n    }\n</style>\n<table border=\"1\" class=\"dataframe\">\n  <thead>\n    <tr style=\"text-align: right;\">\n      <th></th>\n      <th>user_id</th>\n      <th>item_id</th>\n      <th>recommend</th>\n      <th>user_id_int</th>\n      <th>item_id_int</th>\n    </tr>\n  </thead>\n  <tbody>\n    <tr>\n      <th>4</th>\n      <td>76561198007483075</td>\n      <td>35140</td>\n      <td>True</td>\n      <td>0</td>\n      <td>0</td>\n    </tr>\n    <tr>\n      <th>8</th>\n      <td>76561197970402776</td>\n      <td>707610</td>\n      <td>True</td>\n      <td>1</td>\n      <td>1</td>\n    </tr>\n    <tr>\n      <th>11</th>\n      <td>76561198060686749</td>\n      <td>328100</td>\n      <td>True</td>\n      <td>2</td>\n      <td>2</td>\n    </tr>\n    <tr>\n      <th>13</th>\n      <td>76561198023491401</td>\n      <td>35140</td>\n      <td>True</td>\n      <td>3</td>\n      <td>0</td>\n    </tr>\n    <tr>\n      <th>16</th>\n      <td>76561198115331805</td>\n      <td>35140</td>\n      <td>True</td>\n      <td>4</td>\n      <td>0</td>\n    </tr>\n  </tbody>\n</table>\n</div>"
     },
     "execution_count": 32,
     "metadata": {},
     "output_type": "execute_result"
    }
   ],
   "source": [
    "dct = {}\n",
    "def map_to_consecutive_id(uuid):\n",
    "  if uuid in dct:\n",
    "    return dct[uuid]\n",
    "  else:\n",
    "    id = len(dct)\n",
    "    dct[uuid] = id\n",
    "    return id\n",
    "\n",
    "#1) convert user user_ids to consecutive integer ID's\n",
    "u['user_id_int'] = u['user_id'].progress_apply(map_to_consecutive_id)\n",
    "\n",
    "#2) convert item_ids to to consecutive integer ID's\n",
    "dct.clear()\n",
    "u['item_id_int'] = u['item_id'].progress_apply(map_to_consecutive_id)\n",
    "\n",
    "u.head()"
   ],
   "metadata": {
    "collapsed": false,
    "pycharm": {
     "name": "#%%\n"
    }
   }
  },
  {
   "cell_type": "code",
   "execution_count": 33,
   "outputs": [
    {
     "data": {
      "text/plain": "                   user_id item_id  recommend  user_id_int  item_id_int\n4        76561198007483075   35140       True            0            0\n8        76561197970402776  707610       True            1            1\n11       76561198060686749  328100       True            2            2\n13       76561198023491401   35140       True            3            0\n16       76561198115331805   35140       True            4            0\n...                    ...     ...        ...          ...          ...\n7793058  76561197962161824  252490       True      1485609        13997\n7793061  76561198010660367  252490       True      1212724        13997\n7793062  76561197983773018  252490       True      1485596        13997\n7793065  76561198089897928  252490       True      1485610        13997\n7793066  76561198048207033  252490       True      1485604        13997\n\n[3176223 rows x 5 columns]",
      "text/html": "<div>\n<style scoped>\n    .dataframe tbody tr th:only-of-type {\n        vertical-align: middle;\n    }\n\n    .dataframe tbody tr th {\n        vertical-align: top;\n    }\n\n    .dataframe thead th {\n        text-align: right;\n    }\n</style>\n<table border=\"1\" class=\"dataframe\">\n  <thead>\n    <tr style=\"text-align: right;\">\n      <th></th>\n      <th>user_id</th>\n      <th>item_id</th>\n      <th>recommend</th>\n      <th>user_id_int</th>\n      <th>item_id_int</th>\n    </tr>\n  </thead>\n  <tbody>\n    <tr>\n      <th>4</th>\n      <td>76561198007483075</td>\n      <td>35140</td>\n      <td>True</td>\n      <td>0</td>\n      <td>0</td>\n    </tr>\n    <tr>\n      <th>8</th>\n      <td>76561197970402776</td>\n      <td>707610</td>\n      <td>True</td>\n      <td>1</td>\n      <td>1</td>\n    </tr>\n    <tr>\n      <th>11</th>\n      <td>76561198060686749</td>\n      <td>328100</td>\n      <td>True</td>\n      <td>2</td>\n      <td>2</td>\n    </tr>\n    <tr>\n      <th>13</th>\n      <td>76561198023491401</td>\n      <td>35140</td>\n      <td>True</td>\n      <td>3</td>\n      <td>0</td>\n    </tr>\n    <tr>\n      <th>16</th>\n      <td>76561198115331805</td>\n      <td>35140</td>\n      <td>True</td>\n      <td>4</td>\n      <td>0</td>\n    </tr>\n    <tr>\n      <th>...</th>\n      <td>...</td>\n      <td>...</td>\n      <td>...</td>\n      <td>...</td>\n      <td>...</td>\n    </tr>\n    <tr>\n      <th>7793058</th>\n      <td>76561197962161824</td>\n      <td>252490</td>\n      <td>True</td>\n      <td>1485609</td>\n      <td>13997</td>\n    </tr>\n    <tr>\n      <th>7793061</th>\n      <td>76561198010660367</td>\n      <td>252490</td>\n      <td>True</td>\n      <td>1212724</td>\n      <td>13997</td>\n    </tr>\n    <tr>\n      <th>7793062</th>\n      <td>76561197983773018</td>\n      <td>252490</td>\n      <td>True</td>\n      <td>1485596</td>\n      <td>13997</td>\n    </tr>\n    <tr>\n      <th>7793065</th>\n      <td>76561198089897928</td>\n      <td>252490</td>\n      <td>True</td>\n      <td>1485610</td>\n      <td>13997</td>\n    </tr>\n    <tr>\n      <th>7793066</th>\n      <td>76561198048207033</td>\n      <td>252490</td>\n      <td>True</td>\n      <td>1485604</td>\n      <td>13997</td>\n    </tr>\n  </tbody>\n</table>\n<p>3176223 rows × 5 columns</p>\n</div>"
     },
     "execution_count": 33,
     "metadata": {},
     "output_type": "execute_result"
    }
   ],
   "source": [
    "u"
   ],
   "metadata": {
    "collapsed": false,
    "pycharm": {
     "name": "#%%\n"
    }
   }
  },
  {
   "cell_type": "markdown",
   "source": [
    "# 4. Pre-process interactions\n",
    "- Drop reconsumption items\n",
    "- Remove items with fewer than x interactions\n",
    "- Remove users with fewer than x interactions"
   ],
   "metadata": {
    "collapsed": false,
    "pycharm": {
     "name": "#%% md\n"
    }
   }
  },
  {
   "cell_type": "code",
   "execution_count": 52,
   "outputs": [
    {
     "name": "stdout",
     "output_type": "stream",
     "text": [
      "number of unique users: 1485611\n",
      "number of unique items: 14513\n",
      "After drop_duplicates (reconsumption items): 3176223 -> 2832522\n"
     ]
    },
    {
     "data": {
      "text/plain": "   user_id  item_id  recommend  count_item  count_user\n0        0        0       True        3173           6\n1        1        1       True           1           7\n2        2        2       True          22          55\n3        3        0       True        3173         109\n4        4        0       True        3173           1",
      "text/html": "<div>\n<style scoped>\n    .dataframe tbody tr th:only-of-type {\n        vertical-align: middle;\n    }\n\n    .dataframe tbody tr th {\n        vertical-align: top;\n    }\n\n    .dataframe thead th {\n        text-align: right;\n    }\n</style>\n<table border=\"1\" class=\"dataframe\">\n  <thead>\n    <tr style=\"text-align: right;\">\n      <th></th>\n      <th>user_id</th>\n      <th>item_id</th>\n      <th>recommend</th>\n      <th>count_item</th>\n      <th>count_user</th>\n    </tr>\n  </thead>\n  <tbody>\n    <tr>\n      <th>0</th>\n      <td>0</td>\n      <td>0</td>\n      <td>True</td>\n      <td>3173</td>\n      <td>6</td>\n    </tr>\n    <tr>\n      <th>1</th>\n      <td>1</td>\n      <td>1</td>\n      <td>True</td>\n      <td>1</td>\n      <td>7</td>\n    </tr>\n    <tr>\n      <th>2</th>\n      <td>2</td>\n      <td>2</td>\n      <td>True</td>\n      <td>22</td>\n      <td>55</td>\n    </tr>\n    <tr>\n      <th>3</th>\n      <td>3</td>\n      <td>0</td>\n      <td>True</td>\n      <td>3173</td>\n      <td>109</td>\n    </tr>\n    <tr>\n      <th>4</th>\n      <td>4</td>\n      <td>0</td>\n      <td>True</td>\n      <td>3173</td>\n      <td>1</td>\n    </tr>\n  </tbody>\n</table>\n</div>"
     },
     "metadata": {},
     "output_type": "display_data"
    },
    {
     "name": "stdout",
     "output_type": "stream",
     "text": [
      "After dropping items with less than 3 interactions: 2832522 -> 2829087\n",
      "After dropping users with less than 3 interactions: 2829087 -> 1344188\n"
     ]
    },
    {
     "data": {
      "text/plain": "   user_id  item_id  recommend\n0        0        0       True\n2        2        2       True\n3        3        0       True\n6        6        4       True\n7        7        2       True",
      "text/html": "<div>\n<style scoped>\n    .dataframe tbody tr th:only-of-type {\n        vertical-align: middle;\n    }\n\n    .dataframe tbody tr th {\n        vertical-align: top;\n    }\n\n    .dataframe thead th {\n        text-align: right;\n    }\n</style>\n<table border=\"1\" class=\"dataframe\">\n  <thead>\n    <tr style=\"text-align: right;\">\n      <th></th>\n      <th>user_id</th>\n      <th>item_id</th>\n      <th>recommend</th>\n    </tr>\n  </thead>\n  <tbody>\n    <tr>\n      <th>0</th>\n      <td>0</td>\n      <td>0</td>\n      <td>True</td>\n    </tr>\n    <tr>\n      <th>2</th>\n      <td>2</td>\n      <td>2</td>\n      <td>True</td>\n    </tr>\n    <tr>\n      <th>3</th>\n      <td>3</td>\n      <td>0</td>\n      <td>True</td>\n    </tr>\n    <tr>\n      <th>6</th>\n      <td>6</td>\n      <td>4</td>\n      <td>True</td>\n    </tr>\n    <tr>\n      <th>7</th>\n      <td>7</td>\n      <td>2</td>\n      <td>True</td>\n    </tr>\n  </tbody>\n</table>\n</div>"
     },
     "metadata": {},
     "output_type": "display_data"
    },
    {
     "name": "stdout",
     "output_type": "stream",
     "text": [
      "number of unique users: 224690\n",
      "number of unique items: 11992\n"
     ]
    }
   ],
   "source": [
    "def preprocess_classic(df, minsup=3):\n",
    "  \"\"\"\n",
    "  Goal: - Remove reconsumption items\n",
    "        - Remove items that have less than minsup interactions\n",
    "        - Remove users that have less than minsup interactions\n",
    "\n",
    "  :input df: Dataframe containing user_id, item_id and time\n",
    "  \"\"\"\n",
    "  before = df.shape[0]\n",
    "  #drop reconsumption items\n",
    "  df = df.drop_duplicates(subset=[\"user_id\",\"item_id\"])\n",
    "  print(\"After drop_duplicates (reconsumption items): {} -> {}\".format(before,df.shape[0]))\n",
    "  #compute item/user counts\n",
    "  g1 = df.groupby('item_id', as_index=False)['user_id'].size() # nr of users interacted with item\n",
    "  g1 = g1.rename({'size': 'count_item'}, axis='columns')\n",
    "  g2 = df.groupby('user_id', as_index=False)['item_id'].size() # nr of items user interacted with\n",
    "  g2 = g2.rename({'size': 'count_user'}, axis='columns')\n",
    "  df = pd.merge(df, g1, how='left', on=['item_id'])\n",
    "  df = pd.merge(df, g2, how='left', on=['user_id'])\n",
    "  display(df.head(5))\n",
    "  #drop items occurring less than minsup times\n",
    "  before = df.shape[0]\n",
    "  df = df[df['count_item'] >= minsup]\n",
    "  print(\"After dropping items with less than {} interactions: {} -> {}\".format(minsup, before,df.shape[0]))\n",
    "  before = df.shape[0]\n",
    "  #drop users with less then minsup items in history\n",
    "  df = df[df['count_user'] >= minsup]\n",
    "  df = df[['user_id','item_id', \"recommend\"]]\n",
    "  print(\"After dropping users with less than {} interactions: {} -> {}\".format(minsup, before,df.shape[0]))\n",
    "  return df\n",
    "\n",
    "#Remark: ignoring rating, considering all reviews as implicit possitive feedback\n",
    "#print number of users and items\n",
    "interactions_df_processed = u[['user_id_int','item_id_int', \"recommend\"]]\n",
    "interactions_df_processed = interactions_df_processed.rename(columns={\"user_id_int\": \"user_id\", \"item_id_int\": \"item_id\"})\n",
    "print(f\"number of unique users: {interactions_df_processed['user_id'].nunique()}\")\n",
    "print(f\"number of unique items: {interactions_df_processed['item_id'].nunique()}\")\n",
    "interactions_df_processed = preprocess_classic(interactions_df_processed)\n",
    "display(interactions_df_processed.head(5))\n",
    "print(f\"number of unique users: {interactions_df_processed['user_id'].nunique()}\")\n",
    "print(f\"number of unique items: {interactions_df_processed['item_id'].nunique()}\")"
   ],
   "metadata": {
    "collapsed": false,
    "pycharm": {
     "name": "#%%\n"
    }
   }
  },
  {
   "cell_type": "code",
   "execution_count": 53,
   "outputs": [
    {
     "data": {
      "text/plain": "         user_id  item_id  recommend\n0              0        0       True\n2              2        2       True\n3              3        0       True\n6              6        4       True\n7              7        2       True\n...          ...      ...        ...\n2832503   278009    13997       True\n2832508   492340    13997       True\n2832510   424642    13997       True\n2832513   100002    13997       True\n2832515   975267    13997       True\n\n[1344188 rows x 3 columns]",
      "text/html": "<div>\n<style scoped>\n    .dataframe tbody tr th:only-of-type {\n        vertical-align: middle;\n    }\n\n    .dataframe tbody tr th {\n        vertical-align: top;\n    }\n\n    .dataframe thead th {\n        text-align: right;\n    }\n</style>\n<table border=\"1\" class=\"dataframe\">\n  <thead>\n    <tr style=\"text-align: right;\">\n      <th></th>\n      <th>user_id</th>\n      <th>item_id</th>\n      <th>recommend</th>\n    </tr>\n  </thead>\n  <tbody>\n    <tr>\n      <th>0</th>\n      <td>0</td>\n      <td>0</td>\n      <td>True</td>\n    </tr>\n    <tr>\n      <th>2</th>\n      <td>2</td>\n      <td>2</td>\n      <td>True</td>\n    </tr>\n    <tr>\n      <th>3</th>\n      <td>3</td>\n      <td>0</td>\n      <td>True</td>\n    </tr>\n    <tr>\n      <th>6</th>\n      <td>6</td>\n      <td>4</td>\n      <td>True</td>\n    </tr>\n    <tr>\n      <th>7</th>\n      <td>7</td>\n      <td>2</td>\n      <td>True</td>\n    </tr>\n    <tr>\n      <th>...</th>\n      <td>...</td>\n      <td>...</td>\n      <td>...</td>\n    </tr>\n    <tr>\n      <th>2832503</th>\n      <td>278009</td>\n      <td>13997</td>\n      <td>True</td>\n    </tr>\n    <tr>\n      <th>2832508</th>\n      <td>492340</td>\n      <td>13997</td>\n      <td>True</td>\n    </tr>\n    <tr>\n      <th>2832510</th>\n      <td>424642</td>\n      <td>13997</td>\n      <td>True</td>\n    </tr>\n    <tr>\n      <th>2832513</th>\n      <td>100002</td>\n      <td>13997</td>\n      <td>True</td>\n    </tr>\n    <tr>\n      <th>2832515</th>\n      <td>975267</td>\n      <td>13997</td>\n      <td>True</td>\n    </tr>\n  </tbody>\n</table>\n<p>1344188 rows × 3 columns</p>\n</div>"
     },
     "execution_count": 53,
     "metadata": {},
     "output_type": "execute_result"
    }
   ],
   "source": [
    "interactions_df_processed"
   ],
   "metadata": {
    "collapsed": false,
    "pycharm": {
     "name": "#%%\n"
    }
   }
  },
  {
   "cell_type": "markdown",
   "source": [
    "# 5. Create train/test split\n",
    "Different options:\n",
    "- **Time-based split**, i.e. split interactions before/after certain date. Keep all users with both training and test interactions for evaluations. Repeat for different train/test window, i.e. repeat for a number of key dates.\n",
    "- **Session-based split**, i.e. split and keep first $x$ interactions for training and $|I_u| - x$  for testing, where $I_u = {i_1,\\ldots,i_k}$ represents the user's history sorted on time\n",
    "- **Random**, i.e. take $x$ random items for training and $|I_u| -x$ for testing\n",
    "- **Leave-one-out**, i.e. take last (or random) item for testing\n",
    "\n",
    "Additionaly, use techniques such as cross-validation and create multiple train/test splits and report both average and standard deviation."
   ],
   "metadata": {
    "collapsed": false,
    "pycharm": {
     "name": "#%% md\n"
    }
   }
  },
  {
   "cell_type": "code",
   "execution_count": 54,
   "outputs": [
    {
     "data": {
      "text/plain": "   user_id  \\\n0        0   \n1        1   \n2        2   \n3        3   \n4        6   \n5        7   \n6        9   \n7       10   \n8       11   \n9       13   \n\n                                                                                                                                                                                                                                                                                                                                                                                                                                                                                                                                                                                                                                                 item_id  \\\n0                                                                                                                                                                                                                                                                                                                                                                                                                                                                                                                                                                                                                   [0, 3871, 6589, 11847, 12663, 14499]   \n1                                                                                                                                                                                                                                                                                                                                                                                                                                                                                                                                                                                                                [3228, 4392, 8009, 10348, 11846, 13666]   \n2                                                                                                                                                                                                                                                                                                          [2, 135, 735, 1035, 1284, 160, 1559, 2422, 2537, 2626, 2718, 2846, 2885, 3057, 3131, 3499, 3898, 3828, 4207, 4385, 4435, 4605, 5042, 5488, 5714, 5339, 5930, 6167, 6585, 6795, 6956, 7250, 7449, 7542, 7926, 8190, 8330, 8479, 8503, 8784, 8795, 8840, 8980, 9038, 9014, 10166, 9395, 10850, 11086, 11182, 12081, 12758, 13165, 13308, 14345]   \n3  [0, 135, 284, 494, 611, 724, 902, 1020, 1211, 1368, 1407, 1462, 1540, 1739, 1925, 1931, 1934, 2130, 2220, 2389, 2519, 2556, 2633, 2643, 2820, 2898, 3111, 3123, 3163, 3187, 3716, 3747, 3806, 3871, 4249, 4484, 4743, 4781, 4826, 4922, 5747, 5825, 6220, 6250, 6267, 6351, 6582, 6956, 7063, 7193, 7265, 7343, 7352, 7704, 7765, 7847, 7966, 7971, 8067, 8690, 8821, 8823, 8886, 8980, 9390, 9647, 9999, 10076, 10088, 10096, 10197, 10287, 10300, 10819, 11143, 11194, 11202, 11319, 11368, 11691, 11850, 11926, 12028, 12101, 12107, 12129, 12232, 12246, 12423, 12488, 12616, 12644, 12678, 12960, 13001, 13037, 13196, 13529, 13567, 13586, ...]   \n4                                                                                                                                                                                                                                                                                                                                                                                                                                                                                                                                                                                                                                       [4, 1622, 12464]   \n5                                                                                                                            [2, 22, 29, 52, 50, 90, 92, 101, 120, 128, 161, 159, 40, 200, 212, 135, 218, 136, 102, 229, 240, 0, 283, 299, 316, 338, 344, 341, 371, 368, 402, 398, 385, 426, 424, 431, 429, 465, 469, 478, 479, 480, 491, 495, 501, 509, 528, 544, 561, 569, 572, 555, 573, 587, 600, 602, 615, 643, 656, 655, 611, 665, 663, 654, 673, 689, 697, 704, 726, 731, 742, 748, 777, 724, 716, 799, 817, 826, 900, 945, 946, 956, 973, 980, 982, 1004, 948, 1015, 898, 1024, 1037, 1079, 1092, 1095, 1089, 1075, 1110, 1119, 1187, 1171, ...]   \n6                                                                                                                                                                                                                                                                                                                                                                                                                                                                                                                                                                                                                                  [5, 3732, 3783, 8059]   \n7                                                       [6, 11, 36, 121, 119, 65, 241, 268, 267, 385, 510, 540, 568, 645, 367, 745, 783, 885, 897, 909, 942, 945, 967, 898, 1096, 1169, 1210, 1225, 1247, 1155, 1375, 1396, 1442, 1690, 1805, 1806, 1907, 1938, 1963, 1968, 1974, 1967, 2127, 2061, 2384, 2517, 2525, 2629, 2657, 2701, 2712, 2732, 2762, 2828, 2862, 2857, 2678, 2938, 2926, 3082, 3127, 3141, 3180, 3202, 3369, 3435, 3449, 3507, 3572, 3629, 3678, 3680, 3822, 3899, 3906, 3977, 3989, 4099, 4038, 4141, 4379, 4404, 4493, 4604, 4653, 4768, 4754, 4820, 4895, 4510, 5014, 5105, 5173, 5186, 5225, 5253, 5288, 5368, 5467, 5454, ...]   \n8                                                                                                                                                                                                                                                                                                                                                                                                                                                                                                                                                                                    [7, 222, 694, 259, 1096, 1183, 2053, 2868, 3159, 5458, 8081, 12628]   \n9                                                                                                                                                                                                                                                                                                                                                   [36, 380, 473, 938, 1163, 1315, 1390, 1471, 1621, 2780, 3083, 4235, 4417, 4570, 4652, 5072, 5155, 5406, 5443, 5472, 5852, 6028, 6548, 7207, 7716, 7819, 8144, 8177, 8392, 8898, 9346, 9911, 10055, 10182, 10470, 10876, 10891, 10907, 11382, 11828, 12209, 12254, 12512, 13053, 12880, 13908, 14038]   \n\n                                                                                                                                                                                                                                                                                                                                                                                                                                                                                                                                                                                                                       recommend  \n0                                                                                                                                                                                                                                                                                                                                                                                                                                                                                                                                                                                           [True, True, True, True, True, True]  \n1                                                                                                                                                                                                                                                                                                                                                                                                                                                                                                                                                                                           [True, True, True, True, True, True]  \n2                                                                                                                                                                                                                                                                                     [True, True, True, True, True, True, True, True, True, True, True, True, True, True, True, True, True, True, True, True, True, True, True, True, True, True, True, True, True, True, True, True, True, True, True, True, True, True, True, True, True, True, True, True, True, True, True, True, True, True, True, True, True, True, True]  \n3  [True, True, True, True, True, True, True, True, True, True, True, True, True, True, True, True, True, True, True, True, True, True, True, True, True, True, True, True, True, True, True, True, True, True, True, True, True, True, True, True, True, True, True, True, True, True, True, True, True, True, True, True, True, True, True, True, True, True, True, True, True, True, True, True, True, True, True, True, True, True, True, True, True, True, True, True, True, True, True, True, True, True, True, True, True, True, True, True, True, True, True, True, True, True, True, True, True, True, True, True, ...]  \n4                                                                                                                                                                                                                                                                                                                                                                                                                                                                                                                                                                                                             [True, True, True]  \n5  [True, True, True, True, True, True, True, True, True, True, True, True, True, True, True, True, True, True, True, True, True, True, True, True, True, True, True, True, True, True, True, True, True, True, True, True, True, True, True, True, True, True, True, True, True, True, True, True, True, True, True, True, True, True, True, True, True, True, True, True, True, True, True, True, True, True, True, True, True, True, True, True, True, True, True, True, True, True, True, True, True, True, True, True, True, True, True, True, True, True, True, True, True, True, True, True, True, True, True, True, ...]  \n6                                                                                                                                                                                                                                                                                                                                                                                                                                                                                                                                                                                                       [True, True, True, True]  \n7  [True, True, True, True, True, True, True, True, True, True, True, True, True, True, True, True, True, True, True, True, True, True, True, True, True, True, True, True, True, True, True, True, True, True, True, True, True, True, True, True, True, True, True, True, True, True, True, True, True, True, True, True, True, True, True, True, True, True, True, True, True, True, True, True, True, True, True, True, True, True, True, True, True, True, True, True, True, True, True, True, True, True, True, True, True, True, True, True, True, True, True, True, True, True, True, True, True, True, True, True, ...]  \n8                                                                                                                                                                                                                                                                                                                                                                                                                                                                                                                                                       [True, True, True, True, True, True, True, True, True, True, True, True]  \n9                                                                                                                                                                                                                                                                                                                                     [True, True, True, True, True, True, True, True, True, True, True, True, True, True, True, True, True, True, True, True, True, True, True, True, True, True, True, True, True, True, True, True, True, True, True, True, True, True, True, True, True, True, True, True, True, True, True]  ",
      "text/html": "<div>\n<style scoped>\n    .dataframe tbody tr th:only-of-type {\n        vertical-align: middle;\n    }\n\n    .dataframe tbody tr th {\n        vertical-align: top;\n    }\n\n    .dataframe thead th {\n        text-align: right;\n    }\n</style>\n<table border=\"1\" class=\"dataframe\">\n  <thead>\n    <tr style=\"text-align: right;\">\n      <th></th>\n      <th>user_id</th>\n      <th>item_id</th>\n      <th>recommend</th>\n    </tr>\n  </thead>\n  <tbody>\n    <tr>\n      <th>0</th>\n      <td>0</td>\n      <td>[0, 3871, 6589, 11847, 12663, 14499]</td>\n      <td>[True, True, True, True, True, True]</td>\n    </tr>\n    <tr>\n      <th>1</th>\n      <td>1</td>\n      <td>[3228, 4392, 8009, 10348, 11846, 13666]</td>\n      <td>[True, True, True, True, True, True]</td>\n    </tr>\n    <tr>\n      <th>2</th>\n      <td>2</td>\n      <td>[2, 135, 735, 1035, 1284, 160, 1559, 2422, 2537, 2626, 2718, 2846, 2885, 3057, 3131, 3499, 3898, 3828, 4207, 4385, 4435, 4605, 5042, 5488, 5714, 5339, 5930, 6167, 6585, 6795, 6956, 7250, 7449, 7542, 7926, 8190, 8330, 8479, 8503, 8784, 8795, 8840, 8980, 9038, 9014, 10166, 9395, 10850, 11086, 11182, 12081, 12758, 13165, 13308, 14345]</td>\n      <td>[True, True, True, True, True, True, True, True, True, True, True, True, True, True, True, True, True, True, True, True, True, True, True, True, True, True, True, True, True, True, True, True, True, True, True, True, True, True, True, True, True, True, True, True, True, True, True, True, True, True, True, True, True, True, True]</td>\n    </tr>\n    <tr>\n      <th>3</th>\n      <td>3</td>\n      <td>[0, 135, 284, 494, 611, 724, 902, 1020, 1211, 1368, 1407, 1462, 1540, 1739, 1925, 1931, 1934, 2130, 2220, 2389, 2519, 2556, 2633, 2643, 2820, 2898, 3111, 3123, 3163, 3187, 3716, 3747, 3806, 3871, 4249, 4484, 4743, 4781, 4826, 4922, 5747, 5825, 6220, 6250, 6267, 6351, 6582, 6956, 7063, 7193, 7265, 7343, 7352, 7704, 7765, 7847, 7966, 7971, 8067, 8690, 8821, 8823, 8886, 8980, 9390, 9647, 9999, 10076, 10088, 10096, 10197, 10287, 10300, 10819, 11143, 11194, 11202, 11319, 11368, 11691, 11850, 11926, 12028, 12101, 12107, 12129, 12232, 12246, 12423, 12488, 12616, 12644, 12678, 12960, 13001, 13037, 13196, 13529, 13567, 13586, ...]</td>\n      <td>[True, True, True, True, True, True, True, True, True, True, True, True, True, True, True, True, True, True, True, True, True, True, True, True, True, True, True, True, True, True, True, True, True, True, True, True, True, True, True, True, True, True, True, True, True, True, True, True, True, True, True, True, True, True, True, True, True, True, True, True, True, True, True, True, True, True, True, True, True, True, True, True, True, True, True, True, True, True, True, True, True, True, True, True, True, True, True, True, True, True, True, True, True, True, True, True, True, True, True, True, ...]</td>\n    </tr>\n    <tr>\n      <th>4</th>\n      <td>6</td>\n      <td>[4, 1622, 12464]</td>\n      <td>[True, True, True]</td>\n    </tr>\n    <tr>\n      <th>5</th>\n      <td>7</td>\n      <td>[2, 22, 29, 52, 50, 90, 92, 101, 120, 128, 161, 159, 40, 200, 212, 135, 218, 136, 102, 229, 240, 0, 283, 299, 316, 338, 344, 341, 371, 368, 402, 398, 385, 426, 424, 431, 429, 465, 469, 478, 479, 480, 491, 495, 501, 509, 528, 544, 561, 569, 572, 555, 573, 587, 600, 602, 615, 643, 656, 655, 611, 665, 663, 654, 673, 689, 697, 704, 726, 731, 742, 748, 777, 724, 716, 799, 817, 826, 900, 945, 946, 956, 973, 980, 982, 1004, 948, 1015, 898, 1024, 1037, 1079, 1092, 1095, 1089, 1075, 1110, 1119, 1187, 1171, ...]</td>\n      <td>[True, True, True, True, True, True, True, True, True, True, True, True, True, True, True, True, True, True, True, True, True, True, True, True, True, True, True, True, True, True, True, True, True, True, True, True, True, True, True, True, True, True, True, True, True, True, True, True, True, True, True, True, True, True, True, True, True, True, True, True, True, True, True, True, True, True, True, True, True, True, True, True, True, True, True, True, True, True, True, True, True, True, True, True, True, True, True, True, True, True, True, True, True, True, True, True, True, True, True, True, ...]</td>\n    </tr>\n    <tr>\n      <th>6</th>\n      <td>9</td>\n      <td>[5, 3732, 3783, 8059]</td>\n      <td>[True, True, True, True]</td>\n    </tr>\n    <tr>\n      <th>7</th>\n      <td>10</td>\n      <td>[6, 11, 36, 121, 119, 65, 241, 268, 267, 385, 510, 540, 568, 645, 367, 745, 783, 885, 897, 909, 942, 945, 967, 898, 1096, 1169, 1210, 1225, 1247, 1155, 1375, 1396, 1442, 1690, 1805, 1806, 1907, 1938, 1963, 1968, 1974, 1967, 2127, 2061, 2384, 2517, 2525, 2629, 2657, 2701, 2712, 2732, 2762, 2828, 2862, 2857, 2678, 2938, 2926, 3082, 3127, 3141, 3180, 3202, 3369, 3435, 3449, 3507, 3572, 3629, 3678, 3680, 3822, 3899, 3906, 3977, 3989, 4099, 4038, 4141, 4379, 4404, 4493, 4604, 4653, 4768, 4754, 4820, 4895, 4510, 5014, 5105, 5173, 5186, 5225, 5253, 5288, 5368, 5467, 5454, ...]</td>\n      <td>[True, True, True, True, True, True, True, True, True, True, True, True, True, True, True, True, True, True, True, True, True, True, True, True, True, True, True, True, True, True, True, True, True, True, True, True, True, True, True, True, True, True, True, True, True, True, True, True, True, True, True, True, True, True, True, True, True, True, True, True, True, True, True, True, True, True, True, True, True, True, True, True, True, True, True, True, True, True, True, True, True, True, True, True, True, True, True, True, True, True, True, True, True, True, True, True, True, True, True, True, ...]</td>\n    </tr>\n    <tr>\n      <th>8</th>\n      <td>11</td>\n      <td>[7, 222, 694, 259, 1096, 1183, 2053, 2868, 3159, 5458, 8081, 12628]</td>\n      <td>[True, True, True, True, True, True, True, True, True, True, True, True]</td>\n    </tr>\n    <tr>\n      <th>9</th>\n      <td>13</td>\n      <td>[36, 380, 473, 938, 1163, 1315, 1390, 1471, 1621, 2780, 3083, 4235, 4417, 4570, 4652, 5072, 5155, 5406, 5443, 5472, 5852, 6028, 6548, 7207, 7716, 7819, 8144, 8177, 8392, 8898, 9346, 9911, 10055, 10182, 10470, 10876, 10891, 10907, 11382, 11828, 12209, 12254, 12512, 13053, 12880, 13908, 14038]</td>\n      <td>[True, True, True, True, True, True, True, True, True, True, True, True, True, True, True, True, True, True, True, True, True, True, True, True, True, True, True, True, True, True, True, True, True, True, True, True, True, True, True, True, True, True, True, True, True, True, True]</td>\n    </tr>\n  </tbody>\n</table>\n</div>"
     },
     "metadata": {},
     "output_type": "display_data"
    },
    {
     "data": {
      "text/plain": "   user_id  \\\n0        0   \n1        1   \n2        2   \n3        3   \n4        6   \n5        7   \n6        9   \n7       10   \n8       11   \n9       13   \n\n                                                                                                                                                                                                                                                                                                                                                                                                                                                                                                                                                                                                                                                 item_id  \\\n0                                                                                                                                                                                                                                                                                                                                                                                                                                                                                                                                                                                                                   [0, 3871, 6589, 11847, 12663, 14499]   \n1                                                                                                                                                                                                                                                                                                                                                                                                                                                                                                                                                                                                                [3228, 4392, 8009, 10348, 11846, 13666]   \n2                                                                                                                                                                                                                                                                                                          [2, 135, 735, 1035, 1284, 160, 1559, 2422, 2537, 2626, 2718, 2846, 2885, 3057, 3131, 3499, 3898, 3828, 4207, 4385, 4435, 4605, 5042, 5488, 5714, 5339, 5930, 6167, 6585, 6795, 6956, 7250, 7449, 7542, 7926, 8190, 8330, 8479, 8503, 8784, 8795, 8840, 8980, 9038, 9014, 10166, 9395, 10850, 11086, 11182, 12081, 12758, 13165, 13308, 14345]   \n3  [0, 135, 284, 494, 611, 724, 902, 1020, 1211, 1368, 1407, 1462, 1540, 1739, 1925, 1931, 1934, 2130, 2220, 2389, 2519, 2556, 2633, 2643, 2820, 2898, 3111, 3123, 3163, 3187, 3716, 3747, 3806, 3871, 4249, 4484, 4743, 4781, 4826, 4922, 5747, 5825, 6220, 6250, 6267, 6351, 6582, 6956, 7063, 7193, 7265, 7343, 7352, 7704, 7765, 7847, 7966, 7971, 8067, 8690, 8821, 8823, 8886, 8980, 9390, 9647, 9999, 10076, 10088, 10096, 10197, 10287, 10300, 10819, 11143, 11194, 11202, 11319, 11368, 11691, 11850, 11926, 12028, 12101, 12107, 12129, 12232, 12246, 12423, 12488, 12616, 12644, 12678, 12960, 13001, 13037, 13196, 13529, 13567, 13586, ...]   \n4                                                                                                                                                                                                                                                                                                                                                                                                                                                                                                                                                                                                                                       [4, 1622, 12464]   \n5                                                                                                                            [2, 22, 29, 52, 50, 90, 92, 101, 120, 128, 161, 159, 40, 200, 212, 135, 218, 136, 102, 229, 240, 0, 283, 299, 316, 338, 344, 341, 371, 368, 402, 398, 385, 426, 424, 431, 429, 465, 469, 478, 479, 480, 491, 495, 501, 509, 528, 544, 561, 569, 572, 555, 573, 587, 600, 602, 615, 643, 656, 655, 611, 665, 663, 654, 673, 689, 697, 704, 726, 731, 742, 748, 777, 724, 716, 799, 817, 826, 900, 945, 946, 956, 973, 980, 982, 1004, 948, 1015, 898, 1024, 1037, 1079, 1092, 1095, 1089, 1075, 1110, 1119, 1187, 1171, ...]   \n6                                                                                                                                                                                                                                                                                                                                                                                                                                                                                                                                                                                                                                  [5, 3732, 3783, 8059]   \n7                                                       [6, 11, 36, 121, 119, 65, 241, 268, 267, 385, 510, 540, 568, 645, 367, 745, 783, 885, 897, 909, 942, 945, 967, 898, 1096, 1169, 1210, 1225, 1247, 1155, 1375, 1396, 1442, 1690, 1805, 1806, 1907, 1938, 1963, 1968, 1974, 1967, 2127, 2061, 2384, 2517, 2525, 2629, 2657, 2701, 2712, 2732, 2762, 2828, 2862, 2857, 2678, 2938, 2926, 3082, 3127, 3141, 3180, 3202, 3369, 3435, 3449, 3507, 3572, 3629, 3678, 3680, 3822, 3899, 3906, 3977, 3989, 4099, 4038, 4141, 4379, 4404, 4493, 4604, 4653, 4768, 4754, 4820, 4895, 4510, 5014, 5105, 5173, 5186, 5225, 5253, 5288, 5368, 5467, 5454, ...]   \n8                                                                                                                                                                                                                                                                                                                                                                                                                                                                                                                                                                                    [7, 222, 694, 259, 1096, 1183, 2053, 2868, 3159, 5458, 8081, 12628]   \n9                                                                                                                                                                                                                                                                                                                                                   [36, 380, 473, 938, 1163, 1315, 1390, 1471, 1621, 2780, 3083, 4235, 4417, 4570, 4652, 5072, 5155, 5406, 5443, 5472, 5852, 6028, 6548, 7207, 7716, 7819, 8144, 8177, 8392, 8898, 9346, 9911, 10055, 10182, 10470, 10876, 10891, 10907, 11382, 11828, 12209, 12254, 12512, 13053, 12880, 13908, 14038]   \n\n                                                                                                                                                                                                                                                                                                                                                                                                                                                                                                                                                                                                                       recommend  \\\n0                                                                                                                                                                                                                                                                                                                                                                                                                                                                                                                                                                                           [True, True, True, True, True, True]   \n1                                                                                                                                                                                                                                                                                                                                                                                                                                                                                                                                                                                           [True, True, True, True, True, True]   \n2                                                                                                                                                                                                                                                                                     [True, True, True, True, True, True, True, True, True, True, True, True, True, True, True, True, True, True, True, True, True, True, True, True, True, True, True, True, True, True, True, True, True, True, True, True, True, True, True, True, True, True, True, True, True, True, True, True, True, True, True, True, True, True, True]   \n3  [True, True, True, True, True, True, True, True, True, True, True, True, True, True, True, True, True, True, True, True, True, True, True, True, True, True, True, True, True, True, True, True, True, True, True, True, True, True, True, True, True, True, True, True, True, True, True, True, True, True, True, True, True, True, True, True, True, True, True, True, True, True, True, True, True, True, True, True, True, True, True, True, True, True, True, True, True, True, True, True, True, True, True, True, True, True, True, True, True, True, True, True, True, True, True, True, True, True, True, True, ...]   \n4                                                                                                                                                                                                                                                                                                                                                                                                                                                                                                                                                                                                             [True, True, True]   \n5  [True, True, True, True, True, True, True, True, True, True, True, True, True, True, True, True, True, True, True, True, True, True, True, True, True, True, True, True, True, True, True, True, True, True, True, True, True, True, True, True, True, True, True, True, True, True, True, True, True, True, True, True, True, True, True, True, True, True, True, True, True, True, True, True, True, True, True, True, True, True, True, True, True, True, True, True, True, True, True, True, True, True, True, True, True, True, True, True, True, True, True, True, True, True, True, True, True, True, True, True, ...]   \n6                                                                                                                                                                                                                                                                                                                                                                                                                                                                                                                                                                                                       [True, True, True, True]   \n7  [True, True, True, True, True, True, True, True, True, True, True, True, True, True, True, True, True, True, True, True, True, True, True, True, True, True, True, True, True, True, True, True, True, True, True, True, True, True, True, True, True, True, True, True, True, True, True, True, True, True, True, True, True, True, True, True, True, True, True, True, True, True, True, True, True, True, True, True, True, True, True, True, True, True, True, True, True, True, True, True, True, True, True, True, True, True, True, True, True, True, True, True, True, True, True, True, True, True, True, True, ...]   \n8                                                                                                                                                                                                                                                                                                                                                                                                                                                                                                                                                       [True, True, True, True, True, True, True, True, True, True, True, True]   \n9                                                                                                                                                                                                                                                                                                                                     [True, True, True, True, True, True, True, True, True, True, True, True, True, True, True, True, True, True, True, True, True, True, True, True, True, True, True, True, True, True, True, True, True, True, True, True, True, True, True, True, True, True, True, True, True, True, True]   \n\n                                                                                                                                                                                                                                                                                                                                                                                                                                                                                                                                                                                              train  \\\n0                                                                                                                                                                                                                                                                                                                                                                                                                                                                                                                                                                            [0, 3871, 6589, 11847]   \n1                                                                                                                                                                                                                                                                                                                                                                                                                                                                                                                                                                         [3228, 4392, 8009, 10348]   \n2                                                                                                                                                                                                                                                                                                                                [2, 135, 735, 1035, 1284, 160, 1559, 2422, 2537, 2626, 2718, 2846, 2885, 3057, 3131, 3499, 3898, 3828, 4207, 4385, 4435, 4605, 5042, 5488, 5714, 5339, 5930, 6167, 6585, 6795, 6956, 7250, 7449, 7542, 7926, 8190, 8330, 8479, 8503, 8784, 8795, 8840, 8980, 9038]   \n3                                             [0, 135, 284, 494, 611, 724, 902, 1020, 1211, 1368, 1407, 1462, 1540, 1739, 1925, 1931, 1934, 2130, 2220, 2389, 2519, 2556, 2633, 2643, 2820, 2898, 3111, 3123, 3163, 3187, 3716, 3747, 3806, 3871, 4249, 4484, 4743, 4781, 4826, 4922, 5747, 5825, 6220, 6250, 6267, 6351, 6582, 6956, 7063, 7193, 7265, 7343, 7352, 7704, 7765, 7847, 7966, 7971, 8067, 8690, 8821, 8823, 8886, 8980, 9390, 9647, 9999, 10076, 10088, 10096, 10197, 10287, 10300, 10819, 11143, 11194, 11202, 11319, 11368, 11691, 11850, 11926, 12028, 12101, 12107, 12129, 12232]   \n4                                                                                                                                                                                                                                                                                                                                                                                                                                                                                                                                                                                         [4, 1622]   \n5                                                                       [2, 22, 29, 52, 50, 90, 92, 101, 120, 128, 161, 159, 40, 200, 212, 135, 218, 136, 102, 229, 240, 0, 283, 299, 316, 338, 344, 341, 371, 368, 402, 398, 385, 426, 424, 431, 429, 465, 469, 478, 479, 480, 491, 495, 501, 509, 528, 544, 561, 569, 572, 555, 573, 587, 600, 602, 615, 643, 656, 655, 611, 665, 663, 654, 673, 689, 697, 704, 726, 731, 742, 748, 777, 724, 716, 799, 817, 826, 900, 945, 946, 956, 973, 980, 982, 1004, 948, 1015, 898, 1024, 1037, 1079, 1092, 1095, 1089, 1075, 1110, 1119, 1187, 1171, ...]   \n6                                                                                                                                                                                                                                                                                                                                                                                                                                                                                                                                                                                   [5, 3732, 3783]   \n7  [6, 11, 36, 121, 119, 65, 241, 268, 267, 385, 510, 540, 568, 645, 367, 745, 783, 885, 897, 909, 942, 945, 967, 898, 1096, 1169, 1210, 1225, 1247, 1155, 1375, 1396, 1442, 1690, 1805, 1806, 1907, 1938, 1963, 1968, 1974, 1967, 2127, 2061, 2384, 2517, 2525, 2629, 2657, 2701, 2712, 2732, 2762, 2828, 2862, 2857, 2678, 2938, 2926, 3082, 3127, 3141, 3180, 3202, 3369, 3435, 3449, 3507, 3572, 3629, 3678, 3680, 3822, 3899, 3906, 3977, 3989, 4099, 4038, 4141, 4379, 4404, 4493, 4604, 4653, 4768, 4754, 4820, 4895, 4510, 5014, 5105, 5173, 5186, 5225, 5253, 5288, 5368, 5467, 5454, ...]   \n8                                                                                                                                                                                                                                                                                                                                                                                                                                                                                                                                                  [7, 222, 694, 259, 1096, 1183, 2053, 2868, 3159]   \n9                                                                                                                                                                                                                                                                                                                                                                    [36, 380, 473, 938, 1163, 1315, 1390, 1471, 1621, 2780, 3083, 4235, 4417, 4570, 4652, 5072, 5155, 5406, 5443, 5472, 5852, 6028, 6548, 7207, 7716, 7819, 8144, 8177, 8392, 8898, 9346, 9911, 10055, 10182, 10470, 10876, 10891]   \n\n                                                                                                                                                                                                                                                                                                                                                                                                                                                                                                                                                                                                                                                                                                                                test  \n0                                                                                                                                                                                                                                                                                                                                                                                                                                                                                                                                                                                                                                                                                                                     [12663, 14499]  \n1                                                                                                                                                                                                                                                                                                                                                                                                                                                                                                                                                                                                                                                                                                                     [11846, 13666]  \n2                                                                                                                                                                                                                                                                                                                                                                                                                                                                                                                                                                                                                                                        [9014, 10166, 9395, 10850, 11086, 11182, 12081, 12758, 13165, 13308, 14345]  \n3                                                                                                                                                                                                                                                                                                                                                                                                                                                                                                                                                                         [12246, 12423, 12488, 12616, 12644, 12678, 12960, 13001, 13037, 13196, 13529, 13567, 13586, 13714, 13735, 13741, 13911, 14015, 14041, 14169, 14303, 14406]  \n4                                                                                                                                                                                                                                                                                                                                                                                                                                                                                                                                                                                                                                                                                                                            [12464]  \n5  [11782, 11807, 11717, 11831, 11843, 11842, 11847, 11869, 11864, 11882, 11799, 11896, 11898, 11913, 11920, 11926, 11932, 11959, 11962, 11945, 11956, 11979, 11994, 12012, 11997, 12025, 12033, 12015, 12068, 12050, 12093, 12102, 12101, 12104, 12120, 12159, 12186, 12189, 12078, 12097, 12216, 12227, 12226, 12204, 12028, 12273, 12246, 12323, 12284, 12325, 12107, 12331, 12354, 12370, 12361, 12352, 12394, 12405, 12416, 12415, 12420, 12433, 12443, 12454, 12465, 12472, 12474, 12448, 12493, 12497, 12513, 12535, 12232, 12533, 12509, 12571, 12567, 12582, 12610, 12609, 12612, 12586, 12616, 12629, 12637, 12639, 12659, 12652, 12664, 12689, 12685, 12705, 12711, 12695, 12703, 12720, 12745, 12758, 12771, 12787, ...]  \n6                                                                                                                                                                                                                                                                                                                                                                                                                                                                                                                                                                                                                                                                                                                             [8059]  \n7                                                                                                                                                                                                                                                                                                                                         [11961, 12054, 12065, 12133, 12180, 12258, 12272, 12209, 12254, 12342, 12372, 12462, 12564, 12694, 12693, 12795, 12819, 12856, 12892, 12962, 12994, 12232, 12644, 13082, 13151, 13204, 13095, 13230, 13296, 13368, 13435, 13455, 13547, 13551, 13601, 13630, 13615, 13642, 13667, 13705, 13707, 13743, 13824, 13755, 13902, 13878, 14016, 14031, 14140, 14237, 14336, 14404, 14440, 14303]  \n8                                                                                                                                                                                                                                                                                                                                                                                                                                                                                                                                                                                                                                                                                                                [5458, 8081, 12628]  \n9                                                                                                                                                                                                                                                                                                                                                                                                                                                                                                                                                                                                                                                             [10907, 11382, 11828, 12209, 12254, 12512, 13053, 12880, 13908, 14038]  ",
      "text/html": "<div>\n<style scoped>\n    .dataframe tbody tr th:only-of-type {\n        vertical-align: middle;\n    }\n\n    .dataframe tbody tr th {\n        vertical-align: top;\n    }\n\n    .dataframe thead th {\n        text-align: right;\n    }\n</style>\n<table border=\"1\" class=\"dataframe\">\n  <thead>\n    <tr style=\"text-align: right;\">\n      <th></th>\n      <th>user_id</th>\n      <th>item_id</th>\n      <th>recommend</th>\n      <th>train</th>\n      <th>test</th>\n    </tr>\n  </thead>\n  <tbody>\n    <tr>\n      <th>0</th>\n      <td>0</td>\n      <td>[0, 3871, 6589, 11847, 12663, 14499]</td>\n      <td>[True, True, True, True, True, True]</td>\n      <td>[0, 3871, 6589, 11847]</td>\n      <td>[12663, 14499]</td>\n    </tr>\n    <tr>\n      <th>1</th>\n      <td>1</td>\n      <td>[3228, 4392, 8009, 10348, 11846, 13666]</td>\n      <td>[True, True, True, True, True, True]</td>\n      <td>[3228, 4392, 8009, 10348]</td>\n      <td>[11846, 13666]</td>\n    </tr>\n    <tr>\n      <th>2</th>\n      <td>2</td>\n      <td>[2, 135, 735, 1035, 1284, 160, 1559, 2422, 2537, 2626, 2718, 2846, 2885, 3057, 3131, 3499, 3898, 3828, 4207, 4385, 4435, 4605, 5042, 5488, 5714, 5339, 5930, 6167, 6585, 6795, 6956, 7250, 7449, 7542, 7926, 8190, 8330, 8479, 8503, 8784, 8795, 8840, 8980, 9038, 9014, 10166, 9395, 10850, 11086, 11182, 12081, 12758, 13165, 13308, 14345]</td>\n      <td>[True, True, True, True, True, True, True, True, True, True, True, True, True, True, True, True, True, True, True, True, True, True, True, True, True, True, True, True, True, True, True, True, True, True, True, True, True, True, True, True, True, True, True, True, True, True, True, True, True, True, True, True, True, True, True]</td>\n      <td>[2, 135, 735, 1035, 1284, 160, 1559, 2422, 2537, 2626, 2718, 2846, 2885, 3057, 3131, 3499, 3898, 3828, 4207, 4385, 4435, 4605, 5042, 5488, 5714, 5339, 5930, 6167, 6585, 6795, 6956, 7250, 7449, 7542, 7926, 8190, 8330, 8479, 8503, 8784, 8795, 8840, 8980, 9038]</td>\n      <td>[9014, 10166, 9395, 10850, 11086, 11182, 12081, 12758, 13165, 13308, 14345]</td>\n    </tr>\n    <tr>\n      <th>3</th>\n      <td>3</td>\n      <td>[0, 135, 284, 494, 611, 724, 902, 1020, 1211, 1368, 1407, 1462, 1540, 1739, 1925, 1931, 1934, 2130, 2220, 2389, 2519, 2556, 2633, 2643, 2820, 2898, 3111, 3123, 3163, 3187, 3716, 3747, 3806, 3871, 4249, 4484, 4743, 4781, 4826, 4922, 5747, 5825, 6220, 6250, 6267, 6351, 6582, 6956, 7063, 7193, 7265, 7343, 7352, 7704, 7765, 7847, 7966, 7971, 8067, 8690, 8821, 8823, 8886, 8980, 9390, 9647, 9999, 10076, 10088, 10096, 10197, 10287, 10300, 10819, 11143, 11194, 11202, 11319, 11368, 11691, 11850, 11926, 12028, 12101, 12107, 12129, 12232, 12246, 12423, 12488, 12616, 12644, 12678, 12960, 13001, 13037, 13196, 13529, 13567, 13586, ...]</td>\n      <td>[True, True, True, True, True, True, True, True, True, True, True, True, True, True, True, True, True, True, True, True, True, True, True, True, True, True, True, True, True, True, True, True, True, True, True, True, True, True, True, True, True, True, True, True, True, True, True, True, True, True, True, True, True, True, True, True, True, True, True, True, True, True, True, True, True, True, True, True, True, True, True, True, True, True, True, True, True, True, True, True, True, True, True, True, True, True, True, True, True, True, True, True, True, True, True, True, True, True, True, True, ...]</td>\n      <td>[0, 135, 284, 494, 611, 724, 902, 1020, 1211, 1368, 1407, 1462, 1540, 1739, 1925, 1931, 1934, 2130, 2220, 2389, 2519, 2556, 2633, 2643, 2820, 2898, 3111, 3123, 3163, 3187, 3716, 3747, 3806, 3871, 4249, 4484, 4743, 4781, 4826, 4922, 5747, 5825, 6220, 6250, 6267, 6351, 6582, 6956, 7063, 7193, 7265, 7343, 7352, 7704, 7765, 7847, 7966, 7971, 8067, 8690, 8821, 8823, 8886, 8980, 9390, 9647, 9999, 10076, 10088, 10096, 10197, 10287, 10300, 10819, 11143, 11194, 11202, 11319, 11368, 11691, 11850, 11926, 12028, 12101, 12107, 12129, 12232]</td>\n      <td>[12246, 12423, 12488, 12616, 12644, 12678, 12960, 13001, 13037, 13196, 13529, 13567, 13586, 13714, 13735, 13741, 13911, 14015, 14041, 14169, 14303, 14406]</td>\n    </tr>\n    <tr>\n      <th>4</th>\n      <td>6</td>\n      <td>[4, 1622, 12464]</td>\n      <td>[True, True, True]</td>\n      <td>[4, 1622]</td>\n      <td>[12464]</td>\n    </tr>\n    <tr>\n      <th>5</th>\n      <td>7</td>\n      <td>[2, 22, 29, 52, 50, 90, 92, 101, 120, 128, 161, 159, 40, 200, 212, 135, 218, 136, 102, 229, 240, 0, 283, 299, 316, 338, 344, 341, 371, 368, 402, 398, 385, 426, 424, 431, 429, 465, 469, 478, 479, 480, 491, 495, 501, 509, 528, 544, 561, 569, 572, 555, 573, 587, 600, 602, 615, 643, 656, 655, 611, 665, 663, 654, 673, 689, 697, 704, 726, 731, 742, 748, 777, 724, 716, 799, 817, 826, 900, 945, 946, 956, 973, 980, 982, 1004, 948, 1015, 898, 1024, 1037, 1079, 1092, 1095, 1089, 1075, 1110, 1119, 1187, 1171, ...]</td>\n      <td>[True, True, True, True, True, True, True, True, True, True, True, True, True, True, True, True, True, True, True, True, True, True, True, True, True, True, True, True, True, True, True, True, True, True, True, True, True, True, True, True, True, True, True, True, True, True, True, True, True, True, True, True, True, True, True, True, True, True, True, True, True, True, True, True, True, True, True, True, True, True, True, True, True, True, True, True, True, True, True, True, True, True, True, True, True, True, True, True, True, True, True, True, True, True, True, True, True, True, True, True, ...]</td>\n      <td>[2, 22, 29, 52, 50, 90, 92, 101, 120, 128, 161, 159, 40, 200, 212, 135, 218, 136, 102, 229, 240, 0, 283, 299, 316, 338, 344, 341, 371, 368, 402, 398, 385, 426, 424, 431, 429, 465, 469, 478, 479, 480, 491, 495, 501, 509, 528, 544, 561, 569, 572, 555, 573, 587, 600, 602, 615, 643, 656, 655, 611, 665, 663, 654, 673, 689, 697, 704, 726, 731, 742, 748, 777, 724, 716, 799, 817, 826, 900, 945, 946, 956, 973, 980, 982, 1004, 948, 1015, 898, 1024, 1037, 1079, 1092, 1095, 1089, 1075, 1110, 1119, 1187, 1171, ...]</td>\n      <td>[11782, 11807, 11717, 11831, 11843, 11842, 11847, 11869, 11864, 11882, 11799, 11896, 11898, 11913, 11920, 11926, 11932, 11959, 11962, 11945, 11956, 11979, 11994, 12012, 11997, 12025, 12033, 12015, 12068, 12050, 12093, 12102, 12101, 12104, 12120, 12159, 12186, 12189, 12078, 12097, 12216, 12227, 12226, 12204, 12028, 12273, 12246, 12323, 12284, 12325, 12107, 12331, 12354, 12370, 12361, 12352, 12394, 12405, 12416, 12415, 12420, 12433, 12443, 12454, 12465, 12472, 12474, 12448, 12493, 12497, 12513, 12535, 12232, 12533, 12509, 12571, 12567, 12582, 12610, 12609, 12612, 12586, 12616, 12629, 12637, 12639, 12659, 12652, 12664, 12689, 12685, 12705, 12711, 12695, 12703, 12720, 12745, 12758, 12771, 12787, ...]</td>\n    </tr>\n    <tr>\n      <th>6</th>\n      <td>9</td>\n      <td>[5, 3732, 3783, 8059]</td>\n      <td>[True, True, True, True]</td>\n      <td>[5, 3732, 3783]</td>\n      <td>[8059]</td>\n    </tr>\n    <tr>\n      <th>7</th>\n      <td>10</td>\n      <td>[6, 11, 36, 121, 119, 65, 241, 268, 267, 385, 510, 540, 568, 645, 367, 745, 783, 885, 897, 909, 942, 945, 967, 898, 1096, 1169, 1210, 1225, 1247, 1155, 1375, 1396, 1442, 1690, 1805, 1806, 1907, 1938, 1963, 1968, 1974, 1967, 2127, 2061, 2384, 2517, 2525, 2629, 2657, 2701, 2712, 2732, 2762, 2828, 2862, 2857, 2678, 2938, 2926, 3082, 3127, 3141, 3180, 3202, 3369, 3435, 3449, 3507, 3572, 3629, 3678, 3680, 3822, 3899, 3906, 3977, 3989, 4099, 4038, 4141, 4379, 4404, 4493, 4604, 4653, 4768, 4754, 4820, 4895, 4510, 5014, 5105, 5173, 5186, 5225, 5253, 5288, 5368, 5467, 5454, ...]</td>\n      <td>[True, True, True, True, True, True, True, True, True, True, True, True, True, True, True, True, True, True, True, True, True, True, True, True, True, True, True, True, True, True, True, True, True, True, True, True, True, True, True, True, True, True, True, True, True, True, True, True, True, True, True, True, True, True, True, True, True, True, True, True, True, True, True, True, True, True, True, True, True, True, True, True, True, True, True, True, True, True, True, True, True, True, True, True, True, True, True, True, True, True, True, True, True, True, True, True, True, True, True, True, ...]</td>\n      <td>[6, 11, 36, 121, 119, 65, 241, 268, 267, 385, 510, 540, 568, 645, 367, 745, 783, 885, 897, 909, 942, 945, 967, 898, 1096, 1169, 1210, 1225, 1247, 1155, 1375, 1396, 1442, 1690, 1805, 1806, 1907, 1938, 1963, 1968, 1974, 1967, 2127, 2061, 2384, 2517, 2525, 2629, 2657, 2701, 2712, 2732, 2762, 2828, 2862, 2857, 2678, 2938, 2926, 3082, 3127, 3141, 3180, 3202, 3369, 3435, 3449, 3507, 3572, 3629, 3678, 3680, 3822, 3899, 3906, 3977, 3989, 4099, 4038, 4141, 4379, 4404, 4493, 4604, 4653, 4768, 4754, 4820, 4895, 4510, 5014, 5105, 5173, 5186, 5225, 5253, 5288, 5368, 5467, 5454, ...]</td>\n      <td>[11961, 12054, 12065, 12133, 12180, 12258, 12272, 12209, 12254, 12342, 12372, 12462, 12564, 12694, 12693, 12795, 12819, 12856, 12892, 12962, 12994, 12232, 12644, 13082, 13151, 13204, 13095, 13230, 13296, 13368, 13435, 13455, 13547, 13551, 13601, 13630, 13615, 13642, 13667, 13705, 13707, 13743, 13824, 13755, 13902, 13878, 14016, 14031, 14140, 14237, 14336, 14404, 14440, 14303]</td>\n    </tr>\n    <tr>\n      <th>8</th>\n      <td>11</td>\n      <td>[7, 222, 694, 259, 1096, 1183, 2053, 2868, 3159, 5458, 8081, 12628]</td>\n      <td>[True, True, True, True, True, True, True, True, True, True, True, True]</td>\n      <td>[7, 222, 694, 259, 1096, 1183, 2053, 2868, 3159]</td>\n      <td>[5458, 8081, 12628]</td>\n    </tr>\n    <tr>\n      <th>9</th>\n      <td>13</td>\n      <td>[36, 380, 473, 938, 1163, 1315, 1390, 1471, 1621, 2780, 3083, 4235, 4417, 4570, 4652, 5072, 5155, 5406, 5443, 5472, 5852, 6028, 6548, 7207, 7716, 7819, 8144, 8177, 8392, 8898, 9346, 9911, 10055, 10182, 10470, 10876, 10891, 10907, 11382, 11828, 12209, 12254, 12512, 13053, 12880, 13908, 14038]</td>\n      <td>[True, True, True, True, True, True, True, True, True, True, True, True, True, True, True, True, True, True, True, True, True, True, True, True, True, True, True, True, True, True, True, True, True, True, True, True, True, True, True, True, True, True, True, True, True, True, True]</td>\n      <td>[36, 380, 473, 938, 1163, 1315, 1390, 1471, 1621, 2780, 3083, 4235, 4417, 4570, 4652, 5072, 5155, 5406, 5443, 5472, 5852, 6028, 6548, 7207, 7716, 7819, 8144, 8177, 8392, 8898, 9346, 9911, 10055, 10182, 10470, 10876, 10891]</td>\n      <td>[10907, 11382, 11828, 12209, 12254, 12512, 13053, 12880, 13908, 14038]</td>\n    </tr>\n  </tbody>\n</table>\n</div>"
     },
     "execution_count": 54,
     "metadata": {},
     "output_type": "execute_result"
    }
   ],
   "source": [
    "#Session-based split:\n",
    "sessions_df = interactions_df_processed.groupby(by='user_id', as_index=False)[['item_id', \"recommend\"]].agg(list)\n",
    "display(sessions_df.head(10))\n",
    "\n",
    "def split(items, percentage_train):\n",
    "  no_train_items = math.floor(len(items) * percentage_train)\n",
    "  return items[0:no_train_items], items[no_train_items:]\n",
    "\n",
    "percentage_train = 0.8\n",
    "sessions_df['train'] = sessions_df['item_id'].apply(lambda items: split(items, percentage_train)[0])\n",
    "sessions_df['test'] = sessions_df['item_id'].apply(lambda items: split(items, percentage_train)[1])\n",
    "\n",
    "sessions_df.head(10)"
   ],
   "metadata": {
    "collapsed": false,
    "pycharm": {
     "name": "#%%\n"
    }
   }
  },
  {
   "cell_type": "markdown",
   "source": [
    "# 6. Evaluate quantitatively\n",
    "Options are:\n",
    "- **Hitrate@k**, i.e. percentage of users where top-$k$ recommendations is relevant\n",
    "- **Recall@k**, i.e. percentage of top-$k$ recommendation that are relevant\n",
    "- **NDCG@k**, i.e. like recall but rank of top-$k$ recommendation is weighted\n",
    "\n",
    "Compare using relative gain, i.e. recall@10 from 10% tot 20% is a 100% gain (20-10/10 * 100)"
   ],
   "metadata": {
    "collapsed": false,
    "pycharm": {
     "name": "#%% md\n"
    }
   }
  },
  {
   "cell_type": "code",
   "execution_count": 55,
   "outputs": [
    {
     "name": "stdout",
     "output_type": "stream",
     "text": [
      "(1465783, 14513)\n",
      "  (0, 0)\t1\n",
      "  (0, 3871)\t1\n",
      "  (0, 6589)\t1\n",
      "  (0, 11847)\t1\n",
      "  (1, 3228)\t1\n",
      "  (1, 4392)\t1\n",
      "  (1, 8009)\t1\n",
      "  (1, 10348)\t1\n",
      "  (2, 2)\t1\n",
      "  (2, 135)\t1\n",
      "  (2, 160)\t1\n",
      "  (2, 735)\t1\n",
      "  (2, 1035)\t1\n",
      "  (2, 1284)\t1\n",
      "  (2, 1559)\t1\n",
      "  (2, 2422)\t1\n",
      "  (2, 2537)\t1\n",
      "  (2, 2626)\t1\n",
      "  (2, 2718)\t1\n",
      "  (2, 2846)\t1\n",
      "  (2, 2885)\t1\n",
      "  (2, 3057)\t1\n",
      "  (2, 3131)\t1\n",
      "  (2, 3499)\t1\n",
      "  (2, 3828)\t1\n",
      "  :\t:\n",
      "  (1422904, 13913)\t1\n",
      "  (1422904, 14041)\t1\n",
      "  (1422904, 14229)\t1\n",
      "  (1425457, 13999)\t1\n",
      "  (1425457, 14335)\t1\n",
      "  (1425989, 13997)\t1\n",
      "  (1425989, 14139)\t1\n",
      "  (1427307, 14302)\t1\n",
      "  (1427307, 14465)\t1\n",
      "  (1428166, 13997)\t1\n",
      "  (1428166, 14459)\t1\n",
      "  (1428271, 13586)\t1\n",
      "  (1428271, 14169)\t1\n",
      "  (1428806, 14303)\t1\n",
      "  (1428806, 14512)\t1\n",
      "  (1435954, 14139)\t1\n",
      "  (1435954, 14459)\t1\n",
      "  (1436934, 13911)\t1\n",
      "  (1436934, 14303)\t1\n",
      "  (1441085, 14235)\t1\n",
      "  (1441085, 14303)\t1\n",
      "  (1454134, 14335)\t1\n",
      "  (1454134, 14493)\t1\n",
      "  (1465782, 13586)\t1\n",
      "  (1465782, 13997)\t1\n"
     ]
    }
   ],
   "source": [
    "import scipy.sparse\n",
    "\n",
    "#Create scipy csr matrix\n",
    "def create_sparse_matrix(sessions_df, column='train', shape=None):\n",
    "  #flatten\n",
    "  user_ids = []\n",
    "  item_ids = []\n",
    "  for idx, row in sessions_df.iterrows():\n",
    "    items = row[column]\n",
    "    user = row['user_id']\n",
    "    user_ids.extend([user] * len(items))\n",
    "    item_ids.extend(items)\n",
    "  #create csr matrix\n",
    "  values = np.ones(len(user_ids))\n",
    "  matrix = scipy.sparse.csr_matrix((values, (user_ids, item_ids)), shape=shape, dtype=np.int32)\n",
    "  return matrix\n",
    "\n",
    "\n",
    "shape = (interactions_df_processed['user_id'].max() +1,  interactions_df_processed['item_id'].max() +1)\n",
    "print(shape)\n",
    "train_x = create_sparse_matrix(sessions_df, column='train', shape=shape)\n",
    "y_true = create_sparse_matrix(sessions_df, column='test', shape=shape)\n",
    "print(train_x)"
   ],
   "metadata": {
    "collapsed": false,
    "pycharm": {
     "name": "#%%\n"
    }
   }
  },
  {
   "cell_type": "code",
   "execution_count": 56,
   "outputs": [
    {
     "name": "stdout",
     "output_type": "stream",
     "text": [
      "  (0, 48)\t0.41013224064071524\n",
      "  (0, 94)\t0.2877630843732539\n",
      "  (0, 160)\t0.6483516483516484\n",
      "  (0, 440)\t0.5027938163531384\n",
      "  (0, 1367)\t0.31234866828087166\n",
      "  (0, 1622)\t0.30387409200968524\n",
      "  (0, 2204)\t0.4041720990873533\n",
      "  (0, 2621)\t0.37595455392065563\n",
      "  (0, 2678)\t0.4811883032222015\n",
      "  (0, 3004)\t0.46479791395045633\n",
      "  (0, 3716)\t0.9021233004283852\n",
      "  (0, 3783)\t0.3388899236356864\n",
      "  (0, 3998)\t0.3067610355745949\n",
      "  (0, 4176)\t0.3113242689513876\n",
      "  (0, 5339)\t0.5815794375116409\n",
      "  (0, 5747)\t0.4938536040230955\n",
      "  (0, 6769)\t0.36775935928478304\n",
      "  (0, 7063)\t1.0\n",
      "  (0, 9395)\t0.32287204321102625\n",
      "  (0, 9466)\t0.3309741106351276\n",
      "  (1, 48)\t0.41013224064071524\n",
      "  (1, 94)\t0.2877630843732539\n",
      "  (1, 160)\t0.6483516483516484\n",
      "  (1, 440)\t0.5027938163531384\n",
      "  (1, 1367)\t0.31234866828087166\n",
      "  :\t:\n",
      "  (1454134, 5747)\t0.4938536040230955\n",
      "  (1454134, 6769)\t0.36775935928478304\n",
      "  (1454134, 7063)\t1.0\n",
      "  (1454134, 9395)\t0.32287204321102625\n",
      "  (1454134, 9466)\t0.3309741106351276\n",
      "  (1465782, 48)\t0.41013224064071524\n",
      "  (1465782, 94)\t0.2877630843732539\n",
      "  (1465782, 160)\t0.6483516483516484\n",
      "  (1465782, 440)\t0.5027938163531384\n",
      "  (1465782, 1367)\t0.31234866828087166\n",
      "  (1465782, 1622)\t0.30387409200968524\n",
      "  (1465782, 2204)\t0.4041720990873533\n",
      "  (1465782, 2621)\t0.37595455392065563\n",
      "  (1465782, 2678)\t0.4811883032222015\n",
      "  (1465782, 3004)\t0.46479791395045633\n",
      "  (1465782, 3716)\t0.9021233004283852\n",
      "  (1465782, 3783)\t0.3388899236356864\n",
      "  (1465782, 3998)\t0.3067610355745949\n",
      "  (1465782, 4176)\t0.3113242689513876\n",
      "  (1465782, 5339)\t0.5815794375116409\n",
      "  (1465782, 5747)\t0.4938536040230955\n",
      "  (1465782, 6769)\t0.36775935928478304\n",
      "  (1465782, 7063)\t1.0\n",
      "  (1465782, 9395)\t0.32287204321102625\n",
      "  (1465782, 9466)\t0.3309741106351276\n"
     ]
    }
   ],
   "source": [
    "#popularity recommender\n",
    "class Popularity():\n",
    "  def __init__(self, K=10):\n",
    "    self.K = K\n",
    "\n",
    "  def fit(self, X):\n",
    "    items = list(X.nonzero()[1])\n",
    "    sorted_scores = Counter(items).most_common()\n",
    "    self.sorted_scores_ = [\n",
    "      (item, score / sorted_scores[0][1]) for item, score in sorted_scores\n",
    "    ]\n",
    "\n",
    "  def predict(self, X):\n",
    "    items, values = zip(*self.sorted_scores_[: self.K])\n",
    "\n",
    "    users = set(X.nonzero()[0])\n",
    "\n",
    "    U, I, V = [], [], []\n",
    "\n",
    "    for user in users:\n",
    "      U.extend([user] * self.K)\n",
    "      I.extend(items)\n",
    "      V.extend(values)\n",
    "\n",
    "    score_matrix = scipy.sparse.csr_matrix((V, (U, I)), shape=X.shape)\n",
    "    return score_matrix\n",
    "\n",
    "K = 20\n",
    "pop = Popularity(K=K)\n",
    "pop.fit(train_x)\n",
    "y_pred = pop.predict(train_x)\n",
    "print(y_pred)"
   ],
   "metadata": {
    "collapsed": false,
    "pycharm": {
     "name": "#%%\n"
    }
   }
  },
  {
   "cell_type": "code",
   "execution_count": 57,
   "outputs": [
    {
     "name": "stdout",
     "output_type": "stream",
     "text": [
      "recall @ 20: 0.0042\n"
     ]
    }
   ],
   "source": [
    "#Evaluate recall@k\n",
    "#Do elementwise multiplication of top K predicts and true interactions\n",
    "def sparse_divide_nonzero(a: scipy.sparse.csr_matrix, b: scipy.sparse.csr_matrix) -> scipy.sparse.csr_matrix:\n",
    "  return a.multiply(sparse_inverse_nonzero(b))\n",
    "\n",
    "def sparse_inverse_nonzero(a: scipy.sparse.csr_matrix) -> scipy.sparse.csr_matrix:\n",
    "  inv_a = a.copy()\n",
    "  inv_a.data = 1 / inv_a.data\n",
    "  return inv_a\n",
    "\n",
    "scores = scipy.sparse.lil_matrix(y_pred.shape)\n",
    "scores[y_pred.multiply(y_true).astype(bool)] = 1\n",
    "scores = scores.tocsr()\n",
    "scores = sparse_divide_nonzero(scores, scipy.sparse.csr_matrix(y_true.sum(axis=1))).sum(axis=1)\n",
    "print(\"recall @ {}: {:.4f}\".format(K, scores.mean()))"
   ],
   "metadata": {
    "collapsed": false,
    "pycharm": {
     "name": "#%%\n"
    }
   }
  },
  {
   "cell_type": "code",
   "execution_count": null,
   "outputs": [
    {
     "ename": "MemoryError",
     "evalue": "Unable to allocate 79.2 GiB for an array with shape (1465783, 14513) and data type int32",
     "output_type": "error",
     "traceback": [
      "\u001B[1;31m---------------------------------------------------------------------------\u001B[0m",
      "\u001B[1;31mMemoryError\u001B[0m                               Traceback (most recent call last)",
      "\u001B[1;32m~\\AppData\\Local\\Temp/ipykernel_3444/836749527.py\u001B[0m in \u001B[0;36m<module>\u001B[1;34m\u001B[0m\n\u001B[0;32m      1\u001B[0m \u001B[1;32mfrom\u001B[0m \u001B[0msklearn\u001B[0m\u001B[1;33m.\u001B[0m\u001B[0mmetrics\u001B[0m \u001B[1;32mimport\u001B[0m \u001B[0mndcg_score\u001B[0m\u001B[1;33m\u001B[0m\u001B[1;33m\u001B[0m\u001B[0m\n\u001B[0;32m      2\u001B[0m \u001B[1;33m\u001B[0m\u001B[0m\n\u001B[1;32m----> 3\u001B[1;33m \u001B[0mndcg\u001B[0m \u001B[1;33m=\u001B[0m \u001B[0mndcg_score\u001B[0m\u001B[1;33m(\u001B[0m\u001B[0my_true\u001B[0m\u001B[1;33m.\u001B[0m\u001B[0mtoarray\u001B[0m\u001B[1;33m(\u001B[0m\u001B[1;33m)\u001B[0m\u001B[1;33m,\u001B[0m \u001B[0my_pred\u001B[0m\u001B[1;33m.\u001B[0m\u001B[0mtoarray\u001B[0m\u001B[1;33m(\u001B[0m\u001B[1;33m)\u001B[0m\u001B[1;33m)\u001B[0m\u001B[1;33m\u001B[0m\u001B[1;33m\u001B[0m\u001B[0m\n\u001B[0m",
      "\u001B[1;32mc:\\users\\stijn\\documents\\uantwerpen\\ma\\project-ai\\project-ai\\lib\\site-packages\\scipy\\sparse\\compressed.py\u001B[0m in \u001B[0;36mtoarray\u001B[1;34m(self, order, out)\u001B[0m\n\u001B[0;32m   1029\u001B[0m         \u001B[1;32mif\u001B[0m \u001B[0mout\u001B[0m \u001B[1;32mis\u001B[0m \u001B[1;32mNone\u001B[0m \u001B[1;32mand\u001B[0m \u001B[0morder\u001B[0m \u001B[1;32mis\u001B[0m \u001B[1;32mNone\u001B[0m\u001B[1;33m:\u001B[0m\u001B[1;33m\u001B[0m\u001B[1;33m\u001B[0m\u001B[0m\n\u001B[0;32m   1030\u001B[0m             \u001B[0morder\u001B[0m \u001B[1;33m=\u001B[0m \u001B[0mself\u001B[0m\u001B[1;33m.\u001B[0m\u001B[0m_swap\u001B[0m\u001B[1;33m(\u001B[0m\u001B[1;34m'cf'\u001B[0m\u001B[1;33m)\u001B[0m\u001B[1;33m[\u001B[0m\u001B[1;36m0\u001B[0m\u001B[1;33m]\u001B[0m\u001B[1;33m\u001B[0m\u001B[1;33m\u001B[0m\u001B[0m\n\u001B[1;32m-> 1031\u001B[1;33m         \u001B[0mout\u001B[0m \u001B[1;33m=\u001B[0m \u001B[0mself\u001B[0m\u001B[1;33m.\u001B[0m\u001B[0m_process_toarray_args\u001B[0m\u001B[1;33m(\u001B[0m\u001B[0morder\u001B[0m\u001B[1;33m,\u001B[0m \u001B[0mout\u001B[0m\u001B[1;33m)\u001B[0m\u001B[1;33m\u001B[0m\u001B[1;33m\u001B[0m\u001B[0m\n\u001B[0m\u001B[0;32m   1032\u001B[0m         \u001B[1;32mif\u001B[0m \u001B[1;32mnot\u001B[0m \u001B[1;33m(\u001B[0m\u001B[0mout\u001B[0m\u001B[1;33m.\u001B[0m\u001B[0mflags\u001B[0m\u001B[1;33m.\u001B[0m\u001B[0mc_contiguous\u001B[0m \u001B[1;32mor\u001B[0m \u001B[0mout\u001B[0m\u001B[1;33m.\u001B[0m\u001B[0mflags\u001B[0m\u001B[1;33m.\u001B[0m\u001B[0mf_contiguous\u001B[0m\u001B[1;33m)\u001B[0m\u001B[1;33m:\u001B[0m\u001B[1;33m\u001B[0m\u001B[1;33m\u001B[0m\u001B[0m\n\u001B[0;32m   1033\u001B[0m             \u001B[1;32mraise\u001B[0m \u001B[0mValueError\u001B[0m\u001B[1;33m(\u001B[0m\u001B[1;34m'Output array must be C or F contiguous'\u001B[0m\u001B[1;33m)\u001B[0m\u001B[1;33m\u001B[0m\u001B[1;33m\u001B[0m\u001B[0m\n",
      "\u001B[1;32mc:\\users\\stijn\\documents\\uantwerpen\\ma\\project-ai\\project-ai\\lib\\site-packages\\scipy\\sparse\\base.py\u001B[0m in \u001B[0;36m_process_toarray_args\u001B[1;34m(self, order, out)\u001B[0m\n\u001B[0;32m   1200\u001B[0m             \u001B[1;32mreturn\u001B[0m \u001B[0mout\u001B[0m\u001B[1;33m\u001B[0m\u001B[1;33m\u001B[0m\u001B[0m\n\u001B[0;32m   1201\u001B[0m         \u001B[1;32melse\u001B[0m\u001B[1;33m:\u001B[0m\u001B[1;33m\u001B[0m\u001B[1;33m\u001B[0m\u001B[0m\n\u001B[1;32m-> 1202\u001B[1;33m             \u001B[1;32mreturn\u001B[0m \u001B[0mnp\u001B[0m\u001B[1;33m.\u001B[0m\u001B[0mzeros\u001B[0m\u001B[1;33m(\u001B[0m\u001B[0mself\u001B[0m\u001B[1;33m.\u001B[0m\u001B[0mshape\u001B[0m\u001B[1;33m,\u001B[0m \u001B[0mdtype\u001B[0m\u001B[1;33m=\u001B[0m\u001B[0mself\u001B[0m\u001B[1;33m.\u001B[0m\u001B[0mdtype\u001B[0m\u001B[1;33m,\u001B[0m \u001B[0morder\u001B[0m\u001B[1;33m=\u001B[0m\u001B[0morder\u001B[0m\u001B[1;33m)\u001B[0m\u001B[1;33m\u001B[0m\u001B[1;33m\u001B[0m\u001B[0m\n\u001B[0m\u001B[0;32m   1203\u001B[0m \u001B[1;33m\u001B[0m\u001B[0m\n\u001B[0;32m   1204\u001B[0m \u001B[1;33m\u001B[0m\u001B[0m\n",
      "\u001B[1;31mMemoryError\u001B[0m: Unable to allocate 79.2 GiB for an array with shape (1465783, 14513) and data type int32"
     ]
    }
   ],
   "source": [
    "from sklearn.metrics import ndcg_score\n",
    "\n",
    "ndcg = ndcg_score(y_true.toarray(), y_pred.toarray())"
   ],
   "metadata": {
    "collapsed": false,
    "pycharm": {
     "name": "#%%\n"
    }
   }
  }
 ],
 "metadata": {
  "kernelspec": {
   "display_name": "Python 3",
   "language": "python",
   "name": "python3"
  },
  "language_info": {
   "codemirror_mode": {
    "name": "ipython",
    "version": 3
   },
   "file_extension": ".py",
   "mimetype": "text/x-python",
   "name": "python",
   "nbconvert_exporter": "python",
   "pygments_lexer": "ipython3",
   "version": "3.8.10"
  }
 },
 "nbformat": 4,
 "nbformat_minor": 4
}