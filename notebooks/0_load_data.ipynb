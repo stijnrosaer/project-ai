{
 "cells": [
  {
   "cell_type": "markdown",
   "id": "3c8197de",
   "metadata": {},
   "source": [
    "## 0. Import packages"
   ]
  },
  {
   "cell_type": "code",
   "execution_count": 1,
   "id": "16b57f0e",
   "metadata": {},
   "outputs": [],
   "source": [
    "import pandas as pd\n",
    "import gzip\n",
    "from tqdm import tqdm\n",
    "tqdm.pandas() #for progres_apply etc."
   ]
  },
  {
   "cell_type": "markdown",
   "id": "507fa944",
   "metadata": {},
   "source": [
    "## 1. Load steam data"
   ]
  },
  {
   "cell_type": "code",
   "execution_count": 2,
   "id": "431c9ece",
   "metadata": {},
   "outputs": [],
   "source": [
    "#read file line-by-line and parse json, returns dataframe\n",
    "def parse_json(filename_gzipped_python_json, read_max=-1):\n",
    "    #read gzipped content\n",
    "    f=gzip.open(filename_gzipped_python_json,'r')\n",
    "    \n",
    "    #parse json\n",
    "    parse_data = []\n",
    "    for line in tqdm(f): #tqdm is for showing progress bar, always good when processing large amounts of data\n",
    "        line = line.decode('utf-8')\n",
    "        line = line.replace('true','True') #difference json/python\n",
    "        line = line.replace('false','False')\n",
    "        parsed_result = eval(line) #load python nested datastructure\n",
    "        parse_data.append(parsed_result)\n",
    "        if read_max !=-1 and len(parse_data) > read_max:\n",
    "            print(f'Break reading after {read_max} records')\n",
    "            break\n",
    "    print(f\"Reading {len(parse_data)} rows.\")\n",
    "\n",
    "    #create dataframe\n",
    "    df= pd.DataFrame.from_dict(parse_data)\n",
    "    return df"
   ]
  },
  {
   "cell_type": "code",
   "execution_count": 3,
   "id": "9059c4f6",
   "metadata": {},
   "outputs": [],
   "source": [
    "# filenames and path\n",
    "steam_path = 'data/'\n",
    "metadata_games = 'steam_games.json.gz' \n",
    "user_items = 'australian_users_items.json.gz'\n",
    "user_reviews = 'australian_user_reviews.json.gz'\n",
    "game_bundles = 'bundle_data.json.gz'\n",
    "steam_reviews= 'steam_reviews.json.gz'\n",
    "games_all = \"gamesAll.json.gz\""
   ]
  },
  {
   "cell_type": "markdown",
   "id": "d347ca96",
   "metadata": {},
   "source": [
    "Read only the required files for further use.\n",
    "\n",
    "We only make use of the user_items dataset which contains all the items that are in his/hers library"
   ]
  },
  {
   "cell_type": "code",
   "execution_count": 4,
   "id": "6ddd838b",
   "metadata": {},
   "outputs": [
    {
     "name": "stdout",
     "output_type": "stream",
     "text": [
      "----- australian_users_items.json.gz-----\n"
     ]
    },
    {
     "name": "stderr",
     "output_type": "stream",
     "text": [
      "88310it [00:58, 1516.35it/s]\n"
     ]
    },
    {
     "name": "stdout",
     "output_type": "stream",
     "text": [
      "Reading 88310 rows.\n"
     ]
    },
    {
     "data": {
      "text/html": [
       "<div>\n",
       "<style scoped>\n",
       "    .dataframe tbody tr th:only-of-type {\n",
       "        vertical-align: middle;\n",
       "    }\n",
       "\n",
       "    .dataframe tbody tr th {\n",
       "        vertical-align: top;\n",
       "    }\n",
       "\n",
       "    .dataframe thead th {\n",
       "        text-align: right;\n",
       "    }\n",
       "</style>\n",
       "<table border=\"1\" class=\"dataframe\">\n",
       "  <thead>\n",
       "    <tr style=\"text-align: right;\">\n",
       "      <th></th>\n",
       "      <th>user_id</th>\n",
       "      <th>items_count</th>\n",
       "      <th>steam_id</th>\n",
       "      <th>user_url</th>\n",
       "      <th>items</th>\n",
       "    </tr>\n",
       "  </thead>\n",
       "  <tbody>\n",
       "    <tr>\n",
       "      <th>0</th>\n",
       "      <td>76561197970982479</td>\n",
       "      <td>277</td>\n",
       "      <td>76561197970982479</td>\n",
       "      <td>http://steamcommunity.com/profiles/76561197970...</td>\n",
       "      <td>[{'item_id': '10', 'item_name': 'Counter-Strik...</td>\n",
       "    </tr>\n",
       "    <tr>\n",
       "      <th>1</th>\n",
       "      <td>js41637</td>\n",
       "      <td>888</td>\n",
       "      <td>76561198035864385</td>\n",
       "      <td>http://steamcommunity.com/id/js41637</td>\n",
       "      <td>[{'item_id': '10', 'item_name': 'Counter-Strik...</td>\n",
       "    </tr>\n",
       "  </tbody>\n",
       "</table>\n",
       "</div>"
      ],
      "text/plain": [
       "             user_id  items_count           steam_id  \\\n",
       "0  76561197970982479          277  76561197970982479   \n",
       "1            js41637          888  76561198035864385   \n",
       "\n",
       "                                            user_url  \\\n",
       "0  http://steamcommunity.com/profiles/76561197970...   \n",
       "1               http://steamcommunity.com/id/js41637   \n",
       "\n",
       "                                               items  \n",
       "0  [{'item_id': '10', 'item_name': 'Counter-Strik...  \n",
       "1  [{'item_id': '10', 'item_name': 'Counter-Strik...  "
      ]
     },
     "metadata": {},
     "output_type": "display_data"
    }
   ],
   "source": [
    "dataframes = {}\n",
    "for dataset in [user_items]:\n",
    "    print(f\"----- {dataset}-----\")\n",
    "    df_metadata = parse_json(steam_path + dataset)\n",
    "    dataframes[dataset.split(\".\")[0]] = df_metadata\n",
    "    display(df_metadata.head(2))"
   ]
  },
  {
   "cell_type": "markdown",
   "id": "054df9df",
   "metadata": {},
   "source": [
    "Now, the steam_reviews dataset is loaded.\n",
    "We see that only positive interactions are included"
   ]
  },
  {
   "cell_type": "code",
   "execution_count": 5,
   "id": "f52f9bb9",
   "metadata": {},
   "outputs": [],
   "source": [
    "def split_items(items):\n",
    "    ids = []\n",
    "    for i in items:\n",
    "        ids.append(i[\"item_id\"])\n",
    "    return ids"
   ]
  },
  {
   "cell_type": "markdown",
   "id": "5a316808",
   "metadata": {},
   "source": [
    "Convert the data dataframe to a usable format"
   ]
  },
  {
   "cell_type": "code",
   "execution_count": 6,
   "id": "7ab09158",
   "metadata": {},
   "outputs": [
    {
     "name": "stderr",
     "output_type": "stream",
     "text": [
      "/tmp/ipykernel_11238/2238627260.py:3: SettingWithCopyWarning: \n",
      "A value is trying to be set on a copy of a slice from a DataFrame.\n",
      "Try using .loc[row_indexer,col_indexer] = value instead\n",
      "\n",
      "See the caveats in the documentation: https://pandas.pydata.org/pandas-docs/stable/user_guide/indexing.html#returning-a-view-versus-a-copy\n",
      "  user_items_df[\"items\"] = user_items_df[\"items\"].apply(split_items)\n"
     ]
    },
    {
     "data": {
      "text/html": [
       "<div>\n",
       "<style scoped>\n",
       "    .dataframe tbody tr th:only-of-type {\n",
       "        vertical-align: middle;\n",
       "    }\n",
       "\n",
       "    .dataframe tbody tr th {\n",
       "        vertical-align: top;\n",
       "    }\n",
       "\n",
       "    .dataframe thead th {\n",
       "        text-align: right;\n",
       "    }\n",
       "</style>\n",
       "<table border=\"1\" class=\"dataframe\">\n",
       "  <thead>\n",
       "    <tr style=\"text-align: right;\">\n",
       "      <th></th>\n",
       "      <th>user_id</th>\n",
       "      <th>item_id</th>\n",
       "    </tr>\n",
       "  </thead>\n",
       "  <tbody>\n",
       "    <tr>\n",
       "      <th>0</th>\n",
       "      <td>76561197970982479</td>\n",
       "      <td>10</td>\n",
       "    </tr>\n",
       "    <tr>\n",
       "      <th>1</th>\n",
       "      <td>76561197970982479</td>\n",
       "      <td>20</td>\n",
       "    </tr>\n",
       "    <tr>\n",
       "      <th>2</th>\n",
       "      <td>76561197970982479</td>\n",
       "      <td>30</td>\n",
       "    </tr>\n",
       "    <tr>\n",
       "      <th>3</th>\n",
       "      <td>76561197970982479</td>\n",
       "      <td>40</td>\n",
       "    </tr>\n",
       "    <tr>\n",
       "      <th>4</th>\n",
       "      <td>76561197970982479</td>\n",
       "      <td>50</td>\n",
       "    </tr>\n",
       "    <tr>\n",
       "      <th>...</th>\n",
       "      <td>...</td>\n",
       "      <td>...</td>\n",
       "    </tr>\n",
       "    <tr>\n",
       "      <th>5153204</th>\n",
       "      <td>76561198329548331</td>\n",
       "      <td>346330</td>\n",
       "    </tr>\n",
       "    <tr>\n",
       "      <th>5153205</th>\n",
       "      <td>76561198329548331</td>\n",
       "      <td>373330</td>\n",
       "    </tr>\n",
       "    <tr>\n",
       "      <th>5153206</th>\n",
       "      <td>76561198329548331</td>\n",
       "      <td>388490</td>\n",
       "    </tr>\n",
       "    <tr>\n",
       "      <th>5153207</th>\n",
       "      <td>76561198329548331</td>\n",
       "      <td>521570</td>\n",
       "    </tr>\n",
       "    <tr>\n",
       "      <th>5153208</th>\n",
       "      <td>76561198329548331</td>\n",
       "      <td>519140</td>\n",
       "    </tr>\n",
       "  </tbody>\n",
       "</table>\n",
       "<p>5153209 rows × 2 columns</p>\n",
       "</div>"
      ],
      "text/plain": [
       "                   user_id item_id\n",
       "0        76561197970982479      10\n",
       "1        76561197970982479      20\n",
       "2        76561197970982479      30\n",
       "3        76561197970982479      40\n",
       "4        76561197970982479      50\n",
       "...                    ...     ...\n",
       "5153204  76561198329548331  346330\n",
       "5153205  76561198329548331  373330\n",
       "5153206  76561198329548331  388490\n",
       "5153207  76561198329548331  521570\n",
       "5153208  76561198329548331  519140\n",
       "\n",
       "[5153209 rows x 2 columns]"
      ]
     },
     "execution_count": 6,
     "metadata": {},
     "output_type": "execute_result"
    }
   ],
   "source": [
    "user_items_df = dataframes[\"australian_users_items\"]\n",
    "\n",
    "# keep useful columns user_id and items \n",
    "user_items_df = user_items_df[[\"user_id\", \"items\"]]\n",
    "\n",
    "# split the items dictionary in a list of item ids\n",
    "user_items_df[\"items\"] = user_items_df[\"items\"].apply(split_items)\n",
    "\n",
    "# rename column items to item_id\n",
    "user_items_df = user_items_df.rename(columns={'items': \"item_id\"})\n",
    "\n",
    "# only keep users with at least one item in their inventory\n",
    "user_items_df = user_items_df[user_items_df.item_id.apply(lambda x: len(x) > 0)]\n",
    "\n",
    "# split the column user_id which is a list to multiple rows in the dataframe for the same user_id\n",
    "user_items_df = user_items_df.explode(\"item_id\").reset_index(drop=True)\n",
    "user_items_df"
   ]
  },
  {
   "cell_type": "code",
   "execution_count": 7,
   "id": "33ef2b0d",
   "metadata": {},
   "outputs": [
    {
     "data": {
      "text/html": [
       "<div>\n",
       "<style scoped>\n",
       "    .dataframe tbody tr th:only-of-type {\n",
       "        vertical-align: middle;\n",
       "    }\n",
       "\n",
       "    .dataframe tbody tr th {\n",
       "        vertical-align: top;\n",
       "    }\n",
       "\n",
       "    .dataframe thead th {\n",
       "        text-align: right;\n",
       "    }\n",
       "</style>\n",
       "<table border=\"1\" class=\"dataframe\">\n",
       "  <thead>\n",
       "    <tr style=\"text-align: right;\">\n",
       "      <th></th>\n",
       "      <th>user_id</th>\n",
       "      <th>item_id</th>\n",
       "    </tr>\n",
       "  </thead>\n",
       "  <tbody>\n",
       "    <tr>\n",
       "      <th>0</th>\n",
       "      <td>76561197970982479</td>\n",
       "      <td>10</td>\n",
       "    </tr>\n",
       "    <tr>\n",
       "      <th>1</th>\n",
       "      <td>76561197970982479</td>\n",
       "      <td>20</td>\n",
       "    </tr>\n",
       "    <tr>\n",
       "      <th>2</th>\n",
       "      <td>76561197970982479</td>\n",
       "      <td>30</td>\n",
       "    </tr>\n",
       "    <tr>\n",
       "      <th>3</th>\n",
       "      <td>76561197970982479</td>\n",
       "      <td>40</td>\n",
       "    </tr>\n",
       "    <tr>\n",
       "      <th>4</th>\n",
       "      <td>76561197970982479</td>\n",
       "      <td>50</td>\n",
       "    </tr>\n",
       "    <tr>\n",
       "      <th>...</th>\n",
       "      <td>...</td>\n",
       "      <td>...</td>\n",
       "    </tr>\n",
       "    <tr>\n",
       "      <th>5153204</th>\n",
       "      <td>76561198329548331</td>\n",
       "      <td>346330</td>\n",
       "    </tr>\n",
       "    <tr>\n",
       "      <th>5153205</th>\n",
       "      <td>76561198329548331</td>\n",
       "      <td>373330</td>\n",
       "    </tr>\n",
       "    <tr>\n",
       "      <th>5153206</th>\n",
       "      <td>76561198329548331</td>\n",
       "      <td>388490</td>\n",
       "    </tr>\n",
       "    <tr>\n",
       "      <th>5153207</th>\n",
       "      <td>76561198329548331</td>\n",
       "      <td>521570</td>\n",
       "    </tr>\n",
       "    <tr>\n",
       "      <th>5153208</th>\n",
       "      <td>76561198329548331</td>\n",
       "      <td>519140</td>\n",
       "    </tr>\n",
       "  </tbody>\n",
       "</table>\n",
       "<p>5153209 rows × 2 columns</p>\n",
       "</div>"
      ],
      "text/plain": [
       "                   user_id item_id\n",
       "0        76561197970982479      10\n",
       "1        76561197970982479      20\n",
       "2        76561197970982479      30\n",
       "3        76561197970982479      40\n",
       "4        76561197970982479      50\n",
       "...                    ...     ...\n",
       "5153204  76561198329548331  346330\n",
       "5153205  76561198329548331  373330\n",
       "5153206  76561198329548331  388490\n",
       "5153207  76561198329548331  521570\n",
       "5153208  76561198329548331  519140\n",
       "\n",
       "[5153209 rows x 2 columns]"
      ]
     },
     "execution_count": 7,
     "metadata": {},
     "output_type": "execute_result"
    }
   ],
   "source": [
    "# Drop nan's and empty item_id lists from the dataset\n",
    "interactions_df = user_items_df.dropna()\n",
    "interactions_df"
   ]
  },
  {
   "cell_type": "markdown",
   "id": "be43ae10",
   "metadata": {},
   "source": [
    "## 2. Store the loaded dataset as pickle file for further use"
   ]
  },
  {
   "cell_type": "code",
   "execution_count": 8,
   "id": "d32d7f21",
   "metadata": {},
   "outputs": [],
   "source": [
    "import pickle\n",
    "pickle.dump(interactions_df, open(\"pickle_dumps/interactions_df.p\", \"wb\"))"
   ]
  }
 ],
 "metadata": {
  "kernelspec": {
   "display_name": "Python 3",
   "language": "python",
   "name": "python3"
  },
  "language_info": {
   "codemirror_mode": {
    "name": "ipython",
    "version": 3
   },
   "file_extension": ".py",
   "mimetype": "text/x-python",
   "name": "python",
   "nbconvert_exporter": "python",
   "pygments_lexer": "ipython3",
   "version": "3.8.10"
  }
 },
 "nbformat": 4,
 "nbformat_minor": 5
}
